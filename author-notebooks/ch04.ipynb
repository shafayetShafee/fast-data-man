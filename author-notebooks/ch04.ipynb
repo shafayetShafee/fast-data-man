{
 "cells": [
  {
   "cell_type": "markdown",
   "id": "20b73e6a",
   "metadata": {},
   "source": [
    "# Chapter 4: Data Types and Data Structures"
   ]
  },
  {
   "cell_type": "code",
   "execution_count": 1,
   "id": "c5a13f81",
   "metadata": {},
   "outputs": [
    {
     "name": "stdout",
     "output_type": "stream",
     "text": [
      "--------Version info---------\n",
      "Polars:               0.20.31\n",
      "Index type:           UInt32\n",
      "Platform:             macOS-12.5-arm64-arm-64bit\n",
      "Python:               3.11.9 (main, Apr  2 2024, 16:11:47) [Clang 14.0.0 (clang-1400.0.29.202)]\n",
      "\n",
      "----Optional dependencies----\n",
      "adbc_driver_manager:  0.8.0\n",
      "cloudpickle:          3.0.0\n",
      "connectorx:           0.3.2\n",
      "deltalake:            0.15.0\n",
      "fastexcel:            0.9.1\n",
      "fsspec:               2023.12.2\n",
      "gevent:               23.9.1\n",
      "hvplot:               0.9.2\n",
      "matplotlib:           3.8.4\n",
      "nest_asyncio:         1.6.0\n",
      "numpy:                1.26.4\n",
      "openpyxl:             3.1.2\n",
      "pandas:               2.2.2\n",
      "pyarrow:              14.0.2\n",
      "pydantic:             2.5.3\n",
      "pyiceberg:            0.5.1\n",
      "pyxlsb:               <not installed>\n",
      "sqlalchemy:           2.0.25\n",
      "torch:                <not installed>\n",
      "xlsx2csv:             0.8.2\n",
      "xlsxwriter:           3.2.0\n"
     ]
    }
   ],
   "source": [
    "import polars as pl\n",
    "pl.show_versions()"
   ]
  },
  {
   "cell_type": "markdown",
   "id": "b4f23771",
   "metadata": {},
   "source": [
    "## Arrow Data Types"
   ]
  },
  {
   "cell_type": "markdown",
   "id": "2add2513",
   "metadata": {},
   "source": [
    "### Nested Data Types"
   ]
  },
  {
   "cell_type": "code",
   "execution_count": 4,
   "id": "cb6774d5",
   "metadata": {},
   "outputs": [
    {
     "name": "stderr",
     "output_type": "stream",
     "text": [
      "/var/folders/3d/ldmd42_x7zx8d8xqy0fkhmgc0000gn/T/ipykernel_80009/1221727826.py:9: DeprecationWarning: The `width` parameter for `Array` is deprecated. Use `shape` instead.\n",
      "  \"array_1\": pl.Array(width=2, inner=pl.Int64),\n",
      "/var/folders/3d/ldmd42_x7zx8d8xqy0fkhmgc0000gn/T/ipykernel_80009/1221727826.py:10: DeprecationWarning: The `width` parameter for `Array` is deprecated. Use `shape` instead.\n",
      "  \"array_2\": pl.Array(width=3, inner=pl.Int64)\n"
     ]
    },
    {
     "data": {
      "text/html": [
       "<div><style>\n",
       ".dataframe > thead > tr,\n",
       ".dataframe > tbody > tr {\n",
       "  text-align: right;\n",
       "  white-space: pre-wrap;\n",
       "}\n",
       "</style>\n",
       "<small>shape: (2, 2)</small><table border=\"1\" class=\"dataframe\"><thead><tr><th>array_1</th><th>array_2</th></tr><tr><td>array[i64, 2]</td><td>array[i64, 3]</td></tr></thead><tbody><tr><td>[1, 3]</td><td>[1, 7, 3]</td></tr><tr><td>[2, 5]</td><td>[8, 1, 0]</td></tr></tbody></table></div>"
      ],
      "text/plain": [
       "shape: (2, 2)\n",
       "┌───────────────┬───────────────┐\n",
       "│ array_1       ┆ array_2       │\n",
       "│ ---           ┆ ---           │\n",
       "│ array[i64, 2] ┆ array[i64, 3] │\n",
       "╞═══════════════╪═══════════════╡\n",
       "│ [1, 3]        ┆ [1, 7, 3]     │\n",
       "│ [2, 5]        ┆ [8, 1, 0]     │\n",
       "└───────────────┴───────────────┘"
      ]
     },
     "execution_count": 2,
     "metadata": {},
     "output_type": "execute_result"
    }
   ],
   "source": [
    "import polars as pl\n",
    "\n",
    "array_df = pl.DataFrame(\n",
    "    [\n",
    "        pl.Series(\"array_1\", [[1, 3], [2, 5]]),\n",
    "        pl.Series(\"array_2\", [[1, 7, 3], [8, 1, 0]]),\n",
    "    ],\n",
    "    schema={\n",
    "        \"array_1\": pl.Array(width=2, inner=pl.Int64),\n",
    "        \"array_2\": pl.Array(width=3, inner=pl.Int64)\n",
    "    }\n",
    ")\n",
    "array_df"
   ]
  },
  {
   "cell_type": "code",
   "execution_count": 5,
   "id": "80d576f7",
   "metadata": {},
   "outputs": [
    {
     "data": {
      "text/html": [
       "<div><style>\n",
       ".dataframe > thead > tr,\n",
       ".dataframe > tbody > tr {\n",
       "  text-align: right;\n",
       "  white-space: pre-wrap;\n",
       "}\n",
       "</style>\n",
       "<small>shape: (2, 2)</small><table border=\"1\" class=\"dataframe\"><thead><tr><th>integer_lists</th><th>float_lists</th></tr><tr><td>list[i64]</td><td>list[f64]</td></tr></thead><tbody><tr><td>[1, 2]</td><td>[1.0, 2.0]</td></tr><tr><td>[3, 4]</td><td>[3.0, 4.0]</td></tr></tbody></table></div>"
      ],
      "text/plain": [
       "shape: (2, 2)\n",
       "┌───────────────┬─────────────┐\n",
       "│ integer_lists ┆ float_lists │\n",
       "│ ---           ┆ ---         │\n",
       "│ list[i64]     ┆ list[f64]   │\n",
       "╞═══════════════╪═════════════╡\n",
       "│ [1, 2]        ┆ [1.0, 2.0]  │\n",
       "│ [3, 4]        ┆ [3.0, 4.0]  │\n",
       "└───────────────┴─────────────┘"
      ]
     },
     "execution_count": 3,
     "metadata": {},
     "output_type": "execute_result"
    }
   ],
   "source": [
    "list_df = pl.DataFrame(\n",
    "    {\n",
    "        \"integer_lists\": [[1, 2], [3, 4]],\n",
    "        \"float_lists\": [[1.0, 2.0], [3.0, 4.0]],\n",
    "    }\n",
    ")\n",
    "list_df"
   ]
  },
  {
   "cell_type": "code",
   "execution_count": 6,
   "id": "8d547e8c",
   "metadata": {},
   "outputs": [
    {
     "data": {
      "text/html": [
       "<div><style>\n",
       ".dataframe > thead > tr,\n",
       ".dataframe > tbody > tr {\n",
       "  text-align: right;\n",
       "  white-space: pre-wrap;\n",
       "}\n",
       "</style>\n",
       "<small>shape: (2,)</small><table border=\"1\" class=\"dataframe\"><thead><tr><th>ratings</th></tr><tr><td>struct[3]</td></tr></thead><tbody><tr><td>{&quot;Cars&quot;,&quot;NE&quot;,4.5}</td></tr><tr><td>{&quot;Toy Story&quot;,&quot;ME&quot;,4.9}</td></tr></tbody></table></div>"
      ],
      "text/plain": [
       "shape: (2,)\n",
       "Series: 'ratings' [struct[3]]\n",
       "[\n",
       "\t{\"Cars\",\"NE\",4.5}\n",
       "\t{\"Toy Story\",\"ME\",4.9}\n",
       "]"
      ]
     },
     "execution_count": 4,
     "metadata": {},
     "output_type": "execute_result"
    }
   ],
   "source": [
    "rating_series = pl.Series(\n",
    "    \"ratings\",\n",
    "    [\n",
    "        {\"Movie\": \"Cars\", \"Theatre\": \"NE\", \"Avg_Rating\": 4.5},\n",
    "        {\"Movie\": \"Toy Story\", \"Theatre\": \"ME\", \"Avg_Rating\": 4.9},\n",
    "    ],\n",
    ")\n",
    "rating_series"
   ]
  },
  {
   "cell_type": "markdown",
   "id": "ab263759",
   "metadata": {},
   "source": [
    "### Missing Values"
   ]
  },
  {
   "cell_type": "code",
   "execution_count": 8,
   "id": "84657934",
   "metadata": {},
   "outputs": [
    {
     "name": "stdout",
     "output_type": "stream",
     "text": [
      "shape: (10, 1)\n",
      "┌───────┐\n",
      "│ value │\n",
      "│ ---   │\n",
      "│ i64   │\n",
      "╞═══════╡\n",
      "│ null  │\n",
      "│ 2     │\n",
      "│ 3     │\n",
      "│ 4     │\n",
      "│ null  │\n",
      "│ null  │\n",
      "│ 7     │\n",
      "│ 8     │\n",
      "│ 9     │\n",
      "│ null  │\n",
      "└───────┘\n"
     ]
    }
   ],
   "source": [
    "df = pl.DataFrame(\n",
    "    {\n",
    "        \"value\": [None, 2, 3, 4, None, None, 7, 8, 9, None],\n",
    "    },\n",
    ")\n",
    "print(df)"
   ]
  },
  {
   "cell_type": "code",
   "execution_count": 9,
   "id": "144c826e",
   "metadata": {},
   "outputs": [
    {
     "name": "stdout",
     "output_type": "stream",
     "text": [
      "shape: (10, 2)\n",
      "┌───────┬─────────────────┐\n",
      "│ value ┆ filled_with_lit │\n",
      "│ ---   ┆ ---             │\n",
      "│ i64   ┆ i64             │\n",
      "╞═══════╪═════════════════╡\n",
      "│ null  ┆ -1              │\n",
      "│ 2     ┆ 2               │\n",
      "│ 3     ┆ 3               │\n",
      "│ 4     ┆ 4               │\n",
      "│ null  ┆ -1              │\n",
      "│ null  ┆ -1              │\n",
      "│ 7     ┆ 7               │\n",
      "│ 8     ┆ 8               │\n",
      "│ 9     ┆ 9               │\n",
      "│ null  ┆ -1              │\n",
      "└───────┴─────────────────┘\n"
     ]
    }
   ],
   "source": [
    "print(\n",
    "    df\n",
    "    .with_columns(\n",
    "        pl.col(\"value\")\n",
    "        .fill_null(-1)\n",
    "        .alias(\"filled_with_lit\")\n",
    "    )\n",
    ")"
   ]
  },
  {
   "cell_type": "code",
   "execution_count": 10,
   "id": "d6b5ff5f",
   "metadata": {},
   "outputs": [
    {
     "name": "stdout",
     "output_type": "stream",
     "text": [
      "shape: (10, 8)\n",
      "┌───────┬─────────┬──────────┬─────┬─────┬──────┬──────┬─────┐\n",
      "│ value ┆ forward ┆ backward ┆ min ┆ max ┆ mean ┆ zero ┆ one │\n",
      "│ ---   ┆ ---     ┆ ---      ┆ --- ┆ --- ┆ ---  ┆ ---  ┆ --- │\n",
      "│ i64   ┆ i64     ┆ i64      ┆ i64 ┆ i64 ┆ i64  ┆ i64  ┆ i64 │\n",
      "╞═══════╪═════════╪══════════╪═════╪═════╪══════╪══════╪═════╡\n",
      "│ null  ┆ null    ┆ 2        ┆ 2   ┆ 9   ┆ 5    ┆ 0    ┆ 1   │\n",
      "│ 2     ┆ 2       ┆ 2        ┆ 2   ┆ 2   ┆ 2    ┆ 2    ┆ 2   │\n",
      "│ 3     ┆ 3       ┆ 3        ┆ 3   ┆ 3   ┆ 3    ┆ 3    ┆ 3   │\n",
      "│ 4     ┆ 4       ┆ 4        ┆ 4   ┆ 4   ┆ 4    ┆ 4    ┆ 4   │\n",
      "│ null  ┆ 4       ┆ 7        ┆ 2   ┆ 9   ┆ 5    ┆ 0    ┆ 1   │\n",
      "│ null  ┆ 4       ┆ 7        ┆ 2   ┆ 9   ┆ 5    ┆ 0    ┆ 1   │\n",
      "│ 7     ┆ 7       ┆ 7        ┆ 7   ┆ 7   ┆ 7    ┆ 7    ┆ 7   │\n",
      "│ 8     ┆ 8       ┆ 8        ┆ 8   ┆ 8   ┆ 8    ┆ 8    ┆ 8   │\n",
      "│ 9     ┆ 9       ┆ 9        ┆ 9   ┆ 9   ┆ 9    ┆ 9    ┆ 9   │\n",
      "│ null  ┆ 9       ┆ null     ┆ 2   ┆ 9   ┆ 5    ┆ 0    ┆ 1   │\n",
      "└───────┴─────────┴──────────┴─────┴─────┴──────┴──────┴─────┘\n"
     ]
    }
   ],
   "source": [
    "print(\n",
    "    df\n",
    "    .with_columns(\n",
    "        pl.col(\"value\")\n",
    "        .fill_null(strategy=\"forward\")\n",
    "        .alias(\"forward\"),\n",
    "        pl.col(\"value\")\n",
    "        .fill_null(strategy=\"backward\")\n",
    "        .alias(\"backward\"),\n",
    "        pl.col(\"value\")\n",
    "        .fill_null(strategy=\"min\")\n",
    "        .alias(\"min\"),\n",
    "        pl.col(\"value\")\n",
    "        .fill_null(strategy=\"max\")\n",
    "        .alias(\"max\"),\n",
    "        pl.col(\"value\")\n",
    "        .fill_null(strategy=\"mean\")\n",
    "        .alias(\"mean\"),\n",
    "        pl.col(\"value\")\n",
    "        .fill_null(strategy=\"zero\")\n",
    "        .alias(\"zero\"),\n",
    "        pl.col(\"value\")\n",
    "        .fill_null(strategy=\"one\")\n",
    "        .alias(\"one\"),\n",
    "    )\n",
    ")"
   ]
  },
  {
   "cell_type": "code",
   "execution_count": 11,
   "id": "02e15aff",
   "metadata": {},
   "outputs": [
    {
     "name": "stdout",
     "output_type": "stream",
     "text": [
      "shape: (10, 2)\n",
      "┌───────┬─────────────────┐\n",
      "│ value ┆ expression_mean │\n",
      "│ ---   ┆ ---             │\n",
      "│ i64   ┆ f64             │\n",
      "╞═══════╪═════════════════╡\n",
      "│ null  ┆ 5.5             │\n",
      "│ 2     ┆ 2.0             │\n",
      "│ 3     ┆ 3.0             │\n",
      "│ 4     ┆ 4.0             │\n",
      "│ null  ┆ 5.5             │\n",
      "│ null  ┆ 5.5             │\n",
      "│ 7     ┆ 7.0             │\n",
      "│ 8     ┆ 8.0             │\n",
      "│ 9     ┆ 9.0             │\n",
      "│ null  ┆ 5.5             │\n",
      "└───────┴─────────────────┘\n"
     ]
    }
   ],
   "source": [
    "print(\n",
    "    df\n",
    "    .with_columns(\n",
    "        pl.col(\"value\")\n",
    "        .fill_null(pl.col(\"value\").mean())\n",
    "        .alias(\"expression_mean\")\n",
    "    )\n",
    ")"
   ]
  },
  {
   "cell_type": "code",
   "execution_count": 12,
   "id": "95dda505",
   "metadata": {},
   "outputs": [
    {
     "name": "stdout",
     "output_type": "stream",
     "text": [
      "shape: (10, 1)\n",
      "┌───────┐\n",
      "│ value │\n",
      "│ ---   │\n",
      "│ f64   │\n",
      "╞═══════╡\n",
      "│ null  │\n",
      "│ 2.0   │\n",
      "│ 3.0   │\n",
      "│ 4.0   │\n",
      "│ 5.0   │\n",
      "│ 6.0   │\n",
      "│ 7.0   │\n",
      "│ 8.0   │\n",
      "│ 9.0   │\n",
      "│ null  │\n",
      "└───────┘\n"
     ]
    }
   ],
   "source": [
    "print(\n",
    "    df.interpolate()\n",
    ")"
   ]
  },
  {
   "cell_type": "markdown",
   "id": "99478aae",
   "metadata": {},
   "source": [
    "## Series, DataFrames, and LazyFrames"
   ]
  },
  {
   "cell_type": "markdown",
   "id": "470c43a8",
   "metadata": {},
   "source": [
    "## Data Type Conversion"
   ]
  },
  {
   "cell_type": "code",
   "execution_count": 15,
   "id": "a2548d30",
   "metadata": {},
   "outputs": [
    {
     "name": "stdout",
     "output_type": "stream",
     "text": [
      "shape: (3, 1)\n",
      "┌───────┐\n",
      "│ id    │\n",
      "│ ---   │\n",
      "│ str   │\n",
      "╞═══════╡\n",
      "│ 10000 │\n",
      "│ 20000 │\n",
      "│ 30000 │\n",
      "└───────┘\n",
      "Estimated size: 15 bytes\n"
     ]
    }
   ],
   "source": [
    "string_df = pl.DataFrame({\"id\": [\"10000\", \"20000\", \"30000\"]})\n",
    "print(string_df)\n",
    "print(f\"Estimated size: {string_df.estimated_size('b')} bytes\")"
   ]
  },
  {
   "cell_type": "code",
   "execution_count": 16,
   "id": "7e9e90a7",
   "metadata": {},
   "outputs": [
    {
     "name": "stdout",
     "output_type": "stream",
     "text": [
      "shape: (3, 1)\n",
      "┌───────┐\n",
      "│ id    │\n",
      "│ ---   │\n",
      "│ u16   │\n",
      "╞═══════╡\n",
      "│ 10000 │\n",
      "│ 20000 │\n",
      "│ 30000 │\n",
      "└───────┘\n",
      "Estimated size: 6 bytes\n"
     ]
    }
   ],
   "source": [
    "int_df = string_df.select(pl.col(\"id\").cast(pl.UInt16))\n",
    "print(int_df)\n",
    "print(f\"Estimated size: {int_df.estimated_size('b')} bytes\")"
   ]
  },
  {
   "cell_type": "code",
   "execution_count": 17,
   "id": "caa5f30f",
   "metadata": {},
   "outputs": [
    {
     "data": {
      "text/html": [
       "<div><style>\n",
       ".dataframe > thead > tr,\n",
       ".dataframe > tbody > tr {\n",
       "  text-align: right;\n",
       "  white-space: pre-wrap;\n",
       "}\n",
       "</style>\n",
       "<small>shape: (3, 3)</small><table border=\"1\" class=\"dataframe\"><thead><tr><th>id</th><th>value</th><th>value2</th></tr><tr><td>u16</td><td>u16</td><td>u16</td></tr></thead><tbody><tr><td>10000</td><td>1</td><td>1</td></tr><tr><td>20000</td><td>2</td><td>2</td></tr><tr><td>30000</td><td>3</td><td>3</td></tr></tbody></table></div>"
      ],
      "text/plain": [
       "shape: (3, 3)\n",
       "┌───────┬───────┬────────┐\n",
       "│ id    ┆ value ┆ value2 │\n",
       "│ ---   ┆ ---   ┆ ---    │\n",
       "│ u16   ┆ u16   ┆ u16    │\n",
       "╞═══════╪═══════╪════════╡\n",
       "│ 10000 ┆ 1     ┆ 1      │\n",
       "│ 20000 ┆ 2     ┆ 2      │\n",
       "│ 30000 ┆ 3     ┆ 3      │\n",
       "└───────┴───────┴────────┘"
      ]
     },
     "execution_count": 12,
     "metadata": {},
     "output_type": "execute_result"
    }
   ],
   "source": [
    "df = pl.DataFrame(\n",
    "    {\n",
    "        \"id\": [10000, 20000, 30000],\n",
    "        \"value\": [1.0, 2.0, 3.0],\n",
    "        \"value2\": [\"1\", \"2\", \"3\"],\n",
    "    }\n",
    ")\n",
    "df.cast(pl.UInt16)"
   ]
  },
  {
   "cell_type": "code",
   "execution_count": 18,
   "id": "baa594e9",
   "metadata": {},
   "outputs": [
    {
     "data": {
      "text/html": [
       "<div><style>\n",
       ".dataframe > thead > tr,\n",
       ".dataframe > tbody > tr {\n",
       "  text-align: right;\n",
       "  white-space: pre-wrap;\n",
       "}\n",
       "</style>\n",
       "<small>shape: (3, 3)</small><table border=\"1\" class=\"dataframe\"><thead><tr><th>id</th><th>value</th><th>value2</th></tr><tr><td>u16</td><td>f32</td><td>u8</td></tr></thead><tbody><tr><td>10000</td><td>1.0</td><td>1</td></tr><tr><td>20000</td><td>2.0</td><td>2</td></tr><tr><td>30000</td><td>3.0</td><td>3</td></tr></tbody></table></div>"
      ],
      "text/plain": [
       "shape: (3, 3)\n",
       "┌───────┬───────┬────────┐\n",
       "│ id    ┆ value ┆ value2 │\n",
       "│ ---   ┆ ---   ┆ ---    │\n",
       "│ u16   ┆ f32   ┆ u8     │\n",
       "╞═══════╪═══════╪════════╡\n",
       "│ 10000 ┆ 1.0   ┆ 1      │\n",
       "│ 20000 ┆ 2.0   ┆ 2      │\n",
       "│ 30000 ┆ 3.0   ┆ 3      │\n",
       "└───────┴───────┴────────┘"
      ]
     },
     "execution_count": 13,
     "metadata": {},
     "output_type": "execute_result"
    }
   ],
   "source": [
    "df.cast({\"id\": pl.UInt16, \"value\": pl.Float32, \"value2\": pl.UInt8})"
   ]
  },
  {
   "cell_type": "code",
   "execution_count": 19,
   "id": "f3c21409",
   "metadata": {},
   "outputs": [
    {
     "data": {
      "text/html": [
       "<div><style>\n",
       ".dataframe > thead > tr,\n",
       ".dataframe > tbody > tr {\n",
       "  text-align: right;\n",
       "  white-space: pre-wrap;\n",
       "}\n",
       "</style>\n",
       "<small>shape: (3, 3)</small><table border=\"1\" class=\"dataframe\"><thead><tr><th>id</th><th>value</th><th>value2</th></tr><tr><td>i64</td><td>f32</td><td>u8</td></tr></thead><tbody><tr><td>10000</td><td>1.0</td><td>1</td></tr><tr><td>20000</td><td>2.0</td><td>2</td></tr><tr><td>30000</td><td>3.0</td><td>3</td></tr></tbody></table></div>"
      ],
      "text/plain": [
       "shape: (3, 3)\n",
       "┌───────┬───────┬────────┐\n",
       "│ id    ┆ value ┆ value2 │\n",
       "│ ---   ┆ ---   ┆ ---    │\n",
       "│ i64   ┆ f32   ┆ u8     │\n",
       "╞═══════╪═══════╪════════╡\n",
       "│ 10000 ┆ 1.0   ┆ 1      │\n",
       "│ 20000 ┆ 2.0   ┆ 2      │\n",
       "│ 30000 ┆ 3.0   ┆ 3      │\n",
       "└───────┴───────┴────────┘"
      ]
     },
     "execution_count": 14,
     "metadata": {},
     "output_type": "execute_result"
    }
   ],
   "source": [
    "df.cast({pl.Float64: pl.Float32, pl.String: pl.UInt8})"
   ]
  },
  {
   "cell_type": "code",
   "execution_count": 20,
   "id": "40b5128a",
   "metadata": {},
   "outputs": [
    {
     "data": {
      "text/html": [
       "<div><style>\n",
       ".dataframe > thead > tr,\n",
       ".dataframe > tbody > tr {\n",
       "  text-align: right;\n",
       "  white-space: pre-wrap;\n",
       "}\n",
       "</style>\n",
       "<small>shape: (3, 3)</small><table border=\"1\" class=\"dataframe\"><thead><tr><th>id</th><th>value</th><th>value2</th></tr><tr><td>u16</td><td>u16</td><td>str</td></tr></thead><tbody><tr><td>10000</td><td>1</td><td>&quot;1&quot;</td></tr><tr><td>20000</td><td>2</td><td>&quot;2&quot;</td></tr><tr><td>30000</td><td>3</td><td>&quot;3&quot;</td></tr></tbody></table></div>"
      ],
      "text/plain": [
       "shape: (3, 3)\n",
       "┌───────┬───────┬────────┐\n",
       "│ id    ┆ value ┆ value2 │\n",
       "│ ---   ┆ ---   ┆ ---    │\n",
       "│ u16   ┆ u16   ┆ str    │\n",
       "╞═══════╪═══════╪════════╡\n",
       "│ 10000 ┆ 1     ┆ 1      │\n",
       "│ 20000 ┆ 2     ┆ 2      │\n",
       "│ 30000 ┆ 3     ┆ 3      │\n",
       "└───────┴───────┴────────┘"
      ]
     },
     "execution_count": 15,
     "metadata": {},
     "output_type": "execute_result"
    }
   ],
   "source": [
    "import polars.selectors as cs\n",
    "df.cast({cs.numeric(): pl.UInt16})"
   ]
  },
  {
   "cell_type": "markdown",
   "id": "4d121bc9",
   "metadata": {},
   "source": [
    "## Conclusion"
   ]
  }
 ],
 "metadata": {
  "language_info": {
   "codemirror_mode": {
    "name": "ipython",
    "version": 3
   },
   "file_extension": ".py",
   "mimetype": "text/x-python",
   "name": "python",
   "nbconvert_exporter": "python",
   "pygments_lexer": "ipython3",
   "version": "3.11.9"
  }
 },
 "nbformat": 4,
 "nbformat_minor": 5
}
