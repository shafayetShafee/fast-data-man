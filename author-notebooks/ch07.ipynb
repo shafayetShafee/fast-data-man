{
 "cells": [
  {
   "cell_type": "markdown",
   "id": "c3de0b6f",
   "metadata": {},
   "source": [
    "# Chapter 7: Beginning Expressions"
   ]
  },
  {
   "cell_type": "code",
   "execution_count": 1,
   "id": "a64cb13e",
   "metadata": {},
   "outputs": [
    {
     "name": "stdout",
     "output_type": "stream",
     "text": [
      "--------Version info---------\n",
      "Polars:               0.20.31\n",
      "Index type:           UInt32\n",
      "Platform:             macOS-12.5-arm64-arm-64bit\n",
      "Python:               3.11.9 (main, Apr  2 2024, 16:11:47) [Clang 14.0.0 (clang-1400.0.29.202)]\n",
      "\n",
      "----Optional dependencies----\n",
      "adbc_driver_manager:  0.8.0\n",
      "cloudpickle:          3.0.0\n",
      "connectorx:           0.3.2\n",
      "deltalake:            0.15.0\n",
      "fastexcel:            0.9.1\n",
      "fsspec:               2023.12.2\n",
      "gevent:               23.9.1\n",
      "hvplot:               0.9.2\n",
      "matplotlib:           3.8.4\n",
      "nest_asyncio:         1.6.0\n",
      "numpy:                1.26.4\n",
      "openpyxl:             3.1.2\n",
      "pandas:               2.2.2\n",
      "pyarrow:              14.0.2\n",
      "pydantic:             2.5.3\n",
      "pyiceberg:            0.5.1\n",
      "pyxlsb:               <not installed>\n",
      "sqlalchemy:           2.0.25\n",
      "torch:                <not installed>\n",
      "xlsx2csv:             0.8.2\n",
      "xlsxwriter:           3.2.0\n"
     ]
    }
   ],
   "source": [
    "import polars as pl\n",
    "pl.show_versions()"
   ]
  },
  {
   "cell_type": "markdown",
   "id": "469cf292",
   "metadata": {},
   "source": [
    "## Methods and Namespaces"
   ]
  },
  {
   "cell_type": "markdown",
   "id": "57204b68",
   "metadata": {},
   "source": [
    "## Expressions by Example"
   ]
  },
  {
   "cell_type": "code",
   "execution_count": 4,
   "id": "b51a678b",
   "metadata": {},
   "outputs": [
    {
     "data": {
      "text/html": [
       "<div><style>\n",
       ".dataframe > thead > tr,\n",
       ".dataframe > tbody > tr {\n",
       "  text-align: right;\n",
       "  white-space: pre-wrap;\n",
       "}\n",
       "</style>\n",
       "<small>shape: (10, 5)</small><table border=\"1\" class=\"dataframe\"><thead><tr><th>name</th><th>weight</th><th>color</th><th>is_round</th><th>origin</th></tr><tr><td>str</td><td>i64</td><td>str</td><td>bool</td><td>str</td></tr></thead><tbody><tr><td>&quot;Avocado&quot;</td><td>200</td><td>&quot;green&quot;</td><td>false</td><td>&quot;South America&quot;</td></tr><tr><td>&quot;Banana&quot;</td><td>120</td><td>&quot;yellow&quot;</td><td>false</td><td>&quot;Asia&quot;</td></tr><tr><td>&quot;Blueberry&quot;</td><td>1</td><td>&quot;blue&quot;</td><td>false</td><td>&quot;North America&quot;</td></tr><tr><td>&quot;Cantaloupe&quot;</td><td>2500</td><td>&quot;orange&quot;</td><td>true</td><td>&quot;Africa&quot;</td></tr><tr><td>&quot;Cranberry&quot;</td><td>2</td><td>&quot;red&quot;</td><td>false</td><td>&quot;North America&quot;</td></tr><tr><td>&quot;Elderberry&quot;</td><td>1</td><td>&quot;black&quot;</td><td>false</td><td>&quot;Europe&quot;</td></tr><tr><td>&quot;Orange&quot;</td><td>130</td><td>&quot;orange&quot;</td><td>true</td><td>&quot;Asia&quot;</td></tr><tr><td>&quot;Papaya&quot;</td><td>1000</td><td>&quot;orange&quot;</td><td>false</td><td>&quot;South America&quot;</td></tr><tr><td>&quot;Peach&quot;</td><td>150</td><td>&quot;orange&quot;</td><td>true</td><td>&quot;Asia&quot;</td></tr><tr><td>&quot;Watermelon&quot;</td><td>5000</td><td>&quot;green&quot;</td><td>true</td><td>&quot;Africa&quot;</td></tr></tbody></table></div>"
      ],
      "text/plain": [
       "shape: (10, 5)\n",
       "┌────────────┬────────┬────────┬──────────┬───────────────┐\n",
       "│ name       ┆ weight ┆ color  ┆ is_round ┆ origin        │\n",
       "│ ---        ┆ ---    ┆ ---    ┆ ---      ┆ ---           │\n",
       "│ str        ┆ i64    ┆ str    ┆ bool     ┆ str           │\n",
       "╞════════════╪════════╪════════╪══════════╪═══════════════╡\n",
       "│ Avocado    ┆ 200    ┆ green  ┆ false    ┆ South America │\n",
       "│ Banana     ┆ 120    ┆ yellow ┆ false    ┆ Asia          │\n",
       "│ Blueberry  ┆ 1      ┆ blue   ┆ false    ┆ North America │\n",
       "│ Cantaloupe ┆ 2500   ┆ orange ┆ true     ┆ Africa        │\n",
       "│ Cranberry  ┆ 2      ┆ red    ┆ false    ┆ North America │\n",
       "│ Elderberry ┆ 1      ┆ black  ┆ false    ┆ Europe        │\n",
       "│ Orange     ┆ 130    ┆ orange ┆ true     ┆ Asia          │\n",
       "│ Papaya     ┆ 1000   ┆ orange ┆ false    ┆ South America │\n",
       "│ Peach      ┆ 150    ┆ orange ┆ true     ┆ Asia          │\n",
       "│ Watermelon ┆ 5000   ┆ green  ┆ true     ┆ Africa        │\n",
       "└────────────┴────────┴────────┴──────────┴───────────────┘"
      ]
     },
     "execution_count": 2,
     "metadata": {},
     "output_type": "execute_result"
    }
   ],
   "source": [
    "import polars as pl\n",
    "\n",
    "fruit = pl.read_csv(\"data/fruit.csv\")\n",
    "fruit"
   ]
  },
  {
   "cell_type": "markdown",
   "id": "d56eb361",
   "metadata": {},
   "source": [
    "### Selecting Columns with Expressions"
   ]
  },
  {
   "cell_type": "code",
   "execution_count": 6,
   "id": "05057d7e",
   "metadata": {},
   "outputs": [
    {
     "data": {
      "text/html": [
       "<div><style>\n",
       ".dataframe > thead > tr,\n",
       ".dataframe > tbody > tr {\n",
       "  text-align: right;\n",
       "  white-space: pre-wrap;\n",
       "}\n",
       "</style>\n",
       "<small>shape: (10, 5)</small><table border=\"1\" class=\"dataframe\"><thead><tr><th>name</th><th>color</th><th>origin</th><th>weight</th><th>is_round</th></tr><tr><td>str</td><td>str</td><td>str</td><td>f64</td><td>bool</td></tr></thead><tbody><tr><td>&quot;Avocado&quot;</td><td>&quot;green&quot;</td><td>&quot;South America&quot;</td><td>0.2</td><td>false</td></tr><tr><td>&quot;Banana&quot;</td><td>&quot;yellow&quot;</td><td>&quot;Asia&quot;</td><td>0.12</td><td>false</td></tr><tr><td>&quot;Blueberry&quot;</td><td>&quot;blue&quot;</td><td>&quot;North America&quot;</td><td>0.001</td><td>false</td></tr><tr><td>&quot;Cantaloupe&quot;</td><td>&quot;orange&quot;</td><td>&quot;Africa&quot;</td><td>2.5</td><td>true</td></tr><tr><td>&quot;Cranberry&quot;</td><td>&quot;red&quot;</td><td>&quot;North America&quot;</td><td>0.002</td><td>false</td></tr><tr><td>&quot;Elderberry&quot;</td><td>&quot;black&quot;</td><td>&quot;Europe&quot;</td><td>0.001</td><td>false</td></tr><tr><td>&quot;Orange&quot;</td><td>&quot;orange&quot;</td><td>&quot;Asia&quot;</td><td>0.13</td><td>true</td></tr><tr><td>&quot;Papaya&quot;</td><td>&quot;orange&quot;</td><td>&quot;South America&quot;</td><td>1.0</td><td>false</td></tr><tr><td>&quot;Peach&quot;</td><td>&quot;orange&quot;</td><td>&quot;Asia&quot;</td><td>0.15</td><td>true</td></tr><tr><td>&quot;Watermelon&quot;</td><td>&quot;green&quot;</td><td>&quot;Africa&quot;</td><td>5.0</td><td>true</td></tr></tbody></table></div>"
      ],
      "text/plain": [
       "shape: (10, 5)\n",
       "┌────────────┬────────┬───────────────┬────────┬──────────┐\n",
       "│ name       ┆ color  ┆ origin        ┆ weight ┆ is_round │\n",
       "│ ---        ┆ ---    ┆ ---           ┆ ---    ┆ ---      │\n",
       "│ str        ┆ str    ┆ str           ┆ f64    ┆ bool     │\n",
       "╞════════════╪════════╪═══════════════╪════════╪══════════╡\n",
       "│ Avocado    ┆ green  ┆ South America ┆ 0.2    ┆ false    │\n",
       "│ Banana     ┆ yellow ┆ Asia          ┆ 0.12   ┆ false    │\n",
       "│ Blueberry  ┆ blue   ┆ North America ┆ 0.001  ┆ false    │\n",
       "│ Cantaloupe ┆ orange ┆ Africa        ┆ 2.5    ┆ true     │\n",
       "│ Cranberry  ┆ red    ┆ North America ┆ 0.002  ┆ false    │\n",
       "│ Elderberry ┆ black  ┆ Europe        ┆ 0.001  ┆ false    │\n",
       "│ Orange     ┆ orange ┆ Asia          ┆ 0.13   ┆ true     │\n",
       "│ Papaya     ┆ orange ┆ South America ┆ 1.0    ┆ false    │\n",
       "│ Peach      ┆ orange ┆ Asia          ┆ 0.15   ┆ true     │\n",
       "│ Watermelon ┆ green  ┆ Africa        ┆ 5.0    ┆ true     │\n",
       "└────────────┴────────┴───────────────┴────────┴──────────┘"
      ]
     },
     "execution_count": 3,
     "metadata": {},
     "output_type": "execute_result"
    }
   ],
   "source": [
    "fruit.select(\n",
    "    pl.col(\"name\"),  # <1>\n",
    "    pl.col(\"^.*or.*$\"),  # <2>\n",
    "    pl.col(\"weight\") / 1000,  # <3>\n",
    "    \"is_round\"  # <4>\n",
    ")"
   ]
  },
  {
   "cell_type": "markdown",
   "id": "d2bd5966",
   "metadata": {},
   "source": [
    "### Creating New Columns with Expressions"
   ]
  },
  {
   "cell_type": "code",
   "execution_count": 8,
   "id": "5ebceaf2",
   "metadata": {},
   "outputs": [
    {
     "data": {
      "text/html": [
       "<div><style>\n",
       ".dataframe > thead > tr,\n",
       ".dataframe > tbody > tr {\n",
       "  text-align: right;\n",
       "  white-space: pre-wrap;\n",
       "}\n",
       "</style>\n",
       "<small>shape: (10, 7)</small><table border=\"1\" class=\"dataframe\"><thead><tr><th>name</th><th>weight</th><th>color</th><th>is_round</th><th>origin</th><th>is_fruit</th><th>is_berry</th></tr><tr><td>str</td><td>i64</td><td>str</td><td>bool</td><td>str</td><td>bool</td><td>bool</td></tr></thead><tbody><tr><td>&quot;Avocado&quot;</td><td>200</td><td>&quot;green&quot;</td><td>false</td><td>&quot;South America&quot;</td><td>true</td><td>false</td></tr><tr><td>&quot;Banana&quot;</td><td>120</td><td>&quot;yellow&quot;</td><td>false</td><td>&quot;Asia&quot;</td><td>true</td><td>false</td></tr><tr><td>&quot;Blueberry&quot;</td><td>1</td><td>&quot;blue&quot;</td><td>false</td><td>&quot;North America&quot;</td><td>true</td><td>true</td></tr><tr><td>&quot;Cantaloupe&quot;</td><td>2500</td><td>&quot;orange&quot;</td><td>true</td><td>&quot;Africa&quot;</td><td>true</td><td>false</td></tr><tr><td>&quot;Cranberry&quot;</td><td>2</td><td>&quot;red&quot;</td><td>false</td><td>&quot;North America&quot;</td><td>true</td><td>true</td></tr><tr><td>&quot;Elderberry&quot;</td><td>1</td><td>&quot;black&quot;</td><td>false</td><td>&quot;Europe&quot;</td><td>true</td><td>true</td></tr><tr><td>&quot;Orange&quot;</td><td>130</td><td>&quot;orange&quot;</td><td>true</td><td>&quot;Asia&quot;</td><td>true</td><td>false</td></tr><tr><td>&quot;Papaya&quot;</td><td>1000</td><td>&quot;orange&quot;</td><td>false</td><td>&quot;South America&quot;</td><td>true</td><td>false</td></tr><tr><td>&quot;Peach&quot;</td><td>150</td><td>&quot;orange&quot;</td><td>true</td><td>&quot;Asia&quot;</td><td>true</td><td>false</td></tr><tr><td>&quot;Watermelon&quot;</td><td>5000</td><td>&quot;green&quot;</td><td>true</td><td>&quot;Africa&quot;</td><td>true</td><td>false</td></tr></tbody></table></div>"
      ],
      "text/plain": [
       "shape: (10, 7)\n",
       "┌────────────┬────────┬────────┬──────────┬───────────────┬──────────┬──────────┐\n",
       "│ name       ┆ weight ┆ color  ┆ is_round ┆ origin        ┆ is_fruit ┆ is_berry │\n",
       "│ ---        ┆ ---    ┆ ---    ┆ ---      ┆ ---           ┆ ---      ┆ ---      │\n",
       "│ str        ┆ i64    ┆ str    ┆ bool     ┆ str           ┆ bool     ┆ bool     │\n",
       "╞════════════╪════════╪════════╪══════════╪═══════════════╪══════════╪══════════╡\n",
       "│ Avocado    ┆ 200    ┆ green  ┆ false    ┆ South America ┆ true     ┆ false    │\n",
       "│ Banana     ┆ 120    ┆ yellow ┆ false    ┆ Asia          ┆ true     ┆ false    │\n",
       "│ Blueberry  ┆ 1      ┆ blue   ┆ false    ┆ North America ┆ true     ┆ true     │\n",
       "│ Cantaloupe ┆ 2500   ┆ orange ┆ true     ┆ Africa        ┆ true     ┆ false    │\n",
       "│ Cranberry  ┆ 2      ┆ red    ┆ false    ┆ North America ┆ true     ┆ true     │\n",
       "│ Elderberry ┆ 1      ┆ black  ┆ false    ┆ Europe        ┆ true     ┆ true     │\n",
       "│ Orange     ┆ 130    ┆ orange ┆ true     ┆ Asia          ┆ true     ┆ false    │\n",
       "│ Papaya     ┆ 1000   ┆ orange ┆ false    ┆ South America ┆ true     ┆ false    │\n",
       "│ Peach      ┆ 150    ┆ orange ┆ true     ┆ Asia          ┆ true     ┆ false    │\n",
       "│ Watermelon ┆ 5000   ┆ green  ┆ true     ┆ Africa        ┆ true     ┆ false    │\n",
       "└────────────┴────────┴────────┴──────────┴───────────────┴──────────┴──────────┘"
      ]
     },
     "execution_count": 4,
     "metadata": {},
     "output_type": "execute_result"
    }
   ],
   "source": [
    "fruit.with_columns(\n",
    "    pl.lit(True).alias(\"is_fruit\"),  # <1>\n",
    "    pl.col(\"name\").str.ends_with(\"berry\").alias(\"is_berry\")  # <2>\n",
    ")"
   ]
  },
  {
   "cell_type": "markdown",
   "id": "9de13e40",
   "metadata": {},
   "source": [
    "### Filtering Rows with Expressions"
   ]
  },
  {
   "cell_type": "code",
   "execution_count": 10,
   "id": "09048611",
   "metadata": {},
   "outputs": [
    {
     "data": {
      "text/html": [
       "<div><style>\n",
       ".dataframe > thead > tr,\n",
       ".dataframe > tbody > tr {\n",
       "  text-align: right;\n",
       "  white-space: pre-wrap;\n",
       "}\n",
       "</style>\n",
       "<small>shape: (2, 5)</small><table border=\"1\" class=\"dataframe\"><thead><tr><th>name</th><th>weight</th><th>color</th><th>is_round</th><th>origin</th></tr><tr><td>str</td><td>i64</td><td>str</td><td>bool</td><td>str</td></tr></thead><tbody><tr><td>&quot;Cantaloupe&quot;</td><td>2500</td><td>&quot;orange&quot;</td><td>true</td><td>&quot;Africa&quot;</td></tr><tr><td>&quot;Watermelon&quot;</td><td>5000</td><td>&quot;green&quot;</td><td>true</td><td>&quot;Africa&quot;</td></tr></tbody></table></div>"
      ],
      "text/plain": [
       "shape: (2, 5)\n",
       "┌────────────┬────────┬────────┬──────────┬────────┐\n",
       "│ name       ┆ weight ┆ color  ┆ is_round ┆ origin │\n",
       "│ ---        ┆ ---    ┆ ---    ┆ ---      ┆ ---    │\n",
       "│ str        ┆ i64    ┆ str    ┆ bool     ┆ str    │\n",
       "╞════════════╪════════╪════════╪══════════╪════════╡\n",
       "│ Cantaloupe ┆ 2500   ┆ orange ┆ true     ┆ Africa │\n",
       "│ Watermelon ┆ 5000   ┆ green  ┆ true     ┆ Africa │\n",
       "└────────────┴────────┴────────┴──────────┴────────┘"
      ]
     },
     "execution_count": 5,
     "metadata": {},
     "output_type": "execute_result"
    }
   ],
   "source": [
    "fruit.filter(\n",
    "    pl.col(\"is_round\") &  # <1>\n",
    "    (pl.col(\"weight\") > 1000)  # <2>\n",
    ")"
   ]
  },
  {
   "cell_type": "markdown",
   "id": "e2bc7a6f",
   "metadata": {},
   "source": [
    "### Aggregating with Expressions"
   ]
  },
  {
   "cell_type": "code",
   "execution_count": 12,
   "id": "50fe89ba",
   "metadata": {},
   "outputs": [
    {
     "name": "stderr",
     "output_type": "stream",
     "text": [
      "/var/folders/3d/ldmd42_x7zx8d8xqy0fkhmgc0000gn/T/ipykernel_80112/3039182964.py:4: DeprecationWarning: `pl.count()` is deprecated. Please use `pl.len()` instead.\n",
      "  pl.count(),  # <2>\n"
     ]
    },
    {
     "data": {
      "text/html": [
       "<div><style>\n",
       ".dataframe > thead > tr,\n",
       ".dataframe > tbody > tr {\n",
       "  text-align: right;\n",
       "  white-space: pre-wrap;\n",
       "}\n",
       "</style>\n",
       "<small>shape: (4, 3)</small><table border=\"1\" class=\"dataframe\"><thead><tr><th>origin</th><th>count</th><th>average_weight</th></tr><tr><td>str</td><td>u32</td><td>f64</td></tr></thead><tbody><tr><td>&quot;America&quot;</td><td>4</td><td>300.75</td></tr><tr><td>&quot;Europe&quot;</td><td>1</td><td>1.0</td></tr><tr><td>&quot;Asia&quot;</td><td>3</td><td>133.333333</td></tr><tr><td>&quot;Africa&quot;</td><td>2</td><td>3750.0</td></tr></tbody></table></div>"
      ],
      "text/plain": [
       "shape: (4, 3)\n",
       "┌─────────┬───────┬────────────────┐\n",
       "│ origin  ┆ count ┆ average_weight │\n",
       "│ ---     ┆ ---   ┆ ---            │\n",
       "│ str     ┆ u32   ┆ f64            │\n",
       "╞═════════╪═══════╪════════════════╡\n",
       "│ America ┆ 4     ┆ 300.75         │\n",
       "│ Europe  ┆ 1     ┆ 1.0            │\n",
       "│ Asia    ┆ 3     ┆ 133.333333     │\n",
       "│ Africa  ┆ 2     ┆ 3750.0         │\n",
       "└─────────┴───────┴────────────────┘"
      ]
     },
     "execution_count": 6,
     "metadata": {},
     "output_type": "execute_result"
    }
   ],
   "source": [
    "fruit.group_by(\n",
    "    pl.col(\"origin\").str.split(\" \").list.last()  # <1>\n",
    ").agg(\n",
    "    pl.count(),  # <2>\n",
    "    pl.col(\"weight\").mean().alias(\"average_weight\")  # <3>\n",
    ")"
   ]
  },
  {
   "cell_type": "markdown",
   "id": "f40f16e4",
   "metadata": {},
   "source": [
    "### Sorting Rows with Expressions"
   ]
  },
  {
   "cell_type": "code",
   "execution_count": 14,
   "id": "3091e457",
   "metadata": {},
   "outputs": [
    {
     "data": {
      "text/html": [
       "<div><style>\n",
       ".dataframe > thead > tr,\n",
       ".dataframe > tbody > tr {\n",
       "  text-align: right;\n",
       "  white-space: pre-wrap;\n",
       "}\n",
       "</style>\n",
       "<small>shape: (10, 5)</small><table border=\"1\" class=\"dataframe\"><thead><tr><th>name</th><th>weight</th><th>color</th><th>is_round</th><th>origin</th></tr><tr><td>str</td><td>i64</td><td>str</td><td>bool</td><td>str</td></tr></thead><tbody><tr><td>&quot;Cantaloupe&quot;</td><td>2500</td><td>&quot;orange&quot;</td><td>true</td><td>&quot;Africa&quot;</td></tr><tr><td>&quot;Elderberry&quot;</td><td>1</td><td>&quot;black&quot;</td><td>false</td><td>&quot;Europe&quot;</td></tr><tr><td>&quot;Watermelon&quot;</td><td>5000</td><td>&quot;green&quot;</td><td>true</td><td>&quot;Africa&quot;</td></tr><tr><td>&quot;Blueberry&quot;</td><td>1</td><td>&quot;blue&quot;</td><td>false</td><td>&quot;North America&quot;</td></tr><tr><td>&quot;Cranberry&quot;</td><td>2</td><td>&quot;red&quot;</td><td>false</td><td>&quot;North America&quot;</td></tr><tr><td>&quot;Avocado&quot;</td><td>200</td><td>&quot;green&quot;</td><td>false</td><td>&quot;South America&quot;</td></tr><tr><td>&quot;Banana&quot;</td><td>120</td><td>&quot;yellow&quot;</td><td>false</td><td>&quot;Asia&quot;</td></tr><tr><td>&quot;Orange&quot;</td><td>130</td><td>&quot;orange&quot;</td><td>true</td><td>&quot;Asia&quot;</td></tr><tr><td>&quot;Papaya&quot;</td><td>1000</td><td>&quot;orange&quot;</td><td>false</td><td>&quot;South America&quot;</td></tr><tr><td>&quot;Peach&quot;</td><td>150</td><td>&quot;orange&quot;</td><td>true</td><td>&quot;Asia&quot;</td></tr></tbody></table></div>"
      ],
      "text/plain": [
       "shape: (10, 5)\n",
       "┌────────────┬────────┬────────┬──────────┬───────────────┐\n",
       "│ name       ┆ weight ┆ color  ┆ is_round ┆ origin        │\n",
       "│ ---        ┆ ---    ┆ ---    ┆ ---      ┆ ---           │\n",
       "│ str        ┆ i64    ┆ str    ┆ bool     ┆ str           │\n",
       "╞════════════╪════════╪════════╪══════════╪═══════════════╡\n",
       "│ Cantaloupe ┆ 2500   ┆ orange ┆ true     ┆ Africa        │\n",
       "│ Elderberry ┆ 1      ┆ black  ┆ false    ┆ Europe        │\n",
       "│ Watermelon ┆ 5000   ┆ green  ┆ true     ┆ Africa        │\n",
       "│ Blueberry  ┆ 1      ┆ blue   ┆ false    ┆ North America │\n",
       "│ Cranberry  ┆ 2      ┆ red    ┆ false    ┆ North America │\n",
       "│ Avocado    ┆ 200    ┆ green  ┆ false    ┆ South America │\n",
       "│ Banana     ┆ 120    ┆ yellow ┆ false    ┆ Asia          │\n",
       "│ Orange     ┆ 130    ┆ orange ┆ true     ┆ Asia          │\n",
       "│ Papaya     ┆ 1000   ┆ orange ┆ false    ┆ South America │\n",
       "│ Peach      ┆ 150    ┆ orange ┆ true     ┆ Asia          │\n",
       "└────────────┴────────┴────────┴──────────┴───────────────┘"
      ]
     },
     "execution_count": 7,
     "metadata": {},
     "output_type": "execute_result"
    }
   ],
   "source": [
    "fruit.sort(\n",
    "    pl.col(\"name\").str.len_bytes(),  # <1>\n",
    "    descending=True  # <2>\n",
    ")"
   ]
  },
  {
   "cell_type": "markdown",
   "id": "3034886a",
   "metadata": {},
   "source": [
    "## What Exactly Is an Expression?"
   ]
  },
  {
   "cell_type": "code",
   "execution_count": 16,
   "id": "77b9e878",
   "metadata": {},
   "outputs": [
    {
     "data": {
      "text/html": [
       "<div><style>\n",
       ".dataframe > thead > tr,\n",
       ".dataframe > tbody > tr {\n",
       "  text-align: right;\n",
       "  white-space: pre-wrap;\n",
       "}\n",
       "</style>\n",
       "<small>shape: (3, 4)</small><table border=\"1\" class=\"dataframe\"><thead><tr><th>a</th><th>b</th><th>a_times_10</th><th>b_times_10</th></tr><tr><td>i64</td><td>f64</td><td>i64</td><td>f64</td></tr></thead><tbody><tr><td>1</td><td>0.4</td><td>10</td><td>4.0</td></tr><tr><td>2</td><td>0.5</td><td>20</td><td>5.0</td></tr><tr><td>3</td><td>0.6</td><td>30</td><td>6.0</td></tr></tbody></table></div>"
      ],
      "text/plain": [
       "shape: (3, 4)\n",
       "┌─────┬─────┬────────────┬────────────┐\n",
       "│ a   ┆ b   ┆ a_times_10 ┆ b_times_10 │\n",
       "│ --- ┆ --- ┆ ---        ┆ ---        │\n",
       "│ i64 ┆ f64 ┆ i64        ┆ f64        │\n",
       "╞═════╪═════╪════════════╪════════════╡\n",
       "│ 1   ┆ 0.4 ┆ 10         ┆ 4.0        │\n",
       "│ 2   ┆ 0.5 ┆ 20         ┆ 5.0        │\n",
       "│ 3   ┆ 0.6 ┆ 30         ┆ 6.0        │\n",
       "└─────┴─────┴────────────┴────────────┘"
      ]
     },
     "execution_count": 8,
     "metadata": {},
     "output_type": "execute_result"
    }
   ],
   "source": [
    "(\n",
    "    pl.DataFrame({\"a\": [1, 2, 3], \"b\": [0.4, 0.5, 0.6]})\n",
    "    .with_columns(pl.all().mul(10).name.suffix(\"_times_10\"))\n",
    ")"
   ]
  },
  {
   "cell_type": "code",
   "execution_count": 17,
   "id": "e436927b",
   "metadata": {},
   "outputs": [
    {
     "data": {
      "text/plain": [
       "True"
      ]
     },
     "execution_count": 9,
     "metadata": {},
     "output_type": "execute_result"
    }
   ],
   "source": [
    "pl.all().mul(10).name.suffix(\"_times_10\").meta.has_multiple_outputs()"
   ]
  },
  {
   "cell_type": "markdown",
   "id": "e802d56d",
   "metadata": {},
   "source": [
    "### Properties of Expressions"
   ]
  },
  {
   "cell_type": "code",
   "execution_count": 19,
   "id": "91ea1d0c",
   "metadata": {},
   "outputs": [
    {
     "data": {
      "text/html": [
       "<div><style>\n",
       ".dataframe > thead > tr,\n",
       ".dataframe > tbody > tr {\n",
       "  text-align: right;\n",
       "  white-space: pre-wrap;\n",
       "}\n",
       "</style>\n",
       "<small>shape: (10, 6)</small><table border=\"1\" class=\"dataframe\"><thead><tr><th>name</th><th>weight</th><th>color</th><th>is_round</th><th>origin</th><th>is_orange</th></tr><tr><td>str</td><td>i64</td><td>str</td><td>bool</td><td>str</td><td>bool</td></tr></thead><tbody><tr><td>&quot;Avocado&quot;</td><td>200</td><td>&quot;green&quot;</td><td>false</td><td>&quot;South America&quot;</td><td>false</td></tr><tr><td>&quot;Banana&quot;</td><td>120</td><td>&quot;yellow&quot;</td><td>false</td><td>&quot;Asia&quot;</td><td>false</td></tr><tr><td>&quot;Blueberry&quot;</td><td>1</td><td>&quot;blue&quot;</td><td>false</td><td>&quot;North America&quot;</td><td>false</td></tr><tr><td>&quot;Cantaloupe&quot;</td><td>2500</td><td>&quot;orange&quot;</td><td>true</td><td>&quot;Africa&quot;</td><td>true</td></tr><tr><td>&quot;Cranberry&quot;</td><td>2</td><td>&quot;red&quot;</td><td>false</td><td>&quot;North America&quot;</td><td>false</td></tr><tr><td>&quot;Elderberry&quot;</td><td>1</td><td>&quot;black&quot;</td><td>false</td><td>&quot;Europe&quot;</td><td>false</td></tr><tr><td>&quot;Orange&quot;</td><td>130</td><td>&quot;orange&quot;</td><td>true</td><td>&quot;Asia&quot;</td><td>true</td></tr><tr><td>&quot;Papaya&quot;</td><td>1000</td><td>&quot;orange&quot;</td><td>false</td><td>&quot;South America&quot;</td><td>true</td></tr><tr><td>&quot;Peach&quot;</td><td>150</td><td>&quot;orange&quot;</td><td>true</td><td>&quot;Asia&quot;</td><td>true</td></tr><tr><td>&quot;Watermelon&quot;</td><td>5000</td><td>&quot;green&quot;</td><td>true</td><td>&quot;Africa&quot;</td><td>false</td></tr></tbody></table></div>"
      ],
      "text/plain": [
       "shape: (10, 6)\n",
       "┌────────────┬────────┬────────┬──────────┬───────────────┬───────────┐\n",
       "│ name       ┆ weight ┆ color  ┆ is_round ┆ origin        ┆ is_orange │\n",
       "│ ---        ┆ ---    ┆ ---    ┆ ---      ┆ ---           ┆ ---       │\n",
       "│ str        ┆ i64    ┆ str    ┆ bool     ┆ str           ┆ bool      │\n",
       "╞════════════╪════════╪════════╪══════════╪═══════════════╪═══════════╡\n",
       "│ Avocado    ┆ 200    ┆ green  ┆ false    ┆ South America ┆ false     │\n",
       "│ Banana     ┆ 120    ┆ yellow ┆ false    ┆ Asia          ┆ false     │\n",
       "│ Blueberry  ┆ 1      ┆ blue   ┆ false    ┆ North America ┆ false     │\n",
       "│ Cantaloupe ┆ 2500   ┆ orange ┆ true     ┆ Africa        ┆ true      │\n",
       "│ Cranberry  ┆ 2      ┆ red    ┆ false    ┆ North America ┆ false     │\n",
       "│ Elderberry ┆ 1      ┆ black  ┆ false    ┆ Europe        ┆ false     │\n",
       "│ Orange     ┆ 130    ┆ orange ┆ true     ┆ Asia          ┆ true      │\n",
       "│ Papaya     ┆ 1000   ┆ orange ┆ false    ┆ South America ┆ true      │\n",
       "│ Peach      ┆ 150    ┆ orange ┆ true     ┆ Asia          ┆ true      │\n",
       "│ Watermelon ┆ 5000   ┆ green  ┆ true     ┆ Africa        ┆ false     │\n",
       "└────────────┴────────┴────────┴──────────┴───────────────┴───────────┘"
      ]
     },
     "execution_count": 10,
     "metadata": {},
     "output_type": "execute_result"
    }
   ],
   "source": [
    "is_orange = (pl.col(\"color\") == \"orange\").alias(\"is_orange\")\n",
    "\n",
    "fruit.with_columns(is_orange)"
   ]
  },
  {
   "cell_type": "code",
   "execution_count": 20,
   "id": "da4b1e54",
   "metadata": {},
   "outputs": [
    {
     "data": {
      "text/html": [
       "<div><style>\n",
       ".dataframe > thead > tr,\n",
       ".dataframe > tbody > tr {\n",
       "  text-align: right;\n",
       "  white-space: pre-wrap;\n",
       "}\n",
       "</style>\n",
       "<small>shape: (4, 5)</small><table border=\"1\" class=\"dataframe\"><thead><tr><th>name</th><th>weight</th><th>color</th><th>is_round</th><th>origin</th></tr><tr><td>str</td><td>i64</td><td>str</td><td>bool</td><td>str</td></tr></thead><tbody><tr><td>&quot;Cantaloupe&quot;</td><td>2500</td><td>&quot;orange&quot;</td><td>true</td><td>&quot;Africa&quot;</td></tr><tr><td>&quot;Orange&quot;</td><td>130</td><td>&quot;orange&quot;</td><td>true</td><td>&quot;Asia&quot;</td></tr><tr><td>&quot;Papaya&quot;</td><td>1000</td><td>&quot;orange&quot;</td><td>false</td><td>&quot;South America&quot;</td></tr><tr><td>&quot;Peach&quot;</td><td>150</td><td>&quot;orange&quot;</td><td>true</td><td>&quot;Asia&quot;</td></tr></tbody></table></div>"
      ],
      "text/plain": [
       "shape: (4, 5)\n",
       "┌────────────┬────────┬────────┬──────────┬───────────────┐\n",
       "│ name       ┆ weight ┆ color  ┆ is_round ┆ origin        │\n",
       "│ ---        ┆ ---    ┆ ---    ┆ ---      ┆ ---           │\n",
       "│ str        ┆ i64    ┆ str    ┆ bool     ┆ str           │\n",
       "╞════════════╪════════╪════════╪══════════╪═══════════════╡\n",
       "│ Cantaloupe ┆ 2500   ┆ orange ┆ true     ┆ Africa        │\n",
       "│ Orange     ┆ 130    ┆ orange ┆ true     ┆ Asia          │\n",
       "│ Papaya     ┆ 1000   ┆ orange ┆ false    ┆ South America │\n",
       "│ Peach      ┆ 150    ┆ orange ┆ true     ┆ Asia          │\n",
       "└────────────┴────────┴────────┴──────────┴───────────────┘"
      ]
     },
     "execution_count": 11,
     "metadata": {},
     "output_type": "execute_result"
    }
   ],
   "source": [
    "fruit.filter(is_orange)"
   ]
  },
  {
   "cell_type": "code",
   "execution_count": 21,
   "id": "6ef968d2",
   "metadata": {},
   "outputs": [
    {
     "data": {
      "text/html": [
       "<div><style>\n",
       ".dataframe > thead > tr,\n",
       ".dataframe > tbody > tr {\n",
       "  text-align: right;\n",
       "  white-space: pre-wrap;\n",
       "}\n",
       "</style>\n",
       "<small>shape: (2, 2)</small><table border=\"1\" class=\"dataframe\"><thead><tr><th>is_orange</th><th>len</th></tr><tr><td>bool</td><td>u32</td></tr></thead><tbody><tr><td>true</td><td>4</td></tr><tr><td>false</td><td>6</td></tr></tbody></table></div>"
      ],
      "text/plain": [
       "shape: (2, 2)\n",
       "┌───────────┬─────┐\n",
       "│ is_orange ┆ len │\n",
       "│ ---       ┆ --- │\n",
       "│ bool      ┆ u32 │\n",
       "╞═══════════╪═════╡\n",
       "│ true      ┆ 4   │\n",
       "│ false     ┆ 6   │\n",
       "└───────────┴─────┘"
      ]
     },
     "execution_count": 12,
     "metadata": {},
     "output_type": "execute_result"
    }
   ],
   "source": [
    "fruit.group_by(is_orange).len()"
   ]
  },
  {
   "cell_type": "code",
   "execution_count": 22,
   "id": "9358f465",
   "metadata": {},
   "outputs": [
    {
     "data": {
      "text/html": [
       "<div><style>\n",
       ".dataframe > thead > tr,\n",
       ".dataframe > tbody > tr {\n",
       "  text-align: right;\n",
       "  white-space: pre-wrap;\n",
       "}\n",
       "</style>\n",
       "<small>shape: (2, 3)</small><table border=\"1\" class=\"dataframe\"><thead><tr><th>name</th><th>latin</th><th>color</th></tr><tr><td>str</td><td>str</td><td>str</td></tr></thead><tbody><tr><td>&quot;Tiger lily&quot;</td><td>&quot;Lilium columbianum&quot;</td><td>&quot;orange&quot;</td></tr><tr><td>&quot;African marigold&quot;</td><td>&quot;Tagetes erecta&quot;</td><td>&quot;orange&quot;</td></tr></tbody></table></div>"
      ],
      "text/plain": [
       "shape: (2, 3)\n",
       "┌──────────────────┬────────────────────┬────────┐\n",
       "│ name             ┆ latin              ┆ color  │\n",
       "│ ---              ┆ ---                ┆ ---    │\n",
       "│ str              ┆ str                ┆ str    │\n",
       "╞══════════════════╪════════════════════╪════════╡\n",
       "│ Tiger lily       ┆ Lilium columbianum ┆ orange │\n",
       "│ African marigold ┆ Tagetes erecta     ┆ orange │\n",
       "└──────────────────┴────────────────────┴────────┘"
      ]
     },
     "execution_count": 13,
     "metadata": {},
     "output_type": "execute_result"
    }
   ],
   "source": [
    "flowers = pl.DataFrame({\n",
    "    \"name\": [\"Tiger lily\", \"Blue flag\", \"African marigold\"],\n",
    "    \"latin\": [\"Lilium columbianum\", \"Iris versicolor\", \"Tagetes erecta\"],\n",
    "    \"color\": [\"orange\", \"purple\", \"orange\"]\n",
    "})\n",
    "\n",
    "flowers.filter(is_orange)"
   ]
  },
  {
   "cell_type": "markdown",
   "id": "f7c3d7db",
   "metadata": {},
   "source": [
    "## Creating Expressions"
   ]
  },
  {
   "cell_type": "markdown",
   "id": "355201f7",
   "metadata": {},
   "source": [
    "### From Existing Columns"
   ]
  },
  {
   "cell_type": "code",
   "execution_count": 25,
   "id": "4fe3d147",
   "metadata": {},
   "outputs": [
    {
     "data": {
      "text/plain": [
       "['color']"
      ]
     },
     "execution_count": 14,
     "metadata": {},
     "output_type": "execute_result"
    }
   ],
   "source": [
    "fruit.select(pl.col(\"color\")).columns"
   ]
  },
  {
   "cell_type": "code",
   "execution_count": 26,
   "id": "0c806d49",
   "metadata": {},
   "outputs": [
    {
     "ename": "ColumnNotFoundError",
     "evalue": "is_smelly",
     "output_type": "error",
     "traceback": [
      "\u001b[0;31m---------------------------------------------------------------------------\u001b[0m",
      "\u001b[0;31mColumnNotFoundError\u001b[0m                       Traceback (most recent call last)",
      "Cell \u001b[0;32mIn[15], line 1\u001b[0m\n\u001b[0;32m----> 1\u001b[0m \u001b[43mfruit\u001b[49m\u001b[38;5;241;43m.\u001b[39;49m\u001b[43mselect\u001b[49m\u001b[43m(\u001b[49m\u001b[43mpl\u001b[49m\u001b[38;5;241;43m.\u001b[39;49m\u001b[43mcol\u001b[49m\u001b[43m(\u001b[49m\u001b[38;5;124;43m\"\u001b[39;49m\u001b[38;5;124;43mis_smelly\u001b[39;49m\u001b[38;5;124;43m\"\u001b[39;49m\u001b[43m)\u001b[49m\u001b[43m)\u001b[49m\u001b[38;5;241m.\u001b[39mcolumns\n",
      "File \u001b[0;32m~/Library/Caches/pypoetry/virtualenvs/python-polars-the-definitive-guide-b_q50VVY-py3.11/lib/python3.11/site-packages/polars/dataframe/frame.py:8461\u001b[0m, in \u001b[0;36mDataFrame.select\u001b[0;34m(self, *exprs, **named_exprs)\u001b[0m\n\u001b[1;32m   8361\u001b[0m \u001b[38;5;28;01mdef\u001b[39;00m \u001b[38;5;21mselect\u001b[39m(\n\u001b[1;32m   8362\u001b[0m     \u001b[38;5;28mself\u001b[39m, \u001b[38;5;241m*\u001b[39mexprs: IntoExpr \u001b[38;5;241m|\u001b[39m Iterable[IntoExpr], \u001b[38;5;241m*\u001b[39m\u001b[38;5;241m*\u001b[39mnamed_exprs: IntoExpr\n\u001b[1;32m   8363\u001b[0m ) \u001b[38;5;241m-\u001b[39m\u001b[38;5;241m>\u001b[39m DataFrame:\n\u001b[1;32m   8364\u001b[0m \u001b[38;5;250m    \u001b[39m\u001b[38;5;124;03m\"\"\"\u001b[39;00m\n\u001b[1;32m   8365\u001b[0m \u001b[38;5;124;03m    Select columns from this DataFrame.\u001b[39;00m\n\u001b[1;32m   8366\u001b[0m \n\u001b[0;32m   (...)\u001b[0m\n\u001b[1;32m   8459\u001b[0m \u001b[38;5;124;03m    └───────────┘\u001b[39;00m\n\u001b[1;32m   8460\u001b[0m \u001b[38;5;124;03m    \"\"\"\u001b[39;00m\n\u001b[0;32m-> 8461\u001b[0m     \u001b[38;5;28;01mreturn\u001b[39;00m \u001b[38;5;28;43mself\u001b[39;49m\u001b[38;5;241;43m.\u001b[39;49m\u001b[43mlazy\u001b[49m\u001b[43m(\u001b[49m\u001b[43m)\u001b[49m\u001b[38;5;241;43m.\u001b[39;49m\u001b[43mselect\u001b[49m\u001b[43m(\u001b[49m\u001b[38;5;241;43m*\u001b[39;49m\u001b[43mexprs\u001b[49m\u001b[43m,\u001b[49m\u001b[43m \u001b[49m\u001b[38;5;241;43m*\u001b[39;49m\u001b[38;5;241;43m*\u001b[39;49m\u001b[43mnamed_exprs\u001b[49m\u001b[43m)\u001b[49m\u001b[38;5;241;43m.\u001b[39;49m\u001b[43mcollect\u001b[49m\u001b[43m(\u001b[49m\u001b[43m_eager\u001b[49m\u001b[38;5;241;43m=\u001b[39;49m\u001b[38;5;28;43;01mTrue\u001b[39;49;00m\u001b[43m)\u001b[49m\n",
      "File \u001b[0;32m~/Library/Caches/pypoetry/virtualenvs/python-polars-the-definitive-guide-b_q50VVY-py3.11/lib/python3.11/site-packages/polars/lazyframe/frame.py:1967\u001b[0m, in \u001b[0;36mLazyFrame.collect\u001b[0;34m(self, type_coercion, predicate_pushdown, projection_pushdown, simplify_expression, slice_pushdown, comm_subplan_elim, comm_subexpr_elim, cluster_with_columns, no_optimization, streaming, background, _eager, **_kwargs)\u001b[0m\n\u001b[1;32m   1964\u001b[0m \u001b[38;5;66;03m# Only for testing purposes atm.\u001b[39;00m\n\u001b[1;32m   1965\u001b[0m callback \u001b[38;5;241m=\u001b[39m _kwargs\u001b[38;5;241m.\u001b[39mget(\u001b[38;5;124m\"\u001b[39m\u001b[38;5;124mpost_opt_callback\u001b[39m\u001b[38;5;124m\"\u001b[39m)\n\u001b[0;32m-> 1967\u001b[0m \u001b[38;5;28;01mreturn\u001b[39;00m wrap_df(\u001b[43mldf\u001b[49m\u001b[38;5;241;43m.\u001b[39;49m\u001b[43mcollect\u001b[49m\u001b[43m(\u001b[49m\u001b[43mcallback\u001b[49m\u001b[43m)\u001b[49m)\n",
      "\u001b[0;31mColumnNotFoundError\u001b[0m: is_smelly"
     ]
    }
   ],
   "source": [
    "fruit.select(pl.col(\"is_smelly\")).columns"
   ]
  },
  {
   "cell_type": "code",
   "execution_count": 27,
   "id": "5363c049",
   "metadata": {},
   "outputs": [
    {
     "data": {
      "text/plain": [
       "['color', 'origin']"
      ]
     },
     "execution_count": 16,
     "metadata": {},
     "output_type": "execute_result"
    }
   ],
   "source": [
    "fruit.select(pl.col(\"^.*or.*$\")).columns"
   ]
  },
  {
   "cell_type": "code",
   "execution_count": 28,
   "id": "4ea4e38e",
   "metadata": {},
   "outputs": [
    {
     "data": {
      "text/plain": [
       "['name', 'weight', 'color', 'is_round', 'origin']"
      ]
     },
     "execution_count": 17,
     "metadata": {},
     "output_type": "execute_result"
    }
   ],
   "source": [
    "fruit.select(pl.all()).columns"
   ]
  },
  {
   "cell_type": "code",
   "execution_count": 29,
   "id": "384281cd",
   "metadata": {},
   "outputs": [
    {
     "data": {
      "text/plain": [
       "['name', 'color', 'origin']"
      ]
     },
     "execution_count": 18,
     "metadata": {},
     "output_type": "execute_result"
    }
   ],
   "source": [
    "fruit.select(pl.col(pl.String)).columns"
   ]
  },
  {
   "cell_type": "code",
   "execution_count": 30,
   "id": "cdefa626",
   "metadata": {},
   "outputs": [
    {
     "data": {
      "text/plain": [
       "['weight', 'is_round']"
      ]
     },
     "execution_count": 19,
     "metadata": {},
     "output_type": "execute_result"
    }
   ],
   "source": [
    "fruit.select(pl.col(pl.Boolean, pl.Int64)).columns"
   ]
  },
  {
   "cell_type": "code",
   "execution_count": 31,
   "id": "1022182e",
   "metadata": {},
   "outputs": [
    {
     "data": {
      "text/plain": [
       "['name', 'color']"
      ]
     },
     "execution_count": 20,
     "metadata": {},
     "output_type": "execute_result"
    }
   ],
   "source": [
    "fruit.select(pl.col([\"name\", \"color\"])).columns"
   ]
  },
  {
   "cell_type": "code",
   "execution_count": 32,
   "id": "26978eb0",
   "metadata": {},
   "outputs": [
    {
     "ename": "TypeError",
     "evalue": "argument 'dtypes': 'str' is not a Polars data type",
     "output_type": "error",
     "traceback": [
      "\u001b[0;31m---------------------------------------------------------------------------\u001b[0m",
      "\u001b[0;31mTypeError\u001b[0m                                 Traceback (most recent call last)",
      "Cell \u001b[0;32mIn[21], line 1\u001b[0m\n\u001b[0;32m----> 1\u001b[0m fruit\u001b[38;5;241m.\u001b[39mselect(\u001b[43mpl\u001b[49m\u001b[38;5;241;43m.\u001b[39;49m\u001b[43mcol\u001b[49m\u001b[43m(\u001b[49m\u001b[43m[\u001b[49m\u001b[43mpl\u001b[49m\u001b[38;5;241;43m.\u001b[39;49m\u001b[43mString\u001b[49m\u001b[43m,\u001b[49m\u001b[43m \u001b[49m\u001b[38;5;124;43m\"\u001b[39;49m\u001b[38;5;124;43mis_round\u001b[39;49m\u001b[38;5;124;43m\"\u001b[39;49m\u001b[43m]\u001b[49m\u001b[43m)\u001b[49m)\u001b[38;5;241m.\u001b[39mcolumns\n",
      "File \u001b[0;32m~/Library/Caches/pypoetry/virtualenvs/python-polars-the-definitive-guide-b_q50VVY-py3.11/lib/python3.11/site-packages/polars/functions/col.py:292\u001b[0m, in \u001b[0;36mColumnFactory.__new__\u001b[0;34m(cls, name, *more_names)\u001b[0m\n\u001b[1;32m    145\u001b[0m \u001b[38;5;28;01mdef\u001b[39;00m \u001b[38;5;21m__new__\u001b[39m(  \u001b[38;5;66;03m# type: ignore[misc]\u001b[39;00m\n\u001b[1;32m    146\u001b[0m     \u001b[38;5;28mcls\u001b[39m,\n\u001b[1;32m    147\u001b[0m     name: \u001b[38;5;28mstr\u001b[39m \u001b[38;5;241m|\u001b[39m PolarsDataType \u001b[38;5;241m|\u001b[39m Iterable[\u001b[38;5;28mstr\u001b[39m] \u001b[38;5;241m|\u001b[39m Iterable[PolarsDataType],\n\u001b[1;32m    148\u001b[0m     \u001b[38;5;241m*\u001b[39mmore_names: \u001b[38;5;28mstr\u001b[39m \u001b[38;5;241m|\u001b[39m PolarsDataType,\n\u001b[1;32m    149\u001b[0m ) \u001b[38;5;241m-\u001b[39m\u001b[38;5;241m>\u001b[39m Expr:\n\u001b[1;32m    150\u001b[0m \u001b[38;5;250m    \u001b[39m\u001b[38;5;124;03m\"\"\"\u001b[39;00m\n\u001b[1;32m    151\u001b[0m \u001b[38;5;124;03m    Create one or more column expressions representing column(s) in a DataFrame.\u001b[39;00m\n\u001b[1;32m    152\u001b[0m \n\u001b[0;32m   (...)\u001b[0m\n\u001b[1;32m    290\u001b[0m \u001b[38;5;124;03m    └─────┴───────────┴─────┘\u001b[39;00m\n\u001b[1;32m    291\u001b[0m \u001b[38;5;124;03m    \"\"\"\u001b[39;00m\n\u001b[0;32m--> 292\u001b[0m     \u001b[38;5;28;01mreturn\u001b[39;00m \u001b[43m_create_col\u001b[49m\u001b[43m(\u001b[49m\u001b[43mname\u001b[49m\u001b[43m,\u001b[49m\u001b[43m \u001b[49m\u001b[38;5;241;43m*\u001b[39;49m\u001b[43mmore_names\u001b[49m\u001b[43m)\u001b[49m\n",
      "File \u001b[0;32m~/Library/Caches/pypoetry/virtualenvs/python-polars-the-definitive-guide-b_q50VVY-py3.11/lib/python3.11/site-packages/polars/functions/col.py:54\u001b[0m, in \u001b[0;36m_create_col\u001b[0;34m(name, *more_names)\u001b[0m\n\u001b[1;32m     52\u001b[0m     \u001b[38;5;28;01mreturn\u001b[39;00m wrap_expr(plr\u001b[38;5;241m.\u001b[39mcols(names))\n\u001b[1;32m     53\u001b[0m \u001b[38;5;28;01melif\u001b[39;00m is_polars_dtype(item):\n\u001b[0;32m---> 54\u001b[0m     \u001b[38;5;28;01mreturn\u001b[39;00m wrap_expr(\u001b[43mplr\u001b[49m\u001b[38;5;241;43m.\u001b[39;49m\u001b[43mdtype_cols\u001b[49m\u001b[43m(\u001b[49m\u001b[43mnames\u001b[49m\u001b[43m)\u001b[49m)\n\u001b[1;32m     55\u001b[0m \u001b[38;5;28;01melse\u001b[39;00m:\n\u001b[1;32m     56\u001b[0m     msg \u001b[38;5;241m=\u001b[39m (\n\u001b[1;32m     57\u001b[0m         \u001b[38;5;124m\"\u001b[39m\u001b[38;5;124minvalid input for `col`\u001b[39m\u001b[38;5;124m\"\u001b[39m\n\u001b[1;32m     58\u001b[0m         \u001b[38;5;124m\"\u001b[39m\u001b[38;5;130;01m\\n\u001b[39;00m\u001b[38;5;130;01m\\n\u001b[39;00m\u001b[38;5;124mExpected iterable of type `str` or `DataType`,\u001b[39m\u001b[38;5;124m\"\u001b[39m\n\u001b[1;32m     59\u001b[0m         \u001b[38;5;124mf\u001b[39m\u001b[38;5;124m\"\u001b[39m\u001b[38;5;124m got iterable of type \u001b[39m\u001b[38;5;132;01m{\u001b[39;00m\u001b[38;5;28mtype\u001b[39m(item)\u001b[38;5;241m.\u001b[39m\u001b[38;5;18m__name__\u001b[39m\u001b[38;5;132;01m!r}\u001b[39;00m\u001b[38;5;124m.\u001b[39m\u001b[38;5;124m\"\u001b[39m\n\u001b[1;32m     60\u001b[0m     )\n",
      "\u001b[0;31mTypeError\u001b[0m: argument 'dtypes': 'str' is not a Polars data type"
     ]
    }
   ],
   "source": [
    "fruit.select(pl.col([pl.String, \"is_round\"])).columns"
   ]
  },
  {
   "cell_type": "code",
   "execution_count": 33,
   "id": "c61f73b2",
   "metadata": {},
   "outputs": [
    {
     "data": {
      "text/plain": [
       "frozenset({Decimal,\n",
       "           Float32,\n",
       "           Float64,\n",
       "           Int16,\n",
       "           Int32,\n",
       "           Int64,\n",
       "           Int8,\n",
       "           UInt16,\n",
       "           UInt32,\n",
       "           UInt64,\n",
       "           UInt8})"
      ]
     },
     "execution_count": 22,
     "metadata": {},
     "output_type": "execute_result"
    }
   ],
   "source": [
    "pl.NUMERIC_DTYPES"
   ]
  },
  {
   "cell_type": "code",
   "execution_count": 34,
   "id": "db53a4e8",
   "metadata": {},
   "outputs": [
    {
     "data": {
      "text/html": [
       "<div><style>\n",
       ".dataframe > thead > tr,\n",
       ".dataframe > tbody > tr {\n",
       "  text-align: right;\n",
       "  white-space: pre-wrap;\n",
       "}\n",
       "</style>\n",
       "<small>shape: (5, 2)</small><table border=\"1\" class=\"dataframe\"><thead><tr><th>weight</th><th>weight_kg</th></tr><tr><td>i64</td><td>f64</td></tr></thead><tbody><tr><td>200</td><td>0.2</td></tr><tr><td>120</td><td>0.12</td></tr><tr><td>1</td><td>0.001</td></tr><tr><td>2500</td><td>2.5</td></tr><tr><td>2</td><td>0.002</td></tr></tbody></table></div>"
      ],
      "text/plain": [
       "shape: (5, 2)\n",
       "┌────────┬───────────┐\n",
       "│ weight ┆ weight_kg │\n",
       "│ ---    ┆ ---       │\n",
       "│ i64    ┆ f64       │\n",
       "╞════════╪═══════════╡\n",
       "│ 200    ┆ 0.2       │\n",
       "│ 120    ┆ 0.12      │\n",
       "│ 1      ┆ 0.001     │\n",
       "│ 2500   ┆ 2.5       │\n",
       "│ 2      ┆ 0.002     │\n",
       "└────────┴───────────┘"
      ]
     },
     "execution_count": 23,
     "metadata": {},
     "output_type": "execute_result"
    }
   ],
   "source": [
    "(\n",
    "    fruit\n",
    "    .with_columns((pl.col(\"weight\") / 1000).alias(\"weight_kg\"))\n",
    "    .select(pl.col(pl.NUMERIC_DTYPES))\n",
    "    .head()\n",
    ")"
   ]
  },
  {
   "cell_type": "markdown",
   "id": "3ebf67d5",
   "metadata": {},
   "source": [
    "### From Literal Values"
   ]
  },
  {
   "cell_type": "code",
   "execution_count": 36,
   "id": "7fe2fa56",
   "metadata": {},
   "outputs": [
    {
     "data": {
      "text/html": [
       "<div><style>\n",
       ".dataframe > thead > tr,\n",
       ".dataframe > tbody > tr {\n",
       "  text-align: right;\n",
       "  white-space: pre-wrap;\n",
       "}\n",
       "</style>\n",
       "<small>shape: (1, 1)</small><table border=\"1\" class=\"dataframe\"><thead><tr><th>literal</th></tr><tr><td>i32</td></tr></thead><tbody><tr><td>42</td></tr></tbody></table></div>"
      ],
      "text/plain": [
       "shape: (1, 1)\n",
       "┌─────────┐\n",
       "│ literal │\n",
       "│ ---     │\n",
       "│ i32     │\n",
       "╞═════════╡\n",
       "│ 42      │\n",
       "└─────────┘"
      ]
     },
     "execution_count": 24,
     "metadata": {},
     "output_type": "execute_result"
    }
   ],
   "source": [
    "pl.select(pl.lit(42))"
   ]
  },
  {
   "cell_type": "code",
   "execution_count": 37,
   "id": "7c158430",
   "metadata": {},
   "outputs": [
    {
     "data": {
      "text/html": [
       "<div><style>\n",
       ".dataframe > thead > tr,\n",
       ".dataframe > tbody > tr {\n",
       "  text-align: right;\n",
       "  white-space: pre-wrap;\n",
       "}\n",
       "</style>\n",
       "<small>shape: (1, 1)</small><table border=\"1\" class=\"dataframe\"><thead><tr><th>answer</th></tr><tr><td>i32</td></tr></thead><tbody><tr><td>42</td></tr></tbody></table></div>"
      ],
      "text/plain": [
       "shape: (1, 1)\n",
       "┌────────┐\n",
       "│ answer │\n",
       "│ ---    │\n",
       "│ i32    │\n",
       "╞════════╡\n",
       "│ 42     │\n",
       "└────────┘"
      ]
     },
     "execution_count": 25,
     "metadata": {},
     "output_type": "execute_result"
    }
   ],
   "source": [
    "pl.select(pl.lit(42).alias(\"answer\"))"
   ]
  },
  {
   "cell_type": "code",
   "execution_count": 38,
   "id": "efcbcb89",
   "metadata": {},
   "outputs": [
    {
     "data": {
      "text/html": [
       "<div><style>\n",
       ".dataframe > thead > tr,\n",
       ".dataframe > tbody > tr {\n",
       "  text-align: right;\n",
       "  white-space: pre-wrap;\n",
       "}\n",
       "</style>\n",
       "<small>shape: (10, 6)</small><table border=\"1\" class=\"dataframe\"><thead><tr><th>name</th><th>weight</th><th>color</th><th>is_round</th><th>origin</th><th>planet</th></tr><tr><td>str</td><td>i64</td><td>str</td><td>bool</td><td>str</td><td>str</td></tr></thead><tbody><tr><td>&quot;Avocado&quot;</td><td>200</td><td>&quot;green&quot;</td><td>false</td><td>&quot;South America&quot;</td><td>&quot;Earth&quot;</td></tr><tr><td>&quot;Banana&quot;</td><td>120</td><td>&quot;yellow&quot;</td><td>false</td><td>&quot;Asia&quot;</td><td>&quot;Earth&quot;</td></tr><tr><td>&quot;Blueberry&quot;</td><td>1</td><td>&quot;blue&quot;</td><td>false</td><td>&quot;North America&quot;</td><td>&quot;Earth&quot;</td></tr><tr><td>&quot;Cantaloupe&quot;</td><td>2500</td><td>&quot;orange&quot;</td><td>true</td><td>&quot;Africa&quot;</td><td>&quot;Earth&quot;</td></tr><tr><td>&quot;Cranberry&quot;</td><td>2</td><td>&quot;red&quot;</td><td>false</td><td>&quot;North America&quot;</td><td>&quot;Earth&quot;</td></tr><tr><td>&quot;Elderberry&quot;</td><td>1</td><td>&quot;black&quot;</td><td>false</td><td>&quot;Europe&quot;</td><td>&quot;Earth&quot;</td></tr><tr><td>&quot;Orange&quot;</td><td>130</td><td>&quot;orange&quot;</td><td>true</td><td>&quot;Asia&quot;</td><td>&quot;Earth&quot;</td></tr><tr><td>&quot;Papaya&quot;</td><td>1000</td><td>&quot;orange&quot;</td><td>false</td><td>&quot;South America&quot;</td><td>&quot;Earth&quot;</td></tr><tr><td>&quot;Peach&quot;</td><td>150</td><td>&quot;orange&quot;</td><td>true</td><td>&quot;Asia&quot;</td><td>&quot;Earth&quot;</td></tr><tr><td>&quot;Watermelon&quot;</td><td>5000</td><td>&quot;green&quot;</td><td>true</td><td>&quot;Africa&quot;</td><td>&quot;Earth&quot;</td></tr></tbody></table></div>"
      ],
      "text/plain": [
       "shape: (10, 6)\n",
       "┌────────────┬────────┬────────┬──────────┬───────────────┬────────┐\n",
       "│ name       ┆ weight ┆ color  ┆ is_round ┆ origin        ┆ planet │\n",
       "│ ---        ┆ ---    ┆ ---    ┆ ---      ┆ ---           ┆ ---    │\n",
       "│ str        ┆ i64    ┆ str    ┆ bool     ┆ str           ┆ str    │\n",
       "╞════════════╪════════╪════════╪══════════╪═══════════════╪════════╡\n",
       "│ Avocado    ┆ 200    ┆ green  ┆ false    ┆ South America ┆ Earth  │\n",
       "│ Banana     ┆ 120    ┆ yellow ┆ false    ┆ Asia          ┆ Earth  │\n",
       "│ Blueberry  ┆ 1      ┆ blue   ┆ false    ┆ North America ┆ Earth  │\n",
       "│ Cantaloupe ┆ 2500   ┆ orange ┆ true     ┆ Africa        ┆ Earth  │\n",
       "│ Cranberry  ┆ 2      ┆ red    ┆ false    ┆ North America ┆ Earth  │\n",
       "│ Elderberry ┆ 1      ┆ black  ┆ false    ┆ Europe        ┆ Earth  │\n",
       "│ Orange     ┆ 130    ┆ orange ┆ true     ┆ Asia          ┆ Earth  │\n",
       "│ Papaya     ┆ 1000   ┆ orange ┆ false    ┆ South America ┆ Earth  │\n",
       "│ Peach      ┆ 150    ┆ orange ┆ true     ┆ Asia          ┆ Earth  │\n",
       "│ Watermelon ┆ 5000   ┆ green  ┆ true     ┆ Africa        ┆ Earth  │\n",
       "└────────────┴────────┴────────┴──────────┴───────────────┴────────┘"
      ]
     },
     "execution_count": 26,
     "metadata": {},
     "output_type": "execute_result"
    }
   ],
   "source": [
    "fruit.with_columns(pl.lit(\"Earth\").alias(\"planet\"))"
   ]
  },
  {
   "cell_type": "code",
   "execution_count": 39,
   "id": "3e23e2a6",
   "metadata": {},
   "outputs": [
    {
     "ename": "ShapeError",
     "evalue": "unable to add a column of length 2 to a DataFrame of height 10",
     "output_type": "error",
     "traceback": [
      "\u001b[0;31m---------------------------------------------------------------------------\u001b[0m",
      "\u001b[0;31mShapeError\u001b[0m                                Traceback (most recent call last)",
      "Cell \u001b[0;32mIn[27], line 1\u001b[0m\n\u001b[0;32m----> 1\u001b[0m \u001b[43mfruit\u001b[49m\u001b[38;5;241;43m.\u001b[39;49m\u001b[43mwith_columns\u001b[49m\u001b[43m(\u001b[49m\u001b[43mpl\u001b[49m\u001b[38;5;241;43m.\u001b[39;49m\u001b[43mlit\u001b[49m\u001b[43m(\u001b[49m\u001b[43mpl\u001b[49m\u001b[38;5;241;43m.\u001b[39;49m\u001b[43mSeries\u001b[49m\u001b[43m(\u001b[49m\u001b[43m[\u001b[49m\u001b[38;5;28;43;01mFalse\u001b[39;49;00m\u001b[43m,\u001b[49m\u001b[43m \u001b[49m\u001b[38;5;28;43;01mTrue\u001b[39;49;00m\u001b[43m]\u001b[49m\u001b[43m)\u001b[49m\u001b[43m)\u001b[49m\u001b[38;5;241;43m.\u001b[39;49m\u001b[43malias\u001b[49m\u001b[43m(\u001b[49m\u001b[38;5;124;43m\"\u001b[39;49m\u001b[38;5;124;43mrow_is_even\u001b[39;49m\u001b[38;5;124;43m\"\u001b[39;49m\u001b[43m)\u001b[49m\u001b[43m)\u001b[49m\n",
      "File \u001b[0;32m~/Library/Caches/pypoetry/virtualenvs/python-polars-the-definitive-guide-b_q50VVY-py3.11/lib/python3.11/site-packages/polars/dataframe/frame.py:8634\u001b[0m, in \u001b[0;36mDataFrame.with_columns\u001b[0;34m(self, *exprs, **named_exprs)\u001b[0m\n\u001b[1;32m   8488\u001b[0m \u001b[38;5;28;01mdef\u001b[39;00m \u001b[38;5;21mwith_columns\u001b[39m(\n\u001b[1;32m   8489\u001b[0m     \u001b[38;5;28mself\u001b[39m,\n\u001b[1;32m   8490\u001b[0m     \u001b[38;5;241m*\u001b[39mexprs: IntoExpr \u001b[38;5;241m|\u001b[39m Iterable[IntoExpr],\n\u001b[1;32m   8491\u001b[0m     \u001b[38;5;241m*\u001b[39m\u001b[38;5;241m*\u001b[39mnamed_exprs: IntoExpr,\n\u001b[1;32m   8492\u001b[0m ) \u001b[38;5;241m-\u001b[39m\u001b[38;5;241m>\u001b[39m DataFrame:\n\u001b[1;32m   8493\u001b[0m \u001b[38;5;250m    \u001b[39m\u001b[38;5;124;03m\"\"\"\u001b[39;00m\n\u001b[1;32m   8494\u001b[0m \u001b[38;5;124;03m    Add columns to this DataFrame.\u001b[39;00m\n\u001b[1;32m   8495\u001b[0m \n\u001b[0;32m   (...)\u001b[0m\n\u001b[1;32m   8632\u001b[0m \u001b[38;5;124;03m    └─────┴──────┴─────────────┘\u001b[39;00m\n\u001b[1;32m   8633\u001b[0m \u001b[38;5;124;03m    \"\"\"\u001b[39;00m\n\u001b[0;32m-> 8634\u001b[0m     \u001b[38;5;28;01mreturn\u001b[39;00m \u001b[38;5;28;43mself\u001b[39;49m\u001b[38;5;241;43m.\u001b[39;49m\u001b[43mlazy\u001b[49m\u001b[43m(\u001b[49m\u001b[43m)\u001b[49m\u001b[38;5;241;43m.\u001b[39;49m\u001b[43mwith_columns\u001b[49m\u001b[43m(\u001b[49m\u001b[38;5;241;43m*\u001b[39;49m\u001b[43mexprs\u001b[49m\u001b[43m,\u001b[49m\u001b[43m \u001b[49m\u001b[38;5;241;43m*\u001b[39;49m\u001b[38;5;241;43m*\u001b[39;49m\u001b[43mnamed_exprs\u001b[49m\u001b[43m)\u001b[49m\u001b[38;5;241;43m.\u001b[39;49m\u001b[43mcollect\u001b[49m\u001b[43m(\u001b[49m\u001b[43m_eager\u001b[49m\u001b[38;5;241;43m=\u001b[39;49m\u001b[38;5;28;43;01mTrue\u001b[39;49;00m\u001b[43m)\u001b[49m\n",
      "File \u001b[0;32m~/Library/Caches/pypoetry/virtualenvs/python-polars-the-definitive-guide-b_q50VVY-py3.11/lib/python3.11/site-packages/polars/lazyframe/frame.py:1967\u001b[0m, in \u001b[0;36mLazyFrame.collect\u001b[0;34m(self, type_coercion, predicate_pushdown, projection_pushdown, simplify_expression, slice_pushdown, comm_subplan_elim, comm_subexpr_elim, cluster_with_columns, no_optimization, streaming, background, _eager, **_kwargs)\u001b[0m\n\u001b[1;32m   1964\u001b[0m \u001b[38;5;66;03m# Only for testing purposes atm.\u001b[39;00m\n\u001b[1;32m   1965\u001b[0m callback \u001b[38;5;241m=\u001b[39m _kwargs\u001b[38;5;241m.\u001b[39mget(\u001b[38;5;124m\"\u001b[39m\u001b[38;5;124mpost_opt_callback\u001b[39m\u001b[38;5;124m\"\u001b[39m)\n\u001b[0;32m-> 1967\u001b[0m \u001b[38;5;28;01mreturn\u001b[39;00m wrap_df(\u001b[43mldf\u001b[49m\u001b[38;5;241;43m.\u001b[39;49m\u001b[43mcollect\u001b[49m\u001b[43m(\u001b[49m\u001b[43mcallback\u001b[49m\u001b[43m)\u001b[49m)\n",
      "\u001b[0;31mShapeError\u001b[0m: unable to add a column of length 2 to a DataFrame of height 10"
     ]
    }
   ],
   "source": [
    "fruit.with_columns(pl.lit(pl.Series([False, True])).alias(\"row_is_even\"))"
   ]
  },
  {
   "cell_type": "code",
   "execution_count": 40,
   "id": "ef46299d",
   "metadata": {},
   "outputs": [
    {
     "data": {
      "text/html": [
       "<div><style>\n",
       ".dataframe > thead > tr,\n",
       ".dataframe > tbody > tr {\n",
       "  text-align: right;\n",
       "  white-space: pre-wrap;\n",
       "}\n",
       "</style>\n",
       "<small>shape: (10, 6)</small><table border=\"1\" class=\"dataframe\"><thead><tr><th>name</th><th>weight</th><th>color</th><th>is_round</th><th>origin</th><th>row_is_even</th></tr><tr><td>str</td><td>i64</td><td>str</td><td>bool</td><td>str</td><td>list[bool]</td></tr></thead><tbody><tr><td>&quot;Avocado&quot;</td><td>200</td><td>&quot;green&quot;</td><td>false</td><td>&quot;South America&quot;</td><td>[false, true]</td></tr><tr><td>&quot;Banana&quot;</td><td>120</td><td>&quot;yellow&quot;</td><td>false</td><td>&quot;Asia&quot;</td><td>[false, true]</td></tr><tr><td>&quot;Blueberry&quot;</td><td>1</td><td>&quot;blue&quot;</td><td>false</td><td>&quot;North America&quot;</td><td>[false, true]</td></tr><tr><td>&quot;Cantaloupe&quot;</td><td>2500</td><td>&quot;orange&quot;</td><td>true</td><td>&quot;Africa&quot;</td><td>[false, true]</td></tr><tr><td>&quot;Cranberry&quot;</td><td>2</td><td>&quot;red&quot;</td><td>false</td><td>&quot;North America&quot;</td><td>[false, true]</td></tr><tr><td>&quot;Elderberry&quot;</td><td>1</td><td>&quot;black&quot;</td><td>false</td><td>&quot;Europe&quot;</td><td>[false, true]</td></tr><tr><td>&quot;Orange&quot;</td><td>130</td><td>&quot;orange&quot;</td><td>true</td><td>&quot;Asia&quot;</td><td>[false, true]</td></tr><tr><td>&quot;Papaya&quot;</td><td>1000</td><td>&quot;orange&quot;</td><td>false</td><td>&quot;South America&quot;</td><td>[false, true]</td></tr><tr><td>&quot;Peach&quot;</td><td>150</td><td>&quot;orange&quot;</td><td>true</td><td>&quot;Asia&quot;</td><td>[false, true]</td></tr><tr><td>&quot;Watermelon&quot;</td><td>5000</td><td>&quot;green&quot;</td><td>true</td><td>&quot;Africa&quot;</td><td>[false, true]</td></tr></tbody></table></div>"
      ],
      "text/plain": [
       "shape: (10, 6)\n",
       "┌────────────┬────────┬────────┬──────────┬───────────────┬───────────────┐\n",
       "│ name       ┆ weight ┆ color  ┆ is_round ┆ origin        ┆ row_is_even   │\n",
       "│ ---        ┆ ---    ┆ ---    ┆ ---      ┆ ---           ┆ ---           │\n",
       "│ str        ┆ i64    ┆ str    ┆ bool     ┆ str           ┆ list[bool]    │\n",
       "╞════════════╪════════╪════════╪══════════╪═══════════════╪═══════════════╡\n",
       "│ Avocado    ┆ 200    ┆ green  ┆ false    ┆ South America ┆ [false, true] │\n",
       "│ Banana     ┆ 120    ┆ yellow ┆ false    ┆ Asia          ┆ [false, true] │\n",
       "│ Blueberry  ┆ 1      ┆ blue   ┆ false    ┆ North America ┆ [false, true] │\n",
       "│ Cantaloupe ┆ 2500   ┆ orange ┆ true     ┆ Africa        ┆ [false, true] │\n",
       "│ Cranberry  ┆ 2      ┆ red    ┆ false    ┆ North America ┆ [false, true] │\n",
       "│ Elderberry ┆ 1      ┆ black  ┆ false    ┆ Europe        ┆ [false, true] │\n",
       "│ Orange     ┆ 130    ┆ orange ┆ true     ┆ Asia          ┆ [false, true] │\n",
       "│ Papaya     ┆ 1000   ┆ orange ┆ false    ┆ South America ┆ [false, true] │\n",
       "│ Peach      ┆ 150    ┆ orange ┆ true     ┆ Asia          ┆ [false, true] │\n",
       "│ Watermelon ┆ 5000   ┆ green  ┆ true     ┆ Africa        ┆ [false, true] │\n",
       "└────────────┴────────┴────────┴──────────┴───────────────┴───────────────┘"
      ]
     },
     "execution_count": 28,
     "metadata": {},
     "output_type": "execute_result"
    }
   ],
   "source": [
    "fruit.with_columns(pl.lit([False, True]).alias(\"row_is_even\"))"
   ]
  },
  {
   "cell_type": "code",
   "execution_count": 41,
   "id": "fd78c1aa",
   "metadata": {},
   "outputs": [
    {
     "data": {
      "text/html": [
       "<div><style>\n",
       ".dataframe > thead > tr,\n",
       ".dataframe > tbody > tr {\n",
       "  text-align: right;\n",
       "  white-space: pre-wrap;\n",
       "}\n",
       "</style>\n",
       "<small>shape: (3, 3)</small><table border=\"1\" class=\"dataframe\"><thead><tr><th>hello</th><th>zeros</th><th>ones</th></tr><tr><td>str</td><td>f64</td><td>f64</td></tr></thead><tbody><tr><td>&quot;Ello&quot;</td><td>0.0</td><td>1.0</td></tr><tr><td>&quot;Ello&quot;</td><td>0.0</td><td>1.0</td></tr><tr><td>&quot;Ello&quot;</td><td>0.0</td><td>1.0</td></tr></tbody></table></div>"
      ],
      "text/plain": [
       "shape: (3, 3)\n",
       "┌───────┬───────┬──────┐\n",
       "│ hello ┆ zeros ┆ ones │\n",
       "│ ---   ┆ ---   ┆ ---  │\n",
       "│ str   ┆ f64   ┆ f64  │\n",
       "╞═══════╪═══════╪══════╡\n",
       "│ Ello  ┆ 0.0   ┆ 1.0  │\n",
       "│ Ello  ┆ 0.0   ┆ 1.0  │\n",
       "│ Ello  ┆ 0.0   ┆ 1.0  │\n",
       "└───────┴───────┴──────┘"
      ]
     },
     "execution_count": 29,
     "metadata": {},
     "output_type": "execute_result"
    }
   ],
   "source": [
    "pl.select(\n",
    "    pl.repeat(\"Ello\", 3).alias(\"hello\"),\n",
    "    pl.zeros(3),\n",
    "    pl.ones(3)\n",
    ")"
   ]
  },
  {
   "cell_type": "code",
   "execution_count": 42,
   "id": "5209da12",
   "metadata": {},
   "outputs": [
    {
     "ename": "ShapeError",
     "evalue": "unable to add a column of length 9 to a DataFrame of height 10",
     "output_type": "error",
     "traceback": [
      "\u001b[0;31m---------------------------------------------------------------------------\u001b[0m",
      "\u001b[0;31mShapeError\u001b[0m                                Traceback (most recent call last)",
      "Cell \u001b[0;32mIn[30], line 1\u001b[0m\n\u001b[0;32m----> 1\u001b[0m \u001b[43mfruit\u001b[49m\u001b[38;5;241;43m.\u001b[39;49m\u001b[43mwith_columns\u001b[49m\u001b[43m(\u001b[49m\u001b[43mpl\u001b[49m\u001b[38;5;241;43m.\u001b[39;49m\u001b[43mrepeat\u001b[49m\u001b[43m(\u001b[49m\u001b[38;5;124;43m\"\u001b[39;49m\u001b[38;5;124;43mEarth\u001b[39;49m\u001b[38;5;124;43m\"\u001b[39;49m\u001b[43m,\u001b[49m\u001b[43m \u001b[49m\u001b[38;5;241;43m9\u001b[39;49m\u001b[43m)\u001b[49m\u001b[38;5;241;43m.\u001b[39;49m\u001b[43malias\u001b[49m\u001b[43m(\u001b[49m\u001b[38;5;124;43m\"\u001b[39;49m\u001b[38;5;124;43mplanet\u001b[39;49m\u001b[38;5;124;43m\"\u001b[39;49m\u001b[43m)\u001b[49m\u001b[43m)\u001b[49m\n",
      "File \u001b[0;32m~/Library/Caches/pypoetry/virtualenvs/python-polars-the-definitive-guide-b_q50VVY-py3.11/lib/python3.11/site-packages/polars/dataframe/frame.py:8634\u001b[0m, in \u001b[0;36mDataFrame.with_columns\u001b[0;34m(self, *exprs, **named_exprs)\u001b[0m\n\u001b[1;32m   8488\u001b[0m \u001b[38;5;28;01mdef\u001b[39;00m \u001b[38;5;21mwith_columns\u001b[39m(\n\u001b[1;32m   8489\u001b[0m     \u001b[38;5;28mself\u001b[39m,\n\u001b[1;32m   8490\u001b[0m     \u001b[38;5;241m*\u001b[39mexprs: IntoExpr \u001b[38;5;241m|\u001b[39m Iterable[IntoExpr],\n\u001b[1;32m   8491\u001b[0m     \u001b[38;5;241m*\u001b[39m\u001b[38;5;241m*\u001b[39mnamed_exprs: IntoExpr,\n\u001b[1;32m   8492\u001b[0m ) \u001b[38;5;241m-\u001b[39m\u001b[38;5;241m>\u001b[39m DataFrame:\n\u001b[1;32m   8493\u001b[0m \u001b[38;5;250m    \u001b[39m\u001b[38;5;124;03m\"\"\"\u001b[39;00m\n\u001b[1;32m   8494\u001b[0m \u001b[38;5;124;03m    Add columns to this DataFrame.\u001b[39;00m\n\u001b[1;32m   8495\u001b[0m \n\u001b[0;32m   (...)\u001b[0m\n\u001b[1;32m   8632\u001b[0m \u001b[38;5;124;03m    └─────┴──────┴─────────────┘\u001b[39;00m\n\u001b[1;32m   8633\u001b[0m \u001b[38;5;124;03m    \"\"\"\u001b[39;00m\n\u001b[0;32m-> 8634\u001b[0m     \u001b[38;5;28;01mreturn\u001b[39;00m \u001b[38;5;28;43mself\u001b[39;49m\u001b[38;5;241;43m.\u001b[39;49m\u001b[43mlazy\u001b[49m\u001b[43m(\u001b[49m\u001b[43m)\u001b[49m\u001b[38;5;241;43m.\u001b[39;49m\u001b[43mwith_columns\u001b[49m\u001b[43m(\u001b[49m\u001b[38;5;241;43m*\u001b[39;49m\u001b[43mexprs\u001b[49m\u001b[43m,\u001b[49m\u001b[43m \u001b[49m\u001b[38;5;241;43m*\u001b[39;49m\u001b[38;5;241;43m*\u001b[39;49m\u001b[43mnamed_exprs\u001b[49m\u001b[43m)\u001b[49m\u001b[38;5;241;43m.\u001b[39;49m\u001b[43mcollect\u001b[49m\u001b[43m(\u001b[49m\u001b[43m_eager\u001b[49m\u001b[38;5;241;43m=\u001b[39;49m\u001b[38;5;28;43;01mTrue\u001b[39;49;00m\u001b[43m)\u001b[49m\n",
      "File \u001b[0;32m~/Library/Caches/pypoetry/virtualenvs/python-polars-the-definitive-guide-b_q50VVY-py3.11/lib/python3.11/site-packages/polars/lazyframe/frame.py:1967\u001b[0m, in \u001b[0;36mLazyFrame.collect\u001b[0;34m(self, type_coercion, predicate_pushdown, projection_pushdown, simplify_expression, slice_pushdown, comm_subplan_elim, comm_subexpr_elim, cluster_with_columns, no_optimization, streaming, background, _eager, **_kwargs)\u001b[0m\n\u001b[1;32m   1964\u001b[0m \u001b[38;5;66;03m# Only for testing purposes atm.\u001b[39;00m\n\u001b[1;32m   1965\u001b[0m callback \u001b[38;5;241m=\u001b[39m _kwargs\u001b[38;5;241m.\u001b[39mget(\u001b[38;5;124m\"\u001b[39m\u001b[38;5;124mpost_opt_callback\u001b[39m\u001b[38;5;124m\"\u001b[39m)\n\u001b[0;32m-> 1967\u001b[0m \u001b[38;5;28;01mreturn\u001b[39;00m wrap_df(\u001b[43mldf\u001b[49m\u001b[38;5;241;43m.\u001b[39;49m\u001b[43mcollect\u001b[49m\u001b[43m(\u001b[49m\u001b[43mcallback\u001b[49m\u001b[43m)\u001b[49m)\n",
      "\u001b[0;31mShapeError\u001b[0m: unable to add a column of length 9 to a DataFrame of height 10"
     ]
    }
   ],
   "source": [
    "fruit.with_columns(pl.repeat(\"Earth\", 9).alias(\"planet\"))"
   ]
  },
  {
   "cell_type": "markdown",
   "id": "f2b5c0e3",
   "metadata": {},
   "source": [
    "### From Ranges"
   ]
  },
  {
   "cell_type": "code",
   "execution_count": 44,
   "id": "d9a5c30b",
   "metadata": {},
   "outputs": [
    {
     "data": {
      "text/html": [
       "<div><style>\n",
       ".dataframe > thead > tr,\n",
       ".dataframe > tbody > tr {\n",
       "  text-align: right;\n",
       "  white-space: pre-wrap;\n",
       "}\n",
       "</style>\n",
       "<small>shape: (5, 4)</small><table border=\"1\" class=\"dataframe\"><thead><tr><th>start</th><th>end</th><th>int_range</th><th>range_length</th></tr><tr><td>i64</td><td>i64</td><td>list[i64]</td><td>u32</td></tr></thead><tbody><tr><td>0</td><td>0</td><td>[]</td><td>0</td></tr><tr><td>1</td><td>4</td><td>[1, 2, 3]</td><td>3</td></tr><tr><td>2</td><td>16</td><td>[2, 3, … 15]</td><td>14</td></tr><tr><td>3</td><td>36</td><td>[3, 4, … 35]</td><td>33</td></tr><tr><td>4</td><td>64</td><td>[4, 5, … 63]</td><td>60</td></tr></tbody></table></div>"
      ],
      "text/plain": [
       "shape: (5, 4)\n",
       "┌───────┬─────┬──────────────┬──────────────┐\n",
       "│ start ┆ end ┆ int_range    ┆ range_length │\n",
       "│ ---   ┆ --- ┆ ---          ┆ ---          │\n",
       "│ i64   ┆ i64 ┆ list[i64]    ┆ u32          │\n",
       "╞═══════╪═════╪══════════════╪══════════════╡\n",
       "│ 0     ┆ 0   ┆ []           ┆ 0            │\n",
       "│ 1     ┆ 4   ┆ [1, 2, 3]    ┆ 3            │\n",
       "│ 2     ┆ 16  ┆ [2, 3, … 15] ┆ 14           │\n",
       "│ 3     ┆ 36  ┆ [3, 4, … 35] ┆ 33           │\n",
       "│ 4     ┆ 64  ┆ [4, 5, … 63] ┆ 60           │\n",
       "└───────┴─────┴──────────────┴──────────────┘"
      ]
     },
     "execution_count": 31,
     "metadata": {},
     "output_type": "execute_result"
    }
   ],
   "source": [
    "pl.select(\n",
    "    pl.int_range(0, 5).alias(\"start\"),\n",
    "    pl.arange(0, 10, 2).pow(2).alias(\"end\")\n",
    ").with_columns(\n",
    "    pl.int_ranges(\"start\", \"end\").alias(\"int_range\")\n",
    ").with_columns(\n",
    "    pl.col(\"int_range\").list.len().alias(\"range_length\")\n",
    ")"
   ]
  },
  {
   "cell_type": "code",
   "execution_count": 45,
   "id": "70a239e8",
   "metadata": {},
   "outputs": [
    {
     "data": {
      "text/html": [
       "<div><style>\n",
       ".dataframe > thead > tr,\n",
       ".dataframe > tbody > tr {\n",
       "  text-align: right;\n",
       "  white-space: pre-wrap;\n",
       "}\n",
       "</style>\n",
       "<small>shape: (6, 3)</small><table border=\"1\" class=\"dataframe\"><thead><tr><th>start</th><th>end</th><th>range</th></tr><tr><td>date</td><td>date</td><td>list[datetime[μs]]</td></tr></thead><tbody><tr><td>1985-10-21</td><td>2021-10-21</td><td>[1985-10-21 00:00:00, 1985-10-21 01:00:00, … 2021-10-21 00:00:00]</td></tr><tr><td>1985-10-22</td><td>2021-10-21</td><td>[1985-10-22 00:00:00, 1985-10-22 01:00:00, … 2021-10-21 00:00:00]</td></tr><tr><td>1985-10-23</td><td>2021-10-21</td><td>[1985-10-23 00:00:00, 1985-10-23 01:00:00, … 2021-10-21 00:00:00]</td></tr><tr><td>1985-10-24</td><td>2021-10-21</td><td>[1985-10-24 00:00:00, 1985-10-24 01:00:00, … 2021-10-21 00:00:00]</td></tr><tr><td>1985-10-25</td><td>2021-10-21</td><td>[1985-10-25 00:00:00, 1985-10-25 01:00:00, … 2021-10-21 00:00:00]</td></tr><tr><td>1985-10-26</td><td>2021-10-21</td><td>[1985-10-26 00:00:00, 1985-10-26 01:00:00, … 2021-10-21 00:00:00]</td></tr></tbody></table></div>"
      ],
      "text/plain": [
       "shape: (6, 3)\n",
       "┌────────────┬────────────┬─────────────────────────────────┐\n",
       "│ start      ┆ end        ┆ range                           │\n",
       "│ ---        ┆ ---        ┆ ---                             │\n",
       "│ date       ┆ date       ┆ list[datetime[μs]]              │\n",
       "╞════════════╪════════════╪═════════════════════════════════╡\n",
       "│ 1985-10-21 ┆ 2021-10-21 ┆ [1985-10-21 00:00:00, 1985-10-… │\n",
       "│ 1985-10-22 ┆ 2021-10-21 ┆ [1985-10-22 00:00:00, 1985-10-… │\n",
       "│ 1985-10-23 ┆ 2021-10-21 ┆ [1985-10-23 00:00:00, 1985-10-… │\n",
       "│ 1985-10-24 ┆ 2021-10-21 ┆ [1985-10-24 00:00:00, 1985-10-… │\n",
       "│ 1985-10-25 ┆ 2021-10-21 ┆ [1985-10-25 00:00:00, 1985-10-… │\n",
       "│ 1985-10-26 ┆ 2021-10-21 ┆ [1985-10-26 00:00:00, 1985-10-… │\n",
       "└────────────┴────────────┴─────────────────────────────────┘"
      ]
     },
     "execution_count": 32,
     "metadata": {},
     "output_type": "execute_result"
    }
   ],
   "source": [
    "from datetime import date\n",
    "\n",
    "pl.select(\n",
    "    pl.date_range(date(1985, 10, 21), date(1985, 10, 26)).alias(\"start\"),\n",
    "    pl.repeat(date(2021, 10, 21), 6).alias(\"end\")\n",
    ").with_columns(\n",
    "    pl.datetime_ranges(\"start\", \"end\", interval=\"1h\").alias(\"range\")\n",
    ")"
   ]
  },
  {
   "cell_type": "markdown",
   "id": "2d009947",
   "metadata": {},
   "source": [
    "### Other Functions to Create Expressions"
   ]
  },
  {
   "cell_type": "markdown",
   "id": "e1cc9ed5",
   "metadata": {},
   "source": [
    "## Renaming Expressions"
   ]
  },
  {
   "cell_type": "code",
   "execution_count": 48,
   "id": "41533d94",
   "metadata": {},
   "outputs": [
    {
     "data": {
      "text/html": [
       "<div><style>\n",
       ".dataframe > thead > tr,\n",
       ".dataframe > tbody > tr {\n",
       "  text-align: right;\n",
       "  white-space: pre-wrap;\n",
       "}\n",
       "</style>\n",
       "<small>shape: (1, 3)</small><table border=\"1\" class=\"dataframe\"><thead><tr><th>text</th><th>An integer</th><th>BOOLEAN</th></tr><tr><td>str</td><td>i64</td><td>bool</td></tr></thead><tbody><tr><td>&quot;value&quot;</td><td>5040</td><td>true</td></tr></tbody></table></div>"
      ],
      "text/plain": [
       "shape: (1, 3)\n",
       "┌───────┬────────────┬─────────┐\n",
       "│ text  ┆ An integer ┆ BOOLEAN │\n",
       "│ ---   ┆ ---        ┆ ---     │\n",
       "│ str   ┆ i64        ┆ bool    │\n",
       "╞═══════╪════════════╪═════════╡\n",
       "│ value ┆ 5040       ┆ true    │\n",
       "└───────┴────────────┴─────────┘"
      ]
     },
     "execution_count": 33,
     "metadata": {},
     "output_type": "execute_result"
    }
   ],
   "source": [
    "df = pl.DataFrame({\"text\": \"value\", \"An integer\": 5040, \"BOOLEAN\": True})\n",
    "df\n"
   ]
  },
  {
   "cell_type": "code",
   "execution_count": 49,
   "id": "42a446a8",
   "metadata": {},
   "outputs": [
    {
     "data": {
      "text/html": [
       "<div><style>\n",
       ".dataframe > thead > tr,\n",
       ".dataframe > tbody > tr {\n",
       "  text-align: right;\n",
       "  white-space: pre-wrap;\n",
       "}\n",
       "</style>\n",
       "<small>shape: (1, 3)</small><table border=\"1\" class=\"dataframe\"><thead><tr><th>TEXT</th><th>int</th><th>boolean</th></tr><tr><td>str</td><td>i64</td><td>bool</td></tr></thead><tbody><tr><td>&quot;value&quot;</td><td>5040</td><td>true</td></tr></tbody></table></div>"
      ],
      "text/plain": [
       "shape: (1, 3)\n",
       "┌───────┬──────┬─────────┐\n",
       "│ TEXT  ┆ int  ┆ boolean │\n",
       "│ ---   ┆ ---  ┆ ---     │\n",
       "│ str   ┆ i64  ┆ bool    │\n",
       "╞═══════╪══════╪═════════╡\n",
       "│ value ┆ 5040 ┆ true    │\n",
       "└───────┴──────┴─────────┘"
      ]
     },
     "execution_count": 34,
     "metadata": {},
     "output_type": "execute_result"
    }
   ],
   "source": [
    "df.select(\n",
    "    pl.col(\"text\").name.to_uppercase(),\n",
    "    pl.col(\"An integer\").alias(\"int\"),\n",
    "    pl.col(\"BOOLEAN\").name.to_lowercase(),\n",
    ")"
   ]
  },
  {
   "cell_type": "code",
   "execution_count": 50,
   "id": "436b33f4",
   "metadata": {},
   "outputs": [
    {
     "data": {
      "text/html": [
       "<div><style>\n",
       ".dataframe > thead > tr,\n",
       ".dataframe > tbody > tr {\n",
       "  text-align: right;\n",
       "  white-space: pre-wrap;\n",
       "}\n",
       "</style>\n",
       "<small>shape: (1, 3)</small><table border=\"1\" class=\"dataframe\"><thead><tr><th>text</th><th>an_integer</th><th>boolean</th></tr><tr><td>str</td><td>i64</td><td>bool</td></tr></thead><tbody><tr><td>&quot;value&quot;</td><td>5040</td><td>true</td></tr></tbody></table></div>"
      ],
      "text/plain": [
       "shape: (1, 3)\n",
       "┌───────┬────────────┬─────────┐\n",
       "│ text  ┆ an_integer ┆ boolean │\n",
       "│ ---   ┆ ---        ┆ ---     │\n",
       "│ str   ┆ i64        ┆ bool    │\n",
       "╞═══════╪════════════╪═════════╡\n",
       "│ value ┆ 5040       ┆ true    │\n",
       "└───────┴────────────┴─────────┘"
      ]
     },
     "execution_count": 35,
     "metadata": {},
     "output_type": "execute_result"
    }
   ],
   "source": [
    "df.select(\n",
    "    pl.all()\n",
    "    .name.map(lambda s: s.lower().replace(\" \", \"_\"))\n",
    ")"
   ]
  },
  {
   "cell_type": "markdown",
   "id": "434285a4",
   "metadata": {},
   "source": [
    "## Expressions Are Idiomatic"
   ]
  },
  {
   "cell_type": "code",
   "execution_count": 52,
   "id": "83618ebb",
   "metadata": {},
   "outputs": [
    {
     "data": {
      "text/html": [
       "<div><style>\n",
       ".dataframe > thead > tr,\n",
       ".dataframe > tbody > tr {\n",
       "  text-align: right;\n",
       "  white-space: pre-wrap;\n",
       "}\n",
       "</style>\n",
       "<small>shape: (2, 5)</small><table border=\"1\" class=\"dataframe\"><thead><tr><th>name</th><th>weight</th><th>color</th><th>is_round</th><th>origin</th></tr><tr><td>str</td><td>i64</td><td>str</td><td>bool</td><td>str</td></tr></thead><tbody><tr><td>&quot;Cantaloupe&quot;</td><td>2500</td><td>&quot;orange&quot;</td><td>true</td><td>&quot;Africa&quot;</td></tr><tr><td>&quot;Watermelon&quot;</td><td>5000</td><td>&quot;green&quot;</td><td>true</td><td>&quot;Africa&quot;</td></tr></tbody></table></div>"
      ],
      "text/plain": [
       "shape: (2, 5)\n",
       "┌────────────┬────────┬────────┬──────────┬────────┐\n",
       "│ name       ┆ weight ┆ color  ┆ is_round ┆ origin │\n",
       "│ ---        ┆ ---    ┆ ---    ┆ ---      ┆ ---    │\n",
       "│ str        ┆ i64    ┆ str    ┆ bool     ┆ str    │\n",
       "╞════════════╪════════╪════════╪══════════╪════════╡\n",
       "│ Cantaloupe ┆ 2500   ┆ orange ┆ true     ┆ Africa │\n",
       "│ Watermelon ┆ 5000   ┆ green  ┆ true     ┆ Africa │\n",
       "└────────────┴────────┴────────┴──────────┴────────┘"
      ]
     },
     "execution_count": 36,
     "metadata": {},
     "output_type": "execute_result"
    }
   ],
   "source": [
    "fruit.filter(\n",
    "    (fruit[\"weight\"] > 1000) & fruit[\"is_round\"]\n",
    ")"
   ]
  },
  {
   "cell_type": "code",
   "execution_count": 53,
   "id": "53786760",
   "metadata": {},
   "outputs": [
    {
     "data": {
      "text/html": [
       "<div><style>\n",
       ".dataframe > thead > tr,\n",
       ".dataframe > tbody > tr {\n",
       "  text-align: right;\n",
       "  white-space: pre-wrap;\n",
       "}\n",
       "</style>\n",
       "<small>shape: (2, 6)</small><table border=\"1\" class=\"dataframe\"><thead><tr><th>name</th><th>weight</th><th>color</th><th>is_round</th><th>origin</th><th>is_berry</th></tr><tr><td>str</td><td>i64</td><td>str</td><td>bool</td><td>str</td><td>bool</td></tr></thead><tbody><tr><td>&quot;Cantaloupe&quot;</td><td>2500</td><td>&quot;orange&quot;</td><td>true</td><td>&quot;Africa&quot;</td><td>false</td></tr><tr><td>&quot;Watermelon&quot;</td><td>5000</td><td>&quot;green&quot;</td><td>true</td><td>&quot;Africa&quot;</td><td>false</td></tr></tbody></table></div>"
      ],
      "text/plain": [
       "shape: (2, 6)\n",
       "┌────────────┬────────┬────────┬──────────┬────────┬──────────┐\n",
       "│ name       ┆ weight ┆ color  ┆ is_round ┆ origin ┆ is_berry │\n",
       "│ ---        ┆ ---    ┆ ---    ┆ ---      ┆ ---    ┆ ---      │\n",
       "│ str        ┆ i64    ┆ str    ┆ bool     ┆ str    ┆ bool     │\n",
       "╞════════════╪════════╪════════╪══════════╪════════╪══════════╡\n",
       "│ Cantaloupe ┆ 2500   ┆ orange ┆ true     ┆ Africa ┆ false    │\n",
       "│ Watermelon ┆ 5000   ┆ green  ┆ true     ┆ Africa ┆ false    │\n",
       "└────────────┴────────┴────────┴──────────┴────────┴──────────┘"
      ]
     },
     "execution_count": 37,
     "metadata": {},
     "output_type": "execute_result"
    }
   ],
   "source": [
    "(\n",
    "    fruit\n",
    "    .lazy()\n",
    "    .filter((pl.col(\"weight\") > 1000) & pl.col(\"is_round\"))\n",
    "    .with_columns(pl.col(\"name\").str.ends_with(\"berry\").alias(\"is_berry\"))\n",
    "    .collect()\n",
    ")"
   ]
  },
  {
   "cell_type": "code",
   "execution_count": 54,
   "id": "0445c444",
   "metadata": {},
   "outputs": [
    {
     "ename": "ShapeError",
     "evalue": "unable to add a column of length 10 to a DataFrame of height 2",
     "output_type": "error",
     "traceback": [
      "\u001b[0;31m---------------------------------------------------------------------------\u001b[0m",
      "\u001b[0;31mShapeError\u001b[0m                                Traceback (most recent call last)",
      "Cell \u001b[0;32mIn[38], line 6\u001b[0m\n\u001b[1;32m      1\u001b[0m (\n\u001b[1;32m      2\u001b[0m     \u001b[43mfruit\u001b[49m\n\u001b[1;32m      3\u001b[0m \u001b[43m    \u001b[49m\u001b[38;5;241;43m.\u001b[39;49m\u001b[43mlazy\u001b[49m\u001b[43m(\u001b[49m\u001b[43m)\u001b[49m\n\u001b[1;32m      4\u001b[0m \u001b[43m    \u001b[49m\u001b[38;5;241;43m.\u001b[39;49m\u001b[43mfilter\u001b[49m\u001b[43m(\u001b[49m\u001b[43m(\u001b[49m\u001b[43mfruit\u001b[49m\u001b[43m[\u001b[49m\u001b[38;5;124;43m\"\u001b[39;49m\u001b[38;5;124;43mweight\u001b[39;49m\u001b[38;5;124;43m\"\u001b[39;49m\u001b[43m]\u001b[49m\u001b[43m \u001b[49m\u001b[38;5;241;43m>\u001b[39;49m\u001b[43m \u001b[49m\u001b[38;5;241;43m1000\u001b[39;49m\u001b[43m)\u001b[49m\u001b[43m \u001b[49m\u001b[38;5;241;43m&\u001b[39;49m\u001b[43m \u001b[49m\u001b[43mfruit\u001b[49m\u001b[43m[\u001b[49m\u001b[38;5;124;43m\"\u001b[39;49m\u001b[38;5;124;43mis_round\u001b[39;49m\u001b[38;5;124;43m\"\u001b[39;49m\u001b[43m]\u001b[49m\u001b[43m)\u001b[49m\n\u001b[1;32m      5\u001b[0m \u001b[43m    \u001b[49m\u001b[38;5;241;43m.\u001b[39;49m\u001b[43mwith_columns\u001b[49m\u001b[43m(\u001b[49m\u001b[43mfruit\u001b[49m\u001b[43m[\u001b[49m\u001b[38;5;124;43m\"\u001b[39;49m\u001b[38;5;124;43mname\u001b[39;49m\u001b[38;5;124;43m\"\u001b[39;49m\u001b[43m]\u001b[49m\u001b[38;5;241;43m.\u001b[39;49m\u001b[43mstr\u001b[49m\u001b[38;5;241;43m.\u001b[39;49m\u001b[43mends_with\u001b[49m\u001b[43m(\u001b[49m\u001b[38;5;124;43m\"\u001b[39;49m\u001b[38;5;124;43mberry\u001b[39;49m\u001b[38;5;124;43m\"\u001b[39;49m\u001b[43m)\u001b[49m\u001b[38;5;241;43m.\u001b[39;49m\u001b[43malias\u001b[49m\u001b[43m(\u001b[49m\u001b[38;5;124;43m\"\u001b[39;49m\u001b[38;5;124;43mis_berry\u001b[39;49m\u001b[38;5;124;43m\"\u001b[39;49m\u001b[43m)\u001b[49m\u001b[43m)\u001b[49m\n\u001b[0;32m----> 6\u001b[0m \u001b[43m    \u001b[49m\u001b[38;5;241;43m.\u001b[39;49m\u001b[43mcollect\u001b[49m\u001b[43m(\u001b[49m\u001b[43m)\u001b[49m\n\u001b[1;32m      7\u001b[0m )\n",
      "File \u001b[0;32m~/Library/Caches/pypoetry/virtualenvs/python-polars-the-definitive-guide-b_q50VVY-py3.11/lib/python3.11/site-packages/polars/lazyframe/frame.py:1967\u001b[0m, in \u001b[0;36mLazyFrame.collect\u001b[0;34m(self, type_coercion, predicate_pushdown, projection_pushdown, simplify_expression, slice_pushdown, comm_subplan_elim, comm_subexpr_elim, cluster_with_columns, no_optimization, streaming, background, _eager, **_kwargs)\u001b[0m\n\u001b[1;32m   1964\u001b[0m \u001b[38;5;66;03m# Only for testing purposes atm.\u001b[39;00m\n\u001b[1;32m   1965\u001b[0m callback \u001b[38;5;241m=\u001b[39m _kwargs\u001b[38;5;241m.\u001b[39mget(\u001b[38;5;124m\"\u001b[39m\u001b[38;5;124mpost_opt_callback\u001b[39m\u001b[38;5;124m\"\u001b[39m)\n\u001b[0;32m-> 1967\u001b[0m \u001b[38;5;28;01mreturn\u001b[39;00m wrap_df(\u001b[43mldf\u001b[49m\u001b[38;5;241;43m.\u001b[39;49m\u001b[43mcollect\u001b[49m\u001b[43m(\u001b[49m\u001b[43mcallback\u001b[49m\u001b[43m)\u001b[49m)\n",
      "\u001b[0;31mShapeError\u001b[0m: unable to add a column of length 10 to a DataFrame of height 2"
     ]
    }
   ],
   "source": [
    "(\n",
    "    fruit\n",
    "    .lazy()\n",
    "    .filter((fruit[\"weight\"] > 1000) & fruit[\"is_round\"])\n",
    "    .with_columns(fruit[\"name\"].str.ends_with(\"berry\").alias(\"is_berry\"))\n",
    "    .collect()\n",
    ")"
   ]
  },
  {
   "cell_type": "markdown",
   "id": "45045d75",
   "metadata": {},
   "source": [
    "## Conclusion"
   ]
  }
 ],
 "metadata": {
  "language_info": {
   "codemirror_mode": {
    "name": "ipython",
    "version": 3
   },
   "file_extension": ".py",
   "mimetype": "text/x-python",
   "name": "python",
   "nbconvert_exporter": "python",
   "pygments_lexer": "ipython3",
   "version": "3.11.9"
  }
 },
 "nbformat": 4,
 "nbformat_minor": 5
}
