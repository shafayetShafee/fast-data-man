{
 "cells": [
  {
   "cell_type": "markdown",
   "id": "2800aa73",
   "metadata": {},
   "source": [
    "# Chapter 9: Combining Expressions"
   ]
  },
  {
   "cell_type": "code",
   "execution_count": 1,
   "id": "9473140e",
   "metadata": {},
   "outputs": [
    {
     "name": "stdout",
     "output_type": "stream",
     "text": [
      "--------Version info---------\n",
      "Polars:               0.20.31\n",
      "Index type:           UInt32\n",
      "Platform:             macOS-12.5-arm64-arm-64bit\n",
      "Python:               3.11.9 (main, Apr  2 2024, 16:11:47) [Clang 14.0.0 (clang-1400.0.29.202)]\n",
      "\n",
      "----Optional dependencies----\n",
      "adbc_driver_manager:  0.8.0\n",
      "cloudpickle:          3.0.0\n",
      "connectorx:           0.3.2\n",
      "deltalake:            0.15.0\n",
      "fastexcel:            0.9.1\n",
      "fsspec:               2023.12.2\n",
      "gevent:               23.9.1\n",
      "hvplot:               0.9.2\n",
      "matplotlib:           3.8.4\n",
      "nest_asyncio:         1.6.0\n",
      "numpy:                1.26.4\n",
      "openpyxl:             3.1.2\n",
      "pandas:               2.2.2\n",
      "pyarrow:              14.0.2\n",
      "pydantic:             2.5.3\n",
      "pyiceberg:            0.5.1\n",
      "pyxlsb:               <not installed>\n",
      "sqlalchemy:           2.0.25\n",
      "torch:                <not installed>\n",
      "xlsx2csv:             0.8.2\n",
      "xlsxwriter:           3.2.0\n"
     ]
    }
   ],
   "source": [
    "import polars as pl\n",
    "pl.show_versions()"
   ]
  },
  {
   "cell_type": "code",
   "execution_count": 2,
   "id": "5f510f08",
   "metadata": {},
   "outputs": [
    {
     "data": {
      "text/html": [
       "<div><style>\n",
       ".dataframe > thead > tr,\n",
       ".dataframe > tbody > tr {\n",
       "  text-align: right;\n",
       "  white-space: pre-wrap;\n",
       "}\n",
       "</style>\n",
       "<small>shape: (2, 5)</small><table border=\"1\" class=\"dataframe\"><thead><tr><th>name</th><th>weight</th><th>color</th><th>is_round</th><th>origin</th></tr><tr><td>str</td><td>i64</td><td>str</td><td>bool</td><td>str</td></tr></thead><tbody><tr><td>&quot;Cantaloupe&quot;</td><td>2500</td><td>&quot;orange&quot;</td><td>true</td><td>&quot;Africa&quot;</td></tr><tr><td>&quot;Watermelon&quot;</td><td>5000</td><td>&quot;green&quot;</td><td>true</td><td>&quot;Africa&quot;</td></tr></tbody></table></div>"
      ],
      "text/plain": [
       "shape: (2, 5)\n",
       "┌────────────┬────────┬────────┬──────────┬────────┐\n",
       "│ name       ┆ weight ┆ color  ┆ is_round ┆ origin │\n",
       "│ ---        ┆ ---    ┆ ---    ┆ ---      ┆ ---    │\n",
       "│ str        ┆ i64    ┆ str    ┆ bool     ┆ str    │\n",
       "╞════════════╪════════╪════════╪══════════╪════════╡\n",
       "│ Cantaloupe ┆ 2500   ┆ orange ┆ true     ┆ Africa │\n",
       "│ Watermelon ┆ 5000   ┆ green  ┆ true     ┆ Africa │\n",
       "└────────────┴────────┴────────┴──────────┴────────┘"
      ]
     },
     "execution_count": 2,
     "metadata": {},
     "output_type": "execute_result"
    }
   ],
   "source": [
    "fruit = pl.read_csv(\"data/fruit.csv\")\n",
    "fruit.filter(pl.col(\"is_round\") & (pl.col(\"weight\") > 1000))"
   ]
  },
  {
   "cell_type": "markdown",
   "id": "57e6337d",
   "metadata": {},
   "source": [
    "## Inline Operators Versus Methods"
   ]
  },
  {
   "cell_type": "code",
   "execution_count": 4,
   "id": "d365d44f",
   "metadata": {},
   "outputs": [
    {
     "data": {
      "text/html": [
       "<div><style>\n",
       ".dataframe > thead > tr,\n",
       ".dataframe > tbody > tr {\n",
       "  text-align: right;\n",
       "  white-space: pre-wrap;\n",
       "}\n",
       "</style>\n",
       "<small>shape: (4, 4)</small><table border=\"1\" class=\"dataframe\"><thead><tr><th>i</th><th>j</th><th>*</th><th>Expr.mul()</th></tr><tr><td>f64</td><td>i64</td><td>f64</td><td>f64</td></tr></thead><tbody><tr><td>6.0</td><td>7</td><td>42.0</td><td>42.0</td></tr><tr><td>0.0</td><td>1</td><td>0.0</td><td>0.0</td></tr><tr><td>2.0</td><td>2</td><td>4.0</td><td>4.0</td></tr><tr><td>2.5</td><td>3</td><td>7.5</td><td>7.5</td></tr></tbody></table></div>"
      ],
      "text/plain": [
       "shape: (4, 4)\n",
       "┌─────┬─────┬──────┬────────────┐\n",
       "│ i   ┆ j   ┆ *    ┆ Expr.mul() │\n",
       "│ --- ┆ --- ┆ ---  ┆ ---        │\n",
       "│ f64 ┆ i64 ┆ f64  ┆ f64        │\n",
       "╞═════╪═════╪══════╪════════════╡\n",
       "│ 6.0 ┆ 7   ┆ 42.0 ┆ 42.0       │\n",
       "│ 0.0 ┆ 1   ┆ 0.0  ┆ 0.0        │\n",
       "│ 2.0 ┆ 2   ┆ 4.0  ┆ 4.0        │\n",
       "│ 2.5 ┆ 3   ┆ 7.5  ┆ 7.5        │\n",
       "└─────┴─────┴──────┴────────────┘"
      ]
     },
     "execution_count": 3,
     "metadata": {},
     "output_type": "execute_result"
    }
   ],
   "source": [
    "(\n",
    "    pl.DataFrame({\n",
    "        \"i\": [6, 0, 2, 2.5],\n",
    "        \"j\": [7, 1, 2, 3]\n",
    "    })\n",
    "    .with_columns(\n",
    "        (pl.col(\"i\") * pl.col(\"j\")).alias(\"*\"),\n",
    "        pl.col(\"i\").mul(pl.col(\"j\")).alias(\"Expr.mul()\")\n",
    "    )\n",
    ")"
   ]
  },
  {
   "cell_type": "markdown",
   "id": "eda3f60b",
   "metadata": {},
   "source": [
    "## Arithmetic Operations"
   ]
  },
  {
   "cell_type": "code",
   "execution_count": 6,
   "id": "5d0d592d",
   "metadata": {},
   "outputs": [
    {
     "data": {
      "text/html": [
       "<div><style>\n",
       ".dataframe > thead > tr,\n",
       ".dataframe > tbody > tr {\n",
       "  text-align: right;\n",
       "  white-space: pre-wrap;\n",
       "}\n",
       "</style>\n",
       "<small>shape: (10, 2)</small><table border=\"1\" class=\"dataframe\"><thead><tr><th>name</th><th>weight</th></tr><tr><td>str</td><td>f64</td></tr></thead><tbody><tr><td>&quot;Avocado&quot;</td><td>0.2</td></tr><tr><td>&quot;Banana&quot;</td><td>0.12</td></tr><tr><td>&quot;Blueberry&quot;</td><td>0.001</td></tr><tr><td>&quot;Cantaloupe&quot;</td><td>2.5</td></tr><tr><td>&quot;Cranberry&quot;</td><td>0.002</td></tr><tr><td>&quot;Elderberry&quot;</td><td>0.001</td></tr><tr><td>&quot;Orange&quot;</td><td>0.13</td></tr><tr><td>&quot;Papaya&quot;</td><td>1.0</td></tr><tr><td>&quot;Peach&quot;</td><td>0.15</td></tr><tr><td>&quot;Watermelon&quot;</td><td>5.0</td></tr></tbody></table></div>"
      ],
      "text/plain": [
       "shape: (10, 2)\n",
       "┌────────────┬────────┐\n",
       "│ name       ┆ weight │\n",
       "│ ---        ┆ ---    │\n",
       "│ str        ┆ f64    │\n",
       "╞════════════╪════════╡\n",
       "│ Avocado    ┆ 0.2    │\n",
       "│ Banana     ┆ 0.12   │\n",
       "│ Blueberry  ┆ 0.001  │\n",
       "│ Cantaloupe ┆ 2.5    │\n",
       "│ Cranberry  ┆ 0.002  │\n",
       "│ Elderberry ┆ 0.001  │\n",
       "│ Orange     ┆ 0.13   │\n",
       "│ Papaya     ┆ 1.0    │\n",
       "│ Peach      ┆ 0.15   │\n",
       "│ Watermelon ┆ 5.0    │\n",
       "└────────────┴────────┘"
      ]
     },
     "execution_count": 4,
     "metadata": {},
     "output_type": "execute_result"
    }
   ],
   "source": [
    "fruit.select(\n",
    "    pl.col(\"name\"),\n",
    "    (pl.col(\"weight\") / 1000)\n",
    ")"
   ]
  },
  {
   "cell_type": "code",
   "execution_count": 7,
   "id": "6dc269f5",
   "metadata": {},
   "outputs": [
    {
     "ename": "ComputeError",
     "evalue": "conversion from `i64` to `u32` failed in column 'j' for 1 out of 5 values: [-5]",
     "output_type": "error",
     "traceback": [
      "\u001b[0;31m---------------------------------------------------------------------------\u001b[0m",
      "\u001b[0;31mComputeError\u001b[0m                              Traceback (most recent call last)",
      "Cell \u001b[0;32mIn[5], line 8\u001b[0m\n\u001b[1;32m      1\u001b[0m pl\u001b[38;5;241m.\u001b[39mConfig(float_precision\u001b[38;5;241m=\u001b[39m\u001b[38;5;241m2\u001b[39m, tbl_cell_numeric_alignment\u001b[38;5;241m=\u001b[39m\u001b[38;5;124m\"\u001b[39m\u001b[38;5;124mRIGHT\u001b[39m\u001b[38;5;124m\"\u001b[39m) \u001b[38;5;66;03m# <1>\u001b[39;00m\n\u001b[1;32m      3\u001b[0m (\n\u001b[1;32m      4\u001b[0m     \u001b[43mpl\u001b[49m\u001b[38;5;241;43m.\u001b[39;49m\u001b[43mDataFrame\u001b[49m\u001b[43m(\u001b[49m\u001b[43m{\u001b[49m\n\u001b[1;32m      5\u001b[0m \u001b[43m        \u001b[49m\u001b[38;5;124;43m\"\u001b[39;49m\u001b[38;5;124;43mi\u001b[39;49m\u001b[38;5;124;43m\"\u001b[39;49m\u001b[43m:\u001b[49m\u001b[43m \u001b[49m\u001b[43m[\u001b[49m\u001b[38;5;241;43m0\u001b[39;49m\u001b[43m,\u001b[49m\u001b[43m \u001b[49m\u001b[38;5;241;43m2\u001b[39;49m\u001b[43m,\u001b[49m\u001b[43m \u001b[49m\u001b[38;5;241;43m2\u001b[39;49m\u001b[43m,\u001b[49m\u001b[43m \u001b[49m\u001b[38;5;241;43m-\u001b[39;49m\u001b[38;5;241;43m2\u001b[39;49m\u001b[43m,\u001b[49m\u001b[43m \u001b[49m\u001b[38;5;241;43m-\u001b[39;49m\u001b[38;5;241;43m2\u001b[39;49m\u001b[43m]\u001b[49m\u001b[43m,\u001b[49m\n\u001b[1;32m      6\u001b[0m \u001b[43m        \u001b[49m\u001b[38;5;124;43m\"\u001b[39;49m\u001b[38;5;124;43mj\u001b[39;49m\u001b[38;5;124;43m\"\u001b[39;49m\u001b[43m:\u001b[49m\u001b[43m \u001b[49m\u001b[43m[\u001b[49m\u001b[38;5;241;43m1\u001b[39;49m\u001b[43m,\u001b[49m\u001b[43m \u001b[49m\u001b[38;5;241;43m2\u001b[39;49m\u001b[43m,\u001b[49m\u001b[43m \u001b[49m\u001b[38;5;241;43m3\u001b[39;49m\u001b[43m,\u001b[49m\u001b[43m \u001b[49m\u001b[38;5;241;43m4\u001b[39;49m\u001b[43m,\u001b[49m\u001b[43m \u001b[49m\u001b[38;5;241;43m-\u001b[39;49m\u001b[38;5;241;43m5\u001b[39;49m\u001b[43m]\u001b[49m\n\u001b[1;32m      7\u001b[0m \u001b[43m    \u001b[49m\u001b[43m}\u001b[49m\u001b[43m)\u001b[49m\n\u001b[0;32m----> 8\u001b[0m \u001b[43m    \u001b[49m\u001b[38;5;241;43m.\u001b[39;49m\u001b[43mwith_columns\u001b[49m\u001b[43m(\u001b[49m\n\u001b[1;32m      9\u001b[0m \u001b[43m        \u001b[49m\u001b[43m(\u001b[49m\u001b[43mpl\u001b[49m\u001b[38;5;241;43m.\u001b[39;49m\u001b[43mcol\u001b[49m\u001b[43m(\u001b[49m\u001b[38;5;124;43m\"\u001b[39;49m\u001b[38;5;124;43mi\u001b[39;49m\u001b[38;5;124;43m\"\u001b[39;49m\u001b[43m)\u001b[49m\u001b[43m \u001b[49m\u001b[38;5;241;43m+\u001b[39;49m\u001b[43m \u001b[49m\u001b[43mpl\u001b[49m\u001b[38;5;241;43m.\u001b[39;49m\u001b[43mcol\u001b[49m\u001b[43m(\u001b[49m\u001b[38;5;124;43m\"\u001b[39;49m\u001b[38;5;124;43mj\u001b[39;49m\u001b[38;5;124;43m\"\u001b[39;49m\u001b[43m)\u001b[49m\u001b[43m)\u001b[49m\u001b[38;5;241;43m.\u001b[39;49m\u001b[43malias\u001b[49m\u001b[43m(\u001b[49m\u001b[38;5;124;43m\"\u001b[39;49m\u001b[38;5;124;43mi + j\u001b[39;49m\u001b[38;5;124;43m\"\u001b[39;49m\u001b[43m)\u001b[49m\u001b[43m,\u001b[49m\n\u001b[1;32m     10\u001b[0m \u001b[43m        \u001b[49m\u001b[43m(\u001b[49m\u001b[43mpl\u001b[49m\u001b[38;5;241;43m.\u001b[39;49m\u001b[43mcol\u001b[49m\u001b[43m(\u001b[49m\u001b[38;5;124;43m\"\u001b[39;49m\u001b[38;5;124;43mi\u001b[39;49m\u001b[38;5;124;43m\"\u001b[39;49m\u001b[43m)\u001b[49m\u001b[43m \u001b[49m\u001b[38;5;241;43m-\u001b[39;49m\u001b[43m \u001b[49m\u001b[43mpl\u001b[49m\u001b[38;5;241;43m.\u001b[39;49m\u001b[43mcol\u001b[49m\u001b[43m(\u001b[49m\u001b[38;5;124;43m\"\u001b[39;49m\u001b[38;5;124;43mj\u001b[39;49m\u001b[38;5;124;43m\"\u001b[39;49m\u001b[43m)\u001b[49m\u001b[43m)\u001b[49m\u001b[38;5;241;43m.\u001b[39;49m\u001b[43malias\u001b[49m\u001b[43m(\u001b[49m\u001b[38;5;124;43m\"\u001b[39;49m\u001b[38;5;124;43mi - j\u001b[39;49m\u001b[38;5;124;43m\"\u001b[39;49m\u001b[43m)\u001b[49m\u001b[43m,\u001b[49m\n\u001b[1;32m     11\u001b[0m \u001b[43m        \u001b[49m\u001b[43m(\u001b[49m\u001b[43mpl\u001b[49m\u001b[38;5;241;43m.\u001b[39;49m\u001b[43mcol\u001b[49m\u001b[43m(\u001b[49m\u001b[38;5;124;43m\"\u001b[39;49m\u001b[38;5;124;43mi\u001b[39;49m\u001b[38;5;124;43m\"\u001b[39;49m\u001b[43m)\u001b[49m\u001b[43m \u001b[49m\u001b[38;5;241;43m*\u001b[39;49m\u001b[43m \u001b[49m\u001b[43mpl\u001b[49m\u001b[38;5;241;43m.\u001b[39;49m\u001b[43mcol\u001b[49m\u001b[43m(\u001b[49m\u001b[38;5;124;43m\"\u001b[39;49m\u001b[38;5;124;43mj\u001b[39;49m\u001b[38;5;124;43m\"\u001b[39;49m\u001b[43m)\u001b[49m\u001b[43m)\u001b[49m\u001b[38;5;241;43m.\u001b[39;49m\u001b[43malias\u001b[49m\u001b[43m(\u001b[49m\u001b[38;5;124;43m\"\u001b[39;49m\u001b[38;5;124;43mi * j\u001b[39;49m\u001b[38;5;124;43m\"\u001b[39;49m\u001b[43m)\u001b[49m\u001b[43m,\u001b[49m\n\u001b[1;32m     12\u001b[0m \u001b[43m        \u001b[49m\u001b[43m(\u001b[49m\u001b[43mpl\u001b[49m\u001b[38;5;241;43m.\u001b[39;49m\u001b[43mcol\u001b[49m\u001b[43m(\u001b[49m\u001b[38;5;124;43m\"\u001b[39;49m\u001b[38;5;124;43mi\u001b[39;49m\u001b[38;5;124;43m\"\u001b[39;49m\u001b[43m)\u001b[49m\u001b[43m \u001b[49m\u001b[38;5;241;43m/\u001b[39;49m\u001b[43m \u001b[49m\u001b[43mpl\u001b[49m\u001b[38;5;241;43m.\u001b[39;49m\u001b[43mcol\u001b[49m\u001b[43m(\u001b[49m\u001b[38;5;124;43m\"\u001b[39;49m\u001b[38;5;124;43mj\u001b[39;49m\u001b[38;5;124;43m\"\u001b[39;49m\u001b[43m)\u001b[49m\u001b[43m)\u001b[49m\u001b[38;5;241;43m.\u001b[39;49m\u001b[43malias\u001b[49m\u001b[43m(\u001b[49m\u001b[38;5;124;43m\"\u001b[39;49m\u001b[38;5;124;43mi / j\u001b[39;49m\u001b[38;5;124;43m\"\u001b[39;49m\u001b[43m)\u001b[49m\u001b[43m,\u001b[49m\n\u001b[1;32m     13\u001b[0m \u001b[43m        \u001b[49m\u001b[43m(\u001b[49m\u001b[43mpl\u001b[49m\u001b[38;5;241;43m.\u001b[39;49m\u001b[43mcol\u001b[49m\u001b[43m(\u001b[49m\u001b[38;5;124;43m\"\u001b[39;49m\u001b[38;5;124;43mi\u001b[39;49m\u001b[38;5;124;43m\"\u001b[39;49m\u001b[43m)\u001b[49m\u001b[43m \u001b[49m\u001b[38;5;241;43m/\u001b[39;49m\u001b[38;5;241;43m/\u001b[39;49m\u001b[43m \u001b[49m\u001b[43mpl\u001b[49m\u001b[38;5;241;43m.\u001b[39;49m\u001b[43mcol\u001b[49m\u001b[43m(\u001b[49m\u001b[38;5;124;43m\"\u001b[39;49m\u001b[38;5;124;43mj\u001b[39;49m\u001b[38;5;124;43m\"\u001b[39;49m\u001b[43m)\u001b[49m\u001b[43m)\u001b[49m\u001b[38;5;241;43m.\u001b[39;49m\u001b[43malias\u001b[49m\u001b[43m(\u001b[49m\u001b[38;5;124;43m\"\u001b[39;49m\u001b[38;5;124;43mi // j\u001b[39;49m\u001b[38;5;124;43m\"\u001b[39;49m\u001b[43m)\u001b[49m\u001b[43m,\u001b[49m\n\u001b[1;32m     14\u001b[0m \u001b[43m        \u001b[49m\u001b[43m(\u001b[49m\u001b[43mpl\u001b[49m\u001b[38;5;241;43m.\u001b[39;49m\u001b[43mcol\u001b[49m\u001b[43m(\u001b[49m\u001b[38;5;124;43m\"\u001b[39;49m\u001b[38;5;124;43mi\u001b[39;49m\u001b[38;5;124;43m\"\u001b[39;49m\u001b[43m)\u001b[49m\u001b[43m \u001b[49m\u001b[38;5;241;43m*\u001b[39;49m\u001b[38;5;241;43m*\u001b[39;49m\u001b[43m \u001b[49m\u001b[43mpl\u001b[49m\u001b[38;5;241;43m.\u001b[39;49m\u001b[43mcol\u001b[49m\u001b[43m(\u001b[49m\u001b[38;5;124;43m\"\u001b[39;49m\u001b[38;5;124;43mj\u001b[39;49m\u001b[38;5;124;43m\"\u001b[39;49m\u001b[43m)\u001b[49m\u001b[43m)\u001b[49m\u001b[38;5;241;43m.\u001b[39;49m\u001b[43malias\u001b[49m\u001b[43m(\u001b[49m\u001b[38;5;124;43m\"\u001b[39;49m\u001b[38;5;124;43mi ** j\u001b[39;49m\u001b[38;5;124;43m\"\u001b[39;49m\u001b[43m)\u001b[49m\u001b[43m,\u001b[49m\n\u001b[1;32m     15\u001b[0m \u001b[43m        \u001b[49m\u001b[43m(\u001b[49m\u001b[43mpl\u001b[49m\u001b[38;5;241;43m.\u001b[39;49m\u001b[43mcol\u001b[49m\u001b[43m(\u001b[49m\u001b[38;5;124;43m\"\u001b[39;49m\u001b[38;5;124;43mj\u001b[39;49m\u001b[38;5;124;43m\"\u001b[39;49m\u001b[43m)\u001b[49m\u001b[43m \u001b[49m\u001b[38;5;241;43m%\u001b[39;49m\u001b[43m \u001b[49m\u001b[38;5;241;43m2\u001b[39;49m\u001b[43m)\u001b[49m\u001b[38;5;241;43m.\u001b[39;49m\u001b[43malias\u001b[49m\u001b[43m(\u001b[49m\u001b[38;5;124;43m\"\u001b[39;49m\u001b[38;5;124;43mj \u001b[39;49m\u001b[38;5;124;43m%\u001b[39;49m\u001b[38;5;124;43m 2\u001b[39;49m\u001b[38;5;124;43m\"\u001b[39;49m\u001b[43m)\u001b[49m\u001b[43m,\u001b[49m\u001b[43m \u001b[49m\u001b[38;5;66;43;03m# <2>\u001b[39;49;00m\n\u001b[1;32m     16\u001b[0m \u001b[43m        \u001b[49m\u001b[43mpl\u001b[49m\u001b[38;5;241;43m.\u001b[39;49m\u001b[43mcol\u001b[49m\u001b[43m(\u001b[49m\u001b[38;5;124;43m\"\u001b[39;49m\u001b[38;5;124;43mi\u001b[39;49m\u001b[38;5;124;43m\"\u001b[39;49m\u001b[43m)\u001b[49m\u001b[38;5;241;43m.\u001b[39;49m\u001b[43mdot\u001b[49m\u001b[43m(\u001b[49m\u001b[43mpl\u001b[49m\u001b[38;5;241;43m.\u001b[39;49m\u001b[43mcol\u001b[49m\u001b[43m(\u001b[49m\u001b[38;5;124;43m\"\u001b[39;49m\u001b[38;5;124;43mj\u001b[39;49m\u001b[38;5;124;43m\"\u001b[39;49m\u001b[43m)\u001b[49m\u001b[43m)\u001b[49m\u001b[38;5;241;43m.\u001b[39;49m\u001b[43malias\u001b[49m\u001b[43m(\u001b[49m\u001b[38;5;124;43m\"\u001b[39;49m\u001b[38;5;124;43mi ⋅ j\u001b[39;49m\u001b[38;5;124;43m\"\u001b[39;49m\u001b[43m)\u001b[49m\u001b[43m,\u001b[49m\u001b[43m \u001b[49m\u001b[38;5;66;43;03m# <3>\u001b[39;49;00m\n\u001b[1;32m     17\u001b[0m \u001b[43m    \u001b[49m\u001b[43m)\u001b[49m\n\u001b[1;32m     18\u001b[0m )\n",
      "File \u001b[0;32m~/Library/Caches/pypoetry/virtualenvs/python-polars-the-definitive-guide-b_q50VVY-py3.11/lib/python3.11/site-packages/polars/dataframe/frame.py:8634\u001b[0m, in \u001b[0;36mDataFrame.with_columns\u001b[0;34m(self, *exprs, **named_exprs)\u001b[0m\n\u001b[1;32m   8488\u001b[0m \u001b[38;5;28;01mdef\u001b[39;00m \u001b[38;5;21mwith_columns\u001b[39m(\n\u001b[1;32m   8489\u001b[0m     \u001b[38;5;28mself\u001b[39m,\n\u001b[1;32m   8490\u001b[0m     \u001b[38;5;241m*\u001b[39mexprs: IntoExpr \u001b[38;5;241m|\u001b[39m Iterable[IntoExpr],\n\u001b[1;32m   8491\u001b[0m     \u001b[38;5;241m*\u001b[39m\u001b[38;5;241m*\u001b[39mnamed_exprs: IntoExpr,\n\u001b[1;32m   8492\u001b[0m ) \u001b[38;5;241m-\u001b[39m\u001b[38;5;241m>\u001b[39m DataFrame:\n\u001b[1;32m   8493\u001b[0m \u001b[38;5;250m    \u001b[39m\u001b[38;5;124;03m\"\"\"\u001b[39;00m\n\u001b[1;32m   8494\u001b[0m \u001b[38;5;124;03m    Add columns to this DataFrame.\u001b[39;00m\n\u001b[1;32m   8495\u001b[0m \n\u001b[0;32m   (...)\u001b[0m\n\u001b[1;32m   8632\u001b[0m \u001b[38;5;124;03m    └─────┴──────┴─────────────┘\u001b[39;00m\n\u001b[1;32m   8633\u001b[0m \u001b[38;5;124;03m    \"\"\"\u001b[39;00m\n\u001b[0;32m-> 8634\u001b[0m     \u001b[38;5;28;01mreturn\u001b[39;00m \u001b[38;5;28;43mself\u001b[39;49m\u001b[38;5;241;43m.\u001b[39;49m\u001b[43mlazy\u001b[49m\u001b[43m(\u001b[49m\u001b[43m)\u001b[49m\u001b[38;5;241;43m.\u001b[39;49m\u001b[43mwith_columns\u001b[49m\u001b[43m(\u001b[49m\u001b[38;5;241;43m*\u001b[39;49m\u001b[43mexprs\u001b[49m\u001b[43m,\u001b[49m\u001b[43m \u001b[49m\u001b[38;5;241;43m*\u001b[39;49m\u001b[38;5;241;43m*\u001b[39;49m\u001b[43mnamed_exprs\u001b[49m\u001b[43m)\u001b[49m\u001b[38;5;241;43m.\u001b[39;49m\u001b[43mcollect\u001b[49m\u001b[43m(\u001b[49m\u001b[43m_eager\u001b[49m\u001b[38;5;241;43m=\u001b[39;49m\u001b[38;5;28;43;01mTrue\u001b[39;49;00m\u001b[43m)\u001b[49m\n",
      "File \u001b[0;32m~/Library/Caches/pypoetry/virtualenvs/python-polars-the-definitive-guide-b_q50VVY-py3.11/lib/python3.11/site-packages/polars/lazyframe/frame.py:1967\u001b[0m, in \u001b[0;36mLazyFrame.collect\u001b[0;34m(self, type_coercion, predicate_pushdown, projection_pushdown, simplify_expression, slice_pushdown, comm_subplan_elim, comm_subexpr_elim, cluster_with_columns, no_optimization, streaming, background, _eager, **_kwargs)\u001b[0m\n\u001b[1;32m   1964\u001b[0m \u001b[38;5;66;03m# Only for testing purposes atm.\u001b[39;00m\n\u001b[1;32m   1965\u001b[0m callback \u001b[38;5;241m=\u001b[39m _kwargs\u001b[38;5;241m.\u001b[39mget(\u001b[38;5;124m\"\u001b[39m\u001b[38;5;124mpost_opt_callback\u001b[39m\u001b[38;5;124m\"\u001b[39m)\n\u001b[0;32m-> 1967\u001b[0m \u001b[38;5;28;01mreturn\u001b[39;00m wrap_df(\u001b[43mldf\u001b[49m\u001b[38;5;241;43m.\u001b[39;49m\u001b[43mcollect\u001b[49m\u001b[43m(\u001b[49m\u001b[43mcallback\u001b[49m\u001b[43m)\u001b[49m)\n",
      "\u001b[0;31mComputeError\u001b[0m: conversion from `i64` to `u32` failed in column 'j' for 1 out of 5 values: [-5]"
     ]
    }
   ],
   "source": [
    "pl.Config(float_precision=2, tbl_cell_numeric_alignment=\"RIGHT\") # <1>\n",
    "\n",
    "(\n",
    "    pl.DataFrame({\n",
    "        \"i\": [0, 2, 2, -2, -2],\n",
    "        \"j\": [1, 2, 3, 4, -5]\n",
    "    })\n",
    "    .with_columns(\n",
    "        (pl.col(\"i\") + pl.col(\"j\")).alias(\"i + j\"),\n",
    "        (pl.col(\"i\") - pl.col(\"j\")).alias(\"i - j\"),\n",
    "        (pl.col(\"i\") * pl.col(\"j\")).alias(\"i * j\"),\n",
    "        (pl.col(\"i\") / pl.col(\"j\")).alias(\"i / j\"),\n",
    "        (pl.col(\"i\") // pl.col(\"j\")).alias(\"i // j\"),\n",
    "        (pl.col(\"i\") ** pl.col(\"j\")).alias(\"i ** j\"),\n",
    "        (pl.col(\"j\") % 2).alias(\"j % 2\"), # <2>\n",
    "        pl.col(\"i\").dot(pl.col(\"j\")).alias(\"i ⋅ j\"), # <3>\n",
    "    )\n",
    ")"
   ]
  },
  {
   "cell_type": "code",
   "execution_count": 8,
   "id": "fdfa94c8",
   "metadata": {},
   "outputs": [
    {
     "data": {
      "text/plain": [
       "polars.config.Config"
      ]
     },
     "execution_count": 6,
     "metadata": {},
     "output_type": "execute_result"
    }
   ],
   "source": [
    "pl.Config.set_float_precision()\n",
    "pl.Config.set_tbl_cell_numeric_alignment(None)"
   ]
  },
  {
   "cell_type": "markdown",
   "id": "d0b13245",
   "metadata": {},
   "source": [
    "## Comparison Operations"
   ]
  },
  {
   "cell_type": "code",
   "execution_count": 10,
   "id": "eadebb7b",
   "metadata": {},
   "outputs": [
    {
     "data": {
      "text/html": [
       "<div><style>\n",
       ".dataframe > thead > tr,\n",
       ".dataframe > tbody > tr {\n",
       "  text-align: right;\n",
       "  white-space: pre-wrap;\n",
       "}\n",
       "</style>\n",
       "<small>shape: (1, 1)</small><table border=\"1\" class=\"dataframe\"><thead><tr><th>literal</th></tr><tr><td>bool</td></tr></thead><tbody><tr><td>false</td></tr></tbody></table></div>"
      ],
      "text/plain": [
       "shape: (1, 1)\n",
       "┌─────────┐\n",
       "│ literal │\n",
       "│ ---     │\n",
       "│ bool    │\n",
       "╞═════════╡\n",
       "│ false   │\n",
       "└─────────┘"
      ]
     },
     "execution_count": 7,
     "metadata": {},
     "output_type": "execute_result"
    }
   ],
   "source": [
    "pl.select(pl.lit(\"a\") > pl.lit(\"b\"))"
   ]
  },
  {
   "cell_type": "code",
   "execution_count": 11,
   "id": "82c4a9bf",
   "metadata": {},
   "outputs": [
    {
     "data": {
      "text/html": [
       "<div><style>\n",
       ".dataframe > thead > tr,\n",
       ".dataframe > tbody > tr {\n",
       "  text-align: right;\n",
       "  white-space: pre-wrap;\n",
       "}\n",
       "</style>\n",
       "<small>shape: (3, 2)</small><table border=\"1\" class=\"dataframe\"><thead><tr><th>name</th><th>weight</th></tr><tr><td>str</td><td>i64</td></tr></thead><tbody><tr><td>&quot;Cantaloupe&quot;</td><td>2500</td></tr><tr><td>&quot;Papaya&quot;</td><td>1000</td></tr><tr><td>&quot;Watermelon&quot;</td><td>5000</td></tr></tbody></table></div>"
      ],
      "text/plain": [
       "shape: (3, 2)\n",
       "┌────────────┬────────┐\n",
       "│ name       ┆ weight │\n",
       "│ ---        ┆ ---    │\n",
       "│ str        ┆ i64    │\n",
       "╞════════════╪════════╡\n",
       "│ Cantaloupe ┆ 2500   │\n",
       "│ Papaya     ┆ 1000   │\n",
       "│ Watermelon ┆ 5000   │\n",
       "└────────────┴────────┘"
      ]
     },
     "execution_count": 8,
     "metadata": {},
     "output_type": "execute_result"
    }
   ],
   "source": [
    "(\n",
    "    fruit.select(\n",
    "        pl.col(\"name\"),\n",
    "        pl.col(\"weight\"),\n",
    "    )\n",
    "    .filter(pl.col(\"weight\") >= 1000)\n",
    ")"
   ]
  },
  {
   "cell_type": "code",
   "execution_count": 12,
   "id": "cbf712e0",
   "metadata": {},
   "outputs": [
    {
     "data": {
      "text/plain": [
       "True"
      ]
     },
     "execution_count": 9,
     "metadata": {},
     "output_type": "execute_result"
    }
   ],
   "source": [
    "x = 4\n",
    "3 < x < 5"
   ]
  },
  {
   "cell_type": "code",
   "execution_count": 13,
   "id": "051990cf",
   "metadata": {},
   "outputs": [
    {
     "ename": "TypeError",
     "evalue": "the truth value of an Expr is ambiguous\n\nYou probably got here by using a Python standard library function instead of the native expressions API.\nHere are some things you might want to try:\n- instead of `pl.col('a') and pl.col('b')`, use `pl.col('a') & pl.col('b')`\n- instead of `pl.col('a') in [y, z]`, use `pl.col('a').is_in([y, z])`\n- instead of `max(pl.col('a'), pl.col('b'))`, use `pl.max_horizontal(pl.col('a'), pl.col('b'))`\n",
     "output_type": "error",
     "traceback": [
      "\u001b[0;31m---------------------------------------------------------------------------\u001b[0m",
      "\u001b[0;31mTypeError\u001b[0m                                 Traceback (most recent call last)",
      "\u001b[0;32m/var/folders/3d/ldmd42_x7zx8d8xqy0fkhmgc0000gn/T/ipykernel_80198/2752113779.py\u001b[0m in \u001b[0;36m?\u001b[0;34m()\u001b[0m\n\u001b[0;32m----> 1\u001b[0;31m \u001b[0mpl\u001b[0m\u001b[0;34m.\u001b[0m\u001b[0mselect\u001b[0m\u001b[0;34m(\u001b[0m\u001b[0mpl\u001b[0m\u001b[0;34m.\u001b[0m\u001b[0mlit\u001b[0m\u001b[0;34m(\u001b[0m\u001b[0;36m3\u001b[0m\u001b[0;34m)\u001b[0m \u001b[0;34m<\u001b[0m \u001b[0mpl\u001b[0m\u001b[0;34m.\u001b[0m\u001b[0mlit\u001b[0m\u001b[0;34m(\u001b[0m\u001b[0mx\u001b[0m\u001b[0;34m)\u001b[0m \u001b[0;34m<\u001b[0m \u001b[0mpl\u001b[0m\u001b[0;34m.\u001b[0m\u001b[0mlit\u001b[0m\u001b[0;34m(\u001b[0m\u001b[0;36m5\u001b[0m\u001b[0;34m)\u001b[0m\u001b[0;34m)\u001b[0m\u001b[0;34m\u001b[0m\u001b[0;34m\u001b[0m\u001b[0m\n\u001b[0m",
      "\u001b[0;32m~/Library/Caches/pypoetry/virtualenvs/python-polars-the-definitive-guide-b_q50VVY-py3.11/lib/python3.11/site-packages/polars/expr/expr.py\u001b[0m in \u001b[0;36m?\u001b[0;34m(self)\u001b[0m\n\u001b[1;32m    158\u001b[0m             \u001b[0;34m\"- instead of `pl.col('a') and pl.col('b')`, use `pl.col('a') & pl.col('b')`\\n\"\u001b[0m\u001b[0;34m\u001b[0m\u001b[0;34m\u001b[0m\u001b[0m\n\u001b[1;32m    159\u001b[0m             \u001b[0;34m\"- instead of `pl.col('a') in [y, z]`, use `pl.col('a').is_in([y, z])`\\n\"\u001b[0m\u001b[0;34m\u001b[0m\u001b[0;34m\u001b[0m\u001b[0m\n\u001b[1;32m    160\u001b[0m             \u001b[0;34m\"- instead of `max(pl.col('a'), pl.col('b'))`, use `pl.max_horizontal(pl.col('a'), pl.col('b'))`\\n\"\u001b[0m\u001b[0;34m\u001b[0m\u001b[0;34m\u001b[0m\u001b[0m\n\u001b[1;32m    161\u001b[0m         )\n\u001b[0;32m--> 162\u001b[0;31m         \u001b[0;32mraise\u001b[0m \u001b[0mTypeError\u001b[0m\u001b[0;34m(\u001b[0m\u001b[0mmsg\u001b[0m\u001b[0;34m)\u001b[0m\u001b[0;34m\u001b[0m\u001b[0;34m\u001b[0m\u001b[0m\n\u001b[0m",
      "\u001b[0;31mTypeError\u001b[0m: the truth value of an Expr is ambiguous\n\nYou probably got here by using a Python standard library function instead of the native expressions API.\nHere are some things you might want to try:\n- instead of `pl.col('a') and pl.col('b')`, use `pl.col('a') & pl.col('b')`\n- instead of `pl.col('a') in [y, z]`, use `pl.col('a').is_in([y, z])`\n- instead of `max(pl.col('a'), pl.col('b'))`, use `pl.max_horizontal(pl.col('a'), pl.col('b'))`\n"
     ]
    }
   ],
   "source": [
    "pl.select(pl.lit(3) < pl.lit(x) < pl.lit(5))"
   ]
  },
  {
   "cell_type": "code",
   "execution_count": 14,
   "id": "30892c30",
   "metadata": {},
   "outputs": [
    {
     "data": {
      "text/plain": [
       "True"
      ]
     },
     "execution_count": 11,
     "metadata": {},
     "output_type": "execute_result"
    }
   ],
   "source": [
    "pl.select((pl.lit(3) < pl.lit(x)) & (pl.lit(x) < pl.lit(5))).item()"
   ]
  },
  {
   "cell_type": "code",
   "execution_count": 15,
   "id": "36b44607",
   "metadata": {},
   "outputs": [
    {
     "data": {
      "text/plain": [
       "True"
      ]
     },
     "execution_count": 12,
     "metadata": {},
     "output_type": "execute_result"
    }
   ],
   "source": [
    "pl.select(pl.lit(x).is_between(3, 5)).item()"
   ]
  },
  {
   "cell_type": "code",
   "execution_count": 16,
   "id": "62756af5",
   "metadata": {},
   "outputs": [
    {
     "data": {
      "text/html": [
       "<div><style>\n",
       ".dataframe > thead > tr,\n",
       ".dataframe > tbody > tr {\n",
       "  text-align: right;\n",
       "  white-space: pre-wrap;\n",
       "}\n",
       "</style>\n",
       "<small>shape: (4, 8)</small><table border=\"1\" class=\"dataframe\"><thead><tr><th>a</th><th>b</th><th>a == b</th><th>a &lt;= b</th><th>a &gt; 0</th><th>b &gt; 0</th><th>b ≈ √2</th><th>1 &lt; b &lt; 3</th></tr><tr><td>f64</td><td>f64</td><td>bool</td><td>bool</td><td>bool</td><td>bool</td><td>bool</td><td>bool</td></tr></thead><tbody><tr><td>-273.15</td><td>1.4142</td><td>false</td><td>true</td><td>false</td><td>true</td><td>true</td><td>true</td></tr><tr><td>0.0</td><td>2.7183</td><td>false</td><td>true</td><td>false</td><td>true</td><td>false</td><td>true</td></tr><tr><td>42.0</td><td>42.0</td><td>true</td><td>true</td><td>true</td><td>true</td><td>false</td><td>false</td></tr><tr><td>100.0</td><td>3.1415</td><td>false</td><td>false</td><td>true</td><td>true</td><td>false</td><td>false</td></tr></tbody></table></div>"
      ],
      "text/plain": [
       "shape: (4, 8)\n",
       "┌─────────┬────────┬────────┬────────┬───────┬───────┬────────┬───────────┐\n",
       "│ a       ┆ b      ┆ a == b ┆ a <= b ┆ a > 0 ┆ b > 0 ┆ b ≈ √2 ┆ 1 < b < 3 │\n",
       "│ ---     ┆ ---    ┆ ---    ┆ ---    ┆ ---   ┆ ---   ┆ ---    ┆ ---       │\n",
       "│ f64     ┆ f64    ┆ bool   ┆ bool   ┆ bool  ┆ bool  ┆ bool   ┆ bool      │\n",
       "╞═════════╪════════╪════════╪════════╪═══════╪═══════╪════════╪═══════════╡\n",
       "│ -273.15 ┆ 1.4142 ┆ false  ┆ true   ┆ false ┆ true  ┆ true   ┆ true      │\n",
       "│ 0.0     ┆ 2.7183 ┆ false  ┆ true   ┆ false ┆ true  ┆ false  ┆ true      │\n",
       "│ 42.0    ┆ 42.0   ┆ true   ┆ true   ┆ true  ┆ true  ┆ false  ┆ false     │\n",
       "│ 100.0   ┆ 3.1415 ┆ false  ┆ false  ┆ true  ┆ true  ┆ false  ┆ false     │\n",
       "└─────────┴────────┴────────┴────────┴───────┴───────┴────────┴───────────┘"
      ]
     },
     "execution_count": 13,
     "metadata": {},
     "output_type": "execute_result"
    }
   ],
   "source": [
    "(\n",
    "    pl.DataFrame({\n",
    "        \"a\": [-273.15, 0, 42, 100],\n",
    "        \"b\": [1.4142, 2.7183, 42, 3.1415]\n",
    "    })\n",
    "    .with_columns(\n",
    "        (pl.col(\"a\") == pl.col(\"b\")).alias(\"a == b\"),\n",
    "        (pl.col(\"a\") <= pl.col(\"b\")).alias(\"a <= b\"),\n",
    "        (pl.all() > 0).name.suffix(\" > 0\"),\n",
    "        ((pl.col(\"b\") - pl.lit(2).sqrt()).abs() < 1e-3).alias(\"b ≈ √2\"), # <1>\n",
    "        ((1 < pl.col(\"b\")) & (pl.col(\"b\") < 3)).alias(\"1 < b < 3\")\n",
    "    )\n",
    ")"
   ]
  },
  {
   "cell_type": "code",
   "execution_count": 17,
   "id": "c7a05d62",
   "metadata": {},
   "outputs": [
    {
     "data": {
      "text/html": [
       "<div><style>\n",
       ".dataframe > thead > tr,\n",
       ".dataframe > tbody > tr {\n",
       "  text-align: right;\n",
       "  white-space: pre-wrap;\n",
       "}\n",
       "</style>\n",
       "<small>shape: (5, 2)</small><table border=\"1\" class=\"dataframe\"><thead><tr><th>comparison</th><th>allowed</th></tr><tr><td>str</td><td>bool</td></tr></thead><tbody><tr><td>&quot;bool_num&quot;</td><td>true</td></tr><tr><td>&quot;time_time&quot;</td><td>true</td></tr><tr><td>&quot;datetime_date&quot;</td><td>true</td></tr><tr><td>&quot;str_num&quot;</td><td>false</td></tr><tr><td>&quot;datetime_time&quot;</td><td>false</td></tr></tbody></table></div>"
      ],
      "text/plain": [
       "shape: (5, 2)\n",
       "┌───────────────┬─────────┐\n",
       "│ comparison    ┆ allowed │\n",
       "│ ---           ┆ ---     │\n",
       "│ str           ┆ bool    │\n",
       "╞═══════════════╪═════════╡\n",
       "│ bool_num      ┆ true    │\n",
       "│ time_time     ┆ true    │\n",
       "│ datetime_date ┆ true    │\n",
       "│ str_num       ┆ false   │\n",
       "│ datetime_time ┆ false   │\n",
       "└───────────────┴─────────┘"
      ]
     },
     "execution_count": 14,
     "metadata": {},
     "output_type": "execute_result"
    }
   ],
   "source": [
    "pl.select(\n",
    "    bool_num=pl.lit(True) > 0,\n",
    "    time_time=pl.time(23, 58) > pl.time(0, 0),\n",
    "    datetime_date=pl.datetime(1969, 7, 21, 2, 56) < pl.date(1976, 7, 20),\n",
    "    str_num=pl.lit(\"5\") < pl.lit(3).cast(pl.String), # <1>\n",
    "    datetime_time=pl.datetime(1999, 1, 1).dt.time() != pl.time(0, 0), # <2>\n",
    ").transpose(include_header=True,\n",
    "            header_name=\"comparison\",\n",
    "            column_names=[\"allowed\"])"
   ]
  },
  {
   "cell_type": "markdown",
   "id": "642d6f09",
   "metadata": {},
   "source": [
    "## Boolean Algebra Operations"
   ]
  },
  {
   "cell_type": "code",
   "execution_count": 19,
   "id": "d08873c7",
   "metadata": {},
   "outputs": [
    {
     "data": {
      "text/plain": [
       "False"
      ]
     },
     "execution_count": 15,
     "metadata": {},
     "output_type": "execute_result"
    }
   ],
   "source": [
    "x = 7\n",
    "p = pl.lit(3) < pl.lit(x)  # True\n",
    "q = pl.lit(x) < pl.lit(5)  # False\n",
    "pl.select(p & q).item()"
   ]
  },
  {
   "cell_type": "code",
   "execution_count": 20,
   "id": "6ba38d8a",
   "metadata": {},
   "outputs": [
    {
     "data": {
      "text/html": [
       "<div><style>\n",
       ".dataframe > thead > tr,\n",
       ".dataframe > tbody > tr {\n",
       "  text-align: right;\n",
       "  white-space: pre-wrap;\n",
       "}\n",
       "</style>\n",
       "<small>shape: (4, 8)</small><table border=\"1\" class=\"dataframe\"><thead><tr><th>p</th><th>q</th><th>p &amp; q</th><th>p | q</th><th>~p</th><th>p ^ q</th><th>p ↑ q</th><th>p ↓ q</th></tr><tr><td>bool</td><td>bool</td><td>bool</td><td>bool</td><td>bool</td><td>bool</td><td>bool</td><td>bool</td></tr></thead><tbody><tr><td>true</td><td>true</td><td>true</td><td>true</td><td>false</td><td>false</td><td>false</td><td>false</td></tr><tr><td>true</td><td>false</td><td>false</td><td>true</td><td>false</td><td>true</td><td>true</td><td>false</td></tr><tr><td>false</td><td>true</td><td>false</td><td>true</td><td>true</td><td>true</td><td>true</td><td>false</td></tr><tr><td>false</td><td>false</td><td>false</td><td>false</td><td>true</td><td>false</td><td>true</td><td>true</td></tr></tbody></table></div>"
      ],
      "text/plain": [
       "shape: (4, 8)\n",
       "┌───────┬───────┬───────┬───────┬───────┬───────┬───────┬───────┐\n",
       "│ p     ┆ q     ┆ p & q ┆ p | q ┆ ~p    ┆ p ^ q ┆ p ↑ q ┆ p ↓ q │\n",
       "│ ---   ┆ ---   ┆ ---   ┆ ---   ┆ ---   ┆ ---   ┆ ---   ┆ ---   │\n",
       "│ bool  ┆ bool  ┆ bool  ┆ bool  ┆ bool  ┆ bool  ┆ bool  ┆ bool  │\n",
       "╞═══════╪═══════╪═══════╪═══════╪═══════╪═══════╪═══════╪═══════╡\n",
       "│ true  ┆ true  ┆ true  ┆ true  ┆ false ┆ false ┆ false ┆ false │\n",
       "│ true  ┆ false ┆ false ┆ true  ┆ false ┆ true  ┆ true  ┆ false │\n",
       "│ false ┆ true  ┆ false ┆ true  ┆ true  ┆ true  ┆ true  ┆ false │\n",
       "│ false ┆ false ┆ false ┆ false ┆ true  ┆ false ┆ true  ┆ true  │\n",
       "└───────┴───────┴───────┴───────┴───────┴───────┴───────┴───────┘"
      ]
     },
     "execution_count": 16,
     "metadata": {},
     "output_type": "execute_result"
    }
   ],
   "source": [
    "(\n",
    "    pl.DataFrame({\n",
    "        \"p\": [True, True, False, False],\n",
    "        \"q\": [True, False, True, False]\n",
    "    })\n",
    "    .with_columns(\n",
    "        (pl.col(\"p\") & pl.col(\"q\")).alias(\"p & q\"),\n",
    "        (pl.col(\"p\") | pl.col(\"q\")).alias(\"p | q\"),\n",
    "        (~pl.col(\"p\")).alias(\"~p\"),\n",
    "        (pl.col(\"p\") ^ pl.col(\"q\")).alias(\"p ^ q\"),\n",
    "        (~(pl.col(\"p\") & pl.col(\"q\"))).alias(\"p ↑ q\"),  # <1>\n",
    "        ((pl.col(\"p\").or_(pl.col(\"q\"))).not_()).alias(\"p ↓ q\")  # <2>\n",
    "    )\n",
    ")"
   ]
  },
  {
   "cell_type": "markdown",
   "id": "15fe981c",
   "metadata": {},
   "source": [
    "## Bitwise Operations"
   ]
  },
  {
   "cell_type": "code",
   "execution_count": 22,
   "id": "62a2a5b7",
   "metadata": {},
   "outputs": [
    {
     "data": {
      "text/plain": [
       "42"
      ]
     },
     "execution_count": 17,
     "metadata": {},
     "output_type": "execute_result"
    }
   ],
   "source": [
    "pl.select(pl.lit(10) | pl.lit(34)).item()"
   ]
  },
  {
   "cell_type": "code",
   "execution_count": 23,
   "id": "3e56e36d",
   "metadata": {},
   "outputs": [
    {
     "data": {
      "text/html": [
       "<div><style>\n",
       ".dataframe > thead > tr,\n",
       ".dataframe > tbody > tr {\n",
       "  text-align: right;\n",
       "  white-space: pre-wrap;\n",
       "}\n",
       "</style>\n",
       "<small>shape: (6, 6)</small><table border=\"1\" class=\"dataframe\"><thead><tr><th>x</th><th>y</th><th>x &amp; y</th><th>x | y</th><th>~x</th><th>x ^ y</th></tr><tr><td>u8</td><td>u8</td><td>u8</td><td>u8</td><td>u8</td><td>u8</td></tr></thead><tbody><tr><td>1</td><td>1</td><td>1</td><td>1</td><td>254</td><td>0</td></tr><tr><td>1</td><td>0</td><td>0</td><td>1</td><td>254</td><td>1</td></tr><tr><td>0</td><td>1</td><td>0</td><td>1</td><td>255</td><td>1</td></tr><tr><td>0</td><td>0</td><td>0</td><td>0</td><td>255</td><td>0</td></tr><tr><td>7</td><td>2</td><td>2</td><td>7</td><td>248</td><td>5</td></tr><tr><td>10</td><td>34</td><td>2</td><td>42</td><td>245</td><td>40</td></tr></tbody></table></div>"
      ],
      "text/plain": [
       "shape: (6, 6)\n",
       "┌─────┬─────┬───────┬───────┬─────┬───────┐\n",
       "│ x   ┆ y   ┆ x & y ┆ x | y ┆ ~x  ┆ x ^ y │\n",
       "│ --- ┆ --- ┆ ---   ┆ ---   ┆ --- ┆ ---   │\n",
       "│ u8  ┆ u8  ┆ u8    ┆ u8    ┆ u8  ┆ u8    │\n",
       "╞═════╪═════╪═══════╪═══════╪═════╪═══════╡\n",
       "│ 1   ┆ 1   ┆ 1     ┆ 1     ┆ 254 ┆ 0     │\n",
       "│ 1   ┆ 0   ┆ 0     ┆ 1     ┆ 254 ┆ 1     │\n",
       "│ 0   ┆ 1   ┆ 0     ┆ 1     ┆ 255 ┆ 1     │\n",
       "│ 0   ┆ 0   ┆ 0     ┆ 0     ┆ 255 ┆ 0     │\n",
       "│ 7   ┆ 2   ┆ 2     ┆ 7     ┆ 248 ┆ 5     │\n",
       "│ 10  ┆ 34  ┆ 2     ┆ 42    ┆ 245 ┆ 40    │\n",
       "└─────┴─────┴───────┴───────┴─────┴───────┘"
      ]
     },
     "execution_count": 18,
     "metadata": {},
     "output_type": "execute_result"
    }
   ],
   "source": [
    "bits = (\n",
    "    pl.DataFrame({\n",
    "        \"x\": [1, 1, 0, 0, 7, 10],\n",
    "        \"y\": [1, 0, 1, 0, 2, 34]\n",
    "    }, schema={\"x\": pl.UInt8, \"y\": pl.UInt8})  # <1>\n",
    "    .with_columns(\n",
    "        (pl.col(\"x\") & pl.col(\"y\")).alias(\"x & y\"),\n",
    "        (pl.col(\"x\") | pl.col(\"y\")).alias(\"x | y\"),\n",
    "        (~pl.col(\"x\")).alias(\"~x\"),\n",
    "        (pl.col(\"x\") ^ pl.col(\"y\")).alias(\"x ^ y\"),\n",
    "    )\n",
    ")\n",
    "bits"
   ]
  },
  {
   "cell_type": "code",
   "execution_count": 24,
   "id": "f72d68d8",
   "metadata": {},
   "outputs": [
    {
     "name": "stderr",
     "output_type": "stream",
     "text": [
      "sys:1: MapWithoutReturnDtypeWarning: Calling `map_elements` without specifying `return_dtype` can lead to unpredictable results. Specify `return_dtype` to silence this warning.\n",
      "sys:1: MapWithoutReturnDtypeWarning: Calling `map_elements` without specifying `return_dtype` can lead to unpredictable results. Specify `return_dtype` to silence this warning.\n",
      "sys:1: MapWithoutReturnDtypeWarning: Calling `map_elements` without specifying `return_dtype` can lead to unpredictable results. Specify `return_dtype` to silence this warning.\n",
      "sys:1: MapWithoutReturnDtypeWarning: Calling `map_elements` without specifying `return_dtype` can lead to unpredictable results. Specify `return_dtype` to silence this warning.\n",
      "sys:1: MapWithoutReturnDtypeWarning: Calling `map_elements` without specifying `return_dtype` can lead to unpredictable results. Specify `return_dtype` to silence this warning.\n",
      "sys:1: MapWithoutReturnDtypeWarning: Calling `map_elements` without specifying `return_dtype` can lead to unpredictable results. Specify `return_dtype` to silence this warning.\n"
     ]
    },
    {
     "data": {
      "text/html": [
       "<div><style>\n",
       ".dataframe > thead > tr,\n",
       ".dataframe > tbody > tr {\n",
       "  text-align: right;\n",
       "  white-space: pre-wrap;\n",
       "}\n",
       "</style>\n",
       "<small>shape: (6, 6)</small><table border=\"1\" class=\"dataframe\"><thead><tr><th>x</th><th>y</th><th>x &amp; y</th><th>x | y</th><th>~x</th><th>x ^ y</th></tr><tr><td>str</td><td>str</td><td>str</td><td>str</td><td>str</td><td>str</td></tr></thead><tbody><tr><td>&quot;00000001&quot;</td><td>&quot;00000001&quot;</td><td>&quot;00000001&quot;</td><td>&quot;00000001&quot;</td><td>&quot;11111110&quot;</td><td>&quot;00000000&quot;</td></tr><tr><td>&quot;00000001&quot;</td><td>&quot;00000000&quot;</td><td>&quot;00000000&quot;</td><td>&quot;00000001&quot;</td><td>&quot;11111110&quot;</td><td>&quot;00000001&quot;</td></tr><tr><td>&quot;00000000&quot;</td><td>&quot;00000001&quot;</td><td>&quot;00000000&quot;</td><td>&quot;00000001&quot;</td><td>&quot;11111111&quot;</td><td>&quot;00000001&quot;</td></tr><tr><td>&quot;00000000&quot;</td><td>&quot;00000000&quot;</td><td>&quot;00000000&quot;</td><td>&quot;00000000&quot;</td><td>&quot;11111111&quot;</td><td>&quot;00000000&quot;</td></tr><tr><td>&quot;00000111&quot;</td><td>&quot;00000010&quot;</td><td>&quot;00000010&quot;</td><td>&quot;00000111&quot;</td><td>&quot;11111000&quot;</td><td>&quot;00000101&quot;</td></tr><tr><td>&quot;00001010&quot;</td><td>&quot;00100010&quot;</td><td>&quot;00000010&quot;</td><td>&quot;00101010&quot;</td><td>&quot;11110101&quot;</td><td>&quot;00101000&quot;</td></tr></tbody></table></div>"
      ],
      "text/plain": [
       "shape: (6, 6)\n",
       "┌──────────┬──────────┬──────────┬──────────┬──────────┬──────────┐\n",
       "│ x        ┆ y        ┆ x & y    ┆ x | y    ┆ ~x       ┆ x ^ y    │\n",
       "│ ---      ┆ ---      ┆ ---      ┆ ---      ┆ ---      ┆ ---      │\n",
       "│ str      ┆ str      ┆ str      ┆ str      ┆ str      ┆ str      │\n",
       "╞══════════╪══════════╪══════════╪══════════╪══════════╪══════════╡\n",
       "│ 00000001 ┆ 00000001 ┆ 00000001 ┆ 00000001 ┆ 11111110 ┆ 00000000 │\n",
       "│ 00000001 ┆ 00000000 ┆ 00000000 ┆ 00000001 ┆ 11111110 ┆ 00000001 │\n",
       "│ 00000000 ┆ 00000001 ┆ 00000000 ┆ 00000001 ┆ 11111111 ┆ 00000001 │\n",
       "│ 00000000 ┆ 00000000 ┆ 00000000 ┆ 00000000 ┆ 11111111 ┆ 00000000 │\n",
       "│ 00000111 ┆ 00000010 ┆ 00000010 ┆ 00000111 ┆ 11111000 ┆ 00000101 │\n",
       "│ 00001010 ┆ 00100010 ┆ 00000010 ┆ 00101010 ┆ 11110101 ┆ 00101000 │\n",
       "└──────────┴──────────┴──────────┴──────────┴──────────┴──────────┘"
      ]
     },
     "execution_count": 19,
     "metadata": {},
     "output_type": "execute_result"
    }
   ],
   "source": [
    "bits.select(pl.all().map_elements(\"{0:08b}\".format))"
   ]
  },
  {
   "cell_type": "markdown",
   "id": "561778fe",
   "metadata": {},
   "source": [
    "## Using Functions"
   ]
  },
  {
   "cell_type": "code",
   "execution_count": 26,
   "id": "678dfea7",
   "metadata": {},
   "outputs": [
    {
     "data": {
      "text/html": [
       "<div><style>\n",
       ".dataframe > thead > tr,\n",
       ".dataframe > tbody > tr {\n",
       "  text-align: right;\n",
       "  white-space: pre-wrap;\n",
       "}\n",
       "</style>\n",
       "<small>shape: (5, 3)</small><table border=\"1\" class=\"dataframe\"><thead><tr><th>first_name</th><th>last_name</th><th>country</th></tr><tr><td>str</td><td>str</td><td>str</td></tr></thead><tbody><tr><td>&quot;George&quot;</td><td>&quot;Boole&quot;</td><td>&quot;England&quot;</td></tr><tr><td>&quot;Grace&quot;</td><td>&quot;Hopper&quot;</td><td>&quot;United States&quot;</td></tr><tr><td>&quot;John&quot;</td><td>&quot;Tukey&quot;</td><td>&quot;United States&quot;</td></tr><tr><td>&quot;Kurt&quot;</td><td>&quot;Gödel&quot;</td><td>&quot;Austria-Hungary&quot;</td></tr><tr><td>&quot;Ada&quot;</td><td>&quot;Lovelace&quot;</td><td>&quot;England&quot;</td></tr></tbody></table></div>"
      ],
      "text/plain": [
       "shape: (5, 3)\n",
       "┌────────────┬───────────┬─────────────────┐\n",
       "│ first_name ┆ last_name ┆ country         │\n",
       "│ ---        ┆ ---       ┆ ---             │\n",
       "│ str        ┆ str       ┆ str             │\n",
       "╞════════════╪═══════════╪═════════════════╡\n",
       "│ George     ┆ Boole     ┆ England         │\n",
       "│ Grace      ┆ Hopper    ┆ United States   │\n",
       "│ John       ┆ Tukey     ┆ United States   │\n",
       "│ Kurt       ┆ Gödel     ┆ Austria-Hungary │\n",
       "│ Ada        ┆ Lovelace  ┆ England         │\n",
       "└────────────┴───────────┴─────────────────┘"
      ]
     },
     "execution_count": 20,
     "metadata": {},
     "output_type": "execute_result"
    }
   ],
   "source": [
    "scientists = pl.DataFrame({\n",
    "    'first_name': ['George', 'Grace', 'John', 'Kurt', 'Ada'],\n",
    "    'last_name': ['Boole', 'Hopper', 'Tukey', 'Gödel', 'Lovelace'],\n",
    "    'country': ['England', 'United States', 'United States',\n",
    "    'Austria-Hungary', 'England']\n",
    "})\n",
    "scientists"
   ]
  },
  {
   "cell_type": "code",
   "execution_count": 27,
   "id": "65e7d74d",
   "metadata": {},
   "outputs": [
    {
     "data": {
      "text/html": [
       "<div><style>\n",
       ".dataframe > thead > tr,\n",
       ".dataframe > tbody > tr {\n",
       "  text-align: right;\n",
       "  white-space: pre-wrap;\n",
       "}\n",
       "</style>\n",
       "<small>shape: (5, 2)</small><table border=\"1\" class=\"dataframe\"><thead><tr><th>concat_list</th><th>struct</th></tr><tr><td>list[str]</td><td>struct[3]</td></tr></thead><tbody><tr><td>[&quot;George&quot;, &quot;Boole&quot;]</td><td>{&quot;George&quot;,&quot;Boole&quot;,&quot;England&quot;}</td></tr><tr><td>[&quot;Grace&quot;, &quot;Hopper&quot;]</td><td>{&quot;Grace&quot;,&quot;Hopper&quot;,&quot;United States&quot;}</td></tr><tr><td>[&quot;John&quot;, &quot;Tukey&quot;]</td><td>{&quot;John&quot;,&quot;Tukey&quot;,&quot;United States&quot;}</td></tr><tr><td>[&quot;Kurt&quot;, &quot;Gödel&quot;]</td><td>{&quot;Kurt&quot;,&quot;Gödel&quot;,&quot;Austria-Hungary&quot;}</td></tr><tr><td>[&quot;Ada&quot;, &quot;Lovelace&quot;]</td><td>{&quot;Ada&quot;,&quot;Lovelace&quot;,&quot;England&quot;}</td></tr></tbody></table></div>"
      ],
      "text/plain": [
       "shape: (5, 2)\n",
       "┌─────────────────────┬─────────────────────────────────┐\n",
       "│ concat_list         ┆ struct                          │\n",
       "│ ---                 ┆ ---                             │\n",
       "│ list[str]           ┆ struct[3]                       │\n",
       "╞═════════════════════╪═════════════════════════════════╡\n",
       "│ [\"George\", \"Boole\"] ┆ {\"George\",\"Boole\",\"England\"}    │\n",
       "│ [\"Grace\", \"Hopper\"] ┆ {\"Grace\",\"Hopper\",\"United Stat… │\n",
       "│ [\"John\", \"Tukey\"]   ┆ {\"John\",\"Tukey\",\"United States… │\n",
       "│ [\"Kurt\", \"Gödel\"]   ┆ {\"Kurt\",\"Gödel\",\"Austria-Hunga… │\n",
       "│ [\"Ada\", \"Lovelace\"] ┆ {\"Ada\",\"Lovelace\",\"England\"}    │\n",
       "└─────────────────────┴─────────────────────────────────┘"
      ]
     },
     "execution_count": 21,
     "metadata": {},
     "output_type": "execute_result"
    }
   ],
   "source": [
    "scientists.select(\n",
    "    pl.concat_list(pl.col(\"^*_name$\")).alias(\"concat_list\"),\n",
    "    pl.struct(pl.all()).alias(\"struct\")\n",
    ")"
   ]
  },
  {
   "cell_type": "code",
   "execution_count": 28,
   "id": "83fadf42",
   "metadata": {},
   "outputs": [
    {
     "data": {
      "text/html": [
       "<div><style>\n",
       ".dataframe > thead > tr,\n",
       ".dataframe > tbody > tr {\n",
       "  text-align: right;\n",
       "  white-space: pre-wrap;\n",
       "}\n",
       "</style>\n",
       "<small>shape: (5, 2)</small><table border=\"1\" class=\"dataframe\"><thead><tr><th>concat_str</th><th>format</th></tr><tr><td>str</td><td>str</td></tr></thead><tbody><tr><td>&quot;George Boole England&quot;</td><td>&quot;Boole, George from England&quot;</td></tr><tr><td>&quot;Grace Hopper United States&quot;</td><td>&quot;Hopper, Grace from United Stat…</td></tr><tr><td>&quot;John Tukey United States&quot;</td><td>&quot;Tukey, John from United States&quot;</td></tr><tr><td>&quot;Kurt Gödel Austria-Hungary&quot;</td><td>&quot;Gödel, Kurt from Austria-Hunga…</td></tr><tr><td>&quot;Ada Lovelace England&quot;</td><td>&quot;Lovelace, Ada from England&quot;</td></tr></tbody></table></div>"
      ],
      "text/plain": [
       "shape: (5, 2)\n",
       "┌────────────────────────────┬─────────────────────────────────┐\n",
       "│ concat_str                 ┆ format                          │\n",
       "│ ---                        ┆ ---                             │\n",
       "│ str                        ┆ str                             │\n",
       "╞════════════════════════════╪═════════════════════════════════╡\n",
       "│ George Boole England       ┆ Boole, George from England      │\n",
       "│ Grace Hopper United States ┆ Hopper, Grace from United Stat… │\n",
       "│ John Tukey United States   ┆ Tukey, John from United States  │\n",
       "│ Kurt Gödel Austria-Hungary ┆ Gödel, Kurt from Austria-Hunga… │\n",
       "│ Ada Lovelace England       ┆ Lovelace, Ada from England      │\n",
       "└────────────────────────────┴─────────────────────────────────┘"
      ]
     },
     "execution_count": 22,
     "metadata": {},
     "output_type": "execute_result"
    }
   ],
   "source": [
    "scientists.select(\n",
    "    pl.concat_str(pl.all(), separator=\" \").alias(\"concat_str\"),\n",
    "    pl.format(\"{}, {} from {}\",\n",
    "    \"last_name\", \"first_name\", \"country\").alias(\"format\")\n",
    "    )"
   ]
  },
  {
   "cell_type": "code",
   "execution_count": 29,
   "id": "83bd7b50",
   "metadata": {},
   "outputs": [
    {
     "data": {
      "text/html": [
       "<div><style>\n",
       ".dataframe > thead > tr,\n",
       ".dataframe > tbody > tr {\n",
       "  text-align: right;\n",
       "  white-space: pre-wrap;\n",
       "}\n",
       "</style>\n",
       "<small>shape: (5, 7)</small><table border=\"1\" class=\"dataframe\"><thead><tr><th>id</th><th>has_pet</th><th>likes_travel</th><th>likes_movies</th><th>likes_books</th><th>all</th><th>any</th></tr><tr><td>i64</td><td>bool</td><td>bool</td><td>bool</td><td>bool</td><td>bool</td><td>bool</td></tr></thead><tbody><tr><td>1</td><td>true</td><td>false</td><td>true</td><td>false</td><td>false</td><td>true</td></tr><tr><td>7</td><td>false</td><td>false</td><td>false</td><td>false</td><td>false</td><td>false</td></tr><tr><td>42</td><td>true</td><td>false</td><td>true</td><td>true</td><td>false</td><td>true</td></tr><tr><td>101</td><td>false</td><td>false</td><td>false</td><td>true</td><td>false</td><td>true</td></tr><tr><td>999</td><td>true</td><td>true</td><td>true</td><td>true</td><td>true</td><td>true</td></tr></tbody></table></div>"
      ],
      "text/plain": [
       "shape: (5, 7)\n",
       "┌─────┬─────────┬──────────────┬──────────────┬─────────────┬───────┬───────┐\n",
       "│ id  ┆ has_pet ┆ likes_travel ┆ likes_movies ┆ likes_books ┆ all   ┆ any   │\n",
       "│ --- ┆ ---     ┆ ---          ┆ ---          ┆ ---         ┆ ---   ┆ ---   │\n",
       "│ i64 ┆ bool    ┆ bool         ┆ bool         ┆ bool        ┆ bool  ┆ bool  │\n",
       "╞═════╪═════════╪══════════════╪══════════════╪═════════════╪═══════╪═══════╡\n",
       "│ 1   ┆ true    ┆ false        ┆ true         ┆ false       ┆ false ┆ true  │\n",
       "│ 7   ┆ false   ┆ false        ┆ false        ┆ false       ┆ false ┆ false │\n",
       "│ 42  ┆ true    ┆ false        ┆ true         ┆ true        ┆ false ┆ true  │\n",
       "│ 101 ┆ false   ┆ false        ┆ false        ┆ true        ┆ false ┆ true  │\n",
       "│ 999 ┆ true    ┆ true         ┆ true         ┆ true        ┆ true  ┆ true  │\n",
       "└─────┴─────────┴──────────────┴──────────────┴─────────────┴───────┴───────┘"
      ]
     },
     "execution_count": 23,
     "metadata": {},
     "output_type": "execute_result"
    }
   ],
   "source": [
    "prefs = pl.DataFrame({\n",
    "    \"id\": [1, 7, 42, 101, 999],\n",
    "    \"has_pet\": [True, False, True, False, True],\n",
    "    \"likes_travel\": [False, False, False, False, True],\n",
    "    \"likes_movies\": [True, False, True, False, True],\n",
    "    \"likes_books\": [False, False, True, True, True]\n",
    "}).with_columns(\n",
    "    pl.all_horizontal(pl.exclude(\"id\")).alias(\"all\"),\n",
    "    pl.any_horizontal(pl.exclude(\"id\")).alias(\"any\"),\n",
    ")\n",
    "prefs"
   ]
  },
  {
   "cell_type": "code",
   "execution_count": 30,
   "id": "902a95ab",
   "metadata": {},
   "outputs": [
    {
     "data": {
      "text/html": [
       "<div><style>\n",
       ".dataframe > thead > tr,\n",
       ".dataframe > tbody > tr {\n",
       "  text-align: right;\n",
       "  white-space: pre-wrap;\n",
       "}\n",
       "</style>\n",
       "<small>shape: (5, 3)</small><table border=\"1\" class=\"dataframe\"><thead><tr><th>sum</th><th>max</th><th>min</th></tr><tr><td>i64</td><td>i64</td><td>i64</td></tr></thead><tbody><tr><td>4</td><td>1</td><td>0</td></tr><tr><td>7</td><td>7</td><td>0</td></tr><tr><td>46</td><td>42</td><td>0</td></tr><tr><td>103</td><td>101</td><td>0</td></tr><tr><td>1005</td><td>999</td><td>1</td></tr></tbody></table></div>"
      ],
      "text/plain": [
       "shape: (5, 3)\n",
       "┌──────┬─────┬─────┐\n",
       "│ sum  ┆ max ┆ min │\n",
       "│ ---  ┆ --- ┆ --- │\n",
       "│ i64  ┆ i64 ┆ i64 │\n",
       "╞══════╪═════╪═════╡\n",
       "│ 4    ┆ 1   ┆ 0   │\n",
       "│ 7    ┆ 7   ┆ 0   │\n",
       "│ 46   ┆ 42  ┆ 0   │\n",
       "│ 103  ┆ 101 ┆ 0   │\n",
       "│ 1005 ┆ 999 ┆ 1   │\n",
       "└──────┴─────┴─────┘"
      ]
     },
     "execution_count": 24,
     "metadata": {},
     "output_type": "execute_result"
    }
   ],
   "source": [
    "prefs.select(\n",
    "    pl.sum_horizontal(pl.all()).alias(\"sum\"),\n",
    "    pl.max_horizontal(pl.all()).alias(\"max\"),\n",
    "    pl.min_horizontal(pl.all()).alias(\"min\"),\n",
    ")"
   ]
  },
  {
   "cell_type": "code",
   "execution_count": 31,
   "id": "e3621260",
   "metadata": {},
   "outputs": [
    {
     "data": {
      "text/html": [
       "<div><style>\n",
       ".dataframe > thead > tr,\n",
       ".dataframe > tbody > tr {\n",
       "  text-align: right;\n",
       "  white-space: pre-wrap;\n",
       "}\n",
       "</style>\n",
       "<small>shape: (5, 2)</small><table border=\"1\" class=\"dataframe\"><thead><tr><th>id</th><th>likes_what</th></tr><tr><td>i64</td><td>str</td></tr></thead><tbody><tr><td>1</td><td>&quot;Likes something&quot;</td></tr><tr><td>7</td><td>&quot;Likes nothing&quot;</td></tr><tr><td>42</td><td>&quot;Likes something&quot;</td></tr><tr><td>101</td><td>&quot;Likes something&quot;</td></tr><tr><td>999</td><td>&quot;Likes everything&quot;</td></tr></tbody></table></div>"
      ],
      "text/plain": [
       "shape: (5, 2)\n",
       "┌─────┬──────────────────┐\n",
       "│ id  ┆ likes_what       │\n",
       "│ --- ┆ ---              │\n",
       "│ i64 ┆ str              │\n",
       "╞═════╪══════════════════╡\n",
       "│ 1   ┆ Likes something  │\n",
       "│ 7   ┆ Likes nothing    │\n",
       "│ 42  ┆ Likes something  │\n",
       "│ 101 ┆ Likes something  │\n",
       "│ 999 ┆ Likes everything │\n",
       "└─────┴──────────────────┘"
      ]
     },
     "execution_count": 25,
     "metadata": {},
     "output_type": "execute_result"
    }
   ],
   "source": [
    "prefs.select(\n",
    "    pl.col(\"id\"),\n",
    "    pl.when(pl.all_horizontal(pl.col(\"^likes_.*$\")))\n",
    "    .then(pl.lit(\"Likes everything\"))\n",
    "    .when(pl.any_horizontal(pl.col(\"^likes_.*$\")))\n",
    "    .then(pl.lit(\"Likes something\"))\n",
    "    .otherwise(pl.lit(\"Likes nothing\"))\n",
    "    .alias(\"likes_what\")\n",
    ")"
   ]
  },
  {
   "cell_type": "markdown",
   "id": "d0614b09",
   "metadata": {},
   "source": [
    "## Conclusion"
   ]
  }
 ],
 "metadata": {
  "language_info": {
   "codemirror_mode": {
    "name": "ipython",
    "version": 3
   },
   "file_extension": ".py",
   "mimetype": "text/x-python",
   "name": "python",
   "nbconvert_exporter": "python",
   "pygments_lexer": "ipython3",
   "version": "3.11.9"
  }
 },
 "nbformat": 4,
 "nbformat_minor": 5
}
