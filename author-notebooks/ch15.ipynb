{
 "cells": [
  {
   "cell_type": "markdown",
   "id": "14bab7d9",
   "metadata": {},
   "source": [
    "# Chapter 15: Reshaping"
   ]
  },
  {
   "cell_type": "code",
   "execution_count": 1,
   "id": "c5cf9738",
   "metadata": {},
   "outputs": [
    {
     "name": "stdout",
     "output_type": "stream",
     "text": [
      "--------Version info---------\n",
      "Polars:               0.20.31\n",
      "Index type:           UInt32\n",
      "Platform:             macOS-12.5-arm64-arm-64bit\n",
      "Python:               3.11.9 (main, Apr  2 2024, 16:11:47) [Clang 14.0.0 (clang-1400.0.29.202)]\n",
      "\n",
      "----Optional dependencies----\n",
      "adbc_driver_manager:  0.8.0\n",
      "cloudpickle:          3.0.0\n",
      "connectorx:           0.3.2\n",
      "deltalake:            0.15.0\n",
      "fastexcel:            0.9.1\n",
      "fsspec:               2023.12.2\n",
      "gevent:               23.9.1\n",
      "hvplot:               0.9.2\n",
      "matplotlib:           3.8.4\n",
      "nest_asyncio:         1.6.0\n",
      "numpy:                1.26.4\n",
      "openpyxl:             3.1.2\n",
      "pandas:               2.2.2\n",
      "pyarrow:              14.0.2\n",
      "pydantic:             2.5.3\n",
      "pyiceberg:            0.5.1\n",
      "pyxlsb:               <not installed>\n",
      "sqlalchemy:           2.0.25\n",
      "torch:                <not installed>\n",
      "xlsx2csv:             0.8.2\n",
      "xlsxwriter:           3.2.0\n"
     ]
    }
   ],
   "source": [
    "import polars as pl\n",
    "pl.show_versions()"
   ]
  },
  {
   "cell_type": "markdown",
   "id": "e080f23f",
   "metadata": {},
   "source": [
    "## Wide Versus Long DataFrames"
   ]
  },
  {
   "cell_type": "code",
   "execution_count": 3,
   "id": "995b5647",
   "metadata": {},
   "outputs": [
    {
     "data": {
      "text/html": [
       "<div><style>\n",
       ".dataframe > thead > tr,\n",
       ".dataframe > tbody > tr {\n",
       "  text-align: right;\n",
       "  white-space: pre-wrap;\n",
       "}\n",
       "</style>\n",
       "<small>shape: (3, 4)</small><table border=\"1\" class=\"dataframe\"><thead><tr><th>student</th><th>math</th><th>science</th><th>history</th></tr><tr><td>str</td><td>i64</td><td>i64</td><td>i64</td></tr></thead><tbody><tr><td>&quot;Alice&quot;</td><td>85</td><td>90</td><td>88</td></tr><tr><td>&quot;Bob&quot;</td><td>78</td><td>82</td><td>80</td></tr><tr><td>&quot;Charlie&quot;</td><td>92</td><td>85</td><td>87</td></tr></tbody></table></div>"
      ],
      "text/plain": [
       "shape: (3, 4)\n",
       "┌─────────┬──────┬─────────┬─────────┐\n",
       "│ student ┆ math ┆ science ┆ history │\n",
       "│ ---     ┆ ---  ┆ ---     ┆ ---     │\n",
       "│ str     ┆ i64  ┆ i64     ┆ i64     │\n",
       "╞═════════╪══════╪═════════╪═════════╡\n",
       "│ Alice   ┆ 85   ┆ 90      ┆ 88      │\n",
       "│ Bob     ┆ 78   ┆ 82      ┆ 80      │\n",
       "│ Charlie ┆ 92   ┆ 85      ┆ 87      │\n",
       "└─────────┴──────┴─────────┴─────────┘"
      ]
     },
     "execution_count": 2,
     "metadata": {},
     "output_type": "execute_result"
    }
   ],
   "source": [
    "import polars as pl\n",
    "\n",
    "df = pl.DataFrame({\n",
    "    \"student\": [\"Alice\", \"Bob\", \"Charlie\"],\n",
    "    \"math\": [85, 78, 92],\n",
    "    \"science\": [90, 82, 85],\n",
    "    \"history\": [88, 80, 87]\n",
    "})\n",
    "df"
   ]
  },
  {
   "cell_type": "code",
   "execution_count": 4,
   "id": "e17da6b4",
   "metadata": {},
   "outputs": [
    {
     "data": {
      "text/html": [
       "<div><style>\n",
       ".dataframe > thead > tr,\n",
       ".dataframe > tbody > tr {\n",
       "  text-align: right;\n",
       "  white-space: pre-wrap;\n",
       "}\n",
       "</style>\n",
       "<small>shape: (9, 3)</small><table border=\"1\" class=\"dataframe\"><thead><tr><th>student</th><th>subject</th><th>grade</th></tr><tr><td>str</td><td>str</td><td>i64</td></tr></thead><tbody><tr><td>&quot;Alice&quot;</td><td>&quot;Math&quot;</td><td>85</td></tr><tr><td>&quot;Alice&quot;</td><td>&quot;Science&quot;</td><td>90</td></tr><tr><td>&quot;Alice&quot;</td><td>&quot;History&quot;</td><td>88</td></tr><tr><td>&quot;Bob&quot;</td><td>&quot;Math&quot;</td><td>78</td></tr><tr><td>&quot;Bob&quot;</td><td>&quot;Science&quot;</td><td>82</td></tr><tr><td>&quot;Bob&quot;</td><td>&quot;History&quot;</td><td>80</td></tr><tr><td>&quot;Charlie&quot;</td><td>&quot;Math&quot;</td><td>92</td></tr><tr><td>&quot;Charlie&quot;</td><td>&quot;Science&quot;</td><td>85</td></tr><tr><td>&quot;Charlie&quot;</td><td>&quot;History&quot;</td><td>87</td></tr></tbody></table></div>"
      ],
      "text/plain": [
       "shape: (9, 3)\n",
       "┌─────────┬─────────┬───────┐\n",
       "│ student ┆ subject ┆ grade │\n",
       "│ ---     ┆ ---     ┆ ---   │\n",
       "│ str     ┆ str     ┆ i64   │\n",
       "╞═════════╪═════════╪═══════╡\n",
       "│ Alice   ┆ Math    ┆ 85    │\n",
       "│ Alice   ┆ Science ┆ 90    │\n",
       "│ Alice   ┆ History ┆ 88    │\n",
       "│ Bob     ┆ Math    ┆ 78    │\n",
       "│ Bob     ┆ Science ┆ 82    │\n",
       "│ Bob     ┆ History ┆ 80    │\n",
       "│ Charlie ┆ Math    ┆ 92    │\n",
       "│ Charlie ┆ Science ┆ 85    │\n",
       "│ Charlie ┆ History ┆ 87    │\n",
       "└─────────┴─────────┴───────┘"
      ]
     },
     "execution_count": 3,
     "metadata": {},
     "output_type": "execute_result"
    }
   ],
   "source": [
    "df = pl.DataFrame({\n",
    "    \"student\": [\"Alice\", \"Alice\", \"Alice\", \"Bob\", \"Bob\", \"Bob\", \"Charlie\",\n",
    "        \"Charlie\", \"Charlie\"],\n",
    "    \"subject\": [\"Math\", \"Science\", \"History\", \"Math\", \"Science\", \"History\",\n",
    "        \"Math\", \"Science\", \"History\"],\n",
    "    \"grade\": [85, 90, 88, 78, 82, 80, 92, 85, 87]\n",
    "})\n",
    "df"
   ]
  },
  {
   "cell_type": "markdown",
   "id": "c742889d",
   "metadata": {},
   "source": [
    "## Pivot to Wider DataFrame"
   ]
  },
  {
   "cell_type": "code",
   "execution_count": 6,
   "id": "1240234b",
   "metadata": {},
   "outputs": [
    {
     "data": {
      "text/html": [
       "<div><style>\n",
       ".dataframe > thead > tr,\n",
       ".dataframe > tbody > tr {\n",
       "  text-align: right;\n",
       "  white-space: pre-wrap;\n",
       "}\n",
       "</style>\n",
       "<small>shape: (9, 3)</small><table border=\"1\" class=\"dataframe\"><thead><tr><th>student</th><th>subject</th><th>grade</th></tr><tr><td>str</td><td>str</td><td>i64</td></tr></thead><tbody><tr><td>&quot;Alice&quot;</td><td>&quot;Math&quot;</td><td>85</td></tr><tr><td>&quot;Alice&quot;</td><td>&quot;Science&quot;</td><td>90</td></tr><tr><td>&quot;Alice&quot;</td><td>&quot;History&quot;</td><td>88</td></tr><tr><td>&quot;Bob&quot;</td><td>&quot;Math&quot;</td><td>78</td></tr><tr><td>&quot;Bob&quot;</td><td>&quot;Science&quot;</td><td>82</td></tr><tr><td>&quot;Bob&quot;</td><td>&quot;History&quot;</td><td>80</td></tr><tr><td>&quot;Charlie&quot;</td><td>&quot;Math&quot;</td><td>92</td></tr><tr><td>&quot;Charlie&quot;</td><td>&quot;Science&quot;</td><td>85</td></tr><tr><td>&quot;Charlie&quot;</td><td>&quot;History&quot;</td><td>87</td></tr></tbody></table></div>"
      ],
      "text/plain": [
       "shape: (9, 3)\n",
       "┌─────────┬─────────┬───────┐\n",
       "│ student ┆ subject ┆ grade │\n",
       "│ ---     ┆ ---     ┆ ---   │\n",
       "│ str     ┆ str     ┆ i64   │\n",
       "╞═════════╪═════════╪═══════╡\n",
       "│ Alice   ┆ Math    ┆ 85    │\n",
       "│ Alice   ┆ Science ┆ 90    │\n",
       "│ Alice   ┆ History ┆ 88    │\n",
       "│ Bob     ┆ Math    ┆ 78    │\n",
       "│ Bob     ┆ Science ┆ 82    │\n",
       "│ Bob     ┆ History ┆ 80    │\n",
       "│ Charlie ┆ Math    ┆ 92    │\n",
       "│ Charlie ┆ Science ┆ 85    │\n",
       "│ Charlie ┆ History ┆ 87    │\n",
       "└─────────┴─────────┴───────┘"
      ]
     },
     "execution_count": 4,
     "metadata": {},
     "output_type": "execute_result"
    }
   ],
   "source": [
    "import polars as pl\n",
    "\n",
    "df = pl.DataFrame({\n",
    "    \"student\": [\"Alice\", \"Alice\", \"Alice\", \"Bob\", \"Bob\", \"Bob\", \"Charlie\",\n",
    "        \"Charlie\", \"Charlie\"],\n",
    "    \"subject\": [\"Math\", \"Science\", \"History\", \"Math\", \"Science\", \"History\",\n",
    "        \"Math\", \"Science\", \"History\"],\n",
    "    \"grade\": [85, 90, 88, 78, 82, 80, 92, 85, 87]\n",
    "})\n",
    "\n",
    "df"
   ]
  },
  {
   "cell_type": "code",
   "execution_count": 7,
   "id": "c1cb3a0e",
   "metadata": {},
   "outputs": [
    {
     "data": {
      "text/html": [
       "<div><style>\n",
       ".dataframe > thead > tr,\n",
       ".dataframe > tbody > tr {\n",
       "  text-align: right;\n",
       "  white-space: pre-wrap;\n",
       "}\n",
       "</style>\n",
       "<small>shape: (3, 4)</small><table border=\"1\" class=\"dataframe\"><thead><tr><th>student</th><th>Math</th><th>Science</th><th>History</th></tr><tr><td>str</td><td>i64</td><td>i64</td><td>i64</td></tr></thead><tbody><tr><td>&quot;Alice&quot;</td><td>85</td><td>90</td><td>88</td></tr><tr><td>&quot;Bob&quot;</td><td>78</td><td>82</td><td>80</td></tr><tr><td>&quot;Charlie&quot;</td><td>92</td><td>85</td><td>87</td></tr></tbody></table></div>"
      ],
      "text/plain": [
       "shape: (3, 4)\n",
       "┌─────────┬──────┬─────────┬─────────┐\n",
       "│ student ┆ Math ┆ Science ┆ History │\n",
       "│ ---     ┆ ---  ┆ ---     ┆ ---     │\n",
       "│ str     ┆ i64  ┆ i64     ┆ i64     │\n",
       "╞═════════╪══════╪═════════╪═════════╡\n",
       "│ Alice   ┆ 85   ┆ 90      ┆ 88      │\n",
       "│ Bob     ┆ 78   ┆ 82      ┆ 80      │\n",
       "│ Charlie ┆ 92   ┆ 85      ┆ 87      │\n",
       "└─────────┴──────┴─────────┴─────────┘"
      ]
     },
     "execution_count": 5,
     "metadata": {},
     "output_type": "execute_result"
    }
   ],
   "source": [
    "df.pivot(index=\"student\", columns=\"subject\", values=\"grade\")"
   ]
  },
  {
   "cell_type": "code",
   "execution_count": 8,
   "id": "96f9c9e5",
   "metadata": {},
   "outputs": [
    {
     "data": {
      "text/html": [
       "<div><style>\n",
       ".dataframe > thead > tr,\n",
       ".dataframe > tbody > tr {\n",
       "  text-align: right;\n",
       "  white-space: pre-wrap;\n",
       "}\n",
       "</style>\n",
       "<small>shape: (12, 3)</small><table border=\"1\" class=\"dataframe\"><thead><tr><th>student</th><th>subject</th><th>grade</th></tr><tr><td>str</td><td>str</td><td>i64</td></tr></thead><tbody><tr><td>&quot;Alice&quot;</td><td>&quot;Math&quot;</td><td>85</td></tr><tr><td>&quot;Alice&quot;</td><td>&quot;Math&quot;</td><td>88</td></tr><tr><td>&quot;Alice&quot;</td><td>&quot;Math&quot;</td><td>85</td></tr><tr><td>&quot;Alice&quot;</td><td>&quot;Science&quot;</td><td>60</td></tr><tr><td>&quot;Alice&quot;</td><td>&quot;Science&quot;</td><td>66</td></tr><tr><td>&hellip;</td><td>&hellip;</td><td>&hellip;</td></tr><tr><td>&quot;Bob&quot;</td><td>&quot;Math&quot;</td><td>79</td></tr><tr><td>&quot;Bob&quot;</td><td>&quot;Math&quot;</td><td>62</td></tr><tr><td>&quot;Bob&quot;</td><td>&quot;Science&quot;</td><td>82</td></tr><tr><td>&quot;Bob&quot;</td><td>&quot;Science&quot;</td><td>85</td></tr><tr><td>&quot;Bob&quot;</td><td>&quot;Science&quot;</td><td>82</td></tr></tbody></table></div>"
      ],
      "text/plain": [
       "shape: (12, 3)\n",
       "┌─────────┬─────────┬───────┐\n",
       "│ student ┆ subject ┆ grade │\n",
       "│ ---     ┆ ---     ┆ ---   │\n",
       "│ str     ┆ str     ┆ i64   │\n",
       "╞═════════╪═════════╪═══════╡\n",
       "│ Alice   ┆ Math    ┆ 85    │\n",
       "│ Alice   ┆ Math    ┆ 88    │\n",
       "│ Alice   ┆ Math    ┆ 85    │\n",
       "│ Alice   ┆ Science ┆ 60    │\n",
       "│ Alice   ┆ Science ┆ 66    │\n",
       "│ …       ┆ …       ┆ …     │\n",
       "│ Bob     ┆ Math    ┆ 79    │\n",
       "│ Bob     ┆ Math    ┆ 62    │\n",
       "│ Bob     ┆ Science ┆ 82    │\n",
       "│ Bob     ┆ Science ┆ 85    │\n",
       "│ Bob     ┆ Science ┆ 82    │\n",
       "└─────────┴─────────┴───────┘"
      ]
     },
     "execution_count": 6,
     "metadata": {},
     "output_type": "execute_result"
    }
   ],
   "source": [
    "df = pl.DataFrame({\n",
    "    \"student\": [\"Alice\", \"Alice\", \"Alice\", \"Alice\", \"Alice\", \"Alice\",\n",
    "                \"Bob\", \"Bob\", \"Bob\", \"Bob\", \"Bob\", \"Bob\"],\n",
    "    \"subject\": [\"Math\", \"Math\", \"Math\", \"Science\", \"Science\", \"Science\",\n",
    "                \"Math\", \"Math\", \"Math\", \"Science\", \"Science\", \"Science\"],\n",
    "    \"grade\": [85, 88, 85, 60, 66, 63,\n",
    "              51, 79, 62, 82, 85, 82]\n",
    "})\n",
    "\n",
    "df"
   ]
  },
  {
   "cell_type": "code",
   "execution_count": 9,
   "id": "1557dc38",
   "metadata": {},
   "outputs": [
    {
     "data": {
      "text/html": [
       "<div><style>\n",
       ".dataframe > thead > tr,\n",
       ".dataframe > tbody > tr {\n",
       "  text-align: right;\n",
       "  white-space: pre-wrap;\n",
       "}\n",
       "</style>\n",
       "<small>shape: (2, 3)</small><table border=\"1\" class=\"dataframe\"><thead><tr><th>student</th><th>Math</th><th>Science</th></tr><tr><td>str</td><td>f64</td><td>f64</td></tr></thead><tbody><tr><td>&quot;Alice&quot;</td><td>86.0</td><td>63.0</td></tr><tr><td>&quot;Bob&quot;</td><td>64.0</td><td>83.0</td></tr></tbody></table></div>"
      ],
      "text/plain": [
       "shape: (2, 3)\n",
       "┌─────────┬──────┬─────────┐\n",
       "│ student ┆ Math ┆ Science │\n",
       "│ ---     ┆ ---  ┆ ---     │\n",
       "│ str     ┆ f64  ┆ f64     │\n",
       "╞═════════╪══════╪═════════╡\n",
       "│ Alice   ┆ 86.0 ┆ 63.0    │\n",
       "│ Bob     ┆ 64.0 ┆ 83.0    │\n",
       "└─────────┴──────┴─────────┘"
      ]
     },
     "execution_count": 7,
     "metadata": {},
     "output_type": "execute_result"
    }
   ],
   "source": [
    "df.pivot(\n",
    "    index=\"student\",\n",
    "    columns=\"subject\",\n",
    "    values=\"grade\",\n",
    "    aggregate_function=\"mean\"\n",
    ")"
   ]
  },
  {
   "cell_type": "code",
   "execution_count": 10,
   "id": "24b3b796",
   "metadata": {},
   "outputs": [
    {
     "data": {
      "text/html": [
       "<div><style>\n",
       ".dataframe > thead > tr,\n",
       ".dataframe > tbody > tr {\n",
       "  text-align: right;\n",
       "  white-space: pre-wrap;\n",
       "}\n",
       "</style>\n",
       "<small>shape: (2, 3)</small><table border=\"1\" class=\"dataframe\"><thead><tr><th>student</th><th>Math</th><th>Science</th></tr><tr><td>str</td><td>i64</td><td>i64</td></tr></thead><tbody><tr><td>&quot;Alice&quot;</td><td>3</td><td>6</td></tr><tr><td>&quot;Bob&quot;</td><td>28</td><td>3</td></tr></tbody></table></div>"
      ],
      "text/plain": [
       "shape: (2, 3)\n",
       "┌─────────┬──────┬─────────┐\n",
       "│ student ┆ Math ┆ Science │\n",
       "│ ---     ┆ ---  ┆ ---     │\n",
       "│ str     ┆ i64  ┆ i64     │\n",
       "╞═════════╪══════╪═════════╡\n",
       "│ Alice   ┆ 3    ┆ 6       │\n",
       "│ Bob     ┆ 28   ┆ 3       │\n",
       "└─────────┴──────┴─────────┘"
      ]
     },
     "execution_count": 8,
     "metadata": {},
     "output_type": "execute_result"
    }
   ],
   "source": [
    "df.pivot(\n",
    "    index=\"student\",\n",
    "    columns=\"subject\",\n",
    "    values=\"grade\",\n",
    "    aggregate_function=pl.element().max() - pl.element().min()\n",
    ")"
   ]
  },
  {
   "cell_type": "markdown",
   "id": "9b0a1874",
   "metadata": {},
   "source": [
    "## Melt to Longer DataFrame"
   ]
  },
  {
   "cell_type": "code",
   "execution_count": 12,
   "id": "e8c64ac1",
   "metadata": {},
   "outputs": [
    {
     "data": {
      "text/html": [
       "<div><style>\n",
       ".dataframe > thead > tr,\n",
       ".dataframe > tbody > tr {\n",
       "  text-align: right;\n",
       "  white-space: pre-wrap;\n",
       "}\n",
       "</style>\n",
       "<small>shape: (3, 4)</small><table border=\"1\" class=\"dataframe\"><thead><tr><th>student</th><th>math</th><th>science</th><th>history</th></tr><tr><td>str</td><td>i64</td><td>i64</td><td>i64</td></tr></thead><tbody><tr><td>&quot;Alice&quot;</td><td>85</td><td>90</td><td>88</td></tr><tr><td>&quot;Bob&quot;</td><td>78</td><td>82</td><td>80</td></tr><tr><td>&quot;Charlie&quot;</td><td>92</td><td>85</td><td>87</td></tr></tbody></table></div>"
      ],
      "text/plain": [
       "shape: (3, 4)\n",
       "┌─────────┬──────┬─────────┬─────────┐\n",
       "│ student ┆ math ┆ science ┆ history │\n",
       "│ ---     ┆ ---  ┆ ---     ┆ ---     │\n",
       "│ str     ┆ i64  ┆ i64     ┆ i64     │\n",
       "╞═════════╪══════╪═════════╪═════════╡\n",
       "│ Alice   ┆ 85   ┆ 90      ┆ 88      │\n",
       "│ Bob     ┆ 78   ┆ 82      ┆ 80      │\n",
       "│ Charlie ┆ 92   ┆ 85      ┆ 87      │\n",
       "└─────────┴──────┴─────────┴─────────┘"
      ]
     },
     "execution_count": 9,
     "metadata": {},
     "output_type": "execute_result"
    }
   ],
   "source": [
    "df = pl.DataFrame({\n",
    "    \"student\": [\"Alice\", \"Bob\", \"Charlie\"],\n",
    "    \"math\": [85, 78, 92],\n",
    "    \"science\": [90, 82, 85],\n",
    "    \"history\": [88, 80, 87]\n",
    "})\n",
    "df"
   ]
  },
  {
   "cell_type": "code",
   "execution_count": 13,
   "id": "fffce9f8",
   "metadata": {},
   "outputs": [
    {
     "data": {
      "text/html": [
       "<div><style>\n",
       ".dataframe > thead > tr,\n",
       ".dataframe > tbody > tr {\n",
       "  text-align: right;\n",
       "  white-space: pre-wrap;\n",
       "}\n",
       "</style>\n",
       "<small>shape: (9, 3)</small><table border=\"1\" class=\"dataframe\"><thead><tr><th>student</th><th>subject</th><th>grade</th></tr><tr><td>str</td><td>str</td><td>i64</td></tr></thead><tbody><tr><td>&quot;Alice&quot;</td><td>&quot;math&quot;</td><td>85</td></tr><tr><td>&quot;Bob&quot;</td><td>&quot;math&quot;</td><td>78</td></tr><tr><td>&quot;Charlie&quot;</td><td>&quot;math&quot;</td><td>92</td></tr><tr><td>&quot;Alice&quot;</td><td>&quot;science&quot;</td><td>90</td></tr><tr><td>&quot;Bob&quot;</td><td>&quot;science&quot;</td><td>82</td></tr><tr><td>&quot;Charlie&quot;</td><td>&quot;science&quot;</td><td>85</td></tr><tr><td>&quot;Alice&quot;</td><td>&quot;history&quot;</td><td>88</td></tr><tr><td>&quot;Bob&quot;</td><td>&quot;history&quot;</td><td>80</td></tr><tr><td>&quot;Charlie&quot;</td><td>&quot;history&quot;</td><td>87</td></tr></tbody></table></div>"
      ],
      "text/plain": [
       "shape: (9, 3)\n",
       "┌─────────┬─────────┬───────┐\n",
       "│ student ┆ subject ┆ grade │\n",
       "│ ---     ┆ ---     ┆ ---   │\n",
       "│ str     ┆ str     ┆ i64   │\n",
       "╞═════════╪═════════╪═══════╡\n",
       "│ Alice   ┆ math    ┆ 85    │\n",
       "│ Bob     ┆ math    ┆ 78    │\n",
       "│ Charlie ┆ math    ┆ 92    │\n",
       "│ Alice   ┆ science ┆ 90    │\n",
       "│ Bob     ┆ science ┆ 82    │\n",
       "│ Charlie ┆ science ┆ 85    │\n",
       "│ Alice   ┆ history ┆ 88    │\n",
       "│ Bob     ┆ history ┆ 80    │\n",
       "│ Charlie ┆ history ┆ 87    │\n",
       "└─────────┴─────────┴───────┘"
      ]
     },
     "execution_count": 10,
     "metadata": {},
     "output_type": "execute_result"
    }
   ],
   "source": [
    "df.melt(\n",
    "    id_vars=[\"student\"],\n",
    "    value_vars=[\"math\", \"science\", \"history\"],\n",
    "    variable_name=\"subject\",\n",
    "    value_name=\"grade\"\n",
    ")"
   ]
  },
  {
   "cell_type": "code",
   "execution_count": 14,
   "id": "4a32375e",
   "metadata": {},
   "outputs": [
    {
     "data": {
      "text/html": [
       "<div><style>\n",
       ".dataframe > thead > tr,\n",
       ".dataframe > tbody > tr {\n",
       "  text-align: right;\n",
       "  white-space: pre-wrap;\n",
       "}\n",
       "</style>\n",
       "<small>shape: (6, 7)</small><table border=\"1\" class=\"dataframe\"><thead><tr><th>student</th><th>class</th><th>age</th><th>semester</th><th>math</th><th>science</th><th>history</th></tr><tr><td>str</td><td>str</td><td>i64</td><td>str</td><td>i64</td><td>i64</td><td>i64</td></tr></thead><tbody><tr><td>&quot;Alice&quot;</td><td>&quot;Math101&quot;</td><td>20</td><td>&quot;Fall&quot;</td><td>85</td><td>90</td><td>88</td></tr><tr><td>&quot;Bob&quot;</td><td>&quot;Math101&quot;</td><td>21</td><td>&quot;Fall&quot;</td><td>78</td><td>82</td><td>80</td></tr><tr><td>&quot;Charlie&quot;</td><td>&quot;Math101&quot;</td><td>22</td><td>&quot;Fall&quot;</td><td>92</td><td>85</td><td>87</td></tr><tr><td>&quot;Alice&quot;</td><td>&quot;Math102&quot;</td><td>20</td><td>&quot;Spring&quot;</td><td>88</td><td>92</td><td>85</td></tr><tr><td>&quot;Bob&quot;</td><td>&quot;Math102&quot;</td><td>21</td><td>&quot;Spring&quot;</td><td>79</td><td>81</td><td>82</td></tr><tr><td>&quot;Charlie&quot;</td><td>&quot;Math102&quot;</td><td>22</td><td>&quot;Spring&quot;</td><td>95</td><td>87</td><td>89</td></tr></tbody></table></div>"
      ],
      "text/plain": [
       "shape: (6, 7)\n",
       "┌─────────┬─────────┬─────┬──────────┬──────┬─────────┬─────────┐\n",
       "│ student ┆ class   ┆ age ┆ semester ┆ math ┆ science ┆ history │\n",
       "│ ---     ┆ ---     ┆ --- ┆ ---      ┆ ---  ┆ ---     ┆ ---     │\n",
       "│ str     ┆ str     ┆ i64 ┆ str      ┆ i64  ┆ i64     ┆ i64     │\n",
       "╞═════════╪═════════╪═════╪══════════╪══════╪═════════╪═════════╡\n",
       "│ Alice   ┆ Math101 ┆ 20  ┆ Fall     ┆ 85   ┆ 90      ┆ 88      │\n",
       "│ Bob     ┆ Math101 ┆ 21  ┆ Fall     ┆ 78   ┆ 82      ┆ 80      │\n",
       "│ Charlie ┆ Math101 ┆ 22  ┆ Fall     ┆ 92   ┆ 85      ┆ 87      │\n",
       "│ Alice   ┆ Math102 ┆ 20  ┆ Spring   ┆ 88   ┆ 92      ┆ 85      │\n",
       "│ Bob     ┆ Math102 ┆ 21  ┆ Spring   ┆ 79   ┆ 81      ┆ 82      │\n",
       "│ Charlie ┆ Math102 ┆ 22  ┆ Spring   ┆ 95   ┆ 87      ┆ 89      │\n",
       "└─────────┴─────────┴─────┴──────────┴──────┴─────────┴─────────┘"
      ]
     },
     "execution_count": 11,
     "metadata": {},
     "output_type": "execute_result"
    }
   ],
   "source": [
    "df = pl.DataFrame({\n",
    "    \"student\": [\"Alice\", \"Bob\", \"Charlie\", \"Alice\", \"Bob\", \"Charlie\"],\n",
    "    \"class\": [\"Math101\", \"Math101\", \"Math101\", \"Math102\", \"Math102\", \"Math102\"],\n",
    "    \"age\": [20, 21, 22, 20, 21, 22],\n",
    "    \"semester\": [\"Fall\", \"Fall\", \"Fall\", \"Spring\", \"Spring\", \"Spring\"],\n",
    "    \"math\": [85, 78, 92, 88, 79, 95],\n",
    "    \"science\": [90, 82, 85, 92, 81, 87],\n",
    "    \"history\": [88, 80, 87, 85, 82, 89]\n",
    "})\n",
    "df"
   ]
  },
  {
   "cell_type": "code",
   "execution_count": 15,
   "id": "265b789a",
   "metadata": {},
   "outputs": [
    {
     "data": {
      "text/html": [
       "<div><style>\n",
       ".dataframe > thead > tr,\n",
       ".dataframe > tbody > tr {\n",
       "  text-align: right;\n",
       "  white-space: pre-wrap;\n",
       "}\n",
       "</style>\n",
       "<small>shape: (18, 6)</small><table border=\"1\" class=\"dataframe\"><thead><tr><th>student</th><th>class</th><th>age</th><th>semester</th><th>subject</th><th>grade</th></tr><tr><td>str</td><td>str</td><td>i64</td><td>str</td><td>str</td><td>i64</td></tr></thead><tbody><tr><td>&quot;Alice&quot;</td><td>&quot;Math101&quot;</td><td>20</td><td>&quot;Fall&quot;</td><td>&quot;math&quot;</td><td>85</td></tr><tr><td>&quot;Bob&quot;</td><td>&quot;Math101&quot;</td><td>21</td><td>&quot;Fall&quot;</td><td>&quot;math&quot;</td><td>78</td></tr><tr><td>&quot;Charlie&quot;</td><td>&quot;Math101&quot;</td><td>22</td><td>&quot;Fall&quot;</td><td>&quot;math&quot;</td><td>92</td></tr><tr><td>&quot;Alice&quot;</td><td>&quot;Math102&quot;</td><td>20</td><td>&quot;Spring&quot;</td><td>&quot;math&quot;</td><td>88</td></tr><tr><td>&quot;Bob&quot;</td><td>&quot;Math102&quot;</td><td>21</td><td>&quot;Spring&quot;</td><td>&quot;math&quot;</td><td>79</td></tr><tr><td>&hellip;</td><td>&hellip;</td><td>&hellip;</td><td>&hellip;</td><td>&hellip;</td><td>&hellip;</td></tr><tr><td>&quot;Bob&quot;</td><td>&quot;Math101&quot;</td><td>21</td><td>&quot;Fall&quot;</td><td>&quot;history&quot;</td><td>80</td></tr><tr><td>&quot;Charlie&quot;</td><td>&quot;Math101&quot;</td><td>22</td><td>&quot;Fall&quot;</td><td>&quot;history&quot;</td><td>87</td></tr><tr><td>&quot;Alice&quot;</td><td>&quot;Math102&quot;</td><td>20</td><td>&quot;Spring&quot;</td><td>&quot;history&quot;</td><td>85</td></tr><tr><td>&quot;Bob&quot;</td><td>&quot;Math102&quot;</td><td>21</td><td>&quot;Spring&quot;</td><td>&quot;history&quot;</td><td>82</td></tr><tr><td>&quot;Charlie&quot;</td><td>&quot;Math102&quot;</td><td>22</td><td>&quot;Spring&quot;</td><td>&quot;history&quot;</td><td>89</td></tr></tbody></table></div>"
      ],
      "text/plain": [
       "shape: (18, 6)\n",
       "┌─────────┬─────────┬─────┬──────────┬─────────┬───────┐\n",
       "│ student ┆ class   ┆ age ┆ semester ┆ subject ┆ grade │\n",
       "│ ---     ┆ ---     ┆ --- ┆ ---      ┆ ---     ┆ ---   │\n",
       "│ str     ┆ str     ┆ i64 ┆ str      ┆ str     ┆ i64   │\n",
       "╞═════════╪═════════╪═════╪══════════╪═════════╪═══════╡\n",
       "│ Alice   ┆ Math101 ┆ 20  ┆ Fall     ┆ math    ┆ 85    │\n",
       "│ Bob     ┆ Math101 ┆ 21  ┆ Fall     ┆ math    ┆ 78    │\n",
       "│ Charlie ┆ Math101 ┆ 22  ┆ Fall     ┆ math    ┆ 92    │\n",
       "│ Alice   ┆ Math102 ┆ 20  ┆ Spring   ┆ math    ┆ 88    │\n",
       "│ Bob     ┆ Math102 ┆ 21  ┆ Spring   ┆ math    ┆ 79    │\n",
       "│ …       ┆ …       ┆ …   ┆ …        ┆ …       ┆ …     │\n",
       "│ Bob     ┆ Math101 ┆ 21  ┆ Fall     ┆ history ┆ 80    │\n",
       "│ Charlie ┆ Math101 ┆ 22  ┆ Fall     ┆ history ┆ 87    │\n",
       "│ Alice   ┆ Math102 ┆ 20  ┆ Spring   ┆ history ┆ 85    │\n",
       "│ Bob     ┆ Math102 ┆ 21  ┆ Spring   ┆ history ┆ 82    │\n",
       "│ Charlie ┆ Math102 ┆ 22  ┆ Spring   ┆ history ┆ 89    │\n",
       "└─────────┴─────────┴─────┴──────────┴─────────┴───────┘"
      ]
     },
     "execution_count": 12,
     "metadata": {},
     "output_type": "execute_result"
    }
   ],
   "source": [
    "df.melt(\n",
    "    id_vars=[\"student\", \"class\", \"age\", \"semester\"],\n",
    "    value_vars=[\"math\", \"science\", \"history\"],\n",
    "    variable_name=\"subject\",\n",
    "    value_name=\"grade\"\n",
    ")"
   ]
  },
  {
   "cell_type": "markdown",
   "id": "c952da3b",
   "metadata": {},
   "source": [
    "## Transposing"
   ]
  },
  {
   "cell_type": "code",
   "execution_count": 17,
   "id": "7ceeb38e",
   "metadata": {},
   "outputs": [
    {
     "data": {
      "text/html": [
       "<div><style>\n",
       ".dataframe > thead > tr,\n",
       ".dataframe > tbody > tr {\n",
       "  text-align: right;\n",
       "  white-space: pre-wrap;\n",
       "}\n",
       "</style>\n",
       "<small>shape: (3, 4)</small><table border=\"1\" class=\"dataframe\"><thead><tr><th>student</th><th>math</th><th>science</th><th>history</th></tr><tr><td>str</td><td>i64</td><td>i64</td><td>i64</td></tr></thead><tbody><tr><td>&quot;Alice&quot;</td><td>85</td><td>90</td><td>88</td></tr><tr><td>&quot;Bob&quot;</td><td>78</td><td>82</td><td>80</td></tr><tr><td>&quot;Charlie&quot;</td><td>92</td><td>85</td><td>87</td></tr></tbody></table></div>"
      ],
      "text/plain": [
       "shape: (3, 4)\n",
       "┌─────────┬──────┬─────────┬─────────┐\n",
       "│ student ┆ math ┆ science ┆ history │\n",
       "│ ---     ┆ ---  ┆ ---     ┆ ---     │\n",
       "│ str     ┆ i64  ┆ i64     ┆ i64     │\n",
       "╞═════════╪══════╪═════════╪═════════╡\n",
       "│ Alice   ┆ 85   ┆ 90      ┆ 88      │\n",
       "│ Bob     ┆ 78   ┆ 82      ┆ 80      │\n",
       "│ Charlie ┆ 92   ┆ 85      ┆ 87      │\n",
       "└─────────┴──────┴─────────┴─────────┘"
      ]
     },
     "execution_count": 13,
     "metadata": {},
     "output_type": "execute_result"
    }
   ],
   "source": [
    "df = pl.DataFrame({\n",
    "    \"student\": [\"Alice\", \"Bob\", \"Charlie\"],\n",
    "    \"math\": [85, 78, 92],\n",
    "    \"science\": [90, 82, 85],\n",
    "    \"history\": [88, 80, 87]\n",
    "})\n",
    "df"
   ]
  },
  {
   "cell_type": "code",
   "execution_count": 18,
   "id": "d2aa846b",
   "metadata": {},
   "outputs": [
    {
     "data": {
      "text/html": [
       "<div><style>\n",
       ".dataframe > thead > tr,\n",
       ".dataframe > tbody > tr {\n",
       "  text-align: right;\n",
       "  white-space: pre-wrap;\n",
       "}\n",
       "</style>\n",
       "<small>shape: (4, 4)</small><table border=\"1\" class=\"dataframe\"><thead><tr><th>original_headers</th><th>report_1</th><th>report_2</th><th>report_3</th></tr><tr><td>str</td><td>str</td><td>str</td><td>str</td></tr></thead><tbody><tr><td>&quot;student&quot;</td><td>&quot;Alice&quot;</td><td>&quot;Bob&quot;</td><td>&quot;Charlie&quot;</td></tr><tr><td>&quot;math&quot;</td><td>&quot;85&quot;</td><td>&quot;78&quot;</td><td>&quot;92&quot;</td></tr><tr><td>&quot;science&quot;</td><td>&quot;90&quot;</td><td>&quot;82&quot;</td><td>&quot;85&quot;</td></tr><tr><td>&quot;history&quot;</td><td>&quot;88&quot;</td><td>&quot;80&quot;</td><td>&quot;87&quot;</td></tr></tbody></table></div>"
      ],
      "text/plain": [
       "shape: (4, 4)\n",
       "┌──────────────────┬──────────┬──────────┬──────────┐\n",
       "│ original_headers ┆ report_1 ┆ report_2 ┆ report_3 │\n",
       "│ ---              ┆ ---      ┆ ---      ┆ ---      │\n",
       "│ str              ┆ str      ┆ str      ┆ str      │\n",
       "╞══════════════════╪══════════╪══════════╪══════════╡\n",
       "│ student          ┆ Alice    ┆ Bob      ┆ Charlie  │\n",
       "│ math             ┆ 85       ┆ 78       ┆ 92       │\n",
       "│ science          ┆ 90       ┆ 82       ┆ 85       │\n",
       "│ history          ┆ 88       ┆ 80       ┆ 87       │\n",
       "└──────────────────┴──────────┴──────────┴──────────┘"
      ]
     },
     "execution_count": 14,
     "metadata": {},
     "output_type": "execute_result"
    }
   ],
   "source": [
    "df.transpose(\n",
    "    include_header=True,\n",
    "    header_name=\"original_headers\",\n",
    "    column_names=(f\"report_{count}\" for count in range(1, len(df.columns) + 1))\n",
    ")"
   ]
  },
  {
   "cell_type": "markdown",
   "id": "adaf9d11",
   "metadata": {},
   "source": [
    "## Exploding"
   ]
  },
  {
   "cell_type": "code",
   "execution_count": 20,
   "id": "eb6fa44e",
   "metadata": {},
   "outputs": [
    {
     "data": {
      "text/html": [
       "<div><style>\n",
       ".dataframe > thead > tr,\n",
       ".dataframe > tbody > tr {\n",
       "  text-align: right;\n",
       "  white-space: pre-wrap;\n",
       "}\n",
       "</style>\n",
       "<small>shape: (3, 2)</small><table border=\"1\" class=\"dataframe\"><thead><tr><th>student</th><th>math</th></tr><tr><td>str</td><td>list[i64]</td></tr></thead><tbody><tr><td>&quot;Alice&quot;</td><td>[85, 90, 88]</td></tr><tr><td>&quot;Bob&quot;</td><td>[78, 82, 80]</td></tr><tr><td>&quot;Charlie&quot;</td><td>[92, 85, 87]</td></tr></tbody></table></div>"
      ],
      "text/plain": [
       "shape: (3, 2)\n",
       "┌─────────┬──────────────┐\n",
       "│ student ┆ math         │\n",
       "│ ---     ┆ ---          │\n",
       "│ str     ┆ list[i64]    │\n",
       "╞═════════╪══════════════╡\n",
       "│ Alice   ┆ [85, 90, 88] │\n",
       "│ Bob     ┆ [78, 82, 80] │\n",
       "│ Charlie ┆ [92, 85, 87] │\n",
       "└─────────┴──────────────┘"
      ]
     },
     "execution_count": 15,
     "metadata": {},
     "output_type": "execute_result"
    }
   ],
   "source": [
    "df = pl.DataFrame({\n",
    "    \"student\": [\"Alice\", \"Bob\", \"Charlie\"],\n",
    "    \"math\": [[85, 90, 88], [78, 82, 80], [92, 85, 87]]\n",
    "})\n",
    "df"
   ]
  },
  {
   "cell_type": "code",
   "execution_count": 21,
   "id": "41790271",
   "metadata": {},
   "outputs": [
    {
     "data": {
      "text/html": [
       "<div><style>\n",
       ".dataframe > thead > tr,\n",
       ".dataframe > tbody > tr {\n",
       "  text-align: right;\n",
       "  white-space: pre-wrap;\n",
       "}\n",
       "</style>\n",
       "<small>shape: (9, 2)</small><table border=\"1\" class=\"dataframe\"><thead><tr><th>student</th><th>math</th></tr><tr><td>str</td><td>i64</td></tr></thead><tbody><tr><td>&quot;Alice&quot;</td><td>85</td></tr><tr><td>&quot;Alice&quot;</td><td>90</td></tr><tr><td>&quot;Alice&quot;</td><td>88</td></tr><tr><td>&quot;Bob&quot;</td><td>78</td></tr><tr><td>&quot;Bob&quot;</td><td>82</td></tr><tr><td>&quot;Bob&quot;</td><td>80</td></tr><tr><td>&quot;Charlie&quot;</td><td>92</td></tr><tr><td>&quot;Charlie&quot;</td><td>85</td></tr><tr><td>&quot;Charlie&quot;</td><td>87</td></tr></tbody></table></div>"
      ],
      "text/plain": [
       "shape: (9, 2)\n",
       "┌─────────┬──────┐\n",
       "│ student ┆ math │\n",
       "│ ---     ┆ ---  │\n",
       "│ str     ┆ i64  │\n",
       "╞═════════╪══════╡\n",
       "│ Alice   ┆ 85   │\n",
       "│ Alice   ┆ 90   │\n",
       "│ Alice   ┆ 88   │\n",
       "│ Bob     ┆ 78   │\n",
       "│ Bob     ┆ 82   │\n",
       "│ Bob     ┆ 80   │\n",
       "│ Charlie ┆ 92   │\n",
       "│ Charlie ┆ 85   │\n",
       "│ Charlie ┆ 87   │\n",
       "└─────────┴──────┘"
      ]
     },
     "execution_count": 16,
     "metadata": {},
     "output_type": "execute_result"
    }
   ],
   "source": [
    "df.explode(\"math\")"
   ]
  },
  {
   "cell_type": "code",
   "execution_count": 22,
   "id": "f4950594",
   "metadata": {},
   "outputs": [
    {
     "data": {
      "text/html": [
       "<div><style>\n",
       ".dataframe > thead > tr,\n",
       ".dataframe > tbody > tr {\n",
       "  text-align: right;\n",
       "  white-space: pre-wrap;\n",
       "}\n",
       "</style>\n",
       "<small>shape: (3, 4)</small><table border=\"1\" class=\"dataframe\"><thead><tr><th>student</th><th>math</th><th>science</th><th>history</th></tr><tr><td>str</td><td>list[i64]</td><td>list[i64]</td><td>list[i64]</td></tr></thead><tbody><tr><td>&quot;Alice&quot;</td><td>[85, 90, 88]</td><td>[85, 90, 88]</td><td>[85, 90, 88]</td></tr><tr><td>&quot;Bob&quot;</td><td>[78, 82, 80]</td><td>[78, 82]</td><td>[78, 82]</td></tr><tr><td>&quot;Charlie&quot;</td><td>[92, 85, 87]</td><td>[92, 85, 87]</td><td>[92, 85, 87]</td></tr></tbody></table></div>"
      ],
      "text/plain": [
       "shape: (3, 4)\n",
       "┌─────────┬──────────────┬──────────────┬──────────────┐\n",
       "│ student ┆ math         ┆ science      ┆ history      │\n",
       "│ ---     ┆ ---          ┆ ---          ┆ ---          │\n",
       "│ str     ┆ list[i64]    ┆ list[i64]    ┆ list[i64]    │\n",
       "╞═════════╪══════════════╪══════════════╪══════════════╡\n",
       "│ Alice   ┆ [85, 90, 88] ┆ [85, 90, 88] ┆ [85, 90, 88] │\n",
       "│ Bob     ┆ [78, 82, 80] ┆ [78, 82]     ┆ [78, 82]     │\n",
       "│ Charlie ┆ [92, 85, 87] ┆ [92, 85, 87] ┆ [92, 85, 87] │\n",
       "└─────────┴──────────────┴──────────────┴──────────────┘"
      ]
     },
     "execution_count": 17,
     "metadata": {},
     "output_type": "execute_result"
    }
   ],
   "source": [
    "df = pl.DataFrame({\n",
    "    \"student\": [\"Alice\", \"Bob\", \"Charlie\"],\n",
    "    \"math\": [[85, 90, 88], [78, 82, 80], [92, 85, 87]],\n",
    "    \"science\": [[85, 90, 88], [78, 82], [92, 85, 87]],\n",
    "    \"history\": [[85, 90, 88], [78, 82], [92, 85, 87]],\n",
    "})\n",
    "df"
   ]
  },
  {
   "cell_type": "code",
   "execution_count": 23,
   "id": "f2c324a2",
   "metadata": {},
   "outputs": [
    {
     "ename": "ShapeError",
     "evalue": "exploded columns must have matching element counts",
     "output_type": "error",
     "traceback": [
      "\u001b[0;31m---------------------------------------------------------------------------\u001b[0m",
      "\u001b[0;31mShapeError\u001b[0m                                Traceback (most recent call last)",
      "Cell \u001b[0;32mIn[18], line 1\u001b[0m\n\u001b[0;32m----> 1\u001b[0m \u001b[43mdf\u001b[49m\u001b[38;5;241;43m.\u001b[39;49m\u001b[43mexplode\u001b[49m\u001b[43m(\u001b[49m\u001b[38;5;124;43m\"\u001b[39;49m\u001b[38;5;124;43mmath\u001b[39;49m\u001b[38;5;124;43m\"\u001b[39;49m\u001b[43m,\u001b[49m\u001b[43m \u001b[49m\u001b[38;5;124;43m\"\u001b[39;49m\u001b[38;5;124;43mscience\u001b[39;49m\u001b[38;5;124;43m\"\u001b[39;49m\u001b[43m,\u001b[49m\u001b[43m \u001b[49m\u001b[38;5;124;43m\"\u001b[39;49m\u001b[38;5;124;43mhistory\u001b[39;49m\u001b[38;5;124;43m\"\u001b[39;49m\u001b[43m)\u001b[49m\n",
      "File \u001b[0;32m~/Library/Caches/pypoetry/virtualenvs/python-polars-the-definitive-guide-b_q50VVY-py3.11/lib/python3.11/site-packages/polars/dataframe/frame.py:7559\u001b[0m, in \u001b[0;36mDataFrame.explode\u001b[0;34m(self, columns, *more_columns)\u001b[0m\n\u001b[1;32m   7502\u001b[0m \u001b[38;5;28;01mdef\u001b[39;00m \u001b[38;5;21mexplode\u001b[39m(\n\u001b[1;32m   7503\u001b[0m     \u001b[38;5;28mself\u001b[39m,\n\u001b[1;32m   7504\u001b[0m     columns: \u001b[38;5;28mstr\u001b[39m \u001b[38;5;241m|\u001b[39m Expr \u001b[38;5;241m|\u001b[39m Sequence[\u001b[38;5;28mstr\u001b[39m \u001b[38;5;241m|\u001b[39m Expr],\n\u001b[1;32m   7505\u001b[0m     \u001b[38;5;241m*\u001b[39mmore_columns: \u001b[38;5;28mstr\u001b[39m \u001b[38;5;241m|\u001b[39m Expr,\n\u001b[1;32m   7506\u001b[0m ) \u001b[38;5;241m-\u001b[39m\u001b[38;5;241m>\u001b[39m DataFrame:\n\u001b[1;32m   7507\u001b[0m \u001b[38;5;250m    \u001b[39m\u001b[38;5;124;03m\"\"\"\u001b[39;00m\n\u001b[1;32m   7508\u001b[0m \u001b[38;5;124;03m    Explode the dataframe to long format by exploding the given columns.\u001b[39;00m\n\u001b[1;32m   7509\u001b[0m \n\u001b[0;32m   (...)\u001b[0m\n\u001b[1;32m   7557\u001b[0m \u001b[38;5;124;03m    └─────────┴─────────┘\u001b[39;00m\n\u001b[1;32m   7558\u001b[0m \u001b[38;5;124;03m    \"\"\"\u001b[39;00m\n\u001b[0;32m-> 7559\u001b[0m     \u001b[38;5;28;01mreturn\u001b[39;00m \u001b[38;5;28;43mself\u001b[39;49m\u001b[38;5;241;43m.\u001b[39;49m\u001b[43mlazy\u001b[49m\u001b[43m(\u001b[49m\u001b[43m)\u001b[49m\u001b[38;5;241;43m.\u001b[39;49m\u001b[43mexplode\u001b[49m\u001b[43m(\u001b[49m\u001b[43mcolumns\u001b[49m\u001b[43m,\u001b[49m\u001b[43m \u001b[49m\u001b[38;5;241;43m*\u001b[39;49m\u001b[43mmore_columns\u001b[49m\u001b[43m)\u001b[49m\u001b[38;5;241;43m.\u001b[39;49m\u001b[43mcollect\u001b[49m\u001b[43m(\u001b[49m\u001b[43m_eager\u001b[49m\u001b[38;5;241;43m=\u001b[39;49m\u001b[38;5;28;43;01mTrue\u001b[39;49;00m\u001b[43m)\u001b[49m\n",
      "File \u001b[0;32m~/Library/Caches/pypoetry/virtualenvs/python-polars-the-definitive-guide-b_q50VVY-py3.11/lib/python3.11/site-packages/polars/lazyframe/frame.py:1967\u001b[0m, in \u001b[0;36mLazyFrame.collect\u001b[0;34m(self, type_coercion, predicate_pushdown, projection_pushdown, simplify_expression, slice_pushdown, comm_subplan_elim, comm_subexpr_elim, cluster_with_columns, no_optimization, streaming, background, _eager, **_kwargs)\u001b[0m\n\u001b[1;32m   1964\u001b[0m \u001b[38;5;66;03m# Only for testing purposes atm.\u001b[39;00m\n\u001b[1;32m   1965\u001b[0m callback \u001b[38;5;241m=\u001b[39m _kwargs\u001b[38;5;241m.\u001b[39mget(\u001b[38;5;124m\"\u001b[39m\u001b[38;5;124mpost_opt_callback\u001b[39m\u001b[38;5;124m\"\u001b[39m)\n\u001b[0;32m-> 1967\u001b[0m \u001b[38;5;28;01mreturn\u001b[39;00m wrap_df(\u001b[43mldf\u001b[49m\u001b[38;5;241;43m.\u001b[39;49m\u001b[43mcollect\u001b[49m\u001b[43m(\u001b[49m\u001b[43mcallback\u001b[49m\u001b[43m)\u001b[49m)\n",
      "\u001b[0;31mShapeError\u001b[0m: exploded columns must have matching element counts"
     ]
    }
   ],
   "source": [
    "df.explode(\"math\", \"science\", \"history\")"
   ]
  },
  {
   "cell_type": "code",
   "execution_count": 24,
   "id": "dd127648",
   "metadata": {},
   "outputs": [
    {
     "ename": "ShapeError",
     "evalue": "exploded columns must have matching element counts",
     "output_type": "error",
     "traceback": [
      "\u001b[0;31m---------------------------------------------------------------------------\u001b[0m",
      "\u001b[0;31mShapeError\u001b[0m                                Traceback (most recent call last)",
      "Cell \u001b[0;32mIn[19], line 6\u001b[0m\n\u001b[1;32m      1\u001b[0m df \u001b[38;5;241m=\u001b[39m pl\u001b[38;5;241m.\u001b[39mDataFrame({\n\u001b[1;32m      2\u001b[0m     \u001b[38;5;124m\"\u001b[39m\u001b[38;5;124mid\u001b[39m\u001b[38;5;124m\"\u001b[39m: [\u001b[38;5;241m1\u001b[39m,\u001b[38;5;241m2\u001b[39m],\n\u001b[1;32m      3\u001b[0m     \u001b[38;5;124m\"\u001b[39m\u001b[38;5;124mvalue1\u001b[39m\u001b[38;5;124m\"\u001b[39m: [[\u001b[38;5;124m\"\u001b[39m\u001b[38;5;124ma\u001b[39m\u001b[38;5;124m\"\u001b[39m, \u001b[38;5;124m\"\u001b[39m\u001b[38;5;124mb\u001b[39m\u001b[38;5;124m\"\u001b[39m], [\u001b[38;5;124m\"\u001b[39m\u001b[38;5;124mc\u001b[39m\u001b[38;5;124m\"\u001b[39m]],\n\u001b[1;32m      4\u001b[0m     \u001b[38;5;124m\"\u001b[39m\u001b[38;5;124mvalue2\u001b[39m\u001b[38;5;124m\"\u001b[39m: [[\u001b[38;5;124m\"\u001b[39m\u001b[38;5;124ma\u001b[39m\u001b[38;5;124m\"\u001b[39m], [\u001b[38;5;124m\"\u001b[39m\u001b[38;5;124mb\u001b[39m\u001b[38;5;124m\"\u001b[39m]],\n\u001b[1;32m      5\u001b[0m })\n\u001b[0;32m----> 6\u001b[0m \u001b[43mdf\u001b[49m\u001b[38;5;241;43m.\u001b[39;49m\u001b[43mexplode\u001b[49m\u001b[43m(\u001b[49m\u001b[38;5;124;43m\"\u001b[39;49m\u001b[38;5;124;43mvalue1\u001b[39;49m\u001b[38;5;124;43m\"\u001b[39;49m\u001b[43m,\u001b[49m\u001b[43m \u001b[49m\u001b[38;5;124;43m\"\u001b[39;49m\u001b[38;5;124;43mvalue2\u001b[39;49m\u001b[38;5;124;43m\"\u001b[39;49m\u001b[43m)\u001b[49m\n",
      "File \u001b[0;32m~/Library/Caches/pypoetry/virtualenvs/python-polars-the-definitive-guide-b_q50VVY-py3.11/lib/python3.11/site-packages/polars/dataframe/frame.py:7559\u001b[0m, in \u001b[0;36mDataFrame.explode\u001b[0;34m(self, columns, *more_columns)\u001b[0m\n\u001b[1;32m   7502\u001b[0m \u001b[38;5;28;01mdef\u001b[39;00m \u001b[38;5;21mexplode\u001b[39m(\n\u001b[1;32m   7503\u001b[0m     \u001b[38;5;28mself\u001b[39m,\n\u001b[1;32m   7504\u001b[0m     columns: \u001b[38;5;28mstr\u001b[39m \u001b[38;5;241m|\u001b[39m Expr \u001b[38;5;241m|\u001b[39m Sequence[\u001b[38;5;28mstr\u001b[39m \u001b[38;5;241m|\u001b[39m Expr],\n\u001b[1;32m   7505\u001b[0m     \u001b[38;5;241m*\u001b[39mmore_columns: \u001b[38;5;28mstr\u001b[39m \u001b[38;5;241m|\u001b[39m Expr,\n\u001b[1;32m   7506\u001b[0m ) \u001b[38;5;241m-\u001b[39m\u001b[38;5;241m>\u001b[39m DataFrame:\n\u001b[1;32m   7507\u001b[0m \u001b[38;5;250m    \u001b[39m\u001b[38;5;124;03m\"\"\"\u001b[39;00m\n\u001b[1;32m   7508\u001b[0m \u001b[38;5;124;03m    Explode the dataframe to long format by exploding the given columns.\u001b[39;00m\n\u001b[1;32m   7509\u001b[0m \n\u001b[0;32m   (...)\u001b[0m\n\u001b[1;32m   7557\u001b[0m \u001b[38;5;124;03m    └─────────┴─────────┘\u001b[39;00m\n\u001b[1;32m   7558\u001b[0m \u001b[38;5;124;03m    \"\"\"\u001b[39;00m\n\u001b[0;32m-> 7559\u001b[0m     \u001b[38;5;28;01mreturn\u001b[39;00m \u001b[38;5;28;43mself\u001b[39;49m\u001b[38;5;241;43m.\u001b[39;49m\u001b[43mlazy\u001b[49m\u001b[43m(\u001b[49m\u001b[43m)\u001b[49m\u001b[38;5;241;43m.\u001b[39;49m\u001b[43mexplode\u001b[49m\u001b[43m(\u001b[49m\u001b[43mcolumns\u001b[49m\u001b[43m,\u001b[49m\u001b[43m \u001b[49m\u001b[38;5;241;43m*\u001b[39;49m\u001b[43mmore_columns\u001b[49m\u001b[43m)\u001b[49m\u001b[38;5;241;43m.\u001b[39;49m\u001b[43mcollect\u001b[49m\u001b[43m(\u001b[49m\u001b[43m_eager\u001b[49m\u001b[38;5;241;43m=\u001b[39;49m\u001b[38;5;28;43;01mTrue\u001b[39;49;00m\u001b[43m)\u001b[49m\n",
      "File \u001b[0;32m~/Library/Caches/pypoetry/virtualenvs/python-polars-the-definitive-guide-b_q50VVY-py3.11/lib/python3.11/site-packages/polars/lazyframe/frame.py:1967\u001b[0m, in \u001b[0;36mLazyFrame.collect\u001b[0;34m(self, type_coercion, predicate_pushdown, projection_pushdown, simplify_expression, slice_pushdown, comm_subplan_elim, comm_subexpr_elim, cluster_with_columns, no_optimization, streaming, background, _eager, **_kwargs)\u001b[0m\n\u001b[1;32m   1964\u001b[0m \u001b[38;5;66;03m# Only for testing purposes atm.\u001b[39;00m\n\u001b[1;32m   1965\u001b[0m callback \u001b[38;5;241m=\u001b[39m _kwargs\u001b[38;5;241m.\u001b[39mget(\u001b[38;5;124m\"\u001b[39m\u001b[38;5;124mpost_opt_callback\u001b[39m\u001b[38;5;124m\"\u001b[39m)\n\u001b[0;32m-> 1967\u001b[0m \u001b[38;5;28;01mreturn\u001b[39;00m wrap_df(\u001b[43mldf\u001b[49m\u001b[38;5;241;43m.\u001b[39;49m\u001b[43mcollect\u001b[49m\u001b[43m(\u001b[49m\u001b[43mcallback\u001b[49m\u001b[43m)\u001b[49m)\n",
      "\u001b[0;31mShapeError\u001b[0m: exploded columns must have matching element counts"
     ]
    }
   ],
   "source": [
    "df = pl.DataFrame({\n",
    "    \"id\": [1,2],\n",
    "    \"value1\": [[\"a\", \"b\"], [\"c\"]],\n",
    "    \"value2\": [[\"a\"], [\"b\"]],\n",
    "})\n",
    "df.explode(\"value1\", \"value2\")"
   ]
  },
  {
   "cell_type": "code",
   "execution_count": 25,
   "id": "1cd20197",
   "metadata": {},
   "outputs": [
    {
     "data": {
      "text/html": [
       "<div><style>\n",
       ".dataframe > thead > tr,\n",
       ".dataframe > tbody > tr {\n",
       "  text-align: right;\n",
       "  white-space: pre-wrap;\n",
       "}\n",
       "</style>\n",
       "<small>shape: (2, 2)</small><table border=\"1\" class=\"dataframe\"><thead><tr><th>id</th><th>nested_value</th></tr><tr><td>i64</td><td>list[list[str]]</td></tr></thead><tbody><tr><td>1</td><td>[[&quot;a&quot;], [&quot;b&quot;]]</td></tr><tr><td>2</td><td>[[&quot;c&quot;], [&quot;d&quot;, &quot;e&quot;]]</td></tr></tbody></table></div>"
      ],
      "text/plain": [
       "shape: (2, 2)\n",
       "┌─────┬─────────────────────┐\n",
       "│ id  ┆ nested_value        │\n",
       "│ --- ┆ ---                 │\n",
       "│ i64 ┆ list[list[str]]     │\n",
       "╞═════╪═════════════════════╡\n",
       "│ 1   ┆ [[\"a\"], [\"b\"]]      │\n",
       "│ 2   ┆ [[\"c\"], [\"d\", \"e\"]] │\n",
       "└─────┴─────────────────────┘"
      ]
     },
     "execution_count": 20,
     "metadata": {},
     "output_type": "execute_result"
    }
   ],
   "source": [
    "df = pl.DataFrame({\n",
    "    \"id\": [1,2],\n",
    "    \"nested_value\": [[\"a\", \"b\"], [[\"c\"], [\"d\", \"e\"]]],\n",
    "}, strict=False)\n",
    "df"
   ]
  },
  {
   "cell_type": "code",
   "execution_count": 26,
   "id": "11e06de3",
   "metadata": {},
   "outputs": [
    {
     "data": {
      "text/html": [
       "<div><style>\n",
       ".dataframe > thead > tr,\n",
       ".dataframe > tbody > tr {\n",
       "  text-align: right;\n",
       "  white-space: pre-wrap;\n",
       "}\n",
       "</style>\n",
       "<small>shape: (4, 2)</small><table border=\"1\" class=\"dataframe\"><thead><tr><th>id</th><th>nested_value</th></tr><tr><td>i64</td><td>list[str]</td></tr></thead><tbody><tr><td>1</td><td>[&quot;a&quot;]</td></tr><tr><td>1</td><td>[&quot;b&quot;]</td></tr><tr><td>2</td><td>[&quot;c&quot;]</td></tr><tr><td>2</td><td>[&quot;d&quot;, &quot;e&quot;]</td></tr></tbody></table></div>"
      ],
      "text/plain": [
       "shape: (4, 2)\n",
       "┌─────┬──────────────┐\n",
       "│ id  ┆ nested_value │\n",
       "│ --- ┆ ---          │\n",
       "│ i64 ┆ list[str]    │\n",
       "╞═════╪══════════════╡\n",
       "│ 1   ┆ [\"a\"]        │\n",
       "│ 1   ┆ [\"b\"]        │\n",
       "│ 2   ┆ [\"c\"]        │\n",
       "│ 2   ┆ [\"d\", \"e\"]   │\n",
       "└─────┴──────────────┘"
      ]
     },
     "execution_count": 21,
     "metadata": {},
     "output_type": "execute_result"
    }
   ],
   "source": [
    "df.explode(\"nested_value\")"
   ]
  },
  {
   "cell_type": "code",
   "execution_count": 27,
   "id": "e31ef246",
   "metadata": {},
   "outputs": [
    {
     "data": {
      "text/html": [
       "<div><style>\n",
       ".dataframe > thead > tr,\n",
       ".dataframe > tbody > tr {\n",
       "  text-align: right;\n",
       "  white-space: pre-wrap;\n",
       "}\n",
       "</style>\n",
       "<small>shape: (5, 2)</small><table border=\"1\" class=\"dataframe\"><thead><tr><th>id</th><th>nested_value</th></tr><tr><td>i64</td><td>str</td></tr></thead><tbody><tr><td>1</td><td>&quot;a&quot;</td></tr><tr><td>1</td><td>&quot;b&quot;</td></tr><tr><td>2</td><td>&quot;c&quot;</td></tr><tr><td>2</td><td>&quot;d&quot;</td></tr><tr><td>2</td><td>&quot;e&quot;</td></tr></tbody></table></div>"
      ],
      "text/plain": [
       "shape: (5, 2)\n",
       "┌─────┬──────────────┐\n",
       "│ id  ┆ nested_value │\n",
       "│ --- ┆ ---          │\n",
       "│ i64 ┆ str          │\n",
       "╞═════╪══════════════╡\n",
       "│ 1   ┆ a            │\n",
       "│ 1   ┆ b            │\n",
       "│ 2   ┆ c            │\n",
       "│ 2   ┆ d            │\n",
       "│ 2   ┆ e            │\n",
       "└─────┴──────────────┘"
      ]
     },
     "execution_count": 22,
     "metadata": {},
     "output_type": "execute_result"
    }
   ],
   "source": [
    "df.explode(\"nested_value\").explode(\"nested_value\")"
   ]
  },
  {
   "cell_type": "markdown",
   "id": "37ad3dc3",
   "metadata": {},
   "source": [
    "## Partition into Multiple DataFrames"
   ]
  },
  {
   "cell_type": "code",
   "execution_count": 29,
   "id": "cb3c0055",
   "metadata": {},
   "outputs": [],
   "source": [
    "df = pl.DataFrame({\n",
    "    \"OrderID\": [1, 2, 3, 4, 5, 6],\n",
    "    \"Product\": [\"A\", \"B\", \"A\", \"C\", \"B\", \"A\"],\n",
    "    \"Quantity\": [10, 5, 8, 7, 3, 12],\n",
    "    \"Region\": [\"North\", \"South\", \"North\", \"West\", \"South\", \"West\"]\n",
    "})"
   ]
  },
  {
   "cell_type": "code",
   "execution_count": 30,
   "id": "29ae7e9c",
   "metadata": {},
   "outputs": [
    {
     "data": {
      "text/plain": [
       "[shape: (2, 4)\n",
       " ┌─────────┬─────────┬──────────┬────────┐\n",
       " │ OrderID ┆ Product ┆ Quantity ┆ Region │\n",
       " │ ---     ┆ ---     ┆ ---      ┆ ---    │\n",
       " │ i64     ┆ str     ┆ i64      ┆ str    │\n",
       " ╞═════════╪═════════╪══════════╪════════╡\n",
       " │ 1       ┆ A       ┆ 10       ┆ North  │\n",
       " │ 3       ┆ A       ┆ 8        ┆ North  │\n",
       " └─────────┴─────────┴──────────┴────────┘,\n",
       " shape: (2, 4)\n",
       " ┌─────────┬─────────┬──────────┬────────┐\n",
       " │ OrderID ┆ Product ┆ Quantity ┆ Region │\n",
       " │ ---     ┆ ---     ┆ ---      ┆ ---    │\n",
       " │ i64     ┆ str     ┆ i64      ┆ str    │\n",
       " ╞═════════╪═════════╪══════════╪════════╡\n",
       " │ 2       ┆ B       ┆ 5        ┆ South  │\n",
       " │ 5       ┆ B       ┆ 3        ┆ South  │\n",
       " └─────────┴─────────┴──────────┴────────┘,\n",
       " shape: (2, 4)\n",
       " ┌─────────┬─────────┬──────────┬────────┐\n",
       " │ OrderID ┆ Product ┆ Quantity ┆ Region │\n",
       " │ ---     ┆ ---     ┆ ---      ┆ ---    │\n",
       " │ i64     ┆ str     ┆ i64      ┆ str    │\n",
       " ╞═════════╪═════════╪══════════╪════════╡\n",
       " │ 4       ┆ C       ┆ 7        ┆ West   │\n",
       " │ 6       ┆ A       ┆ 12       ┆ West   │\n",
       " └─────────┴─────────┴──────────┴────────┘]"
      ]
     },
     "execution_count": 24,
     "metadata": {},
     "output_type": "execute_result"
    }
   ],
   "source": [
    "df.partition_by(\"Region\")"
   ]
  },
  {
   "cell_type": "code",
   "execution_count": 31,
   "id": "15e89270",
   "metadata": {},
   "outputs": [
    {
     "data": {
      "text/plain": [
       "[shape: (2, 3)\n",
       " ┌─────────┬─────────┬──────────┐\n",
       " │ OrderID ┆ Product ┆ Quantity │\n",
       " │ ---     ┆ ---     ┆ ---      │\n",
       " │ i64     ┆ str     ┆ i64      │\n",
       " ╞═════════╪═════════╪══════════╡\n",
       " │ 1       ┆ A       ┆ 10       │\n",
       " │ 3       ┆ A       ┆ 8        │\n",
       " └─────────┴─────────┴──────────┘,\n",
       " shape: (2, 3)\n",
       " ┌─────────┬─────────┬──────────┐\n",
       " │ OrderID ┆ Product ┆ Quantity │\n",
       " │ ---     ┆ ---     ┆ ---      │\n",
       " │ i64     ┆ str     ┆ i64      │\n",
       " ╞═════════╪═════════╪══════════╡\n",
       " │ 2       ┆ B       ┆ 5        │\n",
       " │ 5       ┆ B       ┆ 3        │\n",
       " └─────────┴─────────┴──────────┘,\n",
       " shape: (2, 3)\n",
       " ┌─────────┬─────────┬──────────┐\n",
       " │ OrderID ┆ Product ┆ Quantity │\n",
       " │ ---     ┆ ---     ┆ ---      │\n",
       " │ i64     ┆ str     ┆ i64      │\n",
       " ╞═════════╪═════════╪══════════╡\n",
       " │ 4       ┆ C       ┆ 7        │\n",
       " │ 6       ┆ A       ┆ 12       │\n",
       " └─────────┴─────────┴──────────┘]"
      ]
     },
     "execution_count": 25,
     "metadata": {},
     "output_type": "execute_result"
    }
   ],
   "source": [
    "df.partition_by(\"Region\", include_key=False)"
   ]
  },
  {
   "cell_type": "code",
   "execution_count": 32,
   "id": "f394adc3",
   "metadata": {},
   "outputs": [
    {
     "data": {
      "text/plain": [
       "{('North',): shape: (2, 4)\n",
       " ┌─────────┬─────────┬──────────┬────────┐\n",
       " │ OrderID ┆ Product ┆ Quantity ┆ Region │\n",
       " │ ---     ┆ ---     ┆ ---      ┆ ---    │\n",
       " │ i64     ┆ str     ┆ i64      ┆ str    │\n",
       " ╞═════════╪═════════╪══════════╪════════╡\n",
       " │ 1       ┆ A       ┆ 10       ┆ North  │\n",
       " │ 3       ┆ A       ┆ 8        ┆ North  │\n",
       " └─────────┴─────────┴──────────┴────────┘,\n",
       " ('South',): shape: (2, 4)\n",
       " ┌─────────┬─────────┬──────────┬────────┐\n",
       " │ OrderID ┆ Product ┆ Quantity ┆ Region │\n",
       " │ ---     ┆ ---     ┆ ---      ┆ ---    │\n",
       " │ i64     ┆ str     ┆ i64      ┆ str    │\n",
       " ╞═════════╪═════════╪══════════╪════════╡\n",
       " │ 2       ┆ B       ┆ 5        ┆ South  │\n",
       " │ 5       ┆ B       ┆ 3        ┆ South  │\n",
       " └─────────┴─────────┴──────────┴────────┘,\n",
       " ('West',): shape: (2, 4)\n",
       " ┌─────────┬─────────┬──────────┬────────┐\n",
       " │ OrderID ┆ Product ┆ Quantity ┆ Region │\n",
       " │ ---     ┆ ---     ┆ ---      ┆ ---    │\n",
       " │ i64     ┆ str     ┆ i64      ┆ str    │\n",
       " ╞═════════╪═════════╪══════════╪════════╡\n",
       " │ 4       ┆ C       ┆ 7        ┆ West   │\n",
       " │ 6       ┆ A       ┆ 12       ┆ West   │\n",
       " └─────────┴─────────┴──────────┴────────┘}"
      ]
     },
     "execution_count": 26,
     "metadata": {},
     "output_type": "execute_result"
    }
   ],
   "source": [
    "dfs = df.partition_by([\"Region\"], as_dict=True)\n",
    "dfs"
   ]
  },
  {
   "cell_type": "code",
   "execution_count": 33,
   "id": "f01076a8",
   "metadata": {},
   "outputs": [
    {
     "data": {
      "text/html": [
       "<div><style>\n",
       ".dataframe > thead > tr,\n",
       ".dataframe > tbody > tr {\n",
       "  text-align: right;\n",
       "  white-space: pre-wrap;\n",
       "}\n",
       "</style>\n",
       "<small>shape: (2, 4)</small><table border=\"1\" class=\"dataframe\"><thead><tr><th>OrderID</th><th>Product</th><th>Quantity</th><th>Region</th></tr><tr><td>i64</td><td>str</td><td>i64</td><td>str</td></tr></thead><tbody><tr><td>1</td><td>&quot;A&quot;</td><td>10</td><td>&quot;North&quot;</td></tr><tr><td>3</td><td>&quot;A&quot;</td><td>8</td><td>&quot;North&quot;</td></tr></tbody></table></div>"
      ],
      "text/plain": [
       "shape: (2, 4)\n",
       "┌─────────┬─────────┬──────────┬────────┐\n",
       "│ OrderID ┆ Product ┆ Quantity ┆ Region │\n",
       "│ ---     ┆ ---     ┆ ---      ┆ ---    │\n",
       "│ i64     ┆ str     ┆ i64      ┆ str    │\n",
       "╞═════════╪═════════╪══════════╪════════╡\n",
       "│ 1       ┆ A       ┆ 10       ┆ North  │\n",
       "│ 3       ┆ A       ┆ 8        ┆ North  │\n",
       "└─────────┴─────────┴──────────┴────────┘"
      ]
     },
     "execution_count": 27,
     "metadata": {},
     "output_type": "execute_result"
    }
   ],
   "source": [
    "dfs[(\"North\",)]"
   ]
  },
  {
   "cell_type": "markdown",
   "id": "3c4c42e5",
   "metadata": {},
   "source": [
    "## Conclusion"
   ]
  }
 ],
 "metadata": {
  "language_info": {
   "codemirror_mode": {
    "name": "ipython",
    "version": 3
   },
   "file_extension": ".py",
   "mimetype": "text/x-python",
   "name": "python",
   "nbconvert_exporter": "python",
   "pygments_lexer": "ipython3",
   "version": "3.11.9"
  }
 },
 "nbformat": 4,
 "nbformat_minor": 5
}
