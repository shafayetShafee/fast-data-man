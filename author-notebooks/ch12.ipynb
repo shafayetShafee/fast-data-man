{
 "cells": [
  {
   "cell_type": "markdown",
   "id": "a21ef865",
   "metadata": {},
   "source": [
    "# Chapter 12: Working with Special Data Types"
   ]
  },
  {
   "cell_type": "code",
   "execution_count": 1,
   "id": "e607216f",
   "metadata": {},
   "outputs": [
    {
     "name": "stdout",
     "output_type": "stream",
     "text": [
      "--------Version info---------\n",
      "Polars:               0.20.31\n",
      "Index type:           UInt32\n",
      "Platform:             macOS-12.5-arm64-arm-64bit\n",
      "Python:               3.11.9 (main, Apr  2 2024, 16:11:47) [Clang 14.0.0 (clang-1400.0.29.202)]\n",
      "\n",
      "----Optional dependencies----\n",
      "adbc_driver_manager:  0.8.0\n",
      "cloudpickle:          3.0.0\n",
      "connectorx:           0.3.2\n",
      "deltalake:            0.15.0\n",
      "fastexcel:            0.9.1\n",
      "fsspec:               2023.12.2\n",
      "gevent:               23.9.1\n",
      "hvplot:               0.9.2\n",
      "matplotlib:           3.8.4\n",
      "nest_asyncio:         1.6.0\n",
      "numpy:                1.26.4\n",
      "openpyxl:             3.1.2\n",
      "pandas:               2.2.2\n",
      "pyarrow:              14.0.2\n",
      "pydantic:             2.5.3\n",
      "pyiceberg:            0.5.1\n",
      "pyxlsb:               <not installed>\n",
      "sqlalchemy:           2.0.25\n",
      "torch:                <not installed>\n",
      "xlsx2csv:             0.8.2\n",
      "xlsxwriter:           3.2.0\n"
     ]
    }
   ],
   "source": [
    "import polars as pl\n",
    "pl.show_versions()"
   ]
  },
  {
   "cell_type": "markdown",
   "id": "fd37e6ce",
   "metadata": {},
   "source": [
    "## Strings"
   ]
  },
  {
   "cell_type": "markdown",
   "id": "fbc8369c",
   "metadata": {},
   "source": [
    "### Methods"
   ]
  },
  {
   "cell_type": "markdown",
   "id": "e647fb80",
   "metadata": {},
   "source": [
    "#### Conversion"
   ]
  },
  {
   "cell_type": "markdown",
   "id": "2c6ce444",
   "metadata": {},
   "source": [
    "#### Descriptive and Query Methods"
   ]
  },
  {
   "cell_type": "markdown",
   "id": "8e2f2015",
   "metadata": {},
   "source": [
    "#### Manipulation"
   ]
  },
  {
   "cell_type": "markdown",
   "id": "bcd68c21",
   "metadata": {},
   "source": [
    "### Examples"
   ]
  },
  {
   "cell_type": "code",
   "execution_count": 8,
   "id": "b533757e",
   "metadata": {},
   "outputs": [
    {
     "name": "stdout",
     "output_type": "stream",
     "text": [
      "shape: (3, 1)\n",
      "┌────────────────────────────┐\n",
      "│ raw_text                   │\n",
      "│ ---                        │\n",
      "│ str                        │\n",
      "╞════════════════════════════╡\n",
      "│   Data Science is amazing  │\n",
      "│ Data_analysis > Data entry │\n",
      "│  Python&Polars; Fast       │\n",
      "└────────────────────────────┘\n"
     ]
    }
   ],
   "source": [
    "import polars as pl\n",
    "\n",
    "df = pl.DataFrame({\n",
    "    \"raw_text\": [\n",
    "        \"  Data Science is amazing \",\n",
    "        \"Data_analysis > Data entry\",\n",
    "        \" Python&Polars; Fast\",\n",
    "    ]\n",
    "})\n",
    "print(df)"
   ]
  },
  {
   "cell_type": "code",
   "execution_count": 9,
   "id": "74b39a16",
   "metadata": {},
   "outputs": [
    {
     "name": "stdout",
     "output_type": "stream",
     "text": [
      "shape: (3, 2)\n",
      "┌────────────────────────────┬────────────────────────────┐\n",
      "│ raw_text                   ┆ processed_text             │\n",
      "│ ---                        ┆ ---                        │\n",
      "│ str                        ┆ str                        │\n",
      "╞════════════════════════════╪════════════════════════════╡\n",
      "│   Data Science is amazing  ┆ data science is amazing    │\n",
      "│ Data_analysis > Data entry ┆ data analysis > data entry │\n",
      "│  Python&Polars; Fast       ┆ python&polars; fast        │\n",
      "└────────────────────────────┴────────────────────────────┘\n"
     ]
    }
   ],
   "source": [
    "df = df.with_columns(\n",
    "    pl.col(\"raw_text\")\n",
    "    .str.strip_chars()  # <1>\n",
    "    .str.to_lowercase()  # <2>\n",
    "    .str.replace_all(\"_\", \" \")  # <3>\n",
    "    .alias(\"processed_text\")  # <4>\n",
    ")\n",
    "print(df)"
   ]
  },
  {
   "cell_type": "code",
   "execution_count": 10,
   "id": "bae5af85",
   "metadata": {},
   "outputs": [
    {
     "name": "stdout",
     "output_type": "stream",
     "text": [
      "shape: (3, 5)\n",
      "┌─────────────────────────┬─────────────────────────┬───────────────┬────────────────┬─────────────┐\n",
      "│ raw_text                ┆ processed_text          ┆ first_5_chars ┆ first_word     ┆ second_word │\n",
      "│ ---                     ┆ ---                     ┆ ---           ┆ ---            ┆ ---         │\n",
      "│ str                     ┆ str                     ┆ str           ┆ str            ┆ str         │\n",
      "╞═════════════════════════╪═════════════════════════╪═══════════════╪════════════════╪═════════════╡\n",
      "│ Data Science is amazing ┆ data science is amazing ┆ data          ┆ data           ┆ science     │\n",
      "│ Data_analysis > Data    ┆ data analysis > data    ┆ data          ┆ data           ┆ analysis    │\n",
      "│ entry                   ┆ entry                   ┆               ┆                ┆             │\n",
      "│  Python&Polars; Fast    ┆ python&polars; fast     ┆ pytho         ┆ python&polars; ┆ fast        │\n",
      "└─────────────────────────┴─────────────────────────┴───────────────┴────────────────┴─────────────┘\n"
     ]
    }
   ],
   "source": [
    "print(\n",
    "    df.with_columns(\n",
    "        pl.col(\"processed_text\")\n",
    "        .str.slice(0, 5)  # <1>\n",
    "        .alias(\"first_5_chars\"),\n",
    "        pl.col(\"processed_text\")\n",
    "        .str.split(\" \")  # <2>\n",
    "        .list.get(0)  # <3>\n",
    "        .alias(\"first_word\"),\n",
    "        pl.col(\"processed_text\")\n",
    "        .str.split(\" \")\n",
    "        .list.get(1)  # <4>\n",
    "        .alias(\"second_word\"),\n",
    "    )\n",
    ")"
   ]
  },
  {
   "cell_type": "code",
   "execution_count": 11,
   "id": "11ce88c6",
   "metadata": {},
   "outputs": [
    {
     "name": "stdout",
     "output_type": "stream",
     "text": [
      "shape: (3, 5)\n",
      "┌──────────────────────────┬─────────────────────────┬─────────────────┬─────────────────┬─────────┐\n",
      "│ raw_text                 ┆ processed_text          ┆ amount_of_chars ┆ amount_of_bytes ┆ count_a │\n",
      "│ ---                      ┆ ---                     ┆ ---             ┆ ---             ┆ ---     │\n",
      "│ str                      ┆ str                     ┆ u32             ┆ u32             ┆ u32     │\n",
      "╞══════════════════════════╪═════════════════════════╪═════════════════╪═════════════════╪═════════╡\n",
      "│ Data Science is amazing  ┆ data science is amazing ┆ 23              ┆ 23              ┆ 4       │\n",
      "│ Data_analysis > Data     ┆ data analysis > data    ┆ 26              ┆ 26              ┆ 6       │\n",
      "│ entry                    ┆ entry                   ┆                 ┆                 ┆         │\n",
      "│  Python&Polars; Fast     ┆ python&polars; fast     ┆ 19              ┆ 19              ┆ 2       │\n",
      "└──────────────────────────┴─────────────────────────┴─────────────────┴─────────────────┴─────────┘\n"
     ]
    }
   ],
   "source": [
    "print(\n",
    "    df.with_columns(\n",
    "        pl.col(\"processed_text\")\n",
    "        .str.len_chars()  # <1>\n",
    "        .alias(\"amount_of_chars\"),\n",
    "        pl.col(\"processed_text\")\n",
    "        .str.len_bytes()  # <2>\n",
    "        .alias(\"amount_of_bytes\"),\n",
    "        pl.col(\"processed_text\")\n",
    "        .str.count_matches(\"a\")  # <3>\n",
    "        .alias(\"count_a\"),\n",
    "    )\n",
    ")"
   ]
  },
  {
   "cell_type": "code",
   "execution_count": 12,
   "id": "67856be6",
   "metadata": {},
   "outputs": [
    {
     "data": {
      "text/html": [
       "<div><style>\n",
       ".dataframe > thead > tr,\n",
       ".dataframe > tbody > tr {\n",
       "  text-align: right;\n",
       "  white-space: pre-wrap;\n",
       "}\n",
       "</style>\n",
       "<small>shape: (2, 2)</small><table border=\"1\" class=\"dataframe\"><thead><tr><th>post</th><th>hashtags</th></tr><tr><td>str</td><td>list[str]</td></tr></thead><tbody><tr><td>&quot;Loving #python and #polars!&quot;</td><td>[&quot;#python&quot;, &quot;#polars&quot;]</td></tr><tr><td>&quot;A boomer post without a hashta…</td><td>[]</td></tr></tbody></table></div>"
      ],
      "text/plain": [
       "shape: (2, 2)\n",
       "┌─────────────────────────────────┬────────────────────────┐\n",
       "│ post                            ┆ hashtags               │\n",
       "│ ---                             ┆ ---                    │\n",
       "│ str                             ┆ list[str]              │\n",
       "╞═════════════════════════════════╪════════════════════════╡\n",
       "│ Loving #python and #polars!     ┆ [\"#python\", \"#polars\"] │\n",
       "│ A boomer post without a hashta… ┆ []                     │\n",
       "└─────────────────────────────────┴────────────────────────┘"
      ]
     },
     "execution_count": 6,
     "metadata": {},
     "output_type": "execute_result"
    }
   ],
   "source": [
    "df = pl.DataFrame({\n",
    "    \"post\": [\"Loving #python and #polars!\", \"A boomer post without a hashtag\"]\n",
    "})\n",
    "\n",
    "hashtag_regex = r\"#(\\w+)\"  # <1>\n",
    "\n",
    "df.with_columns(\n",
    "    pl.col(\"post\").str.extract_all(hashtag_regex).alias(\"hashtags\")  # <2>\n",
    ")"
   ]
  },
  {
   "cell_type": "markdown",
   "id": "f17b0fb6",
   "metadata": {},
   "source": [
    "## Categoricals"
   ]
  },
  {
   "cell_type": "code",
   "execution_count": 14,
   "id": "a43b5a39",
   "metadata": {},
   "outputs": [
    {
     "name": "stdout",
     "output_type": "stream",
     "text": [
      "shape: (3, 2)\n",
      "┌────────────────────┬─────────────────────────────┐\n",
      "│ categorical_column ┆ categorical_column_physical │\n",
      "│ ---                ┆ ---                         │\n",
      "│ cat                ┆ u32                         │\n",
      "╞════════════════════╪═════════════════════════════╡\n",
      "│ value1             ┆ 0                           │\n",
      "│ value2             ┆ 1                           │\n",
      "│ value3             ┆ 2                           │\n",
      "└────────────────────┴─────────────────────────────┘\n"
     ]
    }
   ],
   "source": [
    "df1 = pl.DataFrame(\n",
    "    {\"categorical_column\": [\"value1\", \"value2\", \"value3\"]},\n",
    "    schema={\"categorical_column\": pl.Categorical},\n",
    ")\n",
    "\n",
    "print(\n",
    "    df1.with_columns(\n",
    "        pl.col(\"categorical_column\")\n",
    "        .to_physical()\n",
    "        .alias(\"categorical_column_physical\")\n",
    "    )\n",
    ")"
   ]
  },
  {
   "cell_type": "markdown",
   "id": "e93f350c",
   "metadata": {},
   "source": [
    "### Methods"
   ]
  },
  {
   "cell_type": "markdown",
   "id": "0fcab6a5",
   "metadata": {},
   "source": [
    "### Examples"
   ]
  },
  {
   "cell_type": "code",
   "execution_count": 17,
   "id": "2292f0e2",
   "metadata": {},
   "outputs": [
    {
     "name": "stdout",
     "output_type": "stream",
     "text": [
      "shape: (3, 2)\n",
      "┌────────────────────┬─────────────────────────────┐\n",
      "│ categorical_column ┆ categorical_column_physical │\n",
      "│ ---                ┆ ---                         │\n",
      "│ cat                ┆ u32                         │\n",
      "╞════════════════════╪═════════════════════════════╡\n",
      "│ value4             ┆ 0                           │\n",
      "│ value3             ┆ 1                           │\n",
      "│ value2             ┆ 2                           │\n",
      "└────────────────────┴─────────────────────────────┘\n"
     ]
    }
   ],
   "source": [
    "df2 = pl.DataFrame(\n",
    "    {\"categorical_column\": [\"value4\", \"value3\", \"value2\"]},\n",
    "    schema={\"categorical_column\": pl.Categorical},\n",
    ")\n",
    "\n",
    "print(\n",
    "    df2.with_columns(\n",
    "        pl.col(\"categorical_column\")\n",
    "        .to_physical()\n",
    "        .alias(\"categorical_column_physical\")\n",
    "    )\n",
    ")"
   ]
  },
  {
   "cell_type": "code",
   "execution_count": 18,
   "id": "92cf574f",
   "metadata": {},
   "outputs": [
    {
     "name": "stderr",
     "output_type": "stream",
     "text": [
      "/var/folders/3d/ldmd42_x7zx8d8xqy0fkhmgc0000gn/T/ipykernel_80248/2227544706.py:1: CategoricalRemappingWarning: Local categoricals have different encodings, expensive re-encoding is done to perform this merge operation. Consider using a StringCache or an Enum type if the categories are known in advance\n",
      "  df1.join(df2, on=\"categorical_column\")\n"
     ]
    },
    {
     "data": {
      "text/html": [
       "<div><style>\n",
       ".dataframe > thead > tr,\n",
       ".dataframe > tbody > tr {\n",
       "  text-align: right;\n",
       "  white-space: pre-wrap;\n",
       "}\n",
       "</style>\n",
       "<small>shape: (2, 1)</small><table border=\"1\" class=\"dataframe\"><thead><tr><th>categorical_column</th></tr><tr><td>cat</td></tr></thead><tbody><tr><td>&quot;value3&quot;</td></tr><tr><td>&quot;value2&quot;</td></tr></tbody></table></div>"
      ],
      "text/plain": [
       "shape: (2, 1)\n",
       "┌────────────────────┐\n",
       "│ categorical_column │\n",
       "│ ---                │\n",
       "│ cat                │\n",
       "╞════════════════════╡\n",
       "│ value3             │\n",
       "│ value2             │\n",
       "└────────────────────┘"
      ]
     },
     "execution_count": 9,
     "metadata": {},
     "output_type": "execute_result"
    }
   ],
   "source": [
    "df1.join(df2, on=\"categorical_column\")"
   ]
  },
  {
   "cell_type": "code",
   "execution_count": 19,
   "id": "b1f87426",
   "metadata": {},
   "outputs": [
    {
     "data": {
      "text/html": [
       "<div><style>\n",
       ".dataframe > thead > tr,\n",
       ".dataframe > tbody > tr {\n",
       "  text-align: right;\n",
       "  white-space: pre-wrap;\n",
       "}\n",
       "</style>\n",
       "<small>shape: (2, 3)</small><table border=\"1\" class=\"dataframe\"><thead><tr><th>categorical_column</th><th>other</th><th>other_right</th></tr><tr><td>cat</td><td>str</td><td>str</td></tr></thead><tbody><tr><td>&quot;value2&quot;</td><td>&quot;b&quot;</td><td>&quot;d&quot;</td></tr><tr><td>&quot;value3&quot;</td><td>&quot;a&quot;</td><td>&quot;e&quot;</td></tr></tbody></table></div>"
      ],
      "text/plain": [
       "shape: (2, 3)\n",
       "┌────────────────────┬───────┬─────────────┐\n",
       "│ categorical_column ┆ other ┆ other_right │\n",
       "│ ---                ┆ ---   ┆ ---         │\n",
       "│ cat                ┆ str   ┆ str         │\n",
       "╞════════════════════╪═══════╪═════════════╡\n",
       "│ value2             ┆ b     ┆ d           │\n",
       "│ value3             ┆ a     ┆ e           │\n",
       "└────────────────────┴───────┴─────────────┘"
      ]
     },
     "execution_count": 10,
     "metadata": {},
     "output_type": "execute_result"
    }
   ],
   "source": [
    "with pl.StringCache():\n",
    "    df1 = pl.DataFrame(\n",
    "        {\n",
    "            \"categorical_column\": [\"value3\", \"value2\", \"value1\"],\n",
    "            \"other\": [\"a\", \"b\", \"c\"],\n",
    "        },\n",
    "        schema={\"categorical_column\": pl.Categorical, \"other\": pl.String},\n",
    "    )\n",
    "    df2 = pl.DataFrame(\n",
    "        {\n",
    "            \"categorical_column\": [\"value2\", \"value3\", \"value4\"],\n",
    "            \"other\": [\"d\", \"e\", \"f\"],\n",
    "        },\n",
    "        schema={\"categorical_column\": pl.Categorical, \"other\": pl.String},\n",
    "    )\n",
    "\n",
    "# Even outside the global string cache's scope, you can now join the\n",
    "# two dataframes containing Categorical columns\n",
    "df1.join(df2, on=\"categorical_column\")"
   ]
  },
  {
   "cell_type": "code",
   "execution_count": 20,
   "id": "3a9b892f",
   "metadata": {},
   "outputs": [],
   "source": [
    "pl.enable_string_cache()"
   ]
  },
  {
   "cell_type": "code",
   "execution_count": 21,
   "id": "26a55415",
   "metadata": {},
   "outputs": [
    {
     "data": {
      "text/html": [
       "<div><style>\n",
       ".dataframe > thead > tr,\n",
       ".dataframe > tbody > tr {\n",
       "  text-align: right;\n",
       "  white-space: pre-wrap;\n",
       "}\n",
       "</style>\n",
       "<small>shape: (3, 1)</small><table border=\"1\" class=\"dataframe\"><thead><tr><th>categorical_column</th></tr><tr><td>str</td></tr></thead><tbody><tr><td>&quot;value2&quot;</td></tr><tr><td>&quot;value3&quot;</td></tr><tr><td>&quot;value4&quot;</td></tr></tbody></table></div>"
      ],
      "text/plain": [
       "shape: (3, 1)\n",
       "┌────────────────────┐\n",
       "│ categorical_column │\n",
       "│ ---                │\n",
       "│ str                │\n",
       "╞════════════════════╡\n",
       "│ value2             │\n",
       "│ value3             │\n",
       "│ value4             │\n",
       "└────────────────────┘"
      ]
     },
     "execution_count": 12,
     "metadata": {},
     "output_type": "execute_result"
    }
   ],
   "source": [
    "df2.select(pl.col(\"categorical_column\").cat.get_categories())"
   ]
  },
  {
   "cell_type": "code",
   "execution_count": 22,
   "id": "a3bdf1d9",
   "metadata": {},
   "outputs": [
    {
     "name": "stdout",
     "output_type": "stream",
     "text": [
      "shape: (3, 2)\n",
      "┌─────────────────────┬──────────────────────┐\n",
      "│ categorical_lexical ┆ categorical_physical │\n",
      "│ ---                 ┆ ---                  │\n",
      "│ cat                 ┆ u32                  │\n",
      "╞═════════════════════╪══════════════════════╡\n",
      "│ value2              ┆ 1                    │\n",
      "│ value3              ┆ 0                    │\n",
      "│ value4              ┆ 3                    │\n",
      "└─────────────────────┴──────────────────────┘\n"
     ]
    }
   ],
   "source": [
    "sorting_comparison_df = (\n",
    "    df2\n",
    "    .select(\n",
    "        pl.col(\"categorical_column\")\n",
    "        .alias(\"categorical_lexical\")\n",
    "    )\n",
    "    .with_columns(\n",
    "        pl.col(\"categorical_lexical\")\n",
    "        .to_physical()\n",
    "        .alias(\"categorical_physical\")\n",
    "    )\n",
    ")\n",
    "print(sorting_comparison_df)"
   ]
  },
  {
   "cell_type": "code",
   "execution_count": 23,
   "id": "f60e2687",
   "metadata": {},
   "outputs": [
    {
     "name": "stdout",
     "output_type": "stream",
     "text": [
      "shape: (3, 2)\n",
      "┌─────────────────────┬──────────────────────┐\n",
      "│ categorical_lexical ┆ categorical_physical │\n",
      "│ ---                 ┆ ---                  │\n",
      "│ cat                 ┆ u32                  │\n",
      "╞═════════════════════╪══════════════════════╡\n",
      "│ value3              ┆ 0                    │\n",
      "│ value2              ┆ 1                    │\n",
      "│ value4              ┆ 3                    │\n",
      "└─────────────────────┴──────────────────────┘\n"
     ]
    }
   ],
   "source": [
    "print(\n",
    "    sorting_comparison_df\n",
    "    .with_columns(\n",
    "        pl.col(\"categorical_lexical\")\n",
    "        .cast(pl.Categorical(\"physical\"))  # The default option\n",
    "    )\n",
    "    .sort(by=\"categorical_lexical\")\n",
    ")"
   ]
  },
  {
   "cell_type": "code",
   "execution_count": 24,
   "id": "db33d400",
   "metadata": {},
   "outputs": [
    {
     "name": "stdout",
     "output_type": "stream",
     "text": [
      "shape: (3, 2)\n",
      "┌─────────────────────┬──────────────────────┐\n",
      "│ categorical_lexical ┆ categorical_physical │\n",
      "│ ---                 ┆ ---                  │\n",
      "│ cat                 ┆ u32                  │\n",
      "╞═════════════════════╪══════════════════════╡\n",
      "│ value2              ┆ 1                    │\n",
      "│ value3              ┆ 0                    │\n",
      "│ value4              ┆ 3                    │\n",
      "└─────────────────────┴──────────────────────┘\n"
     ]
    }
   ],
   "source": [
    "print(\n",
    "    sorting_comparison_df\n",
    "    .with_columns(\n",
    "        pl.col(\"categorical_lexical\")\n",
    "        .cast(pl.Categorical(\"lexical\"))\n",
    "    )\n",
    "    .sort(by=\"categorical_lexical\")\n",
    ")"
   ]
  },
  {
   "cell_type": "markdown",
   "id": "67bd3998",
   "metadata": {},
   "source": [
    "### Enum"
   ]
  },
  {
   "cell_type": "code",
   "execution_count": 26,
   "id": "5e7784c4",
   "metadata": {},
   "outputs": [],
   "source": [
    "enum_dtype = pl.Enum([\"Polar\", \"Panda\", \"Brown\"])\n",
    "enum_series = pl.Series(\n",
    "    [\"Polar\", \"Panda\", \"Brown\", \"Brown\", \"Polar\"], dtype=enum_dtype\n",
    ")\n",
    "\n",
    "cat_series = pl.Series(\n",
    "    [\"Polar\", \"Panda\", \"Brown\", \"Brown\", \"Polar\"], dtype=pl.Categorical\n",
    ")"
   ]
  },
  {
   "cell_type": "markdown",
   "id": "6756bbe3",
   "metadata": {},
   "source": [
    "## Temporal Data"
   ]
  },
  {
   "cell_type": "markdown",
   "id": "303400e2",
   "metadata": {},
   "source": [
    "### Methods"
   ]
  },
  {
   "cell_type": "markdown",
   "id": "37cc69d0",
   "metadata": {},
   "source": [
    "#### Conversion"
   ]
  },
  {
   "cell_type": "markdown",
   "id": "ae6f3826",
   "metadata": {},
   "source": [
    "#### Descriptive"
   ]
  },
  {
   "cell_type": "markdown",
   "id": "0b7f51a6",
   "metadata": {},
   "source": [
    "#### Manipulation"
   ]
  },
  {
   "cell_type": "markdown",
   "id": "de8541f9",
   "metadata": {},
   "source": [
    "### Examples"
   ]
  },
  {
   "cell_type": "markdown",
   "id": "9a825372",
   "metadata": {},
   "source": [
    "#### Loading from CSV"
   ]
  },
  {
   "cell_type": "code",
   "execution_count": 34,
   "id": "82390b6e",
   "metadata": {},
   "outputs": [
    {
     "ename": "FileNotFoundError",
     "evalue": "No such file or directory (os error 2): data/all_stocks.csv",
     "output_type": "error",
     "traceback": [
      "\u001b[0;31m---------------------------------------------------------------------------\u001b[0m",
      "\u001b[0;31mFileNotFoundError\u001b[0m                         Traceback (most recent call last)",
      "Cell \u001b[0;32mIn[17], line 1\u001b[0m\n\u001b[0;32m----> 1\u001b[0m \u001b[43mpl\u001b[49m\u001b[38;5;241;43m.\u001b[39;49m\u001b[43mread_csv\u001b[49m\u001b[43m(\u001b[49m\u001b[38;5;124;43m\"\u001b[39;49m\u001b[38;5;124;43mdata/all_stocks.csv\u001b[39;49m\u001b[38;5;124;43m\"\u001b[39;49m\u001b[43m,\u001b[49m\u001b[43m \u001b[49m\u001b[43mtry_parse_dates\u001b[49m\u001b[38;5;241;43m=\u001b[39;49m\u001b[38;5;28;43;01mTrue\u001b[39;49;00m\u001b[43m)\u001b[49m\n",
      "File \u001b[0;32m~/Library/Caches/pypoetry/virtualenvs/python-polars-the-definitive-guide-b_q50VVY-py3.11/lib/python3.11/site-packages/polars/_utils/deprecation.py:135\u001b[0m, in \u001b[0;36mdeprecate_renamed_parameter.<locals>.decorate.<locals>.wrapper\u001b[0;34m(*args, **kwargs)\u001b[0m\n\u001b[1;32m    130\u001b[0m \u001b[38;5;129m@wraps\u001b[39m(function)\n\u001b[1;32m    131\u001b[0m \u001b[38;5;28;01mdef\u001b[39;00m \u001b[38;5;21mwrapper\u001b[39m(\u001b[38;5;241m*\u001b[39margs: P\u001b[38;5;241m.\u001b[39margs, \u001b[38;5;241m*\u001b[39m\u001b[38;5;241m*\u001b[39mkwargs: P\u001b[38;5;241m.\u001b[39mkwargs) \u001b[38;5;241m-\u001b[39m\u001b[38;5;241m>\u001b[39m T:\n\u001b[1;32m    132\u001b[0m     _rename_keyword_argument(\n\u001b[1;32m    133\u001b[0m         old_name, new_name, kwargs, function\u001b[38;5;241m.\u001b[39m\u001b[38;5;18m__name__\u001b[39m, version\n\u001b[1;32m    134\u001b[0m     )\n\u001b[0;32m--> 135\u001b[0m     \u001b[38;5;28;01mreturn\u001b[39;00m \u001b[43mfunction\u001b[49m\u001b[43m(\u001b[49m\u001b[38;5;241;43m*\u001b[39;49m\u001b[43margs\u001b[49m\u001b[43m,\u001b[49m\u001b[43m \u001b[49m\u001b[38;5;241;43m*\u001b[39;49m\u001b[38;5;241;43m*\u001b[39;49m\u001b[43mkwargs\u001b[49m\u001b[43m)\u001b[49m\n",
      "File \u001b[0;32m~/Library/Caches/pypoetry/virtualenvs/python-polars-the-definitive-guide-b_q50VVY-py3.11/lib/python3.11/site-packages/polars/_utils/deprecation.py:135\u001b[0m, in \u001b[0;36mdeprecate_renamed_parameter.<locals>.decorate.<locals>.wrapper\u001b[0;34m(*args, **kwargs)\u001b[0m\n\u001b[1;32m    130\u001b[0m \u001b[38;5;129m@wraps\u001b[39m(function)\n\u001b[1;32m    131\u001b[0m \u001b[38;5;28;01mdef\u001b[39;00m \u001b[38;5;21mwrapper\u001b[39m(\u001b[38;5;241m*\u001b[39margs: P\u001b[38;5;241m.\u001b[39margs, \u001b[38;5;241m*\u001b[39m\u001b[38;5;241m*\u001b[39mkwargs: P\u001b[38;5;241m.\u001b[39mkwargs) \u001b[38;5;241m-\u001b[39m\u001b[38;5;241m>\u001b[39m T:\n\u001b[1;32m    132\u001b[0m     _rename_keyword_argument(\n\u001b[1;32m    133\u001b[0m         old_name, new_name, kwargs, function\u001b[38;5;241m.\u001b[39m\u001b[38;5;18m__name__\u001b[39m, version\n\u001b[1;32m    134\u001b[0m     )\n\u001b[0;32m--> 135\u001b[0m     \u001b[38;5;28;01mreturn\u001b[39;00m \u001b[43mfunction\u001b[49m\u001b[43m(\u001b[49m\u001b[38;5;241;43m*\u001b[39;49m\u001b[43margs\u001b[49m\u001b[43m,\u001b[49m\u001b[43m \u001b[49m\u001b[38;5;241;43m*\u001b[39;49m\u001b[38;5;241;43m*\u001b[39;49m\u001b[43mkwargs\u001b[49m\u001b[43m)\u001b[49m\n",
      "    \u001b[0;31m[... skipping similar frames: deprecate_renamed_parameter.<locals>.decorate.<locals>.wrapper at line 135 (1 times)]\u001b[0m\n",
      "File \u001b[0;32m~/Library/Caches/pypoetry/virtualenvs/python-polars-the-definitive-guide-b_q50VVY-py3.11/lib/python3.11/site-packages/polars/_utils/deprecation.py:135\u001b[0m, in \u001b[0;36mdeprecate_renamed_parameter.<locals>.decorate.<locals>.wrapper\u001b[0;34m(*args, **kwargs)\u001b[0m\n\u001b[1;32m    130\u001b[0m \u001b[38;5;129m@wraps\u001b[39m(function)\n\u001b[1;32m    131\u001b[0m \u001b[38;5;28;01mdef\u001b[39;00m \u001b[38;5;21mwrapper\u001b[39m(\u001b[38;5;241m*\u001b[39margs: P\u001b[38;5;241m.\u001b[39margs, \u001b[38;5;241m*\u001b[39m\u001b[38;5;241m*\u001b[39mkwargs: P\u001b[38;5;241m.\u001b[39mkwargs) \u001b[38;5;241m-\u001b[39m\u001b[38;5;241m>\u001b[39m T:\n\u001b[1;32m    132\u001b[0m     _rename_keyword_argument(\n\u001b[1;32m    133\u001b[0m         old_name, new_name, kwargs, function\u001b[38;5;241m.\u001b[39m\u001b[38;5;18m__name__\u001b[39m, version\n\u001b[1;32m    134\u001b[0m     )\n\u001b[0;32m--> 135\u001b[0m     \u001b[38;5;28;01mreturn\u001b[39;00m \u001b[43mfunction\u001b[49m\u001b[43m(\u001b[49m\u001b[38;5;241;43m*\u001b[39;49m\u001b[43margs\u001b[49m\u001b[43m,\u001b[49m\u001b[43m \u001b[49m\u001b[38;5;241;43m*\u001b[39;49m\u001b[38;5;241;43m*\u001b[39;49m\u001b[43mkwargs\u001b[49m\u001b[43m)\u001b[49m\n",
      "File \u001b[0;32m~/Library/Caches/pypoetry/virtualenvs/python-polars-the-definitive-guide-b_q50VVY-py3.11/lib/python3.11/site-packages/polars/io/csv/functions.py:422\u001b[0m, in \u001b[0;36mread_csv\u001b[0;34m(source, has_header, columns, new_columns, separator, comment_prefix, quote_char, skip_rows, schema, schema_overrides, null_values, missing_utf8_is_empty_string, ignore_errors, try_parse_dates, n_threads, infer_schema_length, batch_size, n_rows, encoding, low_memory, rechunk, use_pyarrow, storage_options, skip_rows_after_header, row_index_name, row_index_offset, sample_size, eol_char, raise_if_empty, truncate_ragged_lines, decimal_comma, glob)\u001b[0m\n\u001b[1;32m    410\u001b[0m         schema_overrides \u001b[38;5;241m=\u001b[39m {\n\u001b[1;32m    411\u001b[0m             new_to_current\u001b[38;5;241m.\u001b[39mget(column_name, column_name): column_dtype\n\u001b[1;32m    412\u001b[0m             \u001b[38;5;28;01mfor\u001b[39;00m column_name, column_dtype \u001b[38;5;129;01min\u001b[39;00m schema_overrides\u001b[38;5;241m.\u001b[39mitems()\n\u001b[1;32m    413\u001b[0m         }\n\u001b[1;32m    415\u001b[0m \u001b[38;5;28;01mwith\u001b[39;00m prepare_file_arg(\n\u001b[1;32m    416\u001b[0m     source,\n\u001b[1;32m    417\u001b[0m     encoding\u001b[38;5;241m=\u001b[39mencoding,\n\u001b[0;32m   (...)\u001b[0m\n\u001b[1;32m    420\u001b[0m     storage_options\u001b[38;5;241m=\u001b[39mstorage_options,\n\u001b[1;32m    421\u001b[0m ) \u001b[38;5;28;01mas\u001b[39;00m data:\n\u001b[0;32m--> 422\u001b[0m     df \u001b[38;5;241m=\u001b[39m \u001b[43m_read_csv_impl\u001b[49m\u001b[43m(\u001b[49m\n\u001b[1;32m    423\u001b[0m \u001b[43m        \u001b[49m\u001b[43mdata\u001b[49m\u001b[43m,\u001b[49m\n\u001b[1;32m    424\u001b[0m \u001b[43m        \u001b[49m\u001b[43mhas_header\u001b[49m\u001b[38;5;241;43m=\u001b[39;49m\u001b[43mhas_header\u001b[49m\u001b[43m,\u001b[49m\n\u001b[1;32m    425\u001b[0m \u001b[43m        \u001b[49m\u001b[43mcolumns\u001b[49m\u001b[38;5;241;43m=\u001b[39;49m\u001b[43mcolumns\u001b[49m\u001b[43m \u001b[49m\u001b[38;5;28;43;01mif\u001b[39;49;00m\u001b[43m \u001b[49m\u001b[43mcolumns\u001b[49m\u001b[43m \u001b[49m\u001b[38;5;28;43;01melse\u001b[39;49;00m\u001b[43m \u001b[49m\u001b[43mprojection\u001b[49m\u001b[43m,\u001b[49m\n\u001b[1;32m    426\u001b[0m \u001b[43m        \u001b[49m\u001b[43mseparator\u001b[49m\u001b[38;5;241;43m=\u001b[39;49m\u001b[43mseparator\u001b[49m\u001b[43m,\u001b[49m\n\u001b[1;32m    427\u001b[0m \u001b[43m        \u001b[49m\u001b[43mcomment_prefix\u001b[49m\u001b[38;5;241;43m=\u001b[39;49m\u001b[43mcomment_prefix\u001b[49m\u001b[43m,\u001b[49m\n\u001b[1;32m    428\u001b[0m \u001b[43m        \u001b[49m\u001b[43mquote_char\u001b[49m\u001b[38;5;241;43m=\u001b[39;49m\u001b[43mquote_char\u001b[49m\u001b[43m,\u001b[49m\n\u001b[1;32m    429\u001b[0m \u001b[43m        \u001b[49m\u001b[43mskip_rows\u001b[49m\u001b[38;5;241;43m=\u001b[39;49m\u001b[43mskip_rows\u001b[49m\u001b[43m,\u001b[49m\n\u001b[1;32m    430\u001b[0m \u001b[43m        \u001b[49m\u001b[43mschema_overrides\u001b[49m\u001b[38;5;241;43m=\u001b[39;49m\u001b[43mschema_overrides\u001b[49m\u001b[43m,\u001b[49m\n\u001b[1;32m    431\u001b[0m \u001b[43m        \u001b[49m\u001b[43mschema\u001b[49m\u001b[38;5;241;43m=\u001b[39;49m\u001b[43mschema\u001b[49m\u001b[43m,\u001b[49m\n\u001b[1;32m    432\u001b[0m \u001b[43m        \u001b[49m\u001b[43mnull_values\u001b[49m\u001b[38;5;241;43m=\u001b[39;49m\u001b[43mnull_values\u001b[49m\u001b[43m,\u001b[49m\n\u001b[1;32m    433\u001b[0m \u001b[43m        \u001b[49m\u001b[43mmissing_utf8_is_empty_string\u001b[49m\u001b[38;5;241;43m=\u001b[39;49m\u001b[43mmissing_utf8_is_empty_string\u001b[49m\u001b[43m,\u001b[49m\n\u001b[1;32m    434\u001b[0m \u001b[43m        \u001b[49m\u001b[43mignore_errors\u001b[49m\u001b[38;5;241;43m=\u001b[39;49m\u001b[43mignore_errors\u001b[49m\u001b[43m,\u001b[49m\n\u001b[1;32m    435\u001b[0m \u001b[43m        \u001b[49m\u001b[43mtry_parse_dates\u001b[49m\u001b[38;5;241;43m=\u001b[39;49m\u001b[43mtry_parse_dates\u001b[49m\u001b[43m,\u001b[49m\n\u001b[1;32m    436\u001b[0m \u001b[43m        \u001b[49m\u001b[43mn_threads\u001b[49m\u001b[38;5;241;43m=\u001b[39;49m\u001b[43mn_threads\u001b[49m\u001b[43m,\u001b[49m\n\u001b[1;32m    437\u001b[0m \u001b[43m        \u001b[49m\u001b[43minfer_schema_length\u001b[49m\u001b[38;5;241;43m=\u001b[39;49m\u001b[43minfer_schema_length\u001b[49m\u001b[43m,\u001b[49m\n\u001b[1;32m    438\u001b[0m \u001b[43m        \u001b[49m\u001b[43mbatch_size\u001b[49m\u001b[38;5;241;43m=\u001b[39;49m\u001b[43mbatch_size\u001b[49m\u001b[43m,\u001b[49m\n\u001b[1;32m    439\u001b[0m \u001b[43m        \u001b[49m\u001b[43mn_rows\u001b[49m\u001b[38;5;241;43m=\u001b[39;49m\u001b[43mn_rows\u001b[49m\u001b[43m,\u001b[49m\n\u001b[1;32m    440\u001b[0m \u001b[43m        \u001b[49m\u001b[43mencoding\u001b[49m\u001b[38;5;241;43m=\u001b[39;49m\u001b[43mencoding\u001b[49m\u001b[43m \u001b[49m\u001b[38;5;28;43;01mif\u001b[39;49;00m\u001b[43m \u001b[49m\u001b[43mencoding\u001b[49m\u001b[43m \u001b[49m\u001b[38;5;241;43m==\u001b[39;49m\u001b[43m \u001b[49m\u001b[38;5;124;43m\"\u001b[39;49m\u001b[38;5;124;43mutf8-lossy\u001b[39;49m\u001b[38;5;124;43m\"\u001b[39;49m\u001b[43m \u001b[49m\u001b[38;5;28;43;01melse\u001b[39;49;00m\u001b[43m \u001b[49m\u001b[38;5;124;43m\"\u001b[39;49m\u001b[38;5;124;43mutf8\u001b[39;49m\u001b[38;5;124;43m\"\u001b[39;49m\u001b[43m,\u001b[49m\n\u001b[1;32m    441\u001b[0m \u001b[43m        \u001b[49m\u001b[43mlow_memory\u001b[49m\u001b[38;5;241;43m=\u001b[39;49m\u001b[43mlow_memory\u001b[49m\u001b[43m,\u001b[49m\n\u001b[1;32m    442\u001b[0m \u001b[43m        \u001b[49m\u001b[43mrechunk\u001b[49m\u001b[38;5;241;43m=\u001b[39;49m\u001b[43mrechunk\u001b[49m\u001b[43m,\u001b[49m\n\u001b[1;32m    443\u001b[0m \u001b[43m        \u001b[49m\u001b[43mskip_rows_after_header\u001b[49m\u001b[38;5;241;43m=\u001b[39;49m\u001b[43mskip_rows_after_header\u001b[49m\u001b[43m,\u001b[49m\n\u001b[1;32m    444\u001b[0m \u001b[43m        \u001b[49m\u001b[43mrow_index_name\u001b[49m\u001b[38;5;241;43m=\u001b[39;49m\u001b[43mrow_index_name\u001b[49m\u001b[43m,\u001b[49m\n\u001b[1;32m    445\u001b[0m \u001b[43m        \u001b[49m\u001b[43mrow_index_offset\u001b[49m\u001b[38;5;241;43m=\u001b[39;49m\u001b[43mrow_index_offset\u001b[49m\u001b[43m,\u001b[49m\n\u001b[1;32m    446\u001b[0m \u001b[43m        \u001b[49m\u001b[43msample_size\u001b[49m\u001b[38;5;241;43m=\u001b[39;49m\u001b[43msample_size\u001b[49m\u001b[43m,\u001b[49m\n\u001b[1;32m    447\u001b[0m \u001b[43m        \u001b[49m\u001b[43meol_char\u001b[49m\u001b[38;5;241;43m=\u001b[39;49m\u001b[43meol_char\u001b[49m\u001b[43m,\u001b[49m\n\u001b[1;32m    448\u001b[0m \u001b[43m        \u001b[49m\u001b[43mraise_if_empty\u001b[49m\u001b[38;5;241;43m=\u001b[39;49m\u001b[43mraise_if_empty\u001b[49m\u001b[43m,\u001b[49m\n\u001b[1;32m    449\u001b[0m \u001b[43m        \u001b[49m\u001b[43mtruncate_ragged_lines\u001b[49m\u001b[38;5;241;43m=\u001b[39;49m\u001b[43mtruncate_ragged_lines\u001b[49m\u001b[43m,\u001b[49m\n\u001b[1;32m    450\u001b[0m \u001b[43m        \u001b[49m\u001b[43mdecimal_comma\u001b[49m\u001b[38;5;241;43m=\u001b[39;49m\u001b[43mdecimal_comma\u001b[49m\u001b[43m,\u001b[49m\n\u001b[1;32m    451\u001b[0m \u001b[43m        \u001b[49m\u001b[43mglob\u001b[49m\u001b[38;5;241;43m=\u001b[39;49m\u001b[43mglob\u001b[49m\u001b[43m,\u001b[49m\n\u001b[1;32m    452\u001b[0m \u001b[43m    \u001b[49m\u001b[43m)\u001b[49m\n\u001b[1;32m    454\u001b[0m \u001b[38;5;28;01mif\u001b[39;00m new_columns:\n\u001b[1;32m    455\u001b[0m     \u001b[38;5;28;01mreturn\u001b[39;00m _update_columns(df, new_columns)\n",
      "File \u001b[0;32m~/Library/Caches/pypoetry/virtualenvs/python-polars-the-definitive-guide-b_q50VVY-py3.11/lib/python3.11/site-packages/polars/io/csv/functions.py:568\u001b[0m, in \u001b[0;36m_read_csv_impl\u001b[0;34m(source, has_header, columns, separator, comment_prefix, quote_char, skip_rows, schema, schema_overrides, null_values, missing_utf8_is_empty_string, ignore_errors, try_parse_dates, n_threads, infer_schema_length, batch_size, n_rows, encoding, low_memory, rechunk, skip_rows_after_header, row_index_name, row_index_offset, sample_size, eol_char, raise_if_empty, truncate_ragged_lines, decimal_comma, glob)\u001b[0m\n\u001b[1;32m    564\u001b[0m         \u001b[38;5;28;01mraise\u001b[39;00m \u001b[38;5;167;01mValueError\u001b[39;00m(msg)\n\u001b[1;32m    566\u001b[0m projection, columns \u001b[38;5;241m=\u001b[39m parse_columns_arg(columns)\n\u001b[0;32m--> 568\u001b[0m pydf \u001b[38;5;241m=\u001b[39m \u001b[43mPyDataFrame\u001b[49m\u001b[38;5;241;43m.\u001b[39;49m\u001b[43mread_csv\u001b[49m\u001b[43m(\u001b[49m\n\u001b[1;32m    569\u001b[0m \u001b[43m    \u001b[49m\u001b[43msource\u001b[49m\u001b[43m,\u001b[49m\n\u001b[1;32m    570\u001b[0m \u001b[43m    \u001b[49m\u001b[43minfer_schema_length\u001b[49m\u001b[43m,\u001b[49m\n\u001b[1;32m    571\u001b[0m \u001b[43m    \u001b[49m\u001b[43mbatch_size\u001b[49m\u001b[43m,\u001b[49m\n\u001b[1;32m    572\u001b[0m \u001b[43m    \u001b[49m\u001b[43mhas_header\u001b[49m\u001b[43m,\u001b[49m\n\u001b[1;32m    573\u001b[0m \u001b[43m    \u001b[49m\u001b[43mignore_errors\u001b[49m\u001b[43m,\u001b[49m\n\u001b[1;32m    574\u001b[0m \u001b[43m    \u001b[49m\u001b[43mn_rows\u001b[49m\u001b[43m,\u001b[49m\n\u001b[1;32m    575\u001b[0m \u001b[43m    \u001b[49m\u001b[43mskip_rows\u001b[49m\u001b[43m,\u001b[49m\n\u001b[1;32m    576\u001b[0m \u001b[43m    \u001b[49m\u001b[43mprojection\u001b[49m\u001b[43m,\u001b[49m\n\u001b[1;32m    577\u001b[0m \u001b[43m    \u001b[49m\u001b[43mseparator\u001b[49m\u001b[43m,\u001b[49m\n\u001b[1;32m    578\u001b[0m \u001b[43m    \u001b[49m\u001b[43mrechunk\u001b[49m\u001b[43m,\u001b[49m\n\u001b[1;32m    579\u001b[0m \u001b[43m    \u001b[49m\u001b[43mcolumns\u001b[49m\u001b[43m,\u001b[49m\n\u001b[1;32m    580\u001b[0m \u001b[43m    \u001b[49m\u001b[43mencoding\u001b[49m\u001b[43m,\u001b[49m\n\u001b[1;32m    581\u001b[0m \u001b[43m    \u001b[49m\u001b[43mn_threads\u001b[49m\u001b[43m,\u001b[49m\n\u001b[1;32m    582\u001b[0m \u001b[43m    \u001b[49m\u001b[43mpath\u001b[49m\u001b[43m,\u001b[49m\n\u001b[1;32m    583\u001b[0m \u001b[43m    \u001b[49m\u001b[43mdtype_list\u001b[49m\u001b[43m,\u001b[49m\n\u001b[1;32m    584\u001b[0m \u001b[43m    \u001b[49m\u001b[43mdtype_slice\u001b[49m\u001b[43m,\u001b[49m\n\u001b[1;32m    585\u001b[0m \u001b[43m    \u001b[49m\u001b[43mlow_memory\u001b[49m\u001b[43m,\u001b[49m\n\u001b[1;32m    586\u001b[0m \u001b[43m    \u001b[49m\u001b[43mcomment_prefix\u001b[49m\u001b[43m,\u001b[49m\n\u001b[1;32m    587\u001b[0m \u001b[43m    \u001b[49m\u001b[43mquote_char\u001b[49m\u001b[43m,\u001b[49m\n\u001b[1;32m    588\u001b[0m \u001b[43m    \u001b[49m\u001b[43mprocessed_null_values\u001b[49m\u001b[43m,\u001b[49m\n\u001b[1;32m    589\u001b[0m \u001b[43m    \u001b[49m\u001b[43mmissing_utf8_is_empty_string\u001b[49m\u001b[43m,\u001b[49m\n\u001b[1;32m    590\u001b[0m \u001b[43m    \u001b[49m\u001b[43mtry_parse_dates\u001b[49m\u001b[43m,\u001b[49m\n\u001b[1;32m    591\u001b[0m \u001b[43m    \u001b[49m\u001b[43mskip_rows_after_header\u001b[49m\u001b[43m,\u001b[49m\n\u001b[1;32m    592\u001b[0m \u001b[43m    \u001b[49m\u001b[43mparse_row_index_args\u001b[49m\u001b[43m(\u001b[49m\u001b[43mrow_index_name\u001b[49m\u001b[43m,\u001b[49m\u001b[43m \u001b[49m\u001b[43mrow_index_offset\u001b[49m\u001b[43m)\u001b[49m\u001b[43m,\u001b[49m\n\u001b[1;32m    593\u001b[0m \u001b[43m    \u001b[49m\u001b[43msample_size\u001b[49m\u001b[38;5;241;43m=\u001b[39;49m\u001b[43msample_size\u001b[49m\u001b[43m,\u001b[49m\n\u001b[1;32m    594\u001b[0m \u001b[43m    \u001b[49m\u001b[43meol_char\u001b[49m\u001b[38;5;241;43m=\u001b[39;49m\u001b[43meol_char\u001b[49m\u001b[43m,\u001b[49m\n\u001b[1;32m    595\u001b[0m \u001b[43m    \u001b[49m\u001b[43mraise_if_empty\u001b[49m\u001b[38;5;241;43m=\u001b[39;49m\u001b[43mraise_if_empty\u001b[49m\u001b[43m,\u001b[49m\n\u001b[1;32m    596\u001b[0m \u001b[43m    \u001b[49m\u001b[43mtruncate_ragged_lines\u001b[49m\u001b[38;5;241;43m=\u001b[39;49m\u001b[43mtruncate_ragged_lines\u001b[49m\u001b[43m,\u001b[49m\n\u001b[1;32m    597\u001b[0m \u001b[43m    \u001b[49m\u001b[43mdecimal_comma\u001b[49m\u001b[38;5;241;43m=\u001b[39;49m\u001b[43mdecimal_comma\u001b[49m\u001b[43m,\u001b[49m\n\u001b[1;32m    598\u001b[0m \u001b[43m    \u001b[49m\u001b[43mschema\u001b[49m\u001b[38;5;241;43m=\u001b[39;49m\u001b[43mschema\u001b[49m\u001b[43m,\u001b[49m\n\u001b[1;32m    599\u001b[0m \u001b[43m\u001b[49m\u001b[43m)\u001b[49m\n\u001b[1;32m    600\u001b[0m \u001b[38;5;28;01mreturn\u001b[39;00m wrap_df(pydf)\n",
      "\u001b[0;31mFileNotFoundError\u001b[0m: No such file or directory (os error 2): data/all_stocks.csv"
     ]
    }
   ],
   "source": [
    "pl.read_csv(\"data/all_stocks.csv\", try_parse_dates=True)"
   ]
  },
  {
   "cell_type": "markdown",
   "id": "83c4e681",
   "metadata": {},
   "source": [
    "#### Converting to and from string"
   ]
  },
  {
   "cell_type": "code",
   "execution_count": 36,
   "id": "acc3baa9",
   "metadata": {},
   "outputs": [
    {
     "name": "stdout",
     "output_type": "stream",
     "text": [
      "shape: (2, 2)\n",
      "┌────────────┬────────────┐\n",
      "│ date_str   ┆ date       │\n",
      "│ ---        ┆ ---        │\n",
      "│ str        ┆ date       │\n",
      "╞════════════╪════════════╡\n",
      "│ 2023-12-31 ┆ 2023-12-31 │\n",
      "│ 2024-02-29 ┆ 2024-02-29 │\n",
      "└────────────┴────────────┘\n"
     ]
    }
   ],
   "source": [
    "df = pl.DataFrame({\n",
    "    \"date_str\": [\"2023-12-31\", \"2024-02-29\"]\n",
    "})\n",
    "\n",
    "df = df.with_columns(\n",
    "    pl.col(\"date_str\").str.strptime(pl.Date, \"%Y-%m-%d\").alias(\"date\")\n",
    ")\n",
    "print(df)"
   ]
  },
  {
   "cell_type": "code",
   "execution_count": 37,
   "id": "4c272b07",
   "metadata": {},
   "outputs": [
    {
     "name": "stdout",
     "output_type": "stream",
     "text": [
      "shape: (2, 3)\n",
      "┌────────────┬────────────┬────────────────┐\n",
      "│ date_str   ┆ date       ┆ formatted_date │\n",
      "│ ---        ┆ ---        ┆ ---            │\n",
      "│ str        ┆ date       ┆ str            │\n",
      "╞════════════╪════════════╪════════════════╡\n",
      "│ 2023-12-31 ┆ 2023-12-31 ┆ 31-12-2023     │\n",
      "│ 2024-02-29 ┆ 2024-02-29 ┆ 29-02-2024     │\n",
      "└────────────┴────────────┴────────────────┘\n"
     ]
    }
   ],
   "source": [
    "df = df.with_columns(\n",
    "    pl.col(\"date\").dt.to_string(\"%d-%m-%Y\").alias(\"formatted_date\")\n",
    ")\n",
    "\n",
    "print(df)"
   ]
  },
  {
   "cell_type": "markdown",
   "id": "6bab695b",
   "metadata": {},
   "source": [
    "#### Generating Ranges"
   ]
  },
  {
   "cell_type": "code",
   "execution_count": 39,
   "id": "dc792cb8",
   "metadata": {},
   "outputs": [
    {
     "name": "stdout",
     "output_type": "stream",
     "text": [
      "shape: (3, 1)\n",
      "┌────────────┐\n",
      "│ date       │\n",
      "│ ---        │\n",
      "│ date       │\n",
      "╞════════════╡\n",
      "│ 2023-12-31 │\n",
      "│ 2024-01-07 │\n",
      "│ 2024-01-14 │\n",
      "└────────────┘\n"
     ]
    }
   ],
   "source": [
    "from datetime import date\n",
    "df = pl.DataFrame(\n",
    "    {\n",
    "        \"date\": pl.date_range(\n",
    "            start=date(2023,12,31),  # <1>\n",
    "            end=date(2024,1,15),\n",
    "            interval=\"1w\",  # <2>\n",
    "            eager=True,  # <3>\n",
    "        ),\n",
    "    }\n",
    ")\n",
    "print(df)"
   ]
  },
  {
   "cell_type": "markdown",
   "id": "79d80408",
   "metadata": {},
   "source": [
    "#### Time Zones"
   ]
  },
  {
   "cell_type": "code",
   "execution_count": 41,
   "id": "a9f9bce3",
   "metadata": {},
   "outputs": [
    {
     "name": "stdout",
     "output_type": "stream",
     "text": [
      "shape: (4, 3)\n",
      "┌──────────────────────────┬─────────────────────────┬────────────────────────────────┐\n",
      "│ utc_mixed_offset_data    ┆ parsed_data             ┆ converted_data                 │\n",
      "│ ---                      ┆ ---                     ┆ ---                            │\n",
      "│ str                      ┆ datetime[μs, UTC]       ┆ datetime[μs, Europe/Amsterdam] │\n",
      "╞══════════════════════════╪═════════════════════════╪════════════════════════════════╡\n",
      "│ 2021-03-27T00:00:00+0100 ┆ 2021-03-26 23:00:00 UTC ┆ 2021-03-27 00:00:00 CET        │\n",
      "│ 2021-03-28T00:00:00+0100 ┆ 2021-03-27 23:00:00 UTC ┆ 2021-03-28 00:00:00 CET        │\n",
      "│ 2021-03-29T00:00:00+0200 ┆ 2021-03-28 22:00:00 UTC ┆ 2021-03-29 00:00:00 CEST       │\n",
      "│ 2021-03-30T00:00:00+0200 ┆ 2021-03-29 22:00:00 UTC ┆ 2021-03-30 00:00:00 CEST       │\n",
      "└──────────────────────────┴─────────────────────────┴────────────────────────────────┘\n"
     ]
    }
   ],
   "source": [
    "df = pl.DataFrame(  # <1>\n",
    "    {\n",
    "        \"utc_mixed_offset_data\": [\n",
    "            \"2021-03-27T00:00:00+0100\",\n",
    "            \"2021-03-28T00:00:00+0100\",\n",
    "            \"2021-03-29T00:00:00+0200\",\n",
    "            \"2021-03-30T00:00:00+0200\",\n",
    "        ]\n",
    "    }\n",
    ")\n",
    "df = (\n",
    "    df.with_columns(\n",
    "        pl.col(\"utc_mixed_offset_data\")\n",
    "        .str.to_datetime(\"%Y-%m-%dT%H:%M:%S%z\")  # <2>\n",
    "        .alias(\"parsed_data\")\n",
    "    ).with_columns(\n",
    "        pl.col(\"parsed_data\")\n",
    "        .dt.convert_time_zone(\"Europe/Amsterdam\")  # <3>\n",
    "        .alias(\"converted_data\")\n",
    "    )\n",
    ")\n",
    "print(df)"
   ]
  },
  {
   "cell_type": "markdown",
   "id": "66ab12a8",
   "metadata": {},
   "source": [
    "## List"
   ]
  },
  {
   "cell_type": "markdown",
   "id": "2fd07703",
   "metadata": {},
   "source": [
    "### Methods"
   ]
  },
  {
   "cell_type": "markdown",
   "id": "5c1af0e6",
   "metadata": {},
   "source": [
    "### Examples"
   ]
  },
  {
   "cell_type": "code",
   "execution_count": 45,
   "id": "f309daa9",
   "metadata": {},
   "outputs": [
    {
     "name": "stdout",
     "output_type": "stream",
     "text": [
      "shape: (3, 3)\n",
      "┌──────────────────────┬────────────┬────────────┐\n",
      "│ values               ┆ all values ┆ any values │\n",
      "│ ---                  ┆ ---        ┆ ---        │\n",
      "│ list[bool]           ┆ bool       ┆ bool       │\n",
      "╞══════════════════════╪════════════╪════════════╡\n",
      "│ [true, true]         ┆ true       ┆ true       │\n",
      "│ [false, false, true] ┆ false      ┆ true       │\n",
      "│ [false]              ┆ false      ┆ false      │\n",
      "└──────────────────────┴────────────┴────────────┘\n"
     ]
    }
   ],
   "source": [
    "bool_df = pl.DataFrame({\n",
    "    \"values\": [[True, True], [False, False, True], [False]]\n",
    "})\n",
    "print(\n",
    "    bool_df\n",
    "    .with_columns(\n",
    "        pl.col(\"values\")\n",
    "        .list.all()\n",
    "        .alias(\"all values\"),\n",
    "        pl.col(\"values\")\n",
    "        .list.any()\n",
    "        .alias(\"any values\")\n",
    "    )\n",
    ")"
   ]
  },
  {
   "cell_type": "code",
   "execution_count": 46,
   "id": "08bd07a6",
   "metadata": {},
   "outputs": [
    {
     "name": "stdout",
     "output_type": "stream",
     "text": [
      "shape: (3, 3)\n",
      "┌──────────────┬──────────────────────┬─────────────────┐\n",
      "│ values       ┆ values > 40          ┆ all values > 40 │\n",
      "│ ---          ┆ ---                  ┆ ---             │\n",
      "│ list[i64]    ┆ list[bool]           ┆ bool            │\n",
      "╞══════════════╪══════════════════════╪═════════════════╡\n",
      "│ [10, 20]     ┆ [false, false]       ┆ false           │\n",
      "│ [30, 40, 50] ┆ [false, false, true] ┆ false           │\n",
      "│ [60]         ┆ [true]               ┆ true            │\n",
      "└──────────────┴──────────────────────┴─────────────────┘\n"
     ]
    }
   ],
   "source": [
    "df = pl.DataFrame({\n",
    "    \"values\": [[10, 20], [30, 40, 50], [60]]\n",
    "})\n",
    "print(\n",
    "    df\n",
    "    .with_columns(\n",
    "        pl.col(\"values\")\n",
    "        .list.eval(\n",
    "            pl.element() > 40,  # <1>\n",
    "            parallel=True,  # <2>\n",
    "        )\n",
    "        .alias(\"values > 40\")\n",
    "    )\n",
    "    .with_columns(  # <3>\n",
    "        pl.col(\"values > 40\")\n",
    "        .list.all()  # <4>\n",
    "        .alias(\"all values > 40\")\n",
    "    )\n",
    ")"
   ]
  },
  {
   "cell_type": "code",
   "execution_count": 47,
   "id": "94cd681a",
   "metadata": {},
   "outputs": [
    {
     "data": {
      "text/html": [
       "<div><style>\n",
       ".dataframe > thead > tr,\n",
       ".dataframe > tbody > tr {\n",
       "  text-align: right;\n",
       "  white-space: pre-wrap;\n",
       "}\n",
       "</style>\n",
       "<small>shape: (6, 1)</small><table border=\"1\" class=\"dataframe\"><thead><tr><th>values</th></tr><tr><td>i64</td></tr></thead><tbody><tr><td>10</td></tr><tr><td>20</td></tr><tr><td>30</td></tr><tr><td>40</td></tr><tr><td>50</td></tr><tr><td>60</td></tr></tbody></table></div>"
      ],
      "text/plain": [
       "shape: (6, 1)\n",
       "┌────────┐\n",
       "│ values │\n",
       "│ ---    │\n",
       "│ i64    │\n",
       "╞════════╡\n",
       "│ 10     │\n",
       "│ 20     │\n",
       "│ 30     │\n",
       "│ 40     │\n",
       "│ 50     │\n",
       "│ 60     │\n",
       "└────────┘"
      ]
     },
     "execution_count": 24,
     "metadata": {},
     "output_type": "execute_result"
    }
   ],
   "source": [
    "df.explode(\"values\")"
   ]
  },
  {
   "cell_type": "markdown",
   "id": "3d8e9761",
   "metadata": {},
   "source": [
    "## Array"
   ]
  },
  {
   "cell_type": "markdown",
   "id": "7dfb5e6f",
   "metadata": {},
   "source": [
    "### Methods"
   ]
  },
  {
   "cell_type": "markdown",
   "id": "07841088",
   "metadata": {},
   "source": [
    "### Examples"
   ]
  },
  {
   "cell_type": "code",
   "execution_count": 51,
   "id": "0a1bae38",
   "metadata": {},
   "outputs": [
    {
     "name": "stdout",
     "output_type": "stream",
     "text": [
      "shape: (3, 2)\n",
      "┌───────────┬────────────────┐\n",
      "│ location  ┆ temperatures   │\n",
      "│ ---       ┆ ---            │\n",
      "│ str       ┆ array[i64, 7]  │\n",
      "╞═══════════╪════════════════╡\n",
      "│ Paris     ┆ [23, 27, … 22] │\n",
      "│ Amsterdam ┆ [17, 19, … 21] │\n",
      "│ Barcelona ┆ [30, 32, … 31] │\n",
      "└───────────┴────────────────┘\n"
     ]
    },
    {
     "name": "stderr",
     "output_type": "stream",
     "text": [
      "/var/folders/3d/ldmd42_x7zx8d8xqy0fkhmgc0000gn/T/ipykernel_80248/3974528625.py:14: DeprecationWarning: The `width` parameter for `Array` is deprecated. Use `shape` instead.\n",
      "  dtype=pl.Array(pl.Int64, width=7),\n"
     ]
    }
   ],
   "source": [
    "df = pl.DataFrame([\n",
    "    pl.Series(\n",
    "        \"location\",\n",
    "        [\"Paris\", \"Amsterdam\", \"Barcelona\"],\n",
    "        dtype=pl.String\n",
    "    ),\n",
    "    pl.Series(\n",
    "        \"temperatures\",\n",
    "        [\n",
    "            [23, 27, 21, 22, 24, 23, 22],\n",
    "            [17, 19, 15, 22, 18, 20, 21],\n",
    "            [30, 32, 28, 29, 34, 33, 31]\n",
    "        ],\n",
    "        dtype=pl.Array(pl.Int64, width=7),\n",
    "    ),\n",
    "])\n",
    "print(df)"
   ]
  },
  {
   "cell_type": "code",
   "execution_count": 52,
   "id": "a1840c50",
   "metadata": {},
   "outputs": [
    {
     "name": "stdout",
     "output_type": "stream",
     "text": [
      "shape: (3, 5)\n",
      "┌───────────┬────────────────┬────────┬─────┬─────────────────┐\n",
      "│ location  ┆ temperatures   ┆ median ┆ max ┆ warmest_weekday │\n",
      "│ ---       ┆ ---            ┆ ---    ┆ --- ┆ ---             │\n",
      "│ str       ┆ array[i64, 7]  ┆ f64    ┆ i64 ┆ u32             │\n",
      "╞═══════════╪════════════════╪════════╪═════╪═════════════════╡\n",
      "│ Paris     ┆ [23, 27, … 22] ┆ 23.0   ┆ 27  ┆ 1               │\n",
      "│ Amsterdam ┆ [17, 19, … 21] ┆ 19.0   ┆ 22  ┆ 3               │\n",
      "│ Barcelona ┆ [30, 32, … 31] ┆ 31.0   ┆ 34  ┆ 4               │\n",
      "└───────────┴────────────────┴────────┴─────┴─────────────────┘\n"
     ]
    }
   ],
   "source": [
    "print(\n",
    "    df\n",
    "    .with_columns(\n",
    "        pl.col(\"temperatures\")\n",
    "        .arr.median()\n",
    "        .alias(\"median\"),\n",
    "        pl.col(\"temperatures\")\n",
    "        .arr.max()\n",
    "        .alias(\"max\"),\n",
    "        pl.col(\"temperatures\")\n",
    "        .arr.arg_max()\n",
    "        .alias(\"warmest_weekday\")\n",
    "    )\n",
    ")"
   ]
  },
  {
   "cell_type": "markdown",
   "id": "9ed299d4",
   "metadata": {},
   "source": [
    "## Structs"
   ]
  },
  {
   "cell_type": "markdown",
   "id": "eda2e7c4",
   "metadata": {},
   "source": [
    "### Methods"
   ]
  },
  {
   "cell_type": "markdown",
   "id": "a93ce9a0",
   "metadata": {},
   "source": [
    "### Examples"
   ]
  },
  {
   "cell_type": "code",
   "execution_count": 56,
   "id": "fdfdeac6",
   "metadata": {},
   "outputs": [
    {
     "name": "stdout",
     "output_type": "stream",
     "text": [
      "shape: (3, 1)\n",
      "┌───────────────┐\n",
      "│ struct_column │\n",
      "│ ---           │\n",
      "│ struct[2]     │\n",
      "╞═══════════════╡\n",
      "│ {1,2}         │\n",
      "│ {3,4}         │\n",
      "│ {5,6}         │\n",
      "└───────────────┘\n"
     ]
    }
   ],
   "source": [
    "df = pl.DataFrame({\n",
    "    \"struct_column\": [\n",
    "        {\"a\": 1, \"b\": 2},\n",
    "        {\"a\": 3, \"b\": 4},\n",
    "        {\"a\": 5, \"b\": 6},\n",
    "    ]\n",
    "})\n",
    "print(df)"
   ]
  },
  {
   "cell_type": "code",
   "execution_count": 57,
   "id": "63115a93",
   "metadata": {},
   "outputs": [
    {
     "data": {
      "text/html": [
       "<div><style>\n",
       ".dataframe > thead > tr,\n",
       ".dataframe > tbody > tr {\n",
       "  text-align: right;\n",
       "  white-space: pre-wrap;\n",
       "}\n",
       "</style>\n",
       "<small>shape: (3, 1)</small><table border=\"1\" class=\"dataframe\"><thead><tr><th>a</th></tr><tr><td>i64</td></tr></thead><tbody><tr><td>1</td></tr><tr><td>3</td></tr><tr><td>5</td></tr></tbody></table></div>"
      ],
      "text/plain": [
       "shape: (3, 1)\n",
       "┌─────┐\n",
       "│ a   │\n",
       "│ --- │\n",
       "│ i64 │\n",
       "╞═════╡\n",
       "│ 1   │\n",
       "│ 3   │\n",
       "│ 5   │\n",
       "└─────┘"
      ]
     },
     "execution_count": 28,
     "metadata": {},
     "output_type": "execute_result"
    }
   ],
   "source": [
    "df.select(pl.col(\"struct_column\").struct.field(\"a\"))"
   ]
  },
  {
   "cell_type": "code",
   "execution_count": 58,
   "id": "31dbedc7",
   "metadata": {},
   "outputs": [
    {
     "name": "stdout",
     "output_type": "stream",
     "text": [
      "shape: (3, 2)\n",
      "┌─────┬─────┐\n",
      "│ a   ┆ b   │\n",
      "│ --- ┆ --- │\n",
      "│ i64 ┆ i64 │\n",
      "╞═════╪═════╡\n",
      "│ 1   ┆ 2   │\n",
      "│ 3   ┆ 4   │\n",
      "│ 5   ┆ 6   │\n",
      "└─────┴─────┘\n"
     ]
    }
   ],
   "source": [
    "df = df.unnest(\"struct_column\")\n",
    "print(df)"
   ]
  },
  {
   "cell_type": "code",
   "execution_count": 59,
   "id": "efb6b77d",
   "metadata": {},
   "outputs": [
    {
     "data": {
      "text/html": [
       "<div><style>\n",
       ".dataframe > thead > tr,\n",
       ".dataframe > tbody > tr {\n",
       "  text-align: right;\n",
       "  white-space: pre-wrap;\n",
       "}\n",
       "</style>\n",
       "<small>shape: (3, 3)</small><table border=\"1\" class=\"dataframe\"><thead><tr><th>a</th><th>b</th><th>struct_column</th></tr><tr><td>i64</td><td>i64</td><td>struct[2]</td></tr></thead><tbody><tr><td>1</td><td>2</td><td>{1,2}</td></tr><tr><td>3</td><td>4</td><td>{3,4}</td></tr><tr><td>5</td><td>6</td><td>{5,6}</td></tr></tbody></table></div>"
      ],
      "text/plain": [
       "shape: (3, 3)\n",
       "┌─────┬─────┬───────────────┐\n",
       "│ a   ┆ b   ┆ struct_column │\n",
       "│ --- ┆ --- ┆ ---           │\n",
       "│ i64 ┆ i64 ┆ struct[2]     │\n",
       "╞═════╪═════╪═══════════════╡\n",
       "│ 1   ┆ 2   ┆ {1,2}         │\n",
       "│ 3   ┆ 4   ┆ {3,4}         │\n",
       "│ 5   ┆ 6   ┆ {5,6}         │\n",
       "└─────┴─────┴───────────────┘"
      ]
     },
     "execution_count": 30,
     "metadata": {},
     "output_type": "execute_result"
    }
   ],
   "source": [
    "df.select(\n",
    "    \"a\",\n",
    "    \"b\",\n",
    "    pl.struct(\n",
    "        pl.col(\"a\"),\n",
    "        pl.col(\"b\")\n",
    "    ).alias(\"struct_column\"),\n",
    ")"
   ]
  },
  {
   "cell_type": "code",
   "execution_count": 60,
   "id": "fb4f5c17",
   "metadata": {},
   "outputs": [
    {
     "name": "stdout",
     "output_type": "stream",
     "text": [
      "shape: (6, 1)\n",
      "┌────────┐\n",
      "│ fruit  │\n",
      "│ ---    │\n",
      "│ str    │\n",
      "╞════════╡\n",
      "│ cherry │\n",
      "│ apple  │\n",
      "│ banana │\n",
      "│ banana │\n",
      "│ apple  │\n",
      "│ banana │\n",
      "└────────┘\n"
     ]
    }
   ],
   "source": [
    "df = pl.DataFrame({\n",
    "    \"fruit\": [\"cherry\", \"apple\", \"banana\", \"banana\", \"apple\", \"banana\"],\n",
    "})\n",
    "print(df)"
   ]
  },
  {
   "cell_type": "code",
   "execution_count": 61,
   "id": "cf4667aa",
   "metadata": {},
   "outputs": [
    {
     "name": "stdout",
     "output_type": "stream",
     "text": [
      "shape: (3, 1)\n",
      "┌──────────────┐\n",
      "│ fruit        │\n",
      "│ ---          │\n",
      "│ struct[2]    │\n",
      "╞══════════════╡\n",
      "│ {\"banana\",3} │\n",
      "│ {\"apple\",2}  │\n",
      "│ {\"cherry\",1} │\n",
      "└──────────────┘\n"
     ]
    }
   ],
   "source": [
    "print(\n",
    "    df\n",
    "    .select(\n",
    "        pl.col(\"fruit\")\n",
    "        .value_counts(sort=True)\n",
    "    )\n",
    ")"
   ]
  },
  {
   "cell_type": "code",
   "execution_count": 62,
   "id": "fd76c665",
   "metadata": {},
   "outputs": [
    {
     "name": "stdout",
     "output_type": "stream",
     "text": [
      "shape: (3, 2)\n",
      "┌────────┬───────┐\n",
      "│ fruit  ┆ count │\n",
      "│ ---    ┆ ---   │\n",
      "│ str    ┆ u32   │\n",
      "╞════════╪═══════╡\n",
      "│ banana ┆ 3     │\n",
      "│ apple  ┆ 2     │\n",
      "│ cherry ┆ 1     │\n",
      "└────────┴───────┘\n"
     ]
    }
   ],
   "source": [
    "print(\n",
    "    df.select(\n",
    "        pl.col(\"fruit\")\n",
    "        .value_counts(sort=True)\n",
    "    )\n",
    "    .unnest(\"fruit\")\n",
    ")"
   ]
  },
  {
   "cell_type": "markdown",
   "id": "3efbe6ec",
   "metadata": {},
   "source": [
    "## Conclusion"
   ]
  }
 ],
 "metadata": {
  "language_info": {
   "codemirror_mode": {
    "name": "ipython",
    "version": 3
   },
   "file_extension": ".py",
   "mimetype": "text/x-python",
   "name": "python",
   "nbconvert_exporter": "python",
   "pygments_lexer": "ipython3",
   "version": "3.11.9"
  }
 },
 "nbformat": 4,
 "nbformat_minor": 5
}
