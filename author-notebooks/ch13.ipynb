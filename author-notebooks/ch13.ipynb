{
 "cells": [
  {
   "cell_type": "markdown",
   "id": "9b8146d1",
   "metadata": {},
   "source": [
    "# Chapter 13: Summarizing and Aggregating"
   ]
  },
  {
   "cell_type": "code",
   "execution_count": 1,
   "id": "8e35e1a5",
   "metadata": {},
   "outputs": [
    {
     "name": "stdout",
     "output_type": "stream",
     "text": [
      "--------Version info---------\n",
      "Polars:               0.20.31\n",
      "Index type:           UInt32\n",
      "Platform:             macOS-12.5-arm64-arm-64bit\n",
      "Python:               3.11.9 (main, Apr  2 2024, 16:11:47) [Clang 14.0.0 (clang-1400.0.29.202)]\n",
      "\n",
      "----Optional dependencies----\n",
      "adbc_driver_manager:  0.8.0\n",
      "cloudpickle:          3.0.0\n",
      "connectorx:           0.3.2\n",
      "deltalake:            0.15.0\n",
      "fastexcel:            0.9.1\n",
      "fsspec:               2023.12.2\n",
      "gevent:               23.9.1\n",
      "hvplot:               0.9.2\n",
      "matplotlib:           3.8.4\n",
      "nest_asyncio:         1.6.0\n",
      "numpy:                1.26.4\n",
      "openpyxl:             3.1.2\n",
      "pandas:               2.2.2\n",
      "pyarrow:              14.0.2\n",
      "pydantic:             2.5.3\n",
      "pyiceberg:            0.5.1\n",
      "pyxlsb:               <not installed>\n",
      "sqlalchemy:           2.0.25\n",
      "torch:                <not installed>\n",
      "xlsx2csv:             0.8.2\n",
      "xlsxwriter:           3.2.0\n"
     ]
    }
   ],
   "source": [
    "import polars as pl\n",
    "pl.show_versions()"
   ]
  },
  {
   "cell_type": "code",
   "execution_count": 2,
   "id": "be67a66d",
   "metadata": {},
   "outputs": [],
   "source": [
    "import polars as pl\n",
    "\n",
    "top2000 = pl.read_excel(\n",
    "    \"data/top2000-2023.xlsx\",\n",
    "    read_options={\"skip_rows\": 1},\n",
    "    engine=\"calamine\"\n",
    ").set_sorted(\"positie\")"
   ]
  },
  {
   "cell_type": "code",
   "execution_count": 3,
   "id": "609fed3d",
   "metadata": {},
   "outputs": [
    {
     "data": {
      "text/html": [
       "<div><style>\n",
       ".dataframe > thead > tr,\n",
       ".dataframe > tbody > tr {\n",
       "  text-align: right;\n",
       "  white-space: pre-wrap;\n",
       "}\n",
       "</style>\n",
       "<small>shape: (67, 2)</small><table border=\"1\" class=\"dataframe\"><thead><tr><th>jaar</th><th>songs</th></tr><tr><td>i64</td><td>list[str]</td></tr></thead><tbody><tr><td>2022</td><td>[&quot;Son Mieux - Multicolor&quot;, &quot;Bankzitters - Je Blik Richting Mij&quot;, … &quot;Måneskin - THE LONELIEST&quot;]</td></tr><tr><td>2021</td><td>[&quot;Goldband - Noodgeval&quot;, &quot;Bankzitters - Stapelgek&quot;, … &quot;Olivia Rodrigo - Drivers License&quot;]</td></tr><tr><td>2020</td><td>[&quot;DI-RECT - Soldier On&quot;, &quot;Miss Montreal - Door De Wind&quot;, … &quot;Dua Lipa ft. DaBaby - Levitating&quot;]</td></tr><tr><td>2019</td><td>[&quot;Danny Vera - Roller Coaster&quot;, &quot;Floor Jansen &amp; Henk Poort - Phantom Of The Opera&quot;, … &quot;Tino Martin - Zij Weet Het&quot;]</td></tr><tr><td>2018</td><td>[&quot;Lady Gaga &amp; Bradley Cooper - Shallow&quot;, &quot;White Lies - Time To Give&quot;, … &quot;Calvin Harris &amp; Dua Lipa - One Kiss&quot;]</td></tr><tr><td>&hellip;</td><td>&hellip;</td></tr><tr><td>1960</td><td>[&quot;Etta James - At Last&quot;, &quot;Shadows - Apache&quot;]</td></tr><tr><td>1959</td><td>[&quot;Jacques Brel - Ne Me Quitte Pas&quot;, &quot;Elvis Presley - Hound Dog&quot;]</td></tr><tr><td>1958</td><td>[&quot;Chuck Berry - Johnny B. Goode&quot;, &quot;Ella Fitzgerald &amp; Louis Armstrong - Summertime&quot;]</td></tr><tr><td>1957</td><td>[&quot;Johnny Cash - I Walk The Line&quot;, &quot;Elvis Presley - Jailhouse Rock&quot;, … &quot;Fats Domino - Blueberry Hill&quot;]</td></tr><tr><td>1956</td><td>[&quot;Elvis Presley - Love Me Tender&quot;, &quot;Elvis Presley - Blue Suede Shoes&quot;]</td></tr></tbody></table></div>"
      ],
      "text/plain": [
       "shape: (67, 2)\n",
       "┌──────┬─────────────────────────────────┐\n",
       "│ jaar ┆ songs                           │\n",
       "│ ---  ┆ ---                             │\n",
       "│ i64  ┆ list[str]                       │\n",
       "╞══════╪═════════════════════════════════╡\n",
       "│ 2022 ┆ [\"Son Mieux - Multicolor\", \"Ba… │\n",
       "│ 2021 ┆ [\"Goldband - Noodgeval\", \"Bank… │\n",
       "│ 2020 ┆ [\"DI-RECT - Soldier On\", \"Miss… │\n",
       "│ 2019 ┆ [\"Danny Vera - Roller Coaster\"… │\n",
       "│ 2018 ┆ [\"Lady Gaga & Bradley Cooper -… │\n",
       "│ …    ┆ …                               │\n",
       "│ 1960 ┆ [\"Etta James - At Last\", \"Shad… │\n",
       "│ 1959 ┆ [\"Jacques Brel - Ne Me Quitte … │\n",
       "│ 1958 ┆ [\"Chuck Berry - Johnny B. Good… │\n",
       "│ 1957 ┆ [\"Johnny Cash - I Walk The Lin… │\n",
       "│ 1956 ┆ [\"Elvis Presley - Love Me Tend… │\n",
       "└──────┴─────────────────────────────────┘"
      ]
     },
     "execution_count": 3,
     "metadata": {},
     "output_type": "execute_result"
    }
   ],
   "source": [
    "(\n",
    "    top2000\n",
    "    .group_by(\"jaar\")\n",
    "    .agg(  # <1>\n",
    "        (\n",
    "            pl.concat_str(\n",
    "                pl.col(\"artiest\"),\n",
    "                pl.lit(\" - \"),\n",
    "                pl.col(\"titel\")\n",
    "            )  # <2>\n",
    "        ).alias(\"songs\"),\n",
    "    )\n",
    "    .sort(\"jaar\", descending=True)\n",
    ")"
   ]
  },
  {
   "cell_type": "markdown",
   "id": "59ea58e6",
   "metadata": {},
   "source": [
    "### The Descriptives"
   ]
  },
  {
   "cell_type": "code",
   "execution_count": 5,
   "id": "cc1ce085",
   "metadata": {},
   "outputs": [
    {
     "data": {
      "text/html": [
       "<div><style>\n",
       ".dataframe > thead > tr,\n",
       ".dataframe > tbody > tr {\n",
       "  text-align: right;\n",
       "  white-space: pre-wrap;\n",
       "}\n",
       "</style>\n",
       "<small>shape: (9, 4)</small><table border=\"1\" class=\"dataframe\"><thead><tr><th>jaar</th><th>positie</th><th>titel</th><th>artiest</th></tr><tr><td>i64</td><td>i64</td><td>str</td><td>str</td></tr></thead><tbody><tr><td>2022</td><td>179</td><td>&quot;Multicolor&quot;</td><td>&quot;Son Mieux&quot;</td></tr><tr><td>2022</td><td>370</td><td>&quot;Je Blik Richting Mij&quot;</td><td>&quot;Bankzitters&quot;</td></tr><tr><td>2022</td><td>395</td><td>&quot;L&#x27;enfer&quot;</td><td>&quot;Stromae&quot;</td></tr><tr><td>2021</td><td>55</td><td>&quot;Noodgeval&quot;</td><td>&quot;Goldband&quot;</td></tr><tr><td>2021</td><td>149</td><td>&quot;Stapelgek&quot;</td><td>&quot;Bankzitters&quot;</td></tr><tr><td>2021</td><td>210</td><td>&quot;Dat Heb Jij Gedaan&quot;</td><td>&quot;Meau&quot;</td></tr><tr><td>2020</td><td>19</td><td>&quot;Soldier On&quot;</td><td>&quot;DI-RECT&quot;</td></tr><tr><td>2020</td><td>38</td><td>&quot;Door De Wind&quot;</td><td>&quot;Miss Montreal&quot;</td></tr><tr><td>2020</td><td>77</td><td>&quot;Impossible (Orchestral Version…</td><td>&quot;Nothing But Thieves&quot;</td></tr></tbody></table></div>"
      ],
      "text/plain": [
       "shape: (9, 4)\n",
       "┌──────┬─────────┬─────────────────────────────────┬─────────────────────┐\n",
       "│ jaar ┆ positie ┆ titel                           ┆ artiest             │\n",
       "│ ---  ┆ ---     ┆ ---                             ┆ ---                 │\n",
       "│ i64  ┆ i64     ┆ str                             ┆ str                 │\n",
       "╞══════╪═════════╪═════════════════════════════════╪═════════════════════╡\n",
       "│ 2022 ┆ 179     ┆ Multicolor                      ┆ Son Mieux           │\n",
       "│ 2022 ┆ 370     ┆ Je Blik Richting Mij            ┆ Bankzitters         │\n",
       "│ 2022 ┆ 395     ┆ L'enfer                         ┆ Stromae             │\n",
       "│ 2021 ┆ 55      ┆ Noodgeval                       ┆ Goldband            │\n",
       "│ 2021 ┆ 149     ┆ Stapelgek                       ┆ Bankzitters         │\n",
       "│ 2021 ┆ 210     ┆ Dat Heb Jij Gedaan              ┆ Meau                │\n",
       "│ 2020 ┆ 19      ┆ Soldier On                      ┆ DI-RECT             │\n",
       "│ 2020 ┆ 38      ┆ Door De Wind                    ┆ Miss Montreal       │\n",
       "│ 2020 ┆ 77      ┆ Impossible (Orchestral Version… ┆ Nothing But Thieves │\n",
       "└──────┴─────────┴─────────────────────────────────┴─────────────────────┘"
      ]
     },
     "execution_count": 4,
     "metadata": {},
     "output_type": "execute_result"
    }
   ],
   "source": [
    "(\n",
    "    top2000\n",
    "    .group_by(\"jaar\", maintain_order=True)  # <1>\n",
    "    .head(3)  # <2>\n",
    "    .sort(\"jaar\", descending=True)\n",
    "    .head(9)  # <3>\n",
    ")"
   ]
  },
  {
   "cell_type": "code",
   "execution_count": 6,
   "id": "a2e05383",
   "metadata": {},
   "outputs": [
    {
     "data": {
      "text/html": [
       "<div><style>\n",
       ".dataframe > thead > tr,\n",
       ".dataframe > tbody > tr {\n",
       "  text-align: right;\n",
       "  white-space: pre-wrap;\n",
       "}\n",
       "</style>\n",
       "<small>shape: (9, 4)</small><table border=\"1\" class=\"dataframe\"><thead><tr><th>jaar</th><th>positie</th><th>titel</th><th>artiest</th></tr><tr><td>i64</td><td>i64</td><td>str</td><td>str</td></tr></thead><tbody><tr><td>2022</td><td>1391</td><td>&quot;De Diepte&quot;</td><td>&quot;S10&quot;</td></tr><tr><td>2022</td><td>1688</td><td>&quot;Zeit&quot;</td><td>&quot;Rammstein&quot;</td></tr><tr><td>2022</td><td>1716</td><td>&quot;THE LONELIEST&quot;</td><td>&quot;Måneskin&quot;</td></tr><tr><td>2021</td><td>1865</td><td>&quot;Bon Gepakt&quot;</td><td>&quot;Donnie &amp; Rene Froger&quot;</td></tr><tr><td>2021</td><td>1978</td><td>&quot;Hold On&quot;</td><td>&quot;Armin van Buuren ft. Davina Mi…</td></tr><tr><td>2021</td><td>2000</td><td>&quot;Drivers License&quot;</td><td>&quot;Olivia Rodrigo&quot;</td></tr><tr><td>2020</td><td>1824</td><td>&quot;Smoorverliefd&quot;</td><td>&quot;Snelle&quot;</td></tr><tr><td>2020</td><td>1879</td><td>&quot;The Business&quot;</td><td>&quot;Tiësto&quot;</td></tr><tr><td>2020</td><td>1902</td><td>&quot;Levitating&quot;</td><td>&quot;Dua Lipa ft. DaBaby&quot;</td></tr></tbody></table></div>"
      ],
      "text/plain": [
       "shape: (9, 4)\n",
       "┌──────┬─────────┬─────────────────┬─────────────────────────────────┐\n",
       "│ jaar ┆ positie ┆ titel           ┆ artiest                         │\n",
       "│ ---  ┆ ---     ┆ ---             ┆ ---                             │\n",
       "│ i64  ┆ i64     ┆ str             ┆ str                             │\n",
       "╞══════╪═════════╪═════════════════╪═════════════════════════════════╡\n",
       "│ 2022 ┆ 1391    ┆ De Diepte       ┆ S10                             │\n",
       "│ 2022 ┆ 1688    ┆ Zeit            ┆ Rammstein                       │\n",
       "│ 2022 ┆ 1716    ┆ THE LONELIEST   ┆ Måneskin                        │\n",
       "│ 2021 ┆ 1865    ┆ Bon Gepakt      ┆ Donnie & Rene Froger            │\n",
       "│ 2021 ┆ 1978    ┆ Hold On         ┆ Armin van Buuren ft. Davina Mi… │\n",
       "│ 2021 ┆ 2000    ┆ Drivers License ┆ Olivia Rodrigo                  │\n",
       "│ 2020 ┆ 1824    ┆ Smoorverliefd   ┆ Snelle                          │\n",
       "│ 2020 ┆ 1879    ┆ The Business    ┆ Tiësto                          │\n",
       "│ 2020 ┆ 1902    ┆ Levitating      ┆ Dua Lipa ft. DaBaby             │\n",
       "└──────┴─────────┴─────────────────┴─────────────────────────────────┘"
      ]
     },
     "execution_count": 5,
     "metadata": {},
     "output_type": "execute_result"
    }
   ],
   "source": [
    "(\n",
    "    top2000\n",
    "    .group_by(\"jaar\", maintain_order=True)\n",
    "    .tail(3)\n",
    "    .sort(\"jaar\", descending=True)\n",
    "    .head(9)\n",
    ")"
   ]
  },
  {
   "cell_type": "code",
   "execution_count": 7,
   "id": "80d5599c",
   "metadata": {},
   "outputs": [
    {
     "data": {
      "text/html": [
       "<div><style>\n",
       ".dataframe > thead > tr,\n",
       ".dataframe > tbody > tr {\n",
       "  text-align: right;\n",
       "  white-space: pre-wrap;\n",
       "}\n",
       "</style>\n",
       "<small>shape: (10, 2)</small><table border=\"1\" class=\"dataframe\"><thead><tr><th>artiest</th><th>len</th></tr><tr><td>str</td><td>u32</td></tr></thead><tbody><tr><td>&quot;Queen&quot;</td><td>34</td></tr><tr><td>&quot;The Beatles&quot;</td><td>31</td></tr><tr><td>&quot;ABBA&quot;</td><td>25</td></tr><tr><td>&quot;The Rolling Stones&quot;</td><td>22</td></tr><tr><td>&quot;Bruce Springsteen&quot;</td><td>22</td></tr><tr><td>&quot;Fleetwood Mac&quot;</td><td>20</td></tr><tr><td>&quot;Coldplay&quot;</td><td>20</td></tr><tr><td>&quot;Michael Jackson&quot;</td><td>20</td></tr><tr><td>&quot;U2&quot;</td><td>18</td></tr><tr><td>&quot;David Bowie&quot;</td><td>18</td></tr></tbody></table></div>"
      ],
      "text/plain": [
       "shape: (10, 2)\n",
       "┌────────────────────┬─────┐\n",
       "│ artiest            ┆ len │\n",
       "│ ---                ┆ --- │\n",
       "│ str                ┆ u32 │\n",
       "╞════════════════════╪═════╡\n",
       "│ Queen              ┆ 34  │\n",
       "│ The Beatles        ┆ 31  │\n",
       "│ ABBA               ┆ 25  │\n",
       "│ The Rolling Stones ┆ 22  │\n",
       "│ Bruce Springsteen  ┆ 22  │\n",
       "│ Fleetwood Mac      ┆ 20  │\n",
       "│ Coldplay           ┆ 20  │\n",
       "│ Michael Jackson    ┆ 20  │\n",
       "│ U2                 ┆ 18  │\n",
       "│ David Bowie        ┆ 18  │\n",
       "└────────────────────┴─────┘"
      ]
     },
     "execution_count": 6,
     "metadata": {},
     "output_type": "execute_result"
    }
   ],
   "source": [
    "(\n",
    "    top2000\n",
    "    .group_by(\"artiest\")\n",
    "    .len()\n",
    "    .sort(\"len\", descending=True)\n",
    "    .head(10)\n",
    ")"
   ]
  },
  {
   "cell_type": "code",
   "execution_count": 8,
   "id": "0db3ab41",
   "metadata": {},
   "outputs": [
    {
     "ename": "FileNotFoundError",
     "evalue": "No such file or directory (os error 2): data/sales_data.csv",
     "output_type": "error",
     "traceback": [
      "\u001b[0;31m---------------------------------------------------------------------------\u001b[0m",
      "\u001b[0;31mFileNotFoundError\u001b[0m                         Traceback (most recent call last)",
      "Cell \u001b[0;32mIn[7], line 1\u001b[0m\n\u001b[0;32m----> 1\u001b[0m df \u001b[38;5;241m=\u001b[39m \u001b[43mpl\u001b[49m\u001b[38;5;241;43m.\u001b[39;49m\u001b[43mread_csv\u001b[49m\u001b[43m(\u001b[49m\u001b[38;5;124;43m\"\u001b[39;49m\u001b[38;5;124;43mdata/sales_data.csv\u001b[39;49m\u001b[38;5;124;43m\"\u001b[39;49m\u001b[43m)\u001b[49m\n\u001b[1;32m      2\u001b[0m df\u001b[38;5;241m.\u001b[39mcolumns\n",
      "File \u001b[0;32m~/Library/Caches/pypoetry/virtualenvs/python-polars-the-definitive-guide-b_q50VVY-py3.11/lib/python3.11/site-packages/polars/_utils/deprecation.py:135\u001b[0m, in \u001b[0;36mdeprecate_renamed_parameter.<locals>.decorate.<locals>.wrapper\u001b[0;34m(*args, **kwargs)\u001b[0m\n\u001b[1;32m    130\u001b[0m \u001b[38;5;129m@wraps\u001b[39m(function)\n\u001b[1;32m    131\u001b[0m \u001b[38;5;28;01mdef\u001b[39;00m \u001b[38;5;21mwrapper\u001b[39m(\u001b[38;5;241m*\u001b[39margs: P\u001b[38;5;241m.\u001b[39margs, \u001b[38;5;241m*\u001b[39m\u001b[38;5;241m*\u001b[39mkwargs: P\u001b[38;5;241m.\u001b[39mkwargs) \u001b[38;5;241m-\u001b[39m\u001b[38;5;241m>\u001b[39m T:\n\u001b[1;32m    132\u001b[0m     _rename_keyword_argument(\n\u001b[1;32m    133\u001b[0m         old_name, new_name, kwargs, function\u001b[38;5;241m.\u001b[39m\u001b[38;5;18m__name__\u001b[39m, version\n\u001b[1;32m    134\u001b[0m     )\n\u001b[0;32m--> 135\u001b[0m     \u001b[38;5;28;01mreturn\u001b[39;00m \u001b[43mfunction\u001b[49m\u001b[43m(\u001b[49m\u001b[38;5;241;43m*\u001b[39;49m\u001b[43margs\u001b[49m\u001b[43m,\u001b[49m\u001b[43m \u001b[49m\u001b[38;5;241;43m*\u001b[39;49m\u001b[38;5;241;43m*\u001b[39;49m\u001b[43mkwargs\u001b[49m\u001b[43m)\u001b[49m\n",
      "File \u001b[0;32m~/Library/Caches/pypoetry/virtualenvs/python-polars-the-definitive-guide-b_q50VVY-py3.11/lib/python3.11/site-packages/polars/_utils/deprecation.py:135\u001b[0m, in \u001b[0;36mdeprecate_renamed_parameter.<locals>.decorate.<locals>.wrapper\u001b[0;34m(*args, **kwargs)\u001b[0m\n\u001b[1;32m    130\u001b[0m \u001b[38;5;129m@wraps\u001b[39m(function)\n\u001b[1;32m    131\u001b[0m \u001b[38;5;28;01mdef\u001b[39;00m \u001b[38;5;21mwrapper\u001b[39m(\u001b[38;5;241m*\u001b[39margs: P\u001b[38;5;241m.\u001b[39margs, \u001b[38;5;241m*\u001b[39m\u001b[38;5;241m*\u001b[39mkwargs: P\u001b[38;5;241m.\u001b[39mkwargs) \u001b[38;5;241m-\u001b[39m\u001b[38;5;241m>\u001b[39m T:\n\u001b[1;32m    132\u001b[0m     _rename_keyword_argument(\n\u001b[1;32m    133\u001b[0m         old_name, new_name, kwargs, function\u001b[38;5;241m.\u001b[39m\u001b[38;5;18m__name__\u001b[39m, version\n\u001b[1;32m    134\u001b[0m     )\n\u001b[0;32m--> 135\u001b[0m     \u001b[38;5;28;01mreturn\u001b[39;00m \u001b[43mfunction\u001b[49m\u001b[43m(\u001b[49m\u001b[38;5;241;43m*\u001b[39;49m\u001b[43margs\u001b[49m\u001b[43m,\u001b[49m\u001b[43m \u001b[49m\u001b[38;5;241;43m*\u001b[39;49m\u001b[38;5;241;43m*\u001b[39;49m\u001b[43mkwargs\u001b[49m\u001b[43m)\u001b[49m\n",
      "    \u001b[0;31m[... skipping similar frames: deprecate_renamed_parameter.<locals>.decorate.<locals>.wrapper at line 135 (1 times)]\u001b[0m\n",
      "File \u001b[0;32m~/Library/Caches/pypoetry/virtualenvs/python-polars-the-definitive-guide-b_q50VVY-py3.11/lib/python3.11/site-packages/polars/_utils/deprecation.py:135\u001b[0m, in \u001b[0;36mdeprecate_renamed_parameter.<locals>.decorate.<locals>.wrapper\u001b[0;34m(*args, **kwargs)\u001b[0m\n\u001b[1;32m    130\u001b[0m \u001b[38;5;129m@wraps\u001b[39m(function)\n\u001b[1;32m    131\u001b[0m \u001b[38;5;28;01mdef\u001b[39;00m \u001b[38;5;21mwrapper\u001b[39m(\u001b[38;5;241m*\u001b[39margs: P\u001b[38;5;241m.\u001b[39margs, \u001b[38;5;241m*\u001b[39m\u001b[38;5;241m*\u001b[39mkwargs: P\u001b[38;5;241m.\u001b[39mkwargs) \u001b[38;5;241m-\u001b[39m\u001b[38;5;241m>\u001b[39m T:\n\u001b[1;32m    132\u001b[0m     _rename_keyword_argument(\n\u001b[1;32m    133\u001b[0m         old_name, new_name, kwargs, function\u001b[38;5;241m.\u001b[39m\u001b[38;5;18m__name__\u001b[39m, version\n\u001b[1;32m    134\u001b[0m     )\n\u001b[0;32m--> 135\u001b[0m     \u001b[38;5;28;01mreturn\u001b[39;00m \u001b[43mfunction\u001b[49m\u001b[43m(\u001b[49m\u001b[38;5;241;43m*\u001b[39;49m\u001b[43margs\u001b[49m\u001b[43m,\u001b[49m\u001b[43m \u001b[49m\u001b[38;5;241;43m*\u001b[39;49m\u001b[38;5;241;43m*\u001b[39;49m\u001b[43mkwargs\u001b[49m\u001b[43m)\u001b[49m\n",
      "File \u001b[0;32m~/Library/Caches/pypoetry/virtualenvs/python-polars-the-definitive-guide-b_q50VVY-py3.11/lib/python3.11/site-packages/polars/io/csv/functions.py:422\u001b[0m, in \u001b[0;36mread_csv\u001b[0;34m(source, has_header, columns, new_columns, separator, comment_prefix, quote_char, skip_rows, schema, schema_overrides, null_values, missing_utf8_is_empty_string, ignore_errors, try_parse_dates, n_threads, infer_schema_length, batch_size, n_rows, encoding, low_memory, rechunk, use_pyarrow, storage_options, skip_rows_after_header, row_index_name, row_index_offset, sample_size, eol_char, raise_if_empty, truncate_ragged_lines, decimal_comma, glob)\u001b[0m\n\u001b[1;32m    410\u001b[0m         schema_overrides \u001b[38;5;241m=\u001b[39m {\n\u001b[1;32m    411\u001b[0m             new_to_current\u001b[38;5;241m.\u001b[39mget(column_name, column_name): column_dtype\n\u001b[1;32m    412\u001b[0m             \u001b[38;5;28;01mfor\u001b[39;00m column_name, column_dtype \u001b[38;5;129;01min\u001b[39;00m schema_overrides\u001b[38;5;241m.\u001b[39mitems()\n\u001b[1;32m    413\u001b[0m         }\n\u001b[1;32m    415\u001b[0m \u001b[38;5;28;01mwith\u001b[39;00m prepare_file_arg(\n\u001b[1;32m    416\u001b[0m     source,\n\u001b[1;32m    417\u001b[0m     encoding\u001b[38;5;241m=\u001b[39mencoding,\n\u001b[0;32m   (...)\u001b[0m\n\u001b[1;32m    420\u001b[0m     storage_options\u001b[38;5;241m=\u001b[39mstorage_options,\n\u001b[1;32m    421\u001b[0m ) \u001b[38;5;28;01mas\u001b[39;00m data:\n\u001b[0;32m--> 422\u001b[0m     df \u001b[38;5;241m=\u001b[39m \u001b[43m_read_csv_impl\u001b[49m\u001b[43m(\u001b[49m\n\u001b[1;32m    423\u001b[0m \u001b[43m        \u001b[49m\u001b[43mdata\u001b[49m\u001b[43m,\u001b[49m\n\u001b[1;32m    424\u001b[0m \u001b[43m        \u001b[49m\u001b[43mhas_header\u001b[49m\u001b[38;5;241;43m=\u001b[39;49m\u001b[43mhas_header\u001b[49m\u001b[43m,\u001b[49m\n\u001b[1;32m    425\u001b[0m \u001b[43m        \u001b[49m\u001b[43mcolumns\u001b[49m\u001b[38;5;241;43m=\u001b[39;49m\u001b[43mcolumns\u001b[49m\u001b[43m \u001b[49m\u001b[38;5;28;43;01mif\u001b[39;49;00m\u001b[43m \u001b[49m\u001b[43mcolumns\u001b[49m\u001b[43m \u001b[49m\u001b[38;5;28;43;01melse\u001b[39;49;00m\u001b[43m \u001b[49m\u001b[43mprojection\u001b[49m\u001b[43m,\u001b[49m\n\u001b[1;32m    426\u001b[0m \u001b[43m        \u001b[49m\u001b[43mseparator\u001b[49m\u001b[38;5;241;43m=\u001b[39;49m\u001b[43mseparator\u001b[49m\u001b[43m,\u001b[49m\n\u001b[1;32m    427\u001b[0m \u001b[43m        \u001b[49m\u001b[43mcomment_prefix\u001b[49m\u001b[38;5;241;43m=\u001b[39;49m\u001b[43mcomment_prefix\u001b[49m\u001b[43m,\u001b[49m\n\u001b[1;32m    428\u001b[0m \u001b[43m        \u001b[49m\u001b[43mquote_char\u001b[49m\u001b[38;5;241;43m=\u001b[39;49m\u001b[43mquote_char\u001b[49m\u001b[43m,\u001b[49m\n\u001b[1;32m    429\u001b[0m \u001b[43m        \u001b[49m\u001b[43mskip_rows\u001b[49m\u001b[38;5;241;43m=\u001b[39;49m\u001b[43mskip_rows\u001b[49m\u001b[43m,\u001b[49m\n\u001b[1;32m    430\u001b[0m \u001b[43m        \u001b[49m\u001b[43mschema_overrides\u001b[49m\u001b[38;5;241;43m=\u001b[39;49m\u001b[43mschema_overrides\u001b[49m\u001b[43m,\u001b[49m\n\u001b[1;32m    431\u001b[0m \u001b[43m        \u001b[49m\u001b[43mschema\u001b[49m\u001b[38;5;241;43m=\u001b[39;49m\u001b[43mschema\u001b[49m\u001b[43m,\u001b[49m\n\u001b[1;32m    432\u001b[0m \u001b[43m        \u001b[49m\u001b[43mnull_values\u001b[49m\u001b[38;5;241;43m=\u001b[39;49m\u001b[43mnull_values\u001b[49m\u001b[43m,\u001b[49m\n\u001b[1;32m    433\u001b[0m \u001b[43m        \u001b[49m\u001b[43mmissing_utf8_is_empty_string\u001b[49m\u001b[38;5;241;43m=\u001b[39;49m\u001b[43mmissing_utf8_is_empty_string\u001b[49m\u001b[43m,\u001b[49m\n\u001b[1;32m    434\u001b[0m \u001b[43m        \u001b[49m\u001b[43mignore_errors\u001b[49m\u001b[38;5;241;43m=\u001b[39;49m\u001b[43mignore_errors\u001b[49m\u001b[43m,\u001b[49m\n\u001b[1;32m    435\u001b[0m \u001b[43m        \u001b[49m\u001b[43mtry_parse_dates\u001b[49m\u001b[38;5;241;43m=\u001b[39;49m\u001b[43mtry_parse_dates\u001b[49m\u001b[43m,\u001b[49m\n\u001b[1;32m    436\u001b[0m \u001b[43m        \u001b[49m\u001b[43mn_threads\u001b[49m\u001b[38;5;241;43m=\u001b[39;49m\u001b[43mn_threads\u001b[49m\u001b[43m,\u001b[49m\n\u001b[1;32m    437\u001b[0m \u001b[43m        \u001b[49m\u001b[43minfer_schema_length\u001b[49m\u001b[38;5;241;43m=\u001b[39;49m\u001b[43minfer_schema_length\u001b[49m\u001b[43m,\u001b[49m\n\u001b[1;32m    438\u001b[0m \u001b[43m        \u001b[49m\u001b[43mbatch_size\u001b[49m\u001b[38;5;241;43m=\u001b[39;49m\u001b[43mbatch_size\u001b[49m\u001b[43m,\u001b[49m\n\u001b[1;32m    439\u001b[0m \u001b[43m        \u001b[49m\u001b[43mn_rows\u001b[49m\u001b[38;5;241;43m=\u001b[39;49m\u001b[43mn_rows\u001b[49m\u001b[43m,\u001b[49m\n\u001b[1;32m    440\u001b[0m \u001b[43m        \u001b[49m\u001b[43mencoding\u001b[49m\u001b[38;5;241;43m=\u001b[39;49m\u001b[43mencoding\u001b[49m\u001b[43m \u001b[49m\u001b[38;5;28;43;01mif\u001b[39;49;00m\u001b[43m \u001b[49m\u001b[43mencoding\u001b[49m\u001b[43m \u001b[49m\u001b[38;5;241;43m==\u001b[39;49m\u001b[43m \u001b[49m\u001b[38;5;124;43m\"\u001b[39;49m\u001b[38;5;124;43mutf8-lossy\u001b[39;49m\u001b[38;5;124;43m\"\u001b[39;49m\u001b[43m \u001b[49m\u001b[38;5;28;43;01melse\u001b[39;49;00m\u001b[43m \u001b[49m\u001b[38;5;124;43m\"\u001b[39;49m\u001b[38;5;124;43mutf8\u001b[39;49m\u001b[38;5;124;43m\"\u001b[39;49m\u001b[43m,\u001b[49m\n\u001b[1;32m    441\u001b[0m \u001b[43m        \u001b[49m\u001b[43mlow_memory\u001b[49m\u001b[38;5;241;43m=\u001b[39;49m\u001b[43mlow_memory\u001b[49m\u001b[43m,\u001b[49m\n\u001b[1;32m    442\u001b[0m \u001b[43m        \u001b[49m\u001b[43mrechunk\u001b[49m\u001b[38;5;241;43m=\u001b[39;49m\u001b[43mrechunk\u001b[49m\u001b[43m,\u001b[49m\n\u001b[1;32m    443\u001b[0m \u001b[43m        \u001b[49m\u001b[43mskip_rows_after_header\u001b[49m\u001b[38;5;241;43m=\u001b[39;49m\u001b[43mskip_rows_after_header\u001b[49m\u001b[43m,\u001b[49m\n\u001b[1;32m    444\u001b[0m \u001b[43m        \u001b[49m\u001b[43mrow_index_name\u001b[49m\u001b[38;5;241;43m=\u001b[39;49m\u001b[43mrow_index_name\u001b[49m\u001b[43m,\u001b[49m\n\u001b[1;32m    445\u001b[0m \u001b[43m        \u001b[49m\u001b[43mrow_index_offset\u001b[49m\u001b[38;5;241;43m=\u001b[39;49m\u001b[43mrow_index_offset\u001b[49m\u001b[43m,\u001b[49m\n\u001b[1;32m    446\u001b[0m \u001b[43m        \u001b[49m\u001b[43msample_size\u001b[49m\u001b[38;5;241;43m=\u001b[39;49m\u001b[43msample_size\u001b[49m\u001b[43m,\u001b[49m\n\u001b[1;32m    447\u001b[0m \u001b[43m        \u001b[49m\u001b[43meol_char\u001b[49m\u001b[38;5;241;43m=\u001b[39;49m\u001b[43meol_char\u001b[49m\u001b[43m,\u001b[49m\n\u001b[1;32m    448\u001b[0m \u001b[43m        \u001b[49m\u001b[43mraise_if_empty\u001b[49m\u001b[38;5;241;43m=\u001b[39;49m\u001b[43mraise_if_empty\u001b[49m\u001b[43m,\u001b[49m\n\u001b[1;32m    449\u001b[0m \u001b[43m        \u001b[49m\u001b[43mtruncate_ragged_lines\u001b[49m\u001b[38;5;241;43m=\u001b[39;49m\u001b[43mtruncate_ragged_lines\u001b[49m\u001b[43m,\u001b[49m\n\u001b[1;32m    450\u001b[0m \u001b[43m        \u001b[49m\u001b[43mdecimal_comma\u001b[49m\u001b[38;5;241;43m=\u001b[39;49m\u001b[43mdecimal_comma\u001b[49m\u001b[43m,\u001b[49m\n\u001b[1;32m    451\u001b[0m \u001b[43m        \u001b[49m\u001b[43mglob\u001b[49m\u001b[38;5;241;43m=\u001b[39;49m\u001b[43mglob\u001b[49m\u001b[43m,\u001b[49m\n\u001b[1;32m    452\u001b[0m \u001b[43m    \u001b[49m\u001b[43m)\u001b[49m\n\u001b[1;32m    454\u001b[0m \u001b[38;5;28;01mif\u001b[39;00m new_columns:\n\u001b[1;32m    455\u001b[0m     \u001b[38;5;28;01mreturn\u001b[39;00m _update_columns(df, new_columns)\n",
      "File \u001b[0;32m~/Library/Caches/pypoetry/virtualenvs/python-polars-the-definitive-guide-b_q50VVY-py3.11/lib/python3.11/site-packages/polars/io/csv/functions.py:568\u001b[0m, in \u001b[0;36m_read_csv_impl\u001b[0;34m(source, has_header, columns, separator, comment_prefix, quote_char, skip_rows, schema, schema_overrides, null_values, missing_utf8_is_empty_string, ignore_errors, try_parse_dates, n_threads, infer_schema_length, batch_size, n_rows, encoding, low_memory, rechunk, skip_rows_after_header, row_index_name, row_index_offset, sample_size, eol_char, raise_if_empty, truncate_ragged_lines, decimal_comma, glob)\u001b[0m\n\u001b[1;32m    564\u001b[0m         \u001b[38;5;28;01mraise\u001b[39;00m \u001b[38;5;167;01mValueError\u001b[39;00m(msg)\n\u001b[1;32m    566\u001b[0m projection, columns \u001b[38;5;241m=\u001b[39m parse_columns_arg(columns)\n\u001b[0;32m--> 568\u001b[0m pydf \u001b[38;5;241m=\u001b[39m \u001b[43mPyDataFrame\u001b[49m\u001b[38;5;241;43m.\u001b[39;49m\u001b[43mread_csv\u001b[49m\u001b[43m(\u001b[49m\n\u001b[1;32m    569\u001b[0m \u001b[43m    \u001b[49m\u001b[43msource\u001b[49m\u001b[43m,\u001b[49m\n\u001b[1;32m    570\u001b[0m \u001b[43m    \u001b[49m\u001b[43minfer_schema_length\u001b[49m\u001b[43m,\u001b[49m\n\u001b[1;32m    571\u001b[0m \u001b[43m    \u001b[49m\u001b[43mbatch_size\u001b[49m\u001b[43m,\u001b[49m\n\u001b[1;32m    572\u001b[0m \u001b[43m    \u001b[49m\u001b[43mhas_header\u001b[49m\u001b[43m,\u001b[49m\n\u001b[1;32m    573\u001b[0m \u001b[43m    \u001b[49m\u001b[43mignore_errors\u001b[49m\u001b[43m,\u001b[49m\n\u001b[1;32m    574\u001b[0m \u001b[43m    \u001b[49m\u001b[43mn_rows\u001b[49m\u001b[43m,\u001b[49m\n\u001b[1;32m    575\u001b[0m \u001b[43m    \u001b[49m\u001b[43mskip_rows\u001b[49m\u001b[43m,\u001b[49m\n\u001b[1;32m    576\u001b[0m \u001b[43m    \u001b[49m\u001b[43mprojection\u001b[49m\u001b[43m,\u001b[49m\n\u001b[1;32m    577\u001b[0m \u001b[43m    \u001b[49m\u001b[43mseparator\u001b[49m\u001b[43m,\u001b[49m\n\u001b[1;32m    578\u001b[0m \u001b[43m    \u001b[49m\u001b[43mrechunk\u001b[49m\u001b[43m,\u001b[49m\n\u001b[1;32m    579\u001b[0m \u001b[43m    \u001b[49m\u001b[43mcolumns\u001b[49m\u001b[43m,\u001b[49m\n\u001b[1;32m    580\u001b[0m \u001b[43m    \u001b[49m\u001b[43mencoding\u001b[49m\u001b[43m,\u001b[49m\n\u001b[1;32m    581\u001b[0m \u001b[43m    \u001b[49m\u001b[43mn_threads\u001b[49m\u001b[43m,\u001b[49m\n\u001b[1;32m    582\u001b[0m \u001b[43m    \u001b[49m\u001b[43mpath\u001b[49m\u001b[43m,\u001b[49m\n\u001b[1;32m    583\u001b[0m \u001b[43m    \u001b[49m\u001b[43mdtype_list\u001b[49m\u001b[43m,\u001b[49m\n\u001b[1;32m    584\u001b[0m \u001b[43m    \u001b[49m\u001b[43mdtype_slice\u001b[49m\u001b[43m,\u001b[49m\n\u001b[1;32m    585\u001b[0m \u001b[43m    \u001b[49m\u001b[43mlow_memory\u001b[49m\u001b[43m,\u001b[49m\n\u001b[1;32m    586\u001b[0m \u001b[43m    \u001b[49m\u001b[43mcomment_prefix\u001b[49m\u001b[43m,\u001b[49m\n\u001b[1;32m    587\u001b[0m \u001b[43m    \u001b[49m\u001b[43mquote_char\u001b[49m\u001b[43m,\u001b[49m\n\u001b[1;32m    588\u001b[0m \u001b[43m    \u001b[49m\u001b[43mprocessed_null_values\u001b[49m\u001b[43m,\u001b[49m\n\u001b[1;32m    589\u001b[0m \u001b[43m    \u001b[49m\u001b[43mmissing_utf8_is_empty_string\u001b[49m\u001b[43m,\u001b[49m\n\u001b[1;32m    590\u001b[0m \u001b[43m    \u001b[49m\u001b[43mtry_parse_dates\u001b[49m\u001b[43m,\u001b[49m\n\u001b[1;32m    591\u001b[0m \u001b[43m    \u001b[49m\u001b[43mskip_rows_after_header\u001b[49m\u001b[43m,\u001b[49m\n\u001b[1;32m    592\u001b[0m \u001b[43m    \u001b[49m\u001b[43mparse_row_index_args\u001b[49m\u001b[43m(\u001b[49m\u001b[43mrow_index_name\u001b[49m\u001b[43m,\u001b[49m\u001b[43m \u001b[49m\u001b[43mrow_index_offset\u001b[49m\u001b[43m)\u001b[49m\u001b[43m,\u001b[49m\n\u001b[1;32m    593\u001b[0m \u001b[43m    \u001b[49m\u001b[43msample_size\u001b[49m\u001b[38;5;241;43m=\u001b[39;49m\u001b[43msample_size\u001b[49m\u001b[43m,\u001b[49m\n\u001b[1;32m    594\u001b[0m \u001b[43m    \u001b[49m\u001b[43meol_char\u001b[49m\u001b[38;5;241;43m=\u001b[39;49m\u001b[43meol_char\u001b[49m\u001b[43m,\u001b[49m\n\u001b[1;32m    595\u001b[0m \u001b[43m    \u001b[49m\u001b[43mraise_if_empty\u001b[49m\u001b[38;5;241;43m=\u001b[39;49m\u001b[43mraise_if_empty\u001b[49m\u001b[43m,\u001b[49m\n\u001b[1;32m    596\u001b[0m \u001b[43m    \u001b[49m\u001b[43mtruncate_ragged_lines\u001b[49m\u001b[38;5;241;43m=\u001b[39;49m\u001b[43mtruncate_ragged_lines\u001b[49m\u001b[43m,\u001b[49m\n\u001b[1;32m    597\u001b[0m \u001b[43m    \u001b[49m\u001b[43mdecimal_comma\u001b[49m\u001b[38;5;241;43m=\u001b[39;49m\u001b[43mdecimal_comma\u001b[49m\u001b[43m,\u001b[49m\n\u001b[1;32m    598\u001b[0m \u001b[43m    \u001b[49m\u001b[43mschema\u001b[49m\u001b[38;5;241;43m=\u001b[39;49m\u001b[43mschema\u001b[49m\u001b[43m,\u001b[49m\n\u001b[1;32m    599\u001b[0m \u001b[43m\u001b[49m\u001b[43m)\u001b[49m\n\u001b[1;32m    600\u001b[0m \u001b[38;5;28;01mreturn\u001b[39;00m wrap_df(pydf)\n",
      "\u001b[0;31mFileNotFoundError\u001b[0m: No such file or directory (os error 2): data/sales_data.csv"
     ]
    }
   ],
   "source": [
    "df = pl.read_csv(\"data/sales_data.csv\")\n",
    "df.columns"
   ]
  },
  {
   "cell_type": "code",
   "execution_count": 9,
   "id": "9dfaa0a2",
   "metadata": {},
   "outputs": [
    {
     "ename": "NameError",
     "evalue": "name 'df' is not defined",
     "output_type": "error",
     "traceback": [
      "\u001b[0;31m---------------------------------------------------------------------------\u001b[0m",
      "\u001b[0;31mNameError\u001b[0m                                 Traceback (most recent call last)",
      "Cell \u001b[0;32mIn[8], line 2\u001b[0m\n\u001b[1;32m      1\u001b[0m (\n\u001b[0;32m----> 2\u001b[0m     \u001b[43mdf\u001b[49m\n\u001b[1;32m      3\u001b[0m     \u001b[38;5;241m.\u001b[39mselect(\u001b[38;5;124m\"\u001b[39m\u001b[38;5;124mProduct_Category\u001b[39m\u001b[38;5;124m\"\u001b[39m, \u001b[38;5;124m\"\u001b[39m\u001b[38;5;124mSub_Category\u001b[39m\u001b[38;5;124m\"\u001b[39m, \u001b[38;5;124m\"\u001b[39m\u001b[38;5;124mUnit_Price\u001b[39m\u001b[38;5;124m\"\u001b[39m)  \u001b[38;5;66;03m# <1>\u001b[39;00m\n\u001b[1;32m      4\u001b[0m     \u001b[38;5;241m.\u001b[39mgroup_by(\u001b[38;5;124m\"\u001b[39m\u001b[38;5;124mProduct_Category\u001b[39m\u001b[38;5;124m\"\u001b[39m, \u001b[38;5;124m\"\u001b[39m\u001b[38;5;124mSub_Category\u001b[39m\u001b[38;5;124m\"\u001b[39m)  \u001b[38;5;66;03m# <2>\u001b[39;00m\n\u001b[1;32m      5\u001b[0m     \u001b[38;5;241m.\u001b[39mmax()\n\u001b[1;32m      6\u001b[0m     \u001b[38;5;241m.\u001b[39msort(\u001b[38;5;124m\"\u001b[39m\u001b[38;5;124mUnit_Price\u001b[39m\u001b[38;5;124m\"\u001b[39m, descending\u001b[38;5;241m=\u001b[39m\u001b[38;5;28;01mTrue\u001b[39;00m)  \u001b[38;5;66;03m# <3>\u001b[39;00m\n\u001b[1;32m      7\u001b[0m     \u001b[38;5;241m.\u001b[39mhead(\u001b[38;5;241m10\u001b[39m)\n\u001b[1;32m      8\u001b[0m )\n",
      "\u001b[0;31mNameError\u001b[0m: name 'df' is not defined"
     ]
    }
   ],
   "source": [
    "(\n",
    "    df\n",
    "    .select(\"Product_Category\", \"Sub_Category\", \"Unit_Price\")  # <1>\n",
    "    .group_by(\"Product_Category\", \"Sub_Category\")  # <2>\n",
    "    .max()\n",
    "    .sort(\"Unit_Price\", descending=True)  # <3>\n",
    "    .head(10)\n",
    ")"
   ]
  },
  {
   "cell_type": "code",
   "execution_count": 10,
   "id": "1a07c734",
   "metadata": {},
   "outputs": [
    {
     "ename": "NameError",
     "evalue": "name 'df' is not defined",
     "output_type": "error",
     "traceback": [
      "\u001b[0;31m---------------------------------------------------------------------------\u001b[0m",
      "\u001b[0;31mNameError\u001b[0m                                 Traceback (most recent call last)",
      "Cell \u001b[0;32mIn[9], line 2\u001b[0m\n\u001b[1;32m      1\u001b[0m (\n\u001b[0;32m----> 2\u001b[0m     \u001b[43mdf\u001b[49m\n\u001b[1;32m      3\u001b[0m     \u001b[38;5;241m.\u001b[39mselect(\u001b[38;5;124m\"\u001b[39m\u001b[38;5;124mCountry\u001b[39m\u001b[38;5;124m\"\u001b[39m, \u001b[38;5;124m\"\u001b[39m\u001b[38;5;124mProfit\u001b[39m\u001b[38;5;124m\"\u001b[39m)\n\u001b[1;32m      4\u001b[0m     \u001b[38;5;241m.\u001b[39mgroup_by(\u001b[38;5;124m\"\u001b[39m\u001b[38;5;124mCountry\u001b[39m\u001b[38;5;124m\"\u001b[39m)\n\u001b[1;32m      5\u001b[0m     \u001b[38;5;241m.\u001b[39msum()\n\u001b[1;32m      6\u001b[0m     \u001b[38;5;241m.\u001b[39msort(\u001b[38;5;124m\"\u001b[39m\u001b[38;5;124mProfit\u001b[39m\u001b[38;5;124m\"\u001b[39m, descending\u001b[38;5;241m=\u001b[39m\u001b[38;5;28;01mTrue\u001b[39;00m)\n\u001b[1;32m      7\u001b[0m )\n",
      "\u001b[0;31mNameError\u001b[0m: name 'df' is not defined"
     ]
    }
   ],
   "source": [
    "(\n",
    "    df\n",
    "    .select(\"Country\", \"Profit\")\n",
    "    .group_by(\"Country\")\n",
    "    .sum()\n",
    "    .sort(\"Profit\", descending=True)\n",
    ")"
   ]
  },
  {
   "cell_type": "code",
   "execution_count": 11,
   "id": "a3e0a3eb",
   "metadata": {},
   "outputs": [
    {
     "ename": "NameError",
     "evalue": "name 'df' is not defined",
     "output_type": "error",
     "traceback": [
      "\u001b[0;31m---------------------------------------------------------------------------\u001b[0m",
      "\u001b[0;31mNameError\u001b[0m                                 Traceback (most recent call last)",
      "Cell \u001b[0;32mIn[10], line 2\u001b[0m\n\u001b[1;32m      1\u001b[0m (\n\u001b[0;32m----> 2\u001b[0m     \u001b[43mdf\u001b[49m\n\u001b[1;32m      3\u001b[0m     \u001b[38;5;241m.\u001b[39mselect(\u001b[38;5;124m\"\u001b[39m\u001b[38;5;124mSub_Category\u001b[39m\u001b[38;5;124m\"\u001b[39m, \u001b[38;5;124m\"\u001b[39m\u001b[38;5;124mProduct\u001b[39m\u001b[38;5;124m\"\u001b[39m)\n\u001b[1;32m      4\u001b[0m     \u001b[38;5;241m.\u001b[39mgroup_by(\u001b[38;5;124m\"\u001b[39m\u001b[38;5;124mSub_Category\u001b[39m\u001b[38;5;124m\"\u001b[39m)\n\u001b[1;32m      5\u001b[0m     \u001b[38;5;241m.\u001b[39mn_unique()\n\u001b[1;32m      6\u001b[0m     \u001b[38;5;241m.\u001b[39msort(\u001b[38;5;124m\"\u001b[39m\u001b[38;5;124mProduct\u001b[39m\u001b[38;5;124m\"\u001b[39m, descending\u001b[38;5;241m=\u001b[39m\u001b[38;5;28;01mTrue\u001b[39;00m)\n\u001b[1;32m      7\u001b[0m     \u001b[38;5;241m.\u001b[39mhead(\u001b[38;5;241m10\u001b[39m)\n\u001b[1;32m      8\u001b[0m )\n",
      "\u001b[0;31mNameError\u001b[0m: name 'df' is not defined"
     ]
    }
   ],
   "source": [
    "(\n",
    "    df\n",
    "    .select(\"Sub_Category\", \"Product\")\n",
    "    .group_by(\"Sub_Category\")\n",
    "    .n_unique()\n",
    "    .sort(\"Product\", descending=True)\n",
    "    .head(10)\n",
    ")"
   ]
  },
  {
   "cell_type": "code",
   "execution_count": 12,
   "id": "a721f249",
   "metadata": {},
   "outputs": [
    {
     "ename": "NameError",
     "evalue": "name 'df' is not defined",
     "output_type": "error",
     "traceback": [
      "\u001b[0;31m---------------------------------------------------------------------------\u001b[0m",
      "\u001b[0;31mNameError\u001b[0m                                 Traceback (most recent call last)",
      "Cell \u001b[0;32mIn[11], line 2\u001b[0m\n\u001b[1;32m      1\u001b[0m (\n\u001b[0;32m----> 2\u001b[0m     \u001b[43mdf\u001b[49m\n\u001b[1;32m      3\u001b[0m     \u001b[38;5;241m.\u001b[39mselect(\u001b[38;5;124m\"\u001b[39m\u001b[38;5;124mAge_Group\u001b[39m\u001b[38;5;124m\"\u001b[39m, \u001b[38;5;124m\"\u001b[39m\u001b[38;5;124mOrder_Quantity\u001b[39m\u001b[38;5;124m\"\u001b[39m)\n\u001b[1;32m      4\u001b[0m     \u001b[38;5;241m.\u001b[39mgroup_by(\u001b[38;5;124m\"\u001b[39m\u001b[38;5;124mAge_Group\u001b[39m\u001b[38;5;124m\"\u001b[39m)\n\u001b[1;32m      5\u001b[0m     \u001b[38;5;241m.\u001b[39mmean()\n\u001b[1;32m      6\u001b[0m     \u001b[38;5;241m.\u001b[39msort(\u001b[38;5;124m\"\u001b[39m\u001b[38;5;124mOrder_Quantity\u001b[39m\u001b[38;5;124m\"\u001b[39m, descending\u001b[38;5;241m=\u001b[39m\u001b[38;5;28;01mTrue\u001b[39;00m)\n\u001b[1;32m      7\u001b[0m )\n",
      "\u001b[0;31mNameError\u001b[0m: name 'df' is not defined"
     ]
    }
   ],
   "source": [
    "(\n",
    "    df\n",
    "    .select(\"Age_Group\", \"Order_Quantity\")\n",
    "    .group_by(\"Age_Group\")\n",
    "    .mean()\n",
    "    .sort(\"Order_Quantity\", descending=True)\n",
    ")"
   ]
  },
  {
   "cell_type": "code",
   "execution_count": 13,
   "id": "1c2b157e",
   "metadata": {},
   "outputs": [
    {
     "ename": "NameError",
     "evalue": "name 'df' is not defined",
     "output_type": "error",
     "traceback": [
      "\u001b[0;31m---------------------------------------------------------------------------\u001b[0m",
      "\u001b[0;31mNameError\u001b[0m                                 Traceback (most recent call last)",
      "Cell \u001b[0;32mIn[12], line 2\u001b[0m\n\u001b[1;32m      1\u001b[0m (\n\u001b[0;32m----> 2\u001b[0m     \u001b[43mdf\u001b[49m\n\u001b[1;32m      3\u001b[0m     \u001b[38;5;241m.\u001b[39mselect(\u001b[38;5;124m\"\u001b[39m\u001b[38;5;124mAge_Group\u001b[39m\u001b[38;5;124m\"\u001b[39m, \u001b[38;5;124m\"\u001b[39m\u001b[38;5;124mRevenue\u001b[39m\u001b[38;5;124m\"\u001b[39m)\n\u001b[1;32m      4\u001b[0m     \u001b[38;5;241m.\u001b[39mgroup_by(\u001b[38;5;124m\"\u001b[39m\u001b[38;5;124mAge_Group\u001b[39m\u001b[38;5;124m\"\u001b[39m)\n\u001b[1;32m      5\u001b[0m     \u001b[38;5;241m.\u001b[39mquantile(\u001b[38;5;241m0.9\u001b[39m)\n\u001b[1;32m      6\u001b[0m     \u001b[38;5;241m.\u001b[39msort(\u001b[38;5;124m\"\u001b[39m\u001b[38;5;124mRevenue\u001b[39m\u001b[38;5;124m\"\u001b[39m, descending\u001b[38;5;241m=\u001b[39m\u001b[38;5;28;01mTrue\u001b[39;00m)\n\u001b[1;32m      7\u001b[0m )\n",
      "\u001b[0;31mNameError\u001b[0m: name 'df' is not defined"
     ]
    }
   ],
   "source": [
    "(\n",
    "    df\n",
    "    .select(\"Age_Group\", \"Revenue\")\n",
    "    .group_by(\"Age_Group\")\n",
    "    .quantile(0.9)\n",
    "    .sort(\"Revenue\", descending=True)\n",
    ")"
   ]
  },
  {
   "cell_type": "markdown",
   "id": "42c9a5b6",
   "metadata": {},
   "source": [
    "### The Advanced"
   ]
  },
  {
   "cell_type": "code",
   "execution_count": 15,
   "id": "1230b52c",
   "metadata": {},
   "outputs": [
    {
     "ename": "NameError",
     "evalue": "name 'df' is not defined",
     "output_type": "error",
     "traceback": [
      "\u001b[0;31m---------------------------------------------------------------------------\u001b[0m",
      "\u001b[0;31mNameError\u001b[0m                                 Traceback (most recent call last)",
      "Cell \u001b[0;32mIn[13], line 2\u001b[0m\n\u001b[1;32m      1\u001b[0m (\n\u001b[0;32m----> 2\u001b[0m     \u001b[43mdf\u001b[49m\n\u001b[1;32m      3\u001b[0m     \u001b[38;5;241m.\u001b[39mselect(\u001b[38;5;124m\"\u001b[39m\u001b[38;5;124mCountry\u001b[39m\u001b[38;5;124m\"\u001b[39m, \u001b[38;5;124m\"\u001b[39m\u001b[38;5;124mProfit\u001b[39m\u001b[38;5;124m\"\u001b[39m, \u001b[38;5;124m\"\u001b[39m\u001b[38;5;124mRevenue\u001b[39m\u001b[38;5;124m\"\u001b[39m)\n\u001b[1;32m      4\u001b[0m     \u001b[38;5;241m.\u001b[39mgroup_by(\u001b[38;5;124m\"\u001b[39m\u001b[38;5;124mCountry\u001b[39m\u001b[38;5;124m\"\u001b[39m)\n\u001b[1;32m      5\u001b[0m     \u001b[38;5;241m.\u001b[39magg(\n\u001b[1;32m      6\u001b[0m         pl\u001b[38;5;241m.\u001b[39mcol(\u001b[38;5;124m\"\u001b[39m\u001b[38;5;124mProfit\u001b[39m\u001b[38;5;124m\"\u001b[39m),\n\u001b[1;32m      7\u001b[0m         pl\u001b[38;5;241m.\u001b[39mcol(\u001b[38;5;124m\"\u001b[39m\u001b[38;5;124mRevenue\u001b[39m\u001b[38;5;124m\"\u001b[39m),\n\u001b[1;32m      8\u001b[0m     )\n\u001b[1;32m      9\u001b[0m )\n",
      "\u001b[0;31mNameError\u001b[0m: name 'df' is not defined"
     ]
    }
   ],
   "source": [
    "(\n",
    "    df\n",
    "    .select(\"Country\", \"Profit\", \"Revenue\")\n",
    "    .group_by(\"Country\")\n",
    "    .agg(\n",
    "        pl.col(\"Profit\"),\n",
    "        pl.col(\"Revenue\"),\n",
    "    )\n",
    ")"
   ]
  },
  {
   "cell_type": "code",
   "execution_count": 16,
   "id": "87cc3b23",
   "metadata": {},
   "outputs": [
    {
     "ename": "NameError",
     "evalue": "name 'df' is not defined",
     "output_type": "error",
     "traceback": [
      "\u001b[0;31m---------------------------------------------------------------------------\u001b[0m",
      "\u001b[0;31mNameError\u001b[0m                                 Traceback (most recent call last)",
      "Cell \u001b[0;32mIn[14], line 2\u001b[0m\n\u001b[1;32m      1\u001b[0m (\n\u001b[0;32m----> 2\u001b[0m     \u001b[43mdf\u001b[49m\n\u001b[1;32m      3\u001b[0m     \u001b[38;5;241m.\u001b[39mselect(\u001b[38;5;124m\"\u001b[39m\u001b[38;5;124mCountry\u001b[39m\u001b[38;5;124m\"\u001b[39m, \u001b[38;5;124m\"\u001b[39m\u001b[38;5;124mProfit\u001b[39m\u001b[38;5;124m\"\u001b[39m, \u001b[38;5;124m\"\u001b[39m\u001b[38;5;124mRevenue\u001b[39m\u001b[38;5;124m\"\u001b[39m)\n\u001b[1;32m      4\u001b[0m     \u001b[38;5;241m.\u001b[39mgroup_by(\u001b[38;5;124m\"\u001b[39m\u001b[38;5;124mCountry\u001b[39m\u001b[38;5;124m\"\u001b[39m)\n\u001b[1;32m      5\u001b[0m     \u001b[38;5;241m.\u001b[39magg(\n\u001b[1;32m      6\u001b[0m         pl\u001b[38;5;241m.\u001b[39mcol(\u001b[38;5;124m\"\u001b[39m\u001b[38;5;124mProfit\u001b[39m\u001b[38;5;124m\"\u001b[39m)\u001b[38;5;241m.\u001b[39malias(\u001b[38;5;124m\"\u001b[39m\u001b[38;5;124mAll Profits Per Transactions\u001b[39m\u001b[38;5;124m\"\u001b[39m),\n\u001b[1;32m      7\u001b[0m         pl\u001b[38;5;241m.\u001b[39mcol(\u001b[38;5;124m\"\u001b[39m\u001b[38;5;124mRevenue\u001b[39m\u001b[38;5;124m\"\u001b[39m)\u001b[38;5;241m.\u001b[39mname\u001b[38;5;241m.\u001b[39mprefix(\u001b[38;5;124m\"\u001b[39m\u001b[38;5;124mAll \u001b[39m\u001b[38;5;124m\"\u001b[39m),\n\u001b[1;32m      8\u001b[0m     )\n\u001b[1;32m      9\u001b[0m )\n",
      "\u001b[0;31mNameError\u001b[0m: name 'df' is not defined"
     ]
    }
   ],
   "source": [
    "(\n",
    "    df\n",
    "    .select(\"Country\", \"Profit\", \"Revenue\")\n",
    "    .group_by(\"Country\")\n",
    "    .agg(\n",
    "        pl.col(\"Profit\").alias(\"All Profits Per Transactions\"),\n",
    "        pl.col(\"Revenue\").name.prefix(\"All \"),\n",
    "    )\n",
    ")"
   ]
  },
  {
   "cell_type": "code",
   "execution_count": 17,
   "id": "1f6a9c00",
   "metadata": {},
   "outputs": [
    {
     "ename": "NameError",
     "evalue": "name 'df' is not defined",
     "output_type": "error",
     "traceback": [
      "\u001b[0;31m---------------------------------------------------------------------------\u001b[0m",
      "\u001b[0;31mNameError\u001b[0m                                 Traceback (most recent call last)",
      "Cell \u001b[0;32mIn[15], line 2\u001b[0m\n\u001b[1;32m      1\u001b[0m (\n\u001b[0;32m----> 2\u001b[0m     \u001b[43mdf\u001b[49m\n\u001b[1;32m      3\u001b[0m     \u001b[38;5;241m.\u001b[39mselect(\u001b[38;5;124m\"\u001b[39m\u001b[38;5;124mCountry\u001b[39m\u001b[38;5;124m\"\u001b[39m, \u001b[38;5;124m\"\u001b[39m\u001b[38;5;124mProfit\u001b[39m\u001b[38;5;124m\"\u001b[39m, \u001b[38;5;124m\"\u001b[39m\u001b[38;5;124mRevenue\u001b[39m\u001b[38;5;124m\"\u001b[39m)\n\u001b[1;32m      4\u001b[0m     \u001b[38;5;241m.\u001b[39mgroup_by(\u001b[38;5;124m\"\u001b[39m\u001b[38;5;124mCountry\u001b[39m\u001b[38;5;124m\"\u001b[39m)\n\u001b[1;32m      5\u001b[0m     \u001b[38;5;241m.\u001b[39magg(\n\u001b[1;32m      6\u001b[0m         pl\u001b[38;5;241m.\u001b[39mcol(\u001b[38;5;124m\"\u001b[39m\u001b[38;5;124mProfit\u001b[39m\u001b[38;5;124m\"\u001b[39m)\u001b[38;5;241m.\u001b[39msum()\u001b[38;5;241m.\u001b[39malias(\u001b[38;5;124m\"\u001b[39m\u001b[38;5;124mTotal Profit\u001b[39m\u001b[38;5;124m\"\u001b[39m),\n\u001b[1;32m      7\u001b[0m         pl\u001b[38;5;241m.\u001b[39mcol(\u001b[38;5;124m\"\u001b[39m\u001b[38;5;124mProfit\u001b[39m\u001b[38;5;124m\"\u001b[39m)\u001b[38;5;241m.\u001b[39mmean()\u001b[38;5;241m.\u001b[39malias(\u001b[38;5;124m\"\u001b[39m\u001b[38;5;124mAverage Profit per Transaction\u001b[39m\u001b[38;5;124m\"\u001b[39m),\n\u001b[1;32m      8\u001b[0m         pl\u001b[38;5;241m.\u001b[39mcol(\u001b[38;5;124m\"\u001b[39m\u001b[38;5;124mRevenue\u001b[39m\u001b[38;5;124m\"\u001b[39m)\u001b[38;5;241m.\u001b[39msum()\u001b[38;5;241m.\u001b[39malias(\u001b[38;5;124m\"\u001b[39m\u001b[38;5;124mTotal Revenue\u001b[39m\u001b[38;5;124m\"\u001b[39m),\n\u001b[1;32m      9\u001b[0m         pl\u001b[38;5;241m.\u001b[39mcol(\u001b[38;5;124m\"\u001b[39m\u001b[38;5;124mRevenue\u001b[39m\u001b[38;5;124m\"\u001b[39m)\u001b[38;5;241m.\u001b[39mmean()\u001b[38;5;241m.\u001b[39malias(\u001b[38;5;124m\"\u001b[39m\u001b[38;5;124mAverage Revenue per Transaction\u001b[39m\u001b[38;5;124m\"\u001b[39m),\n\u001b[1;32m     10\u001b[0m     )\n\u001b[1;32m     11\u001b[0m )\n",
      "\u001b[0;31mNameError\u001b[0m: name 'df' is not defined"
     ]
    }
   ],
   "source": [
    "(\n",
    "    df\n",
    "    .select(\"Country\", \"Profit\", \"Revenue\")\n",
    "    .group_by(\"Country\")\n",
    "    .agg(\n",
    "        pl.col(\"Profit\").sum().alias(\"Total Profit\"),\n",
    "        pl.col(\"Profit\").mean().alias(\"Average Profit per Transaction\"),\n",
    "        pl.col(\"Revenue\").sum().alias(\"Total Revenue\"),\n",
    "        pl.col(\"Revenue\").mean().alias(\"Average Revenue per Transaction\"),\n",
    "    )\n",
    ")"
   ]
  },
  {
   "cell_type": "code",
   "execution_count": 18,
   "id": "f1127e2f",
   "metadata": {},
   "outputs": [
    {
     "ename": "NameError",
     "evalue": "name 'df' is not defined",
     "output_type": "error",
     "traceback": [
      "\u001b[0;31m---------------------------------------------------------------------------\u001b[0m",
      "\u001b[0;31mNameError\u001b[0m                                 Traceback (most recent call last)",
      "Cell \u001b[0;32mIn[16], line 2\u001b[0m\n\u001b[1;32m      1\u001b[0m (\n\u001b[0;32m----> 2\u001b[0m     \u001b[43mdf\u001b[49m\n\u001b[1;32m      3\u001b[0m     \u001b[38;5;241m.\u001b[39mselect(\u001b[38;5;124m\"\u001b[39m\u001b[38;5;124mCountry\u001b[39m\u001b[38;5;124m\"\u001b[39m, \u001b[38;5;124m\"\u001b[39m\u001b[38;5;124mProfit\u001b[39m\u001b[38;5;124m\"\u001b[39m, \u001b[38;5;124m\"\u001b[39m\u001b[38;5;124mRevenue\u001b[39m\u001b[38;5;124m\"\u001b[39m)\n\u001b[1;32m      4\u001b[0m     \u001b[38;5;241m.\u001b[39mgroup_by(\u001b[38;5;124m\"\u001b[39m\u001b[38;5;124mCountry\u001b[39m\u001b[38;5;124m\"\u001b[39m)\n\u001b[1;32m      5\u001b[0m     \u001b[38;5;241m.\u001b[39magg(\n\u001b[1;32m      6\u001b[0m         pl\u001b[38;5;241m.\u001b[39mall()\u001b[38;5;241m.\u001b[39msum()\u001b[38;5;241m.\u001b[39mname\u001b[38;5;241m.\u001b[39mprefix(\u001b[38;5;124m\"\u001b[39m\u001b[38;5;124mTotal \u001b[39m\u001b[38;5;124m\"\u001b[39m),\n\u001b[1;32m      7\u001b[0m         pl\u001b[38;5;241m.\u001b[39mall()\u001b[38;5;241m.\u001b[39mmean()\u001b[38;5;241m.\u001b[39mname\u001b[38;5;241m.\u001b[39mprefix(\u001b[38;5;124m\"\u001b[39m\u001b[38;5;124mAverage \u001b[39m\u001b[38;5;124m\"\u001b[39m),\n\u001b[1;32m      8\u001b[0m     )\n\u001b[1;32m      9\u001b[0m )\n",
      "\u001b[0;31mNameError\u001b[0m: name 'df' is not defined"
     ]
    }
   ],
   "source": [
    "(\n",
    "    df\n",
    "    .select(\"Country\", \"Profit\", \"Revenue\")\n",
    "    .group_by(\"Country\")\n",
    "    .agg(\n",
    "        pl.all().sum().name.prefix(\"Total \"),\n",
    "        pl.all().mean().name.prefix(\"Average \"),\n",
    "    )\n",
    ")"
   ]
  },
  {
   "cell_type": "code",
   "execution_count": 19,
   "id": "0d3a6e5d",
   "metadata": {},
   "outputs": [
    {
     "ename": "NameError",
     "evalue": "name 'df' is not defined",
     "output_type": "error",
     "traceback": [
      "\u001b[0;31m---------------------------------------------------------------------------\u001b[0m",
      "\u001b[0;31mNameError\u001b[0m                                 Traceback (most recent call last)",
      "Cell \u001b[0;32mIn[17], line 2\u001b[0m\n\u001b[1;32m      1\u001b[0m (\n\u001b[0;32m----> 2\u001b[0m     \u001b[43mdf\u001b[49m\n\u001b[1;32m      3\u001b[0m     \u001b[38;5;241m.\u001b[39mselect(\u001b[38;5;124m\"\u001b[39m\u001b[38;5;124mCountry\u001b[39m\u001b[38;5;124m\"\u001b[39m, \u001b[38;5;124m\"\u001b[39m\u001b[38;5;124mProfit\u001b[39m\u001b[38;5;124m\"\u001b[39m)\n\u001b[1;32m      4\u001b[0m     \u001b[38;5;241m.\u001b[39mgroup_by(\u001b[38;5;124m\"\u001b[39m\u001b[38;5;124mCountry\u001b[39m\u001b[38;5;124m\"\u001b[39m)\n\u001b[1;32m      5\u001b[0m     \u001b[38;5;241m.\u001b[39magg(\n\u001b[1;32m      6\u001b[0m         (pl\u001b[38;5;241m.\u001b[39mcol(\u001b[38;5;124m\"\u001b[39m\u001b[38;5;124mProfit\u001b[39m\u001b[38;5;124m\"\u001b[39m) \u001b[38;5;241m>\u001b[39m \u001b[38;5;241m1000\u001b[39m)\n\u001b[1;32m      7\u001b[0m         \u001b[38;5;241m.\u001b[39malias(\u001b[38;5;124m\"\u001b[39m\u001b[38;5;124mProfit > 1000\u001b[39m\u001b[38;5;124m\"\u001b[39m),\n\u001b[1;32m      8\u001b[0m         (pl\u001b[38;5;241m.\u001b[39mcol(\u001b[38;5;124m\"\u001b[39m\u001b[38;5;124mProfit\u001b[39m\u001b[38;5;124m\"\u001b[39m) \u001b[38;5;241m>\u001b[39m \u001b[38;5;241m1000\u001b[39m)\n\u001b[1;32m      9\u001b[0m         \u001b[38;5;241m.\u001b[39msum()\n\u001b[1;32m     10\u001b[0m         \u001b[38;5;241m.\u001b[39malias(\u001b[38;5;124m\"\u001b[39m\u001b[38;5;124mNumber of Transactions with Profit > 1000\u001b[39m\u001b[38;5;124m\"\u001b[39m),\n\u001b[1;32m     11\u001b[0m     )\n\u001b[1;32m     12\u001b[0m )\n",
      "\u001b[0;31mNameError\u001b[0m: name 'df' is not defined"
     ]
    }
   ],
   "source": [
    "(\n",
    "    df\n",
    "    .select(\"Country\", \"Profit\")\n",
    "    .group_by(\"Country\")\n",
    "    .agg(\n",
    "        (pl.col(\"Profit\") > 1000)\n",
    "        .alias(\"Profit > 1000\"),\n",
    "        (pl.col(\"Profit\") > 1000)\n",
    "        .sum()\n",
    "        .alias(\"Number of Transactions with Profit > 1000\"),\n",
    "    )\n",
    ")"
   ]
  },
  {
   "cell_type": "code",
   "execution_count": 20,
   "id": "7104683e",
   "metadata": {},
   "outputs": [
    {
     "ename": "NameError",
     "evalue": "name 'df' is not defined",
     "output_type": "error",
     "traceback": [
      "\u001b[0;31m---------------------------------------------------------------------------\u001b[0m",
      "\u001b[0;31mNameError\u001b[0m                                 Traceback (most recent call last)",
      "Cell \u001b[0;32mIn[18], line 5\u001b[0m\n\u001b[1;32m      1\u001b[0m \u001b[38;5;28;01mdef\u001b[39;00m \u001b[38;5;21mcustom_agg\u001b[39m(column: \u001b[38;5;28mstr\u001b[39m) \u001b[38;5;241m-\u001b[39m\u001b[38;5;241m>\u001b[39m pl\u001b[38;5;241m.\u001b[39mExpr:\n\u001b[1;32m      2\u001b[0m     \u001b[38;5;28;01mreturn\u001b[39;00m (column \u001b[38;5;241m>\u001b[39m \u001b[38;5;241m1000\u001b[39m)\u001b[38;5;241m.\u001b[39malias(\u001b[38;5;124m\"\u001b[39m\u001b[38;5;124mProfit > 1000\u001b[39m\u001b[38;5;124m\"\u001b[39m), (column \u001b[38;5;241m>\u001b[39m \u001b[38;5;241m1000\u001b[39m)\u001b[38;5;241m.\u001b[39msum()\u001b[38;5;241m.\u001b[39malias(\u001b[38;5;124m\"\u001b[39m\u001b[38;5;124mNumber of Transactions with Profit > 1000\u001b[39m\u001b[38;5;124m\"\u001b[39m)\n\u001b[1;32m      4\u001b[0m (\n\u001b[0;32m----> 5\u001b[0m     \u001b[43mdf\u001b[49m\n\u001b[1;32m      6\u001b[0m     \u001b[38;5;241m.\u001b[39mselect(\u001b[38;5;124m\"\u001b[39m\u001b[38;5;124mCountry\u001b[39m\u001b[38;5;124m\"\u001b[39m, \u001b[38;5;124m\"\u001b[39m\u001b[38;5;124mProfit\u001b[39m\u001b[38;5;124m\"\u001b[39m)\n\u001b[1;32m      7\u001b[0m     \u001b[38;5;241m.\u001b[39mgroup_by(\u001b[38;5;124m\"\u001b[39m\u001b[38;5;124mCountry\u001b[39m\u001b[38;5;124m\"\u001b[39m)\n\u001b[1;32m      8\u001b[0m     \u001b[38;5;241m.\u001b[39magg(\n\u001b[1;32m      9\u001b[0m         custom_agg(pl\u001b[38;5;241m.\u001b[39mcol(\u001b[38;5;124m\"\u001b[39m\u001b[38;5;124mProfit\u001b[39m\u001b[38;5;124m\"\u001b[39m))\n\u001b[1;32m     10\u001b[0m     )\n\u001b[1;32m     11\u001b[0m )\n",
      "\u001b[0;31mNameError\u001b[0m: name 'df' is not defined"
     ]
    }
   ],
   "source": [
    "def custom_agg(column: str) -> pl.Expr:\n",
    "    return (column > 1000).alias(\"Profit > 1000\"), (column > 1000).sum().alias(\"Number of Transactions with Profit > 1000\")\n",
    "\n",
    "(\n",
    "    df\n",
    "    .select(\"Country\", \"Profit\")\n",
    "    .group_by(\"Country\")\n",
    "    .agg(\n",
    "        custom_agg(pl.col(\"Profit\"))\n",
    "    )\n",
    ")"
   ]
  },
  {
   "cell_type": "markdown",
   "id": "f3e81cc9",
   "metadata": {},
   "source": [
    "### User-Defined Functions"
   ]
  },
  {
   "cell_type": "code",
   "execution_count": 22,
   "id": "b4fd7eac",
   "metadata": {},
   "outputs": [
    {
     "data": {
      "text/html": [
       "<div><style>\n",
       ".dataframe > thead > tr,\n",
       ".dataframe > tbody > tr {\n",
       "  text-align: right;\n",
       "  white-space: pre-wrap;\n",
       "}\n",
       "</style>\n",
       "<small>shape: (4, 2)</small><table border=\"1\" class=\"dataframe\"><thead><tr><th>reviews</th><th>sentiment_score</th></tr><tr><td>str</td><td>f64</td></tr></thead><tbody><tr><td>&quot;This product is great!&quot;</td><td>1.0</td></tr><tr><td>&quot;Terrible service.&quot;</td><td>-1.0</td></tr><tr><td>&quot;Okay, but not what I expected.&quot;</td><td>0.2</td></tr><tr><td>&quot;Excellent! I love it.&quot;</td><td>0.75</td></tr></tbody></table></div>"
      ],
      "text/plain": [
       "shape: (4, 2)\n",
       "┌────────────────────────────────┬─────────────────┐\n",
       "│ reviews                        ┆ sentiment_score │\n",
       "│ ---                            ┆ ---             │\n",
       "│ str                            ┆ f64             │\n",
       "╞════════════════════════════════╪═════════════════╡\n",
       "│ This product is great!         ┆ 1.0             │\n",
       "│ Terrible service.              ┆ -1.0            │\n",
       "│ Okay, but not what I expected. ┆ 0.2             │\n",
       "│ Excellent! I love it.          ┆ 0.75            │\n",
       "└────────────────────────────────┴─────────────────┘"
      ]
     },
     "execution_count": 19,
     "metadata": {},
     "output_type": "execute_result"
    }
   ],
   "source": [
    "from textblob import TextBlob\n",
    "\n",
    "def analyze_sentiment(review):\n",
    "    return TextBlob(review).sentiment.polarity\n",
    "\n",
    "df = pl.DataFrame({\n",
    "    \"reviews\": [\n",
    "        \"This product is great!\",\n",
    "        \"Terrible service.\",\n",
    "        \"Okay, but not what I expected.\",\n",
    "        \"Excellent! I love it.\"\n",
    "    ]\n",
    "})\n",
    "\n",
    "df = df.with_columns(\n",
    "    pl.col(\"reviews\")\n",
    "    .map_elements(\n",
    "        analyze_sentiment,\n",
    "        return_dtype=pl.Float64\n",
    "    )\n",
    "    .alias(\"sentiment_score\")\n",
    ")\n",
    "df"
   ]
  },
  {
   "cell_type": "code",
   "execution_count": 23,
   "id": "293f5ee6",
   "metadata": {},
   "outputs": [
    {
     "data": {
      "text/html": [
       "<div><style>\n",
       ".dataframe > thead > tr,\n",
       ".dataframe > tbody > tr {\n",
       "  text-align: right;\n",
       "  white-space: pre-wrap;\n",
       "}\n",
       "</style>\n",
       "<small>shape: (4, 2)</small><table border=\"1\" class=\"dataframe\"><thead><tr><th>x</th><th>x + 1</th></tr><tr><td>i64</td><td>i64</td></tr></thead><tbody><tr><td>1</td><td>2</td></tr><tr><td>1</td><td>2</td></tr><tr><td>3</td><td>4</td></tr><tr><td>3</td><td>4</td></tr></tbody></table></div>"
      ],
      "text/plain": [
       "shape: (4, 2)\n",
       "┌─────┬───────┐\n",
       "│ x   ┆ x + 1 │\n",
       "│ --- ┆ ---   │\n",
       "│ i64 ┆ i64   │\n",
       "╞═════╪═══════╡\n",
       "│ 1   ┆ 2     │\n",
       "│ 1   ┆ 2     │\n",
       "│ 3   ┆ 4     │\n",
       "│ 3   ┆ 4     │\n",
       "└─────┴───────┘"
      ]
     },
     "execution_count": 20,
     "metadata": {},
     "output_type": "execute_result"
    }
   ],
   "source": [
    "from functools import lru_cache\n",
    "\n",
    "\n",
    "df = pl.DataFrame({\n",
    "    \"x\": [1,1,3,3]\n",
    "})\n",
    "\n",
    "@lru_cache(maxsize=None)\n",
    "def add_one(x):\n",
    "    return x + 1\n",
    "\n",
    "df.with_columns(\n",
    "    pl.col('x')\n",
    "    .map_elements(\n",
    "        add_one,\n",
    "        return_dtype=pl.Int64,\n",
    "    )\n",
    "    .alias(\"x + 1\")\n",
    ")"
   ]
  },
  {
   "cell_type": "code",
   "execution_count": 24,
   "id": "d10f31b1",
   "metadata": {},
   "outputs": [
    {
     "data": {
      "text/html": [
       "<div><style>\n",
       ".dataframe > thead > tr,\n",
       ".dataframe > tbody > tr {\n",
       "  text-align: right;\n",
       "  white-space: pre-wrap;\n",
       "}\n",
       "</style>\n",
       "<small>shape: (7, 3)</small><table border=\"1\" class=\"dataframe\"><thead><tr><th>label</th><th>feature1</th><th>feature2</th></tr><tr><td>i64</td><td>f64</td><td>f64</td></tr></thead><tbody><tr><td>1</td><td>0.143782</td><td>3.1181e-17</td></tr><tr><td>0</td><td>0.130099</td><td>2.0474e-9</td></tr><tr><td>1</td><td>0.158904</td><td>0.993307</td></tr><tr><td>0</td><td>0.117719</td><td>0.006693</td></tr><tr><td>1</td><td>0.130099</td><td>3.9488e-31</td></tr><tr><td>0</td><td>0.143782</td><td>8.6979e-27</td></tr><tr><td>0</td><td>0.175616</td><td>1.2909e-24</td></tr></tbody></table></div>"
      ],
      "text/plain": [
       "shape: (7, 3)\n",
       "┌───────┬──────────┬────────────┐\n",
       "│ label ┆ feature1 ┆ feature2   │\n",
       "│ ---   ┆ ---      ┆ ---        │\n",
       "│ i64   ┆ f64      ┆ f64        │\n",
       "╞═══════╪══════════╪════════════╡\n",
       "│ 1     ┆ 0.143782 ┆ 3.1181e-17 │\n",
       "│ 0     ┆ 0.130099 ┆ 2.0474e-9  │\n",
       "│ 1     ┆ 0.158904 ┆ 0.993307   │\n",
       "│ 0     ┆ 0.117719 ┆ 0.006693   │\n",
       "│ 1     ┆ 0.130099 ┆ 3.9488e-31 │\n",
       "│ 0     ┆ 0.143782 ┆ 8.6979e-27 │\n",
       "│ 0     ┆ 0.175616 ┆ 1.2909e-24 │\n",
       "└───────┴──────────┴────────────┘"
      ]
     },
     "execution_count": 21,
     "metadata": {},
     "output_type": "execute_result"
    }
   ],
   "source": [
    "import polars.selectors as cs\n",
    "import numpy as np\n",
    "from scipy.special import softmax\n",
    "\n",
    "df = pl.DataFrame({\n",
    "    \"feature1\": [0.3, 0.2, 0.4, 0.1, 0.2, 0.3, 0.5],\n",
    "    \"feature2\": [32, 50, 70, 65, 0, 10, 15],\n",
    "    \"label\": [1, 0, 1, 0, 1, 0, 0]\n",
    "})\n",
    "\n",
    "result = df.select(\n",
    "    \"label\",\n",
    "    cs.starts_with(\"feature\").map_batches(\n",
    "        lambda x: softmax(x.to_numpy()),\n",
    "    )\n",
    ")\n",
    "result"
   ]
  },
  {
   "cell_type": "code",
   "execution_count": 25,
   "id": "f25f0745",
   "metadata": {},
   "outputs": [
    {
     "data": {
      "text/html": [
       "<div><style>\n",
       ".dataframe > thead > tr,\n",
       ".dataframe > tbody > tr {\n",
       "  text-align: right;\n",
       "  white-space: pre-wrap;\n",
       "}\n",
       "</style>\n",
       "<small>shape: (7, 3)</small><table border=\"1\" class=\"dataframe\"><thead><tr><th>group</th><th>temperature</th><th>scaled_feature</th></tr><tr><td>str</td><td>i64</td><td>f64</td></tr></thead><tbody><tr><td>&quot;NL&quot;</td><td>0</td><td>-1.336306</td></tr><tr><td>&quot;NL&quot;</td><td>10</td><td>0.267261</td></tr><tr><td>&quot;NL&quot;</td><td>15</td><td>1.069045</td></tr><tr><td>&quot;USA&quot;</td><td>32</td><td>-1.502872</td></tr><tr><td>&quot;USA&quot;</td><td>50</td><td>-0.287066</td></tr><tr><td>&quot;USA&quot;</td><td>70</td><td>1.063831</td></tr><tr><td>&quot;USA&quot;</td><td>65</td><td>0.726107</td></tr></tbody></table></div>"
      ],
      "text/plain": [
       "shape: (7, 3)\n",
       "┌───────┬─────────────┬────────────────┐\n",
       "│ group ┆ temperature ┆ scaled_feature │\n",
       "│ ---   ┆ ---         ┆ ---            │\n",
       "│ str   ┆ i64         ┆ f64            │\n",
       "╞═══════╪═════════════╪════════════════╡\n",
       "│ NL    ┆ 0           ┆ -1.336306      │\n",
       "│ NL    ┆ 10          ┆ 0.267261       │\n",
       "│ NL    ┆ 15          ┆ 1.069045       │\n",
       "│ USA   ┆ 32          ┆ -1.502872      │\n",
       "│ USA   ┆ 50          ┆ -0.287066      │\n",
       "│ USA   ┆ 70          ┆ 1.063831       │\n",
       "│ USA   ┆ 65          ┆ 0.726107       │\n",
       "└───────┴─────────────┴────────────────┘"
      ]
     },
     "execution_count": 22,
     "metadata": {},
     "output_type": "execute_result"
    }
   ],
   "source": [
    "from sklearn.preprocessing import StandardScaler\n",
    "\n",
    "def scale_temperature(group):\n",
    "    scaler = StandardScaler()\n",
    "    scaled_values = scaler.fit_transform(group[['temperature']].to_numpy())\n",
    "    return group.with_columns(pl.Series(values=scaled_values.flatten(), name=\"scaled_feature\"))\n",
    "\n",
    "df = pl.DataFrame({\n",
    "    \"group\": [\"USA\", \"USA\", \"USA\", \"USA\", \"NL\", \"NL\", \"NL\"],\n",
    "    \"temperature\": [32, 50, 70, 65, 0, 10, 15]\n",
    "})\n",
    "\n",
    "result = df.group_by(\"group\").map_groups(scale_temperature)\n",
    "result"
   ]
  },
  {
   "cell_type": "code",
   "execution_count": 26,
   "id": "0d81f7c9",
   "metadata": {},
   "outputs": [
    {
     "name": "stdout",
     "output_type": "stream",
     "text": [
      "(('NL',), shape: (3, 2)\n",
      "┌───────┬─────────────┐\n",
      "│ group ┆ temperature │\n",
      "│ ---   ┆ ---         │\n",
      "│ str   ┆ i64         │\n",
      "╞═══════╪═════════════╡\n",
      "│ NL    ┆ 0           │\n",
      "│ NL    ┆ 10          │\n",
      "│ NL    ┆ 15          │\n",
      "└───────┴─────────────┘)\n",
      "(('USA',), shape: (4, 2)\n",
      "┌───────┬─────────────┐\n",
      "│ group ┆ temperature │\n",
      "│ ---   ┆ ---         │\n",
      "│ str   ┆ i64         │\n",
      "╞═══════╪═════════════╡\n",
      "│ USA   ┆ 32          │\n",
      "│ USA   ┆ 50          │\n",
      "│ USA   ┆ 70          │\n",
      "│ USA   ┆ 65          │\n",
      "└───────┴─────────────┘)\n"
     ]
    }
   ],
   "source": [
    "df = pl.DataFrame({\n",
    "    \"group\": [\"USA\", \"USA\", \"USA\", \"USA\", \"NL\", \"NL\", \"NL\"],\n",
    "    \"temperature\": [32, 50, 70, 65, 0, 10, 15]\n",
    "})\n",
    "\n",
    "for group in df.group_by([\"group\"]):\n",
    "    print(group)"
   ]
  },
  {
   "cell_type": "markdown",
   "id": "272e0fb8",
   "metadata": {},
   "source": [
    "## Row-wise Aggregations with `reduce` and `fold`"
   ]
  },
  {
   "cell_type": "code",
   "execution_count": 28,
   "id": "3a4a0c69",
   "metadata": {},
   "outputs": [
    {
     "data": {
      "text/html": [
       "<div><style>\n",
       ".dataframe > thead > tr,\n",
       ".dataframe > tbody > tr {\n",
       "  text-align: right;\n",
       "  white-space: pre-wrap;\n",
       "}\n",
       "</style>\n",
       "<small>shape: (1, 4)</small><table border=\"1\" class=\"dataframe\"><thead><tr><th>col1</th><th>col2</th><th>col3</th><th>sum</th></tr><tr><td>i64</td><td>i64</td><td>i64</td><td>i64</td></tr></thead><tbody><tr><td>2</td><td>3</td><td>4</td><td>9</td></tr></tbody></table></div>"
      ],
      "text/plain": [
       "shape: (1, 4)\n",
       "┌──────┬──────┬──────┬─────┐\n",
       "│ col1 ┆ col2 ┆ col3 ┆ sum │\n",
       "│ ---  ┆ ---  ┆ ---  ┆ --- │\n",
       "│ i64  ┆ i64  ┆ i64  ┆ i64 │\n",
       "╞══════╪══════╪══════╪═════╡\n",
       "│ 2    ┆ 3    ┆ 4    ┆ 9   │\n",
       "└──────┴──────┴──────┴─────┘"
      ]
     },
     "execution_count": 24,
     "metadata": {},
     "output_type": "execute_result"
    }
   ],
   "source": [
    "df = pl.DataFrame({\n",
    "    \"col1\": [2],\n",
    "    \"col2\": [3],\n",
    "    \"col3\": [4]\n",
    "})\n",
    "\n",
    "df.with_columns(\n",
    "    pl.fold(\n",
    "        acc=pl.lit(0),  # <1>\n",
    "        function=lambda acc, x: acc + x,  # <2>\n",
    "        exprs=pl.col(\"*\")  # <3>\n",
    "    ).alias(\"sum\")\n",
    ")"
   ]
  },
  {
   "cell_type": "code",
   "execution_count": 29,
   "id": "233da923",
   "metadata": {},
   "outputs": [
    {
     "data": {
      "text/html": [
       "<div><style>\n",
       ".dataframe > thead > tr,\n",
       ".dataframe > tbody > tr {\n",
       "  text-align: right;\n",
       "  white-space: pre-wrap;\n",
       "}\n",
       "</style>\n",
       "<small>shape: (1, 4)</small><table border=\"1\" class=\"dataframe\"><thead><tr><th>col1</th><th>col2</th><th>col3</th><th>sum</th></tr><tr><td>i64</td><td>i64</td><td>i64</td><td>i64</td></tr></thead><tbody><tr><td>2</td><td>3</td><td>4</td><td>9</td></tr></tbody></table></div>"
      ],
      "text/plain": [
       "shape: (1, 4)\n",
       "┌──────┬──────┬──────┬─────┐\n",
       "│ col1 ┆ col2 ┆ col3 ┆ sum │\n",
       "│ ---  ┆ ---  ┆ ---  ┆ --- │\n",
       "│ i64  ┆ i64  ┆ i64  ┆ i64 │\n",
       "╞══════╪══════╪══════╪═════╡\n",
       "│ 2    ┆ 3    ┆ 4    ┆ 9   │\n",
       "└──────┴──────┴──────┴─────┘"
      ]
     },
     "execution_count": 25,
     "metadata": {},
     "output_type": "execute_result"
    }
   ],
   "source": [
    "df = pl.DataFrame({\n",
    "    \"col1\": [2],\n",
    "    \"col2\": [3],\n",
    "    \"col3\": [4]\n",
    "})\n",
    "\n",
    "df.with_columns(\n",
    "    pl.fold(\n",
    "        acc=pl.lit(0),  # <1>\n",
    "        function=lambda acc, x: acc + x,  # <2>\n",
    "        exprs=pl.col(\"*\")  # <3>\n",
    "    ).alias(\"sum\")\n",
    ")"
   ]
  },
  {
   "cell_type": "code",
   "execution_count": 30,
   "id": "dec19e04",
   "metadata": {},
   "outputs": [
    {
     "data": {
      "text/html": [
       "<div><style>\n",
       ".dataframe > thead > tr,\n",
       ".dataframe > tbody > tr {\n",
       "  text-align: right;\n",
       "  white-space: pre-wrap;\n",
       "}\n",
       "</style>\n",
       "<small>shape: (3, 4)</small><table border=\"1\" class=\"dataframe\"><thead><tr><th>product_A</th><th>product_B</th><th>product_C</th><th>weighted_sum</th></tr><tr><td>i64</td><td>i64</td><td>i64</td><td>f64</td></tr></thead><tbody><tr><td>10</td><td>20</td><td>30</td><td>95.0</td></tr><tr><td>20</td><td>30</td><td>40</td><td>135.0</td></tr><tr><td>30</td><td>40</td><td>50</td><td>175.0</td></tr></tbody></table></div>"
      ],
      "text/plain": [
       "shape: (3, 4)\n",
       "┌───────────┬───────────┬───────────┬──────────────┐\n",
       "│ product_A ┆ product_B ┆ product_C ┆ weighted_sum │\n",
       "│ ---       ┆ ---       ┆ ---       ┆ ---          │\n",
       "│ i64       ┆ i64       ┆ i64       ┆ f64          │\n",
       "╞═══════════╪═══════════╪═══════════╪══════════════╡\n",
       "│ 10        ┆ 20        ┆ 30        ┆ 95.0         │\n",
       "│ 20        ┆ 30        ┆ 40        ┆ 135.0        │\n",
       "│ 30        ┆ 40        ┆ 50        ┆ 175.0        │\n",
       "└───────────┴───────────┴───────────┴──────────────┘"
      ]
     },
     "execution_count": 26,
     "metadata": {},
     "output_type": "execute_result"
    }
   ],
   "source": [
    "df = pl.DataFrame({\n",
    "    \"product_A\": [10, 20, 30],\n",
    "    \"product_B\": [20, 30, 40],\n",
    "    \"product_C\": [30, 40, 50]\n",
    "})\n",
    "\n",
    "\n",
    "weights = {  # <1>\n",
    "    \"product_A\": 0.5,\n",
    "    \"product_B\": 1.5,\n",
    "    \"product_C\": 2.0\n",
    "}\n",
    "\n",
    "weighted_exprs = [  # <2>\n",
    "    (pl.col(product) * weight).alias(product)\n",
    "    for product, weight in weights.items()\n",
    "]\n",
    "\n",
    "df_with_weighted_sum = df.with_columns(\n",
    "    pl.fold(  # <3>\n",
    "        acc=pl.lit(0),  # <4>\n",
    "        function=lambda acc, x: acc + x,  # <5>\n",
    "        exprs=weighted_exprs  # <6>\n",
    "    ).alias(\"weighted_sum\")\n",
    ")\n",
    "\n",
    "df_with_weighted_sum"
   ]
  },
  {
   "cell_type": "markdown",
   "id": "d995d66b",
   "metadata": {},
   "source": [
    "## over() Expressions in Selection Context"
   ]
  },
  {
   "cell_type": "code",
   "execution_count": 32,
   "id": "2af4d7ac",
   "metadata": {},
   "outputs": [
    {
     "data": {
      "text/html": [
       "<div><style>\n",
       ".dataframe > thead > tr,\n",
       ".dataframe > tbody > tr {\n",
       "  text-align: right;\n",
       "  white-space: pre-wrap;\n",
       "}\n",
       "</style>\n",
       "<small>shape: (10, 5)</small><table border=\"1\" class=\"dataframe\"><thead><tr><th>jaar</th><th>artiest</th><th>titel</th><th>positie</th><th>year_rank</th></tr><tr><td>i64</td><td>str</td><td>str</td><td>i64</td><td>f64</td></tr></thead><tbody><tr><td>2013</td><td>&quot;Stromae&quot;</td><td>&quot;Papaoutai&quot;</td><td>318</td><td>6.0</td></tr><tr><td>1969</td><td>&quot;John Denver&quot;</td><td>&quot;Leaving On A Jet Plane&quot;</td><td>607</td><td>16.0</td></tr><tr><td>1971</td><td>&quot;Led Zeppelin&quot;</td><td>&quot;Immigrant Song&quot;</td><td>590</td><td>19.0</td></tr><tr><td>2009</td><td>&quot;Anouk&quot;</td><td>&quot;For Bitter Or Worse&quot;</td><td>1453</td><td>23.0</td></tr><tr><td>2015</td><td>&quot;Snollebollekes&quot;</td><td>&quot;Links Rechts&quot;</td><td>1076</td><td>14.0</td></tr><tr><td>1984</td><td>&quot;Alphaville&quot;</td><td>&quot;Forever Young&quot;</td><td>302</td><td>11.0</td></tr><tr><td>1977</td><td>&quot;ABBA&quot;</td><td>&quot;Take A Chance On Me&quot;</td><td>636</td><td>23.0</td></tr><tr><td>1975</td><td>&quot;Rod Stewart&quot;</td><td>&quot;Sailing&quot;</td><td>918</td><td>20.0</td></tr><tr><td>1986</td><td>&quot;Metallica&quot;</td><td>&quot;Master Of Puppets&quot;</td><td>29</td><td>1.0</td></tr><tr><td>2005</td><td>&quot;Alderliefste &amp; Ramses Shaffy&quot;</td><td>&quot;Laat Me/Vivre&quot;</td><td>463</td><td>5.0</td></tr></tbody></table></div>"
      ],
      "text/plain": [
       "shape: (10, 5)\n",
       "┌──────┬──────────────────────────────┬────────────────────────┬─────────┬───────────┐\n",
       "│ jaar ┆ artiest                      ┆ titel                  ┆ positie ┆ year_rank │\n",
       "│ ---  ┆ ---                          ┆ ---                    ┆ ---     ┆ ---       │\n",
       "│ i64  ┆ str                          ┆ str                    ┆ i64     ┆ f64       │\n",
       "╞══════╪══════════════════════════════╪════════════════════════╪═════════╪═══════════╡\n",
       "│ 2013 ┆ Stromae                      ┆ Papaoutai              ┆ 318     ┆ 6.0       │\n",
       "│ 1969 ┆ John Denver                  ┆ Leaving On A Jet Plane ┆ 607     ┆ 16.0      │\n",
       "│ 1971 ┆ Led Zeppelin                 ┆ Immigrant Song         ┆ 590     ┆ 19.0      │\n",
       "│ 2009 ┆ Anouk                        ┆ For Bitter Or Worse    ┆ 1453    ┆ 23.0      │\n",
       "│ 2015 ┆ Snollebollekes               ┆ Links Rechts           ┆ 1076    ┆ 14.0      │\n",
       "│ 1984 ┆ Alphaville                   ┆ Forever Young          ┆ 302     ┆ 11.0      │\n",
       "│ 1977 ┆ ABBA                         ┆ Take A Chance On Me    ┆ 636     ┆ 23.0      │\n",
       "│ 1975 ┆ Rod Stewart                  ┆ Sailing                ┆ 918     ┆ 20.0      │\n",
       "│ 1986 ┆ Metallica                    ┆ Master Of Puppets      ┆ 29      ┆ 1.0       │\n",
       "│ 2005 ┆ Alderliefste & Ramses Shaffy ┆ Laat Me/Vivre          ┆ 463     ┆ 5.0       │\n",
       "└──────┴──────────────────────────────┴────────────────────────┴─────────┴───────────┘"
      ]
     },
     "execution_count": 27,
     "metadata": {},
     "output_type": "execute_result"
    }
   ],
   "source": [
    "(top2000\n",
    "    .select(\n",
    "        \"jaar\",\n",
    "        \"artiest\",\n",
    "        \"titel\",\n",
    "        \"positie\",\n",
    "        pl.col(\"positie\")\n",
    "        .rank()\n",
    "        .over(\"jaar\")\n",
    "        .alias(\"year_rank\")\n",
    "    )\n",
    "    .sample(10, seed=42)\n",
    ")"
   ]
  },
  {
   "cell_type": "markdown",
   "id": "603a125a",
   "metadata": {},
   "source": [
    "## Dynamic Grouping with `group_by_dynamic`"
   ]
  },
  {
   "cell_type": "markdown",
   "id": "609eb510",
   "metadata": {},
   "source": [
    "## Rolling Aggregations with `rolling`"
   ]
  },
  {
   "cell_type": "code",
   "execution_count": 35,
   "id": "27c5e50e",
   "metadata": {},
   "outputs": [],
   "source": [
    "from datetime import date\n",
    "\n",
    "dates = pl.date_range(  # <1>\n",
    "    start=date(2024, 4, 1),\n",
    "    end=date(2024, 4, 14),\n",
    "    interval='1d',\n",
    "    eager=True,  # <2>\n",
    ")\n",
    "dates  = dates.filter(dates.dt.weekday() < 6)  # <3>\n",
    "dates_repeated = pl.concat([dates, dates]).sort()  # <4>\n",
    "\n",
    "df = pl.DataFrame({\n",
    "    \"date\": dates_repeated,\n",
    "    \"store\": [\"Store A\", \"Store B\"] * dates.len(),\n",
    "    \"sales\": [\n",
    "        200, 150, 220, 160, 250, 180, 270, 190, 280, 210,\n",
    "        210, 170, 220, 180, 240, 190, 250, 200, 260, 210,\n",
    "    ]\n",
    "}).set_sorted(\"date\", \"store\")  # <5>"
   ]
  },
  {
   "cell_type": "code",
   "execution_count": 36,
   "id": "43db2c69",
   "metadata": {},
   "outputs": [
    {
     "name": "stderr",
     "output_type": "stream",
     "text": [
      "/var/folders/3d/ldmd42_x7zx8d8xqy0fkhmgc0000gn/T/ipykernel_80289/2253310395.py:2: DeprecationWarning: `check_sorted` is now deprecated in `rolling`, you can safely remove this argument.\n",
      "  df.rolling(  # <1>\n"
     ]
    },
    {
     "data": {
      "text/html": [
       "<div><style>\n",
       ".dataframe > thead > tr,\n",
       ".dataframe > tbody > tr {\n",
       "  text-align: right;\n",
       "  white-space: pre-wrap;\n",
       "}\n",
       "</style>\n",
       "<small>shape: (20, 4)</small><table border=\"1\" class=\"dataframe\"><thead><tr><th>date</th><th>store</th><th>sales</th><th>sum_of_last_7_days_sales</th></tr><tr><td>date</td><td>str</td><td>i64</td><td>i64</td></tr></thead><tbody><tr><td>2024-04-01</td><td>&quot;Store A&quot;</td><td>200</td><td>200</td></tr><tr><td>2024-04-02</td><td>&quot;Store A&quot;</td><td>220</td><td>420</td></tr><tr><td>2024-04-03</td><td>&quot;Store A&quot;</td><td>250</td><td>670</td></tr><tr><td>2024-04-04</td><td>&quot;Store A&quot;</td><td>270</td><td>940</td></tr><tr><td>2024-04-05</td><td>&quot;Store A&quot;</td><td>280</td><td>1220</td></tr><tr><td>&hellip;</td><td>&hellip;</td><td>&hellip;</td><td>&hellip;</td></tr><tr><td>2024-04-08</td><td>&quot;Store B&quot;</td><td>170</td><td>910</td></tr><tr><td>2024-04-09</td><td>&quot;Store B&quot;</td><td>180</td><td>930</td></tr><tr><td>2024-04-10</td><td>&quot;Store B&quot;</td><td>190</td><td>940</td></tr><tr><td>2024-04-11</td><td>&quot;Store B&quot;</td><td>200</td><td>950</td></tr><tr><td>2024-04-12</td><td>&quot;Store B&quot;</td><td>210</td><td>950</td></tr></tbody></table></div>"
      ],
      "text/plain": [
       "shape: (20, 4)\n",
       "┌────────────┬─────────┬───────┬──────────────────────────┐\n",
       "│ date       ┆ store   ┆ sales ┆ sum_of_last_7_days_sales │\n",
       "│ ---        ┆ ---     ┆ ---   ┆ ---                      │\n",
       "│ date       ┆ str     ┆ i64   ┆ i64                      │\n",
       "╞════════════╪═════════╪═══════╪══════════════════════════╡\n",
       "│ 2024-04-01 ┆ Store A ┆ 200   ┆ 200                      │\n",
       "│ 2024-04-02 ┆ Store A ┆ 220   ┆ 420                      │\n",
       "│ 2024-04-03 ┆ Store A ┆ 250   ┆ 670                      │\n",
       "│ 2024-04-04 ┆ Store A ┆ 270   ┆ 940                      │\n",
       "│ 2024-04-05 ┆ Store A ┆ 280   ┆ 1220                     │\n",
       "│ …          ┆ …       ┆ …     ┆ …                        │\n",
       "│ 2024-04-08 ┆ Store B ┆ 170   ┆ 910                      │\n",
       "│ 2024-04-09 ┆ Store B ┆ 180   ┆ 930                      │\n",
       "│ 2024-04-10 ┆ Store B ┆ 190   ┆ 940                      │\n",
       "│ 2024-04-11 ┆ Store B ┆ 200   ┆ 950                      │\n",
       "│ 2024-04-12 ┆ Store B ┆ 210   ┆ 950                      │\n",
       "└────────────┴─────────┴───────┴──────────────────────────┘"
      ]
     },
     "execution_count": 29,
     "metadata": {},
     "output_type": "execute_result"
    }
   ],
   "source": [
    "result = (\n",
    "    df.rolling(  # <1>\n",
    "        index_column=\"date\",\n",
    "        period=\"7d\",\n",
    "        group_by=\"store\",\n",
    "        check_sorted=False,  # <2>\n",
    "    ).agg(  # <3>\n",
    "        pl.sum(\"sales\").alias(\"sum_of_last_7_days_sales\")\n",
    "    )\n",
    ")\n",
    "\n",
    "final_df = df.join(result, on=[\"date\", \"store\"])  # <4>\n",
    "\n",
    "final_df"
   ]
  },
  {
   "cell_type": "markdown",
   "id": "5cb431a7",
   "metadata": {},
   "source": [
    "## Conclusion"
   ]
  }
 ],
 "metadata": {
  "language_info": {
   "codemirror_mode": {
    "name": "ipython",
    "version": 3
   },
   "file_extension": ".py",
   "mimetype": "text/x-python",
   "name": "python",
   "nbconvert_exporter": "python",
   "pygments_lexer": "ipython3",
   "version": "3.11.9"
  }
 },
 "nbformat": 4,
 "nbformat_minor": 5
}
