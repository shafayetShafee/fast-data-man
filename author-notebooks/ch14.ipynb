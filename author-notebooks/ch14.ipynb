{
 "cells": [
  {
   "cell_type": "markdown",
   "id": "52c38fbd",
   "metadata": {},
   "source": [
    "# Chapter 14: Joining and Concatenating"
   ]
  },
  {
   "cell_type": "code",
   "execution_count": 1,
   "id": "7322b987",
   "metadata": {},
   "outputs": [
    {
     "name": "stdout",
     "output_type": "stream",
     "text": [
      "--------Version info---------\n",
      "Polars:               0.20.31\n",
      "Index type:           UInt32\n",
      "Platform:             macOS-12.5-arm64-arm-64bit\n",
      "Python:               3.11.9 (main, Apr  2 2024, 16:11:47) [Clang 14.0.0 (clang-1400.0.29.202)]\n",
      "\n",
      "----Optional dependencies----\n",
      "adbc_driver_manager:  0.8.0\n",
      "cloudpickle:          3.0.0\n",
      "connectorx:           0.3.2\n",
      "deltalake:            0.15.0\n",
      "fastexcel:            0.9.1\n",
      "fsspec:               2023.12.2\n",
      "gevent:               23.9.1\n",
      "hvplot:               0.9.2\n",
      "matplotlib:           3.8.4\n",
      "nest_asyncio:         1.6.0\n",
      "numpy:                1.26.4\n",
      "openpyxl:             3.1.2\n",
      "pandas:               2.2.2\n",
      "pyarrow:              14.0.2\n",
      "pydantic:             2.5.3\n",
      "pyiceberg:            0.5.1\n",
      "pyxlsb:               <not installed>\n",
      "sqlalchemy:           2.0.25\n",
      "torch:                <not installed>\n",
      "xlsx2csv:             0.8.2\n",
      "xlsxwriter:           3.2.0\n"
     ]
    }
   ],
   "source": [
    "import polars as pl\n",
    "pl.show_versions()"
   ]
  },
  {
   "cell_type": "markdown",
   "id": "054938cf",
   "metadata": {},
   "source": [
    "## Joining"
   ]
  },
  {
   "cell_type": "markdown",
   "id": "60c34d90",
   "metadata": {},
   "source": [
    "### Join Strategies"
   ]
  },
  {
   "cell_type": "code",
   "execution_count": 4,
   "id": "8236518f",
   "metadata": {},
   "outputs": [],
   "source": [
    "import polars as pl\n",
    "\n",
    "df_left = pl.DataFrame({\n",
    "    \"key\": [\"A\", \"B\", \"C\", \"D\"],\n",
    "    \"value\": [1, 2, 3, 4]\n",
    "})\n",
    "\n",
    "df_right = pl.DataFrame({\n",
    "    \"key\": [\"B\", \"C\", \"D\", \"E\"],\n",
    "    \"value\": [5, 6, 7, 8]\n",
    "})\n"
   ]
  },
  {
   "cell_type": "code",
   "execution_count": 5,
   "id": "26576e2f",
   "metadata": {},
   "outputs": [
    {
     "data": {
      "text/html": [
       "<div><style>\n",
       ".dataframe > thead > tr,\n",
       ".dataframe > tbody > tr {\n",
       "  text-align: right;\n",
       "  white-space: pre-wrap;\n",
       "}\n",
       "</style>\n",
       "<small>shape: (3, 3)</small><table border=\"1\" class=\"dataframe\"><thead><tr><th>key</th><th>value</th><th>value_right</th></tr><tr><td>str</td><td>i64</td><td>i64</td></tr></thead><tbody><tr><td>&quot;B&quot;</td><td>2</td><td>5</td></tr><tr><td>&quot;C&quot;</td><td>3</td><td>6</td></tr><tr><td>&quot;D&quot;</td><td>4</td><td>7</td></tr></tbody></table></div>"
      ],
      "text/plain": [
       "shape: (3, 3)\n",
       "┌─────┬───────┬─────────────┐\n",
       "│ key ┆ value ┆ value_right │\n",
       "│ --- ┆ ---   ┆ ---         │\n",
       "│ str ┆ i64   ┆ i64         │\n",
       "╞═════╪═══════╪═════════════╡\n",
       "│ B   ┆ 2     ┆ 5           │\n",
       "│ C   ┆ 3     ┆ 6           │\n",
       "│ D   ┆ 4     ┆ 7           │\n",
       "└─────┴───────┴─────────────┘"
      ]
     },
     "execution_count": 3,
     "metadata": {},
     "output_type": "execute_result"
    }
   ],
   "source": [
    "df_left.join(df_right, on=\"key\", how=\"inner\")"
   ]
  },
  {
   "cell_type": "code",
   "execution_count": 6,
   "id": "9e1aadc9",
   "metadata": {},
   "outputs": [
    {
     "name": "stderr",
     "output_type": "stream",
     "text": [
      "/var/folders/3d/ldmd42_x7zx8d8xqy0fkhmgc0000gn/T/ipykernel_80304/2826378691.py:1: DeprecationWarning: Use of `how='outer'` should be replaced with `how='full'`.\n",
      "  df_left.join(df_right, on=\"key\", how=\"outer\", suffix=\"_other\")\n"
     ]
    },
    {
     "data": {
      "text/html": [
       "<div><style>\n",
       ".dataframe > thead > tr,\n",
       ".dataframe > tbody > tr {\n",
       "  text-align: right;\n",
       "  white-space: pre-wrap;\n",
       "}\n",
       "</style>\n",
       "<small>shape: (5, 4)</small><table border=\"1\" class=\"dataframe\"><thead><tr><th>key</th><th>value</th><th>key_other</th><th>value_other</th></tr><tr><td>str</td><td>i64</td><td>str</td><td>i64</td></tr></thead><tbody><tr><td>&quot;B&quot;</td><td>2</td><td>&quot;B&quot;</td><td>5</td></tr><tr><td>&quot;C&quot;</td><td>3</td><td>&quot;C&quot;</td><td>6</td></tr><tr><td>&quot;D&quot;</td><td>4</td><td>&quot;D&quot;</td><td>7</td></tr><tr><td>null</td><td>null</td><td>&quot;E&quot;</td><td>8</td></tr><tr><td>&quot;A&quot;</td><td>1</td><td>null</td><td>null</td></tr></tbody></table></div>"
      ],
      "text/plain": [
       "shape: (5, 4)\n",
       "┌──────┬───────┬───────────┬─────────────┐\n",
       "│ key  ┆ value ┆ key_other ┆ value_other │\n",
       "│ ---  ┆ ---   ┆ ---       ┆ ---         │\n",
       "│ str  ┆ i64   ┆ str       ┆ i64         │\n",
       "╞══════╪═══════╪═══════════╪═════════════╡\n",
       "│ B    ┆ 2     ┆ B         ┆ 5           │\n",
       "│ C    ┆ 3     ┆ C         ┆ 6           │\n",
       "│ D    ┆ 4     ┆ D         ┆ 7           │\n",
       "│ null ┆ null  ┆ E         ┆ 8           │\n",
       "│ A    ┆ 1     ┆ null      ┆ null        │\n",
       "└──────┴───────┴───────────┴─────────────┘"
      ]
     },
     "execution_count": 4,
     "metadata": {},
     "output_type": "execute_result"
    }
   ],
   "source": [
    "df_left.join(df_right, on=\"key\", how=\"outer\", suffix=\"_other\")"
   ]
  },
  {
   "cell_type": "code",
   "execution_count": 7,
   "id": "f5991548",
   "metadata": {},
   "outputs": [
    {
     "name": "stderr",
     "output_type": "stream",
     "text": [
      "/var/folders/3d/ldmd42_x7zx8d8xqy0fkhmgc0000gn/T/ipykernel_80304/1462491990.py:1: DeprecationWarning: The default coalesce behavior of left join will change to `False` in the next breaking release. Pass `coalesce=True` to keep the current behavior and silence this warning.\n",
      "  df_left.join(df_right, on=\"key\", how=\"left\")\n"
     ]
    },
    {
     "data": {
      "text/html": [
       "<div><style>\n",
       ".dataframe > thead > tr,\n",
       ".dataframe > tbody > tr {\n",
       "  text-align: right;\n",
       "  white-space: pre-wrap;\n",
       "}\n",
       "</style>\n",
       "<small>shape: (4, 3)</small><table border=\"1\" class=\"dataframe\"><thead><tr><th>key</th><th>value</th><th>value_right</th></tr><tr><td>str</td><td>i64</td><td>i64</td></tr></thead><tbody><tr><td>&quot;A&quot;</td><td>1</td><td>null</td></tr><tr><td>&quot;B&quot;</td><td>2</td><td>5</td></tr><tr><td>&quot;C&quot;</td><td>3</td><td>6</td></tr><tr><td>&quot;D&quot;</td><td>4</td><td>7</td></tr></tbody></table></div>"
      ],
      "text/plain": [
       "shape: (4, 3)\n",
       "┌─────┬───────┬─────────────┐\n",
       "│ key ┆ value ┆ value_right │\n",
       "│ --- ┆ ---   ┆ ---         │\n",
       "│ str ┆ i64   ┆ i64         │\n",
       "╞═════╪═══════╪═════════════╡\n",
       "│ A   ┆ 1     ┆ null        │\n",
       "│ B   ┆ 2     ┆ 5           │\n",
       "│ C   ┆ 3     ┆ 6           │\n",
       "│ D   ┆ 4     ┆ 7           │\n",
       "└─────┴───────┴─────────────┘"
      ]
     },
     "execution_count": 5,
     "metadata": {},
     "output_type": "execute_result"
    }
   ],
   "source": [
    "df_left.join(df_right, on=\"key\", how=\"left\")"
   ]
  },
  {
   "cell_type": "code",
   "execution_count": 8,
   "id": "77edc084",
   "metadata": {},
   "outputs": [
    {
     "data": {
      "text/html": [
       "<div><style>\n",
       ".dataframe > thead > tr,\n",
       ".dataframe > tbody > tr {\n",
       "  text-align: right;\n",
       "  white-space: pre-wrap;\n",
       "}\n",
       "</style>\n",
       "<small>shape: (16, 4)</small><table border=\"1\" class=\"dataframe\"><thead><tr><th>key</th><th>value</th><th>key_right</th><th>value_right</th></tr><tr><td>str</td><td>i64</td><td>str</td><td>i64</td></tr></thead><tbody><tr><td>&quot;A&quot;</td><td>1</td><td>&quot;B&quot;</td><td>5</td></tr><tr><td>&quot;A&quot;</td><td>1</td><td>&quot;C&quot;</td><td>6</td></tr><tr><td>&quot;A&quot;</td><td>1</td><td>&quot;D&quot;</td><td>7</td></tr><tr><td>&quot;A&quot;</td><td>1</td><td>&quot;E&quot;</td><td>8</td></tr><tr><td>&quot;B&quot;</td><td>2</td><td>&quot;B&quot;</td><td>5</td></tr><tr><td>&hellip;</td><td>&hellip;</td><td>&hellip;</td><td>&hellip;</td></tr><tr><td>&quot;C&quot;</td><td>3</td><td>&quot;E&quot;</td><td>8</td></tr><tr><td>&quot;D&quot;</td><td>4</td><td>&quot;B&quot;</td><td>5</td></tr><tr><td>&quot;D&quot;</td><td>4</td><td>&quot;C&quot;</td><td>6</td></tr><tr><td>&quot;D&quot;</td><td>4</td><td>&quot;D&quot;</td><td>7</td></tr><tr><td>&quot;D&quot;</td><td>4</td><td>&quot;E&quot;</td><td>8</td></tr></tbody></table></div>"
      ],
      "text/plain": [
       "shape: (16, 4)\n",
       "┌─────┬───────┬───────────┬─────────────┐\n",
       "│ key ┆ value ┆ key_right ┆ value_right │\n",
       "│ --- ┆ ---   ┆ ---       ┆ ---         │\n",
       "│ str ┆ i64   ┆ str       ┆ i64         │\n",
       "╞═════╪═══════╪═══════════╪═════════════╡\n",
       "│ A   ┆ 1     ┆ B         ┆ 5           │\n",
       "│ A   ┆ 1     ┆ C         ┆ 6           │\n",
       "│ A   ┆ 1     ┆ D         ┆ 7           │\n",
       "│ A   ┆ 1     ┆ E         ┆ 8           │\n",
       "│ B   ┆ 2     ┆ B         ┆ 5           │\n",
       "│ …   ┆ …     ┆ …         ┆ …           │\n",
       "│ C   ┆ 3     ┆ E         ┆ 8           │\n",
       "│ D   ┆ 4     ┆ B         ┆ 5           │\n",
       "│ D   ┆ 4     ┆ C         ┆ 6           │\n",
       "│ D   ┆ 4     ┆ D         ┆ 7           │\n",
       "│ D   ┆ 4     ┆ E         ┆ 8           │\n",
       "└─────┴───────┴───────────┴─────────────┘"
      ]
     },
     "execution_count": 6,
     "metadata": {},
     "output_type": "execute_result"
    }
   ],
   "source": [
    "df_left.join(df_right, how=\"cross\")"
   ]
  },
  {
   "cell_type": "code",
   "execution_count": 9,
   "id": "d9de31d2",
   "metadata": {},
   "outputs": [
    {
     "data": {
      "text/html": [
       "<div><style>\n",
       ".dataframe > thead > tr,\n",
       ".dataframe > tbody > tr {\n",
       "  text-align: right;\n",
       "  white-space: pre-wrap;\n",
       "}\n",
       "</style>\n",
       "<small>shape: (3, 2)</small><table border=\"1\" class=\"dataframe\"><thead><tr><th>key</th><th>value</th></tr><tr><td>str</td><td>i64</td></tr></thead><tbody><tr><td>&quot;B&quot;</td><td>2</td></tr><tr><td>&quot;C&quot;</td><td>3</td></tr><tr><td>&quot;D&quot;</td><td>4</td></tr></tbody></table></div>"
      ],
      "text/plain": [
       "shape: (3, 2)\n",
       "┌─────┬───────┐\n",
       "│ key ┆ value │\n",
       "│ --- ┆ ---   │\n",
       "│ str ┆ i64   │\n",
       "╞═════╪═══════╡\n",
       "│ B   ┆ 2     │\n",
       "│ C   ┆ 3     │\n",
       "│ D   ┆ 4     │\n",
       "└─────┴───────┘"
      ]
     },
     "execution_count": 7,
     "metadata": {},
     "output_type": "execute_result"
    }
   ],
   "source": [
    "df_left.join(df_right, on=\"key\", how=\"semi\")"
   ]
  },
  {
   "cell_type": "code",
   "execution_count": 10,
   "id": "71c662df",
   "metadata": {},
   "outputs": [
    {
     "data": {
      "text/html": [
       "<div><style>\n",
       ".dataframe > thead > tr,\n",
       ".dataframe > tbody > tr {\n",
       "  text-align: right;\n",
       "  white-space: pre-wrap;\n",
       "}\n",
       "</style>\n",
       "<small>shape: (1, 2)</small><table border=\"1\" class=\"dataframe\"><thead><tr><th>key</th><th>value</th></tr><tr><td>str</td><td>i64</td></tr></thead><tbody><tr><td>&quot;A&quot;</td><td>1</td></tr></tbody></table></div>"
      ],
      "text/plain": [
       "shape: (1, 2)\n",
       "┌─────┬───────┐\n",
       "│ key ┆ value │\n",
       "│ --- ┆ ---   │\n",
       "│ str ┆ i64   │\n",
       "╞═════╪═══════╡\n",
       "│ A   ┆ 1     │\n",
       "└─────┴───────┘"
      ]
     },
     "execution_count": 8,
     "metadata": {},
     "output_type": "execute_result"
    }
   ],
   "source": [
    "df_left.join(df_right, on=\"key\", how=\"anti\")"
   ]
  },
  {
   "cell_type": "markdown",
   "id": "4e49ce95",
   "metadata": {},
   "source": [
    "### Joining on Multiple Columns"
   ]
  },
  {
   "cell_type": "code",
   "execution_count": 12,
   "id": "21d79c00",
   "metadata": {},
   "outputs": [
    {
     "data": {
      "text/html": [
       "<div><style>\n",
       ".dataframe > thead > tr,\n",
       ".dataframe > tbody > tr {\n",
       "  text-align: right;\n",
       "  white-space: pre-wrap;\n",
       "}\n",
       "</style>\n",
       "<small>shape: (3, 4)</small><table border=\"1\" class=\"dataframe\"><thead><tr><th>name</th><th>city</th><th>age</th><th>department</th></tr><tr><td>str</td><td>str</td><td>i64</td><td>str</td></tr></thead><tbody><tr><td>&quot;Alice&quot;</td><td>&quot;NY&quot;</td><td>25</td><td>&quot;Finance&quot;</td></tr><tr><td>&quot;Bob&quot;</td><td>&quot;LA&quot;</td><td>30</td><td>&quot;Marketing&quot;</td></tr><tr><td>&quot;Charlie&quot;</td><td>&quot;NY&quot;</td><td>35</td><td>&quot;Engineering&quot;</td></tr></tbody></table></div>"
      ],
      "text/plain": [
       "shape: (3, 4)\n",
       "┌─────────┬──────┬─────┬─────────────┐\n",
       "│ name    ┆ city ┆ age ┆ department  │\n",
       "│ ---     ┆ ---  ┆ --- ┆ ---         │\n",
       "│ str     ┆ str  ┆ i64 ┆ str         │\n",
       "╞═════════╪══════╪═════╪═════════════╡\n",
       "│ Alice   ┆ NY   ┆ 25  ┆ Finance     │\n",
       "│ Bob     ┆ LA   ┆ 30  ┆ Marketing   │\n",
       "│ Charlie ┆ NY   ┆ 35  ┆ Engineering │\n",
       "└─────────┴──────┴─────┴─────────────┘"
      ]
     },
     "execution_count": 9,
     "metadata": {},
     "output_type": "execute_result"
    }
   ],
   "source": [
    "df_left = pl.DataFrame({\n",
    "    \"name\": [\"Alice\", \"Bob\", \"Charlie\", \"Dave\"],\n",
    "    \"city\": [\"NY\", \"LA\", \"NY\", \"SF\"],\n",
    "    \"age\": [25, 30, 35, 40]\n",
    "})\n",
    "\n",
    "df_right = pl.DataFrame({\n",
    "    \"name\": [\"Alice\", \"Bob\", \"Charlie\", \"Dave\"],\n",
    "    \"city\": [\"NY\", \"LA\", \"NY\", \"Chicago\"],\n",
    "    \"department\": [\"Finance\", \"Marketing\", \"Engineering\", \"Operations\"]\n",
    "})\n",
    "\n",
    "df_left.join(df_right, on=[\"name\", \"city\"], how=\"inner\")"
   ]
  },
  {
   "cell_type": "markdown",
   "id": "83f88c69",
   "metadata": {},
   "source": [
    "### Validation"
   ]
  },
  {
   "cell_type": "code",
   "execution_count": 14,
   "id": "e16e45a8",
   "metadata": {},
   "outputs": [
    {
     "name": "stderr",
     "output_type": "stream",
     "text": [
      "/var/folders/3d/ldmd42_x7zx8d8xqy0fkhmgc0000gn/T/ipykernel_80304/2858785018.py:12: DeprecationWarning: The default coalesce behavior of left join will change to `False` in the next breaking release. Pass `coalesce=True` to keep the current behavior and silence this warning.\n",
      "  df_employees.join(\n"
     ]
    },
    {
     "data": {
      "text/html": [
       "<div><style>\n",
       ".dataframe > thead > tr,\n",
       ".dataframe > tbody > tr {\n",
       "  text-align: right;\n",
       "  white-space: pre-wrap;\n",
       "}\n",
       "</style>\n",
       "<small>shape: (4, 4)</small><table border=\"1\" class=\"dataframe\"><thead><tr><th>employee_id</th><th>name</th><th>department_id</th><th>department_name</th></tr><tr><td>i64</td><td>str</td><td>i64</td><td>str</td></tr></thead><tbody><tr><td>1</td><td>&quot;Alice&quot;</td><td>10</td><td>&quot;Information Technology&quot;</td></tr><tr><td>2</td><td>&quot;Bob&quot;</td><td>10</td><td>&quot;Information Technology&quot;</td></tr><tr><td>3</td><td>&quot;Charlie&quot;</td><td>30</td><td>&quot;Human Resources&quot;</td></tr><tr><td>4</td><td>&quot;Dave&quot;</td><td>10</td><td>&quot;Information Technology&quot;</td></tr></tbody></table></div>"
      ],
      "text/plain": [
       "shape: (4, 4)\n",
       "┌─────────────┬─────────┬───────────────┬────────────────────────┐\n",
       "│ employee_id ┆ name    ┆ department_id ┆ department_name        │\n",
       "│ ---         ┆ ---     ┆ ---           ┆ ---                    │\n",
       "│ i64         ┆ str     ┆ i64           ┆ str                    │\n",
       "╞═════════════╪═════════╪═══════════════╪════════════════════════╡\n",
       "│ 1           ┆ Alice   ┆ 10            ┆ Information Technology │\n",
       "│ 2           ┆ Bob     ┆ 10            ┆ Information Technology │\n",
       "│ 3           ┆ Charlie ┆ 30            ┆ Human Resources        │\n",
       "│ 4           ┆ Dave    ┆ 10            ┆ Information Technology │\n",
       "└─────────────┴─────────┴───────────────┴────────────────────────┘"
      ]
     },
     "execution_count": 10,
     "metadata": {},
     "output_type": "execute_result"
    }
   ],
   "source": [
    "df_employees = pl.DataFrame({\n",
    "    \"employee_id\": [1, 2, 3, 4],\n",
    "    \"name\": [\"Alice\", \"Bob\", \"Charlie\", \"Dave\"],\n",
    "    \"department_id\": [10, 10, 30, 10],\n",
    "})\n",
    "\n",
    "df_departments = pl.DataFrame({\n",
    "    \"department_id\": [10, 20, 30],\n",
    "    \"department_name\": [\"Information Technology\", \"Finance\", \"Human Resources\"],\n",
    "})\n",
    "\n",
    "df_employees.join(\n",
    "    df_departments,\n",
    "    on=\"department_id\",\n",
    "    how=\"left\",\n",
    "    validate=\"m:1\"\n",
    ")"
   ]
  },
  {
   "cell_type": "code",
   "execution_count": 15,
   "id": "21ecc1cb",
   "metadata": {},
   "outputs": [
    {
     "name": "stderr",
     "output_type": "stream",
     "text": [
      "/var/folders/3d/ldmd42_x7zx8d8xqy0fkhmgc0000gn/T/ipykernel_80304/87466152.py:6: DeprecationWarning: The default coalesce behavior of left join will change to `False` in the next breaking release. Pass `coalesce=True` to keep the current behavior and silence this warning.\n",
      "  df_employees.join(\n"
     ]
    },
    {
     "ename": "ComputeError",
     "evalue": "the join keys did not fulfil m:1 validation",
     "output_type": "error",
     "traceback": [
      "\u001b[0;31m---------------------------------------------------------------------------\u001b[0m",
      "\u001b[0;31mComputeError\u001b[0m                              Traceback (most recent call last)",
      "Cell \u001b[0;32mIn[11], line 6\u001b[0m\n\u001b[1;32m      1\u001b[0m df_departments \u001b[38;5;241m=\u001b[39m pl\u001b[38;5;241m.\u001b[39mDataFrame({\n\u001b[1;32m      2\u001b[0m     \u001b[38;5;124m\"\u001b[39m\u001b[38;5;124mdepartment_id\u001b[39m\u001b[38;5;124m\"\u001b[39m: [\u001b[38;5;241m10\u001b[39m, \u001b[38;5;241m20\u001b[39m, \u001b[38;5;241m10\u001b[39m],\n\u001b[1;32m      3\u001b[0m     \u001b[38;5;124m\"\u001b[39m\u001b[38;5;124mdepartment_name\u001b[39m\u001b[38;5;124m\"\u001b[39m: [\u001b[38;5;124m\"\u001b[39m\u001b[38;5;124mInformation Technology\u001b[39m\u001b[38;5;124m\"\u001b[39m, \u001b[38;5;124m\"\u001b[39m\u001b[38;5;124mFinance\u001b[39m\u001b[38;5;124m\"\u001b[39m, \u001b[38;5;124m\"\u001b[39m\u001b[38;5;124mHuman Resources\u001b[39m\u001b[38;5;124m\"\u001b[39m],\n\u001b[1;32m      4\u001b[0m })\n\u001b[0;32m----> 6\u001b[0m \u001b[43mdf_employees\u001b[49m\u001b[38;5;241;43m.\u001b[39;49m\u001b[43mjoin\u001b[49m\u001b[43m(\u001b[49m\n\u001b[1;32m      7\u001b[0m \u001b[43m    \u001b[49m\u001b[43mdf_departments\u001b[49m\u001b[43m,\u001b[49m\n\u001b[1;32m      8\u001b[0m \u001b[43m    \u001b[49m\u001b[43mon\u001b[49m\u001b[38;5;241;43m=\u001b[39;49m\u001b[38;5;124;43m\"\u001b[39;49m\u001b[38;5;124;43mdepartment_id\u001b[39;49m\u001b[38;5;124;43m\"\u001b[39;49m\u001b[43m,\u001b[49m\n\u001b[1;32m      9\u001b[0m \u001b[43m    \u001b[49m\u001b[43mhow\u001b[49m\u001b[38;5;241;43m=\u001b[39;49m\u001b[38;5;124;43m\"\u001b[39;49m\u001b[38;5;124;43mleft\u001b[39;49m\u001b[38;5;124;43m\"\u001b[39;49m\u001b[43m,\u001b[49m\n\u001b[1;32m     10\u001b[0m \u001b[43m    \u001b[49m\u001b[43mvalidate\u001b[49m\u001b[38;5;241;43m=\u001b[39;49m\u001b[38;5;124;43m\"\u001b[39;49m\u001b[38;5;124;43mm:1\u001b[39;49m\u001b[38;5;124;43m\"\u001b[39;49m\n\u001b[1;32m     11\u001b[0m \u001b[43m)\u001b[49m\n",
      "File \u001b[0;32m~/Library/Caches/pypoetry/virtualenvs/python-polars-the-definitive-guide-b_q50VVY-py3.11/lib/python3.11/site-packages/polars/dataframe/frame.py:6713\u001b[0m, in \u001b[0;36mDataFrame.join\u001b[0;34m(self, other, on, how, left_on, right_on, suffix, validate, join_nulls, coalesce)\u001b[0m\n\u001b[1;32m   6697\u001b[0m     msg \u001b[38;5;241m=\u001b[39m \u001b[38;5;124mf\u001b[39m\u001b[38;5;124m\"\u001b[39m\u001b[38;5;124mexpected `other` join table to be a DataFrame, got \u001b[39m\u001b[38;5;132;01m{\u001b[39;00m\u001b[38;5;28mtype\u001b[39m(other)\u001b[38;5;241m.\u001b[39m\u001b[38;5;18m__name__\u001b[39m\u001b[38;5;132;01m!r}\u001b[39;00m\u001b[38;5;124m\"\u001b[39m\n\u001b[1;32m   6698\u001b[0m     \u001b[38;5;28;01mraise\u001b[39;00m \u001b[38;5;167;01mTypeError\u001b[39;00m(msg)\n\u001b[1;32m   6700\u001b[0m \u001b[38;5;28;01mreturn\u001b[39;00m (\n\u001b[1;32m   6701\u001b[0m     \u001b[38;5;28;43mself\u001b[39;49m\u001b[38;5;241;43m.\u001b[39;49m\u001b[43mlazy\u001b[49m\u001b[43m(\u001b[49m\u001b[43m)\u001b[49m\n\u001b[1;32m   6702\u001b[0m \u001b[43m    \u001b[49m\u001b[38;5;241;43m.\u001b[39;49m\u001b[43mjoin\u001b[49m\u001b[43m(\u001b[49m\n\u001b[1;32m   6703\u001b[0m \u001b[43m        \u001b[49m\u001b[43mother\u001b[49m\u001b[38;5;241;43m=\u001b[39;49m\u001b[43mother\u001b[49m\u001b[38;5;241;43m.\u001b[39;49m\u001b[43mlazy\u001b[49m\u001b[43m(\u001b[49m\u001b[43m)\u001b[49m\u001b[43m,\u001b[49m\n\u001b[1;32m   6704\u001b[0m \u001b[43m        \u001b[49m\u001b[43mleft_on\u001b[49m\u001b[38;5;241;43m=\u001b[39;49m\u001b[43mleft_on\u001b[49m\u001b[43m,\u001b[49m\n\u001b[1;32m   6705\u001b[0m \u001b[43m        \u001b[49m\u001b[43mright_on\u001b[49m\u001b[38;5;241;43m=\u001b[39;49m\u001b[43mright_on\u001b[49m\u001b[43m,\u001b[49m\n\u001b[1;32m   6706\u001b[0m \u001b[43m        \u001b[49m\u001b[43mon\u001b[49m\u001b[38;5;241;43m=\u001b[39;49m\u001b[43mon\u001b[49m\u001b[43m,\u001b[49m\n\u001b[1;32m   6707\u001b[0m \u001b[43m        \u001b[49m\u001b[43mhow\u001b[49m\u001b[38;5;241;43m=\u001b[39;49m\u001b[43mhow\u001b[49m\u001b[43m,\u001b[49m\n\u001b[1;32m   6708\u001b[0m \u001b[43m        \u001b[49m\u001b[43msuffix\u001b[49m\u001b[38;5;241;43m=\u001b[39;49m\u001b[43msuffix\u001b[49m\u001b[43m,\u001b[49m\n\u001b[1;32m   6709\u001b[0m \u001b[43m        \u001b[49m\u001b[43mvalidate\u001b[49m\u001b[38;5;241;43m=\u001b[39;49m\u001b[43mvalidate\u001b[49m\u001b[43m,\u001b[49m\n\u001b[1;32m   6710\u001b[0m \u001b[43m        \u001b[49m\u001b[43mjoin_nulls\u001b[49m\u001b[38;5;241;43m=\u001b[39;49m\u001b[43mjoin_nulls\u001b[49m\u001b[43m,\u001b[49m\n\u001b[1;32m   6711\u001b[0m \u001b[43m        \u001b[49m\u001b[43mcoalesce\u001b[49m\u001b[38;5;241;43m=\u001b[39;49m\u001b[43mcoalesce\u001b[49m\u001b[43m,\u001b[49m\n\u001b[1;32m   6712\u001b[0m \u001b[43m    \u001b[49m\u001b[43m)\u001b[49m\n\u001b[0;32m-> 6713\u001b[0m \u001b[43m    \u001b[49m\u001b[38;5;241;43m.\u001b[39;49m\u001b[43mcollect\u001b[49m\u001b[43m(\u001b[49m\u001b[43m_eager\u001b[49m\u001b[38;5;241;43m=\u001b[39;49m\u001b[38;5;28;43;01mTrue\u001b[39;49;00m\u001b[43m)\u001b[49m\n\u001b[1;32m   6714\u001b[0m )\n",
      "File \u001b[0;32m~/Library/Caches/pypoetry/virtualenvs/python-polars-the-definitive-guide-b_q50VVY-py3.11/lib/python3.11/site-packages/polars/lazyframe/frame.py:1967\u001b[0m, in \u001b[0;36mLazyFrame.collect\u001b[0;34m(self, type_coercion, predicate_pushdown, projection_pushdown, simplify_expression, slice_pushdown, comm_subplan_elim, comm_subexpr_elim, cluster_with_columns, no_optimization, streaming, background, _eager, **_kwargs)\u001b[0m\n\u001b[1;32m   1964\u001b[0m \u001b[38;5;66;03m# Only for testing purposes atm.\u001b[39;00m\n\u001b[1;32m   1965\u001b[0m callback \u001b[38;5;241m=\u001b[39m _kwargs\u001b[38;5;241m.\u001b[39mget(\u001b[38;5;124m\"\u001b[39m\u001b[38;5;124mpost_opt_callback\u001b[39m\u001b[38;5;124m\"\u001b[39m)\n\u001b[0;32m-> 1967\u001b[0m \u001b[38;5;28;01mreturn\u001b[39;00m wrap_df(\u001b[43mldf\u001b[49m\u001b[38;5;241;43m.\u001b[39;49m\u001b[43mcollect\u001b[49m\u001b[43m(\u001b[49m\u001b[43mcallback\u001b[49m\u001b[43m)\u001b[49m)\n",
      "\u001b[0;31mComputeError\u001b[0m: the join keys did not fulfil m:1 validation"
     ]
    }
   ],
   "source": [
    "df_departments = pl.DataFrame({\n",
    "    \"department_id\": [10, 20, 10],\n",
    "    \"department_name\": [\"Information Technology\", \"Finance\", \"Human Resources\"],\n",
    "})\n",
    "\n",
    "df_employees.join(\n",
    "    df_departments,\n",
    "    on=\"department_id\",\n",
    "    how=\"left\",\n",
    "    validate=\"m:1\"\n",
    ")"
   ]
  },
  {
   "cell_type": "markdown",
   "id": "699e2c47",
   "metadata": {},
   "source": [
    "## Inexact Joining"
   ]
  },
  {
   "cell_type": "code",
   "execution_count": 17,
   "id": "53ab9c22",
   "metadata": {},
   "outputs": [
    {
     "data": {
      "text/html": [
       "<div><style>\n",
       ".dataframe > thead > tr,\n",
       ".dataframe > tbody > tr {\n",
       "  text-align: right;\n",
       "  white-space: pre-wrap;\n",
       "}\n",
       "</style>\n",
       "<small>shape: (2, 3)</small><table border=\"1\" class=\"dataframe\"><thead><tr><th>int_id</th><th>value</th><th>value_right</th></tr><tr><td>i64</td><td>str</td><td>i64</td></tr></thead><tbody><tr><td>5</td><td>&quot;1&quot;</td><td>1</td></tr><tr><td>10</td><td>&quot;2&quot;</td><td>2</td></tr></tbody></table></div>"
      ],
      "text/plain": [
       "shape: (2, 3)\n",
       "┌────────┬───────┬─────────────┐\n",
       "│ int_id ┆ value ┆ value_right │\n",
       "│ ---    ┆ ---   ┆ ---         │\n",
       "│ i64    ┆ str   ┆ i64         │\n",
       "╞════════╪═══════╪═════════════╡\n",
       "│ 5      ┆ 1     ┆ 1           │\n",
       "│ 10     ┆ 2     ┆ 2           │\n",
       "└────────┴───────┴─────────────┘"
      ]
     },
     "execution_count": 12,
     "metadata": {},
     "output_type": "execute_result"
    }
   ],
   "source": [
    "df_left = pl.DataFrame({\n",
    "    \"int_id\": [5, 10],\n",
    "    \"value\": [\"1\", \"2\"]\n",
    "})\n",
    "\n",
    "df_right = pl.DataFrame({\n",
    "    \"int_id\": [4, 7, 12],\n",
    "    \"value\": [1, 2, 3]\n",
    "})\n",
    "\n",
    "df_left.join_asof(df_right, on=\"int_id\", tolerance=3)"
   ]
  },
  {
   "cell_type": "code",
   "execution_count": 18,
   "id": "a48b9923",
   "metadata": {},
   "outputs": [
    {
     "data": {
      "text/html": [
       "<div><style>\n",
       ".dataframe > thead > tr,\n",
       ".dataframe > tbody > tr {\n",
       "  text-align: right;\n",
       "  white-space: pre-wrap;\n",
       "}\n",
       "</style>\n",
       "<small>shape: (2, 3)</small><table border=\"1\" class=\"dataframe\"><thead><tr><th>int_id</th><th>value</th><th>value_right</th></tr><tr><td>i64</td><td>str</td><td>i64</td></tr></thead><tbody><tr><td>5</td><td>&quot;1&quot;</td><td>1</td></tr><tr><td>10</td><td>&quot;2&quot;</td><td>2</td></tr></tbody></table></div>"
      ],
      "text/plain": [
       "shape: (2, 3)\n",
       "┌────────┬───────┬─────────────┐\n",
       "│ int_id ┆ value ┆ value_right │\n",
       "│ ---    ┆ ---   ┆ ---         │\n",
       "│ i64    ┆ str   ┆ i64         │\n",
       "╞════════╪═══════╪═════════════╡\n",
       "│ 5      ┆ 1     ┆ 1           │\n",
       "│ 10     ┆ 2     ┆ 2           │\n",
       "└────────┴───────┴─────────────┘"
      ]
     },
     "execution_count": 13,
     "metadata": {},
     "output_type": "execute_result"
    }
   ],
   "source": [
    "df_left = df_left.set_sorted(\"int_id\")\n",
    "df_right = df_right.set_sorted(\"int_id\")\n",
    "\n",
    "df_left.join_asof(df_right, on=\"int_id\")"
   ]
  },
  {
   "cell_type": "code",
   "execution_count": 19,
   "id": "771163b9",
   "metadata": {},
   "outputs": [
    {
     "data": {
      "text/html": [
       "<div><style>\n",
       ".dataframe > thead > tr,\n",
       ".dataframe > tbody > tr {\n",
       "  text-align: right;\n",
       "  white-space: pre-wrap;\n",
       "}\n",
       "</style>\n",
       "<small>shape: (2, 4)</small><table border=\"1\" class=\"dataframe\"><thead><tr><th>int_id</th><th>value</th><th>int_id_right</th><th>value_right</th></tr><tr><td>i64</td><td>str</td><td>i64</td><td>i64</td></tr></thead><tbody><tr><td>5</td><td>&quot;1&quot;</td><td>4</td><td>1</td></tr><tr><td>10</td><td>&quot;2&quot;</td><td>7</td><td>2</td></tr></tbody></table></div>"
      ],
      "text/plain": [
       "shape: (2, 4)\n",
       "┌────────┬───────┬──────────────┬─────────────┐\n",
       "│ int_id ┆ value ┆ int_id_right ┆ value_right │\n",
       "│ ---    ┆ ---   ┆ ---          ┆ ---         │\n",
       "│ i64    ┆ str   ┆ i64          ┆ i64         │\n",
       "╞════════╪═══════╪══════════════╪═════════════╡\n",
       "│ 5      ┆ 1     ┆ 4            ┆ 1           │\n",
       "│ 10     ┆ 2     ┆ 7            ┆ 2           │\n",
       "└────────┴───────┴──────────────┴─────────────┘"
      ]
     },
     "execution_count": 14,
     "metadata": {},
     "output_type": "execute_result"
    }
   ],
   "source": [
    "df_right = df_right.rename({\"int_id\": \"int_id_right\"})\n",
    "\n",
    "df_left.join_asof(\n",
    "    df_right,\n",
    "    left_on=\"int_id\",\n",
    "    right_on=\"int_id_right\",\n",
    ")"
   ]
  },
  {
   "cell_type": "code",
   "execution_count": 20,
   "id": "954c00e9",
   "metadata": {},
   "outputs": [
    {
     "data": {
      "text/html": [
       "<div><style>\n",
       ".dataframe > thead > tr,\n",
       ".dataframe > tbody > tr {\n",
       "  text-align: right;\n",
       "  white-space: pre-wrap;\n",
       "}\n",
       "</style>\n",
       "<small>shape: (2, 4)</small><table border=\"1\" class=\"dataframe\"><thead><tr><th>int_id</th><th>value</th><th>int_id_right</th><th>value_right</th></tr><tr><td>i64</td><td>str</td><td>i64</td><td>i64</td></tr></thead><tbody><tr><td>5</td><td>&quot;1&quot;</td><td>4</td><td>1</td></tr><tr><td>10</td><td>&quot;2&quot;</td><td>7</td><td>2</td></tr></tbody></table></div>"
      ],
      "text/plain": [
       "shape: (2, 4)\n",
       "┌────────┬───────┬──────────────┬─────────────┐\n",
       "│ int_id ┆ value ┆ int_id_right ┆ value_right │\n",
       "│ ---    ┆ ---   ┆ ---          ┆ ---         │\n",
       "│ i64    ┆ str   ┆ i64          ┆ i64         │\n",
       "╞════════╪═══════╪══════════════╪═════════════╡\n",
       "│ 5      ┆ 1     ┆ 4            ┆ 1           │\n",
       "│ 10     ┆ 2     ┆ 7            ┆ 2           │\n",
       "└────────┴───────┴──────────────┴─────────────┘"
      ]
     },
     "execution_count": 15,
     "metadata": {},
     "output_type": "execute_result"
    }
   ],
   "source": [
    "df_left.join_asof(\n",
    "    df_right,\n",
    "    left_on=\"int_id\",\n",
    "    right_on=\"int_id_right\",\n",
    "    tolerance=3,\n",
    "    strategy=\"backward\"\n",
    ")"
   ]
  },
  {
   "cell_type": "code",
   "execution_count": 21,
   "id": "fd19e5a7",
   "metadata": {},
   "outputs": [
    {
     "data": {
      "text/html": [
       "<div><style>\n",
       ".dataframe > thead > tr,\n",
       ".dataframe > tbody > tr {\n",
       "  text-align: right;\n",
       "  white-space: pre-wrap;\n",
       "}\n",
       "</style>\n",
       "<small>shape: (2, 4)</small><table border=\"1\" class=\"dataframe\"><thead><tr><th>int_id</th><th>value</th><th>int_id_right</th><th>value_right</th></tr><tr><td>i64</td><td>str</td><td>i64</td><td>i64</td></tr></thead><tbody><tr><td>5</td><td>&quot;1&quot;</td><td>7</td><td>2</td></tr><tr><td>10</td><td>&quot;2&quot;</td><td>12</td><td>3</td></tr></tbody></table></div>"
      ],
      "text/plain": [
       "shape: (2, 4)\n",
       "┌────────┬───────┬──────────────┬─────────────┐\n",
       "│ int_id ┆ value ┆ int_id_right ┆ value_right │\n",
       "│ ---    ┆ ---   ┆ ---          ┆ ---         │\n",
       "│ i64    ┆ str   ┆ i64          ┆ i64         │\n",
       "╞════════╪═══════╪══════════════╪═════════════╡\n",
       "│ 5      ┆ 1     ┆ 7            ┆ 2           │\n",
       "│ 10     ┆ 2     ┆ 12           ┆ 3           │\n",
       "└────────┴───────┴──────────────┴─────────────┘"
      ]
     },
     "execution_count": 16,
     "metadata": {},
     "output_type": "execute_result"
    }
   ],
   "source": [
    "df_left.join_asof(\n",
    "    df_right,\n",
    "    left_on=\"int_id\",\n",
    "    right_on=\"int_id_right\",\n",
    "    tolerance=3,\n",
    "    strategy=\"forward\"\n",
    ")"
   ]
  },
  {
   "cell_type": "code",
   "execution_count": 22,
   "id": "28bc1279",
   "metadata": {},
   "outputs": [
    {
     "data": {
      "text/html": [
       "<div><style>\n",
       ".dataframe > thead > tr,\n",
       ".dataframe > tbody > tr {\n",
       "  text-align: right;\n",
       "  white-space: pre-wrap;\n",
       "}\n",
       "</style>\n",
       "<small>shape: (2, 4)</small><table border=\"1\" class=\"dataframe\"><thead><tr><th>int_id</th><th>value</th><th>int_id_right</th><th>value_right</th></tr><tr><td>i64</td><td>str</td><td>i64</td><td>i64</td></tr></thead><tbody><tr><td>5</td><td>&quot;1&quot;</td><td>4</td><td>1</td></tr><tr><td>10</td><td>&quot;2&quot;</td><td>12</td><td>3</td></tr></tbody></table></div>"
      ],
      "text/plain": [
       "shape: (2, 4)\n",
       "┌────────┬───────┬──────────────┬─────────────┐\n",
       "│ int_id ┆ value ┆ int_id_right ┆ value_right │\n",
       "│ ---    ┆ ---   ┆ ---          ┆ ---         │\n",
       "│ i64    ┆ str   ┆ i64          ┆ i64         │\n",
       "╞════════╪═══════╪══════════════╪═════════════╡\n",
       "│ 5      ┆ 1     ┆ 4            ┆ 1           │\n",
       "│ 10     ┆ 2     ┆ 12           ┆ 3           │\n",
       "└────────┴───────┴──────────────┴─────────────┘"
      ]
     },
     "execution_count": 17,
     "metadata": {},
     "output_type": "execute_result"
    }
   ],
   "source": [
    "df_left.join_asof(\n",
    "    df_right,\n",
    "    left_on=\"int_id\",\n",
    "    right_on=\"int_id_right\",\n",
    "    tolerance=3,\n",
    "    strategy=\"nearest\"\n",
    ")"
   ]
  },
  {
   "cell_type": "markdown",
   "id": "2b13c7cb",
   "metadata": {},
   "source": [
    "### Additional Finetuning with `tolerance` and `by`"
   ]
  },
  {
   "cell_type": "markdown",
   "id": "20f064fb",
   "metadata": {},
   "source": [
    "### Use Case: Marketing Campaign Attribution"
   ]
  },
  {
   "cell_type": "code",
   "execution_count": 25,
   "id": "d26c68c2",
   "metadata": {},
   "outputs": [
    {
     "ename": "FileNotFoundError",
     "evalue": "No such file or directory (os error 2): data/marketing use case/marketing_campaigns.csv",
     "output_type": "error",
     "traceback": [
      "\u001b[0;31m---------------------------------------------------------------------------\u001b[0m",
      "\u001b[0;31mFileNotFoundError\u001b[0m                         Traceback (most recent call last)",
      "Cell \u001b[0;32mIn[18], line 2\u001b[0m\n\u001b[1;32m      1\u001b[0m marketing_lf \u001b[38;5;241m=\u001b[39m pl\u001b[38;5;241m.\u001b[39mscan_csv(\u001b[38;5;124m\"\u001b[39m\u001b[38;5;124mdata/marketing use case/marketing_campaigns.csv\u001b[39m\u001b[38;5;124m\"\u001b[39m)\n\u001b[0;32m----> 2\u001b[0m \u001b[43mmarketing_lf\u001b[49m\u001b[38;5;241;43m.\u001b[39;49m\u001b[43mfetch\u001b[49m\u001b[43m(\u001b[49m\u001b[38;5;241;43m1\u001b[39;49m\u001b[43m)\u001b[49m\n",
      "File \u001b[0;32m~/Library/Caches/pypoetry/virtualenvs/python-polars-the-definitive-guide-b_q50VVY-py3.11/lib/python3.11/site-packages/polars/lazyframe/frame.py:2645\u001b[0m, in \u001b[0;36mLazyFrame.fetch\u001b[0;34m(self, n_rows, type_coercion, predicate_pushdown, projection_pushdown, simplify_expression, no_optimization, slice_pushdown, comm_subplan_elim, comm_subexpr_elim, cluster_with_columns, streaming)\u001b[0m\n\u001b[1;32m   2631\u001b[0m     cluster_with_columns \u001b[38;5;241m=\u001b[39m \u001b[38;5;28;01mFalse\u001b[39;00m\n\u001b[1;32m   2633\u001b[0m lf \u001b[38;5;241m=\u001b[39m \u001b[38;5;28mself\u001b[39m\u001b[38;5;241m.\u001b[39m_ldf\u001b[38;5;241m.\u001b[39moptimization_toggle(\n\u001b[1;32m   2634\u001b[0m     type_coercion,\n\u001b[1;32m   2635\u001b[0m     predicate_pushdown,\n\u001b[0;32m   (...)\u001b[0m\n\u001b[1;32m   2643\u001b[0m     _eager\u001b[38;5;241m=\u001b[39m\u001b[38;5;28;01mFalse\u001b[39;00m,\n\u001b[1;32m   2644\u001b[0m )\n\u001b[0;32m-> 2645\u001b[0m \u001b[38;5;28;01mreturn\u001b[39;00m wrap_df(\u001b[43mlf\u001b[49m\u001b[38;5;241;43m.\u001b[39;49m\u001b[43mfetch\u001b[49m\u001b[43m(\u001b[49m\u001b[43mn_rows\u001b[49m\u001b[43m)\u001b[49m)\n",
      "\u001b[0;31mFileNotFoundError\u001b[0m: No such file or directory (os error 2): data/marketing use case/marketing_campaigns.csv"
     ]
    }
   ],
   "source": [
    "marketing_lf = pl.scan_csv(\"data/marketing use case/marketing_campaigns.csv\")\n",
    "marketing_lf.fetch(1)"
   ]
  },
  {
   "cell_type": "code",
   "execution_count": 26,
   "id": "e74a023e",
   "metadata": {},
   "outputs": [
    {
     "ename": "FileNotFoundError",
     "evalue": "No such file or directory (os error 2): data/marketing use case/marketing_campaigns.csv\n\nThis error occurred with the following context stack:\n\t[1] 'csv scan' failed\n\t[2] 'select' input failed to resolve\n",
     "output_type": "error",
     "traceback": [
      "\u001b[0;31m---------------------------------------------------------------------------\u001b[0m",
      "\u001b[0;31mFileNotFoundError\u001b[0m                         Traceback (most recent call last)",
      "Cell \u001b[0;32mIn[19], line 1\u001b[0m\n\u001b[0;32m----> 1\u001b[0m \u001b[43mmarketing_lf\u001b[49m\u001b[38;5;241;43m.\u001b[39;49m\u001b[43mselect\u001b[49m\u001b[43m(\u001b[49m\u001b[43mpl\u001b[49m\u001b[38;5;241;43m.\u001b[39;49m\u001b[43mcol\u001b[49m\u001b[43m(\u001b[49m\u001b[38;5;124;43m\"\u001b[39;49m\u001b[38;5;124;43mProduct Type\u001b[39;49m\u001b[38;5;124;43m\"\u001b[39;49m\u001b[43m)\u001b[49m\u001b[38;5;241;43m.\u001b[39;49m\u001b[43munique\u001b[49m\u001b[43m(\u001b[49m\u001b[43m)\u001b[49m\u001b[43m)\u001b[49m\u001b[38;5;241;43m.\u001b[39;49m\u001b[43mcollect\u001b[49m\u001b[43m(\u001b[49m\u001b[43m)\u001b[49m\n",
      "File \u001b[0;32m~/Library/Caches/pypoetry/virtualenvs/python-polars-the-definitive-guide-b_q50VVY-py3.11/lib/python3.11/site-packages/polars/lazyframe/frame.py:1967\u001b[0m, in \u001b[0;36mLazyFrame.collect\u001b[0;34m(self, type_coercion, predicate_pushdown, projection_pushdown, simplify_expression, slice_pushdown, comm_subplan_elim, comm_subexpr_elim, cluster_with_columns, no_optimization, streaming, background, _eager, **_kwargs)\u001b[0m\n\u001b[1;32m   1964\u001b[0m \u001b[38;5;66;03m# Only for testing purposes atm.\u001b[39;00m\n\u001b[1;32m   1965\u001b[0m callback \u001b[38;5;241m=\u001b[39m _kwargs\u001b[38;5;241m.\u001b[39mget(\u001b[38;5;124m\"\u001b[39m\u001b[38;5;124mpost_opt_callback\u001b[39m\u001b[38;5;124m\"\u001b[39m)\n\u001b[0;32m-> 1967\u001b[0m \u001b[38;5;28;01mreturn\u001b[39;00m wrap_df(\u001b[43mldf\u001b[49m\u001b[38;5;241;43m.\u001b[39;49m\u001b[43mcollect\u001b[49m\u001b[43m(\u001b[49m\u001b[43mcallback\u001b[49m\u001b[43m)\u001b[49m)\n",
      "\u001b[0;31mFileNotFoundError\u001b[0m: No such file or directory (os error 2): data/marketing use case/marketing_campaigns.csv\n\nThis error occurred with the following context stack:\n\t[1] 'csv scan' failed\n\t[2] 'select' input failed to resolve\n"
     ]
    }
   ],
   "source": [
    "marketing_lf.select(pl.col(\"Product Type\").unique()).collect()"
   ]
  },
  {
   "cell_type": "code",
   "execution_count": 27,
   "id": "d8607393",
   "metadata": {},
   "outputs": [
    {
     "ename": "FileNotFoundError",
     "evalue": "No such file or directory (os error 2): data/marketing use case/sales_data.csv",
     "output_type": "error",
     "traceback": [
      "\u001b[0;31m---------------------------------------------------------------------------\u001b[0m",
      "\u001b[0;31mFileNotFoundError\u001b[0m                         Traceback (most recent call last)",
      "Cell \u001b[0;32mIn[20], line 2\u001b[0m\n\u001b[1;32m      1\u001b[0m sales_lf \u001b[38;5;241m=\u001b[39m pl\u001b[38;5;241m.\u001b[39mscan_csv(\u001b[38;5;124m\"\u001b[39m\u001b[38;5;124mdata/marketing use case/sales_data.csv\u001b[39m\u001b[38;5;124m\"\u001b[39m)\n\u001b[0;32m----> 2\u001b[0m \u001b[43msales_lf\u001b[49m\u001b[38;5;241;43m.\u001b[39;49m\u001b[43mfetch\u001b[49m\u001b[43m(\u001b[49m\u001b[38;5;241;43m1\u001b[39;49m\u001b[43m)\u001b[49m\n",
      "File \u001b[0;32m~/Library/Caches/pypoetry/virtualenvs/python-polars-the-definitive-guide-b_q50VVY-py3.11/lib/python3.11/site-packages/polars/lazyframe/frame.py:2645\u001b[0m, in \u001b[0;36mLazyFrame.fetch\u001b[0;34m(self, n_rows, type_coercion, predicate_pushdown, projection_pushdown, simplify_expression, no_optimization, slice_pushdown, comm_subplan_elim, comm_subexpr_elim, cluster_with_columns, streaming)\u001b[0m\n\u001b[1;32m   2631\u001b[0m     cluster_with_columns \u001b[38;5;241m=\u001b[39m \u001b[38;5;28;01mFalse\u001b[39;00m\n\u001b[1;32m   2633\u001b[0m lf \u001b[38;5;241m=\u001b[39m \u001b[38;5;28mself\u001b[39m\u001b[38;5;241m.\u001b[39m_ldf\u001b[38;5;241m.\u001b[39moptimization_toggle(\n\u001b[1;32m   2634\u001b[0m     type_coercion,\n\u001b[1;32m   2635\u001b[0m     predicate_pushdown,\n\u001b[0;32m   (...)\u001b[0m\n\u001b[1;32m   2643\u001b[0m     _eager\u001b[38;5;241m=\u001b[39m\u001b[38;5;28;01mFalse\u001b[39;00m,\n\u001b[1;32m   2644\u001b[0m )\n\u001b[0;32m-> 2645\u001b[0m \u001b[38;5;28;01mreturn\u001b[39;00m wrap_df(\u001b[43mlf\u001b[49m\u001b[38;5;241;43m.\u001b[39;49m\u001b[43mfetch\u001b[49m\u001b[43m(\u001b[49m\u001b[43mn_rows\u001b[49m\u001b[43m)\u001b[49m)\n",
      "\u001b[0;31mFileNotFoundError\u001b[0m: No such file or directory (os error 2): data/marketing use case/sales_data.csv"
     ]
    }
   ],
   "source": [
    "sales_lf = pl.scan_csv(\"data/marketing use case/sales_data.csv\")\n",
    "sales_lf.fetch(1)"
   ]
  },
  {
   "cell_type": "code",
   "execution_count": 28,
   "id": "9586a670",
   "metadata": {},
   "outputs": [
    {
     "ename": "FileNotFoundError",
     "evalue": "No such file or directory (os error 2): data/marketing use case/sales_data.csv\n\nThis error occurred with the following context stack:\n\t[1] 'csv scan' failed\n\t[2] 'with_columns' input failed to resolve\n\t[3] 'sort' input failed to resolve\n\t[4] 'join left' input failed to resolve\n",
     "output_type": "error",
     "traceback": [
      "\u001b[0;31m---------------------------------------------------------------------------\u001b[0m",
      "\u001b[0;31mFileNotFoundError\u001b[0m                         Traceback (most recent call last)",
      "Cell \u001b[0;32mIn[21], line 22\u001b[0m\n\u001b[1;32m      1\u001b[0m sales_lf \u001b[38;5;241m=\u001b[39m sales_lf\u001b[38;5;241m.\u001b[39mwith_columns(\n\u001b[1;32m      2\u001b[0m     pl\u001b[38;5;241m.\u001b[39mcol(\u001b[38;5;124m\"\u001b[39m\u001b[38;5;124mSale Date\u001b[39m\u001b[38;5;124m\"\u001b[39m)\n\u001b[1;32m      3\u001b[0m     \u001b[38;5;241m.\u001b[39mstr\u001b[38;5;241m.\u001b[39mto_datetime(\u001b[38;5;124m\"\u001b[39m\u001b[38;5;124m%\u001b[39m\u001b[38;5;124mY-\u001b[39m\u001b[38;5;124m%\u001b[39m\u001b[38;5;124mm-\u001b[39m\u001b[38;5;132;01m%d\u001b[39;00m\u001b[38;5;124m \u001b[39m\u001b[38;5;124m%\u001b[39m\u001b[38;5;124mH:\u001b[39m\u001b[38;5;124m%\u001b[39m\u001b[38;5;124mM:\u001b[39m\u001b[38;5;124m%\u001b[39m\u001b[38;5;124mS\u001b[39m\u001b[38;5;124m%\u001b[39m\u001b[38;5;124m.f\u001b[39m\u001b[38;5;124m\"\u001b[39m)\n\u001b[1;32m      4\u001b[0m     \u001b[38;5;241m.\u001b[39mcast(pl\u001b[38;5;241m.\u001b[39mDatetime(\u001b[38;5;124m\"\u001b[39m\u001b[38;5;124mus\u001b[39m\u001b[38;5;124m\"\u001b[39m)),\n\u001b[1;32m      5\u001b[0m )\n\u001b[1;32m      6\u001b[0m marketing_lf \u001b[38;5;241m=\u001b[39m marketing_lf\u001b[38;5;241m.\u001b[39mwith_columns(\n\u001b[1;32m      7\u001b[0m     pl\u001b[38;5;241m.\u001b[39mcol(\u001b[38;5;124m\"\u001b[39m\u001b[38;5;124mCampaign Date\u001b[39m\u001b[38;5;124m\"\u001b[39m)\u001b[38;5;241m.\u001b[39mstr\u001b[38;5;241m.\u001b[39mto_datetime(\u001b[38;5;124m\"\u001b[39m\u001b[38;5;124m%\u001b[39m\u001b[38;5;124mY-\u001b[39m\u001b[38;5;124m%\u001b[39m\u001b[38;5;124mm-\u001b[39m\u001b[38;5;132;01m%d\u001b[39;00m\u001b[38;5;124m \u001b[39m\u001b[38;5;124m%\u001b[39m\u001b[38;5;124mH:\u001b[39m\u001b[38;5;124m%\u001b[39m\u001b[38;5;124mM:\u001b[39m\u001b[38;5;124m%\u001b[39m\u001b[38;5;124mS\u001b[39m\u001b[38;5;124m\"\u001b[39m),\n\u001b[1;32m      8\u001b[0m )\n\u001b[1;32m     10\u001b[0m sales_with_campaign_df \u001b[38;5;241m=\u001b[39m (\n\u001b[1;32m     11\u001b[0m     \u001b[43msales_lf\u001b[49m\n\u001b[1;32m     12\u001b[0m \u001b[43m    \u001b[49m\u001b[38;5;241;43m.\u001b[39;49m\u001b[43msort\u001b[49m\u001b[43m(\u001b[49m\u001b[38;5;124;43m\"\u001b[39;49m\u001b[38;5;124;43mSale Date\u001b[39;49m\u001b[38;5;124;43m\"\u001b[39;49m\u001b[43m)\u001b[49m\n\u001b[1;32m     13\u001b[0m \u001b[43m    \u001b[49m\u001b[38;5;241;43m.\u001b[39;49m\u001b[43mjoin_asof\u001b[49m\u001b[43m(\u001b[49m\n\u001b[1;32m     14\u001b[0m \u001b[43m        \u001b[49m\u001b[43mmarketing_lf\u001b[49m\n\u001b[1;32m     15\u001b[0m \u001b[43m        \u001b[49m\u001b[38;5;241;43m.\u001b[39;49m\u001b[43msort\u001b[49m\u001b[43m(\u001b[49m\u001b[38;5;124;43m\"\u001b[39;49m\u001b[38;5;124;43mCampaign Date\u001b[39;49m\u001b[38;5;124;43m\"\u001b[39;49m\u001b[43m)\u001b[49m\u001b[43m,\u001b[49m\n\u001b[1;32m     16\u001b[0m \u001b[43m        \u001b[49m\u001b[43mleft_on\u001b[49m\u001b[38;5;241;43m=\u001b[39;49m\u001b[38;5;124;43m\"\u001b[39;49m\u001b[38;5;124;43mSale Date\u001b[39;49m\u001b[38;5;124;43m\"\u001b[39;49m\u001b[43m,\u001b[49m\n\u001b[1;32m     17\u001b[0m \u001b[43m        \u001b[49m\u001b[43mright_on\u001b[49m\u001b[38;5;241;43m=\u001b[39;49m\u001b[38;5;124;43m\"\u001b[39;49m\u001b[38;5;124;43mCampaign Date\u001b[39;49m\u001b[38;5;124;43m\"\u001b[39;49m\u001b[43m,\u001b[49m\n\u001b[1;32m     18\u001b[0m \u001b[43m        \u001b[49m\u001b[43mby\u001b[49m\u001b[38;5;241;43m=\u001b[39;49m\u001b[38;5;124;43m\"\u001b[39;49m\u001b[38;5;124;43mProduct Type\u001b[39;49m\u001b[38;5;124;43m\"\u001b[39;49m\u001b[43m,\u001b[49m\n\u001b[1;32m     19\u001b[0m \u001b[43m        \u001b[49m\u001b[43mstrategy\u001b[49m\u001b[38;5;241;43m=\u001b[39;49m\u001b[38;5;124;43m\"\u001b[39;49m\u001b[38;5;124;43mbackward\u001b[39;49m\u001b[38;5;124;43m\"\u001b[39;49m\u001b[43m,\u001b[49m\n\u001b[1;32m     20\u001b[0m \u001b[43m        \u001b[49m\u001b[43mtolerance\u001b[49m\u001b[38;5;241;43m=\u001b[39;49m\u001b[38;5;124;43m\"\u001b[39;49m\u001b[38;5;124;43m60d\u001b[39;49m\u001b[38;5;124;43m\"\u001b[39;49m\n\u001b[1;32m     21\u001b[0m \u001b[43m    \u001b[49m\u001b[43m)\u001b[49m\n\u001b[0;32m---> 22\u001b[0m \u001b[43m    \u001b[49m\u001b[38;5;241;43m.\u001b[39;49m\u001b[43mcollect\u001b[49m\u001b[43m(\u001b[49m\u001b[43m)\u001b[49m\n\u001b[1;32m     23\u001b[0m )\n\u001b[1;32m     24\u001b[0m sales_with_campaign_df\n",
      "File \u001b[0;32m~/Library/Caches/pypoetry/virtualenvs/python-polars-the-definitive-guide-b_q50VVY-py3.11/lib/python3.11/site-packages/polars/lazyframe/frame.py:1967\u001b[0m, in \u001b[0;36mLazyFrame.collect\u001b[0;34m(self, type_coercion, predicate_pushdown, projection_pushdown, simplify_expression, slice_pushdown, comm_subplan_elim, comm_subexpr_elim, cluster_with_columns, no_optimization, streaming, background, _eager, **_kwargs)\u001b[0m\n\u001b[1;32m   1964\u001b[0m \u001b[38;5;66;03m# Only for testing purposes atm.\u001b[39;00m\n\u001b[1;32m   1965\u001b[0m callback \u001b[38;5;241m=\u001b[39m _kwargs\u001b[38;5;241m.\u001b[39mget(\u001b[38;5;124m\"\u001b[39m\u001b[38;5;124mpost_opt_callback\u001b[39m\u001b[38;5;124m\"\u001b[39m)\n\u001b[0;32m-> 1967\u001b[0m \u001b[38;5;28;01mreturn\u001b[39;00m wrap_df(\u001b[43mldf\u001b[49m\u001b[38;5;241;43m.\u001b[39;49m\u001b[43mcollect\u001b[49m\u001b[43m(\u001b[49m\u001b[43mcallback\u001b[49m\u001b[43m)\u001b[49m)\n",
      "\u001b[0;31mFileNotFoundError\u001b[0m: No such file or directory (os error 2): data/marketing use case/sales_data.csv\n\nThis error occurred with the following context stack:\n\t[1] 'csv scan' failed\n\t[2] 'with_columns' input failed to resolve\n\t[3] 'sort' input failed to resolve\n\t[4] 'join left' input failed to resolve\n"
     ]
    }
   ],
   "source": [
    "sales_lf = sales_lf.with_columns(\n",
    "    pl.col(\"Sale Date\")\n",
    "    .str.to_datetime(\"%Y-%m-%d %H:%M:%S%.f\")\n",
    "    .cast(pl.Datetime(\"us\")),\n",
    ")\n",
    "marketing_lf = marketing_lf.with_columns(\n",
    "    pl.col(\"Campaign Date\").str.to_datetime(\"%Y-%m-%d %H:%M:%S\"),\n",
    ")\n",
    "\n",
    "sales_with_campaign_df = (\n",
    "    sales_lf\n",
    "    .sort(\"Sale Date\")\n",
    "    .join_asof(\n",
    "        marketing_lf\n",
    "        .sort(\"Campaign Date\"),\n",
    "        left_on=\"Sale Date\",\n",
    "        right_on=\"Campaign Date\",\n",
    "        by=\"Product Type\",\n",
    "        strategy=\"backward\",\n",
    "        tolerance=\"60d\"\n",
    "    )\n",
    "    .collect()\n",
    ")\n",
    "sales_with_campaign_df"
   ]
  },
  {
   "cell_type": "code",
   "execution_count": 29,
   "id": "f6c67093",
   "metadata": {},
   "outputs": [
    {
     "ename": "NameError",
     "evalue": "name 'sales_with_campaign_df' is not defined",
     "output_type": "error",
     "traceback": [
      "\u001b[0;31m---------------------------------------------------------------------------\u001b[0m",
      "\u001b[0;31mNameError\u001b[0m                                 Traceback (most recent call last)",
      "Cell \u001b[0;32mIn[22], line 2\u001b[0m\n\u001b[1;32m      1\u001b[0m (\n\u001b[0;32m----> 2\u001b[0m     \u001b[43msales_with_campaign_df\u001b[49m\n\u001b[1;32m      3\u001b[0m     \u001b[38;5;241m.\u001b[39mgroup_by(\u001b[38;5;124m\"\u001b[39m\u001b[38;5;124mProduct Type\u001b[39m\u001b[38;5;124m\"\u001b[39m, \u001b[38;5;124m\"\u001b[39m\u001b[38;5;124mCampaign Name\u001b[39m\u001b[38;5;124m\"\u001b[39m)\n\u001b[1;32m      4\u001b[0m     \u001b[38;5;241m.\u001b[39magg(pl\u001b[38;5;241m.\u001b[39mcol(\u001b[38;5;124m\"\u001b[39m\u001b[38;5;124mQuantity\u001b[39m\u001b[38;5;124m\"\u001b[39m)\u001b[38;5;241m.\u001b[39mmean())\n\u001b[1;32m      5\u001b[0m     \u001b[38;5;241m.\u001b[39msort(\u001b[38;5;124m\"\u001b[39m\u001b[38;5;124mProduct Type\u001b[39m\u001b[38;5;124m\"\u001b[39m, \u001b[38;5;124m\"\u001b[39m\u001b[38;5;124mCampaign Name\u001b[39m\u001b[38;5;124m\"\u001b[39m)\n\u001b[1;32m      6\u001b[0m )\n",
      "\u001b[0;31mNameError\u001b[0m: name 'sales_with_campaign_df' is not defined"
     ]
    }
   ],
   "source": [
    "(\n",
    "    sales_with_campaign_df\n",
    "    .group_by(\"Product Type\", \"Campaign Name\")\n",
    "    .agg(pl.col(\"Quantity\").mean())\n",
    "    .sort(\"Product Type\", \"Campaign Name\")\n",
    ")"
   ]
  },
  {
   "cell_type": "code",
   "execution_count": 30,
   "id": "a257e3a1",
   "metadata": {},
   "outputs": [
    {
     "ename": "FileNotFoundError",
     "evalue": "No such file or directory (os error 2): data/marketing use case/marketing_campaigns.csv\n\nThis error occurred with the following context stack:\n\t[1] 'csv scan' failed\n\t[2] 'with_columns' input failed to resolve\n\t[3] 'filter' input failed to resolve\n",
     "output_type": "error",
     "traceback": [
      "\u001b[0;31m---------------------------------------------------------------------------\u001b[0m",
      "\u001b[0;31mFileNotFoundError\u001b[0m                         Traceback (most recent call last)",
      "Cell \u001b[0;32mIn[23], line 1\u001b[0m\n\u001b[0;32m----> 1\u001b[0m \u001b[43mmarketing_lf\u001b[49m\u001b[38;5;241;43m.\u001b[39;49m\u001b[43mfilter\u001b[49m\u001b[43m(\u001b[49m\u001b[43mpl\u001b[49m\u001b[38;5;241;43m.\u001b[39;49m\u001b[43mcol\u001b[49m\u001b[43m(\u001b[49m\u001b[38;5;124;43m\"\u001b[39;49m\u001b[38;5;124;43mProduct Type\u001b[39;49m\u001b[38;5;124;43m\"\u001b[39;49m\u001b[43m)\u001b[49m\u001b[43m \u001b[49m\u001b[38;5;241;43m==\u001b[39;49m\u001b[43m \u001b[49m\u001b[38;5;124;43m\"\u001b[39;49m\u001b[38;5;124;43mBooks\u001b[39;49m\u001b[38;5;124;43m\"\u001b[39;49m\u001b[43m)\u001b[49m\u001b[38;5;241;43m.\u001b[39;49m\u001b[43mcollect\u001b[49m\u001b[43m(\u001b[49m\u001b[43m)\u001b[49m\n",
      "File \u001b[0;32m~/Library/Caches/pypoetry/virtualenvs/python-polars-the-definitive-guide-b_q50VVY-py3.11/lib/python3.11/site-packages/polars/lazyframe/frame.py:1967\u001b[0m, in \u001b[0;36mLazyFrame.collect\u001b[0;34m(self, type_coercion, predicate_pushdown, projection_pushdown, simplify_expression, slice_pushdown, comm_subplan_elim, comm_subexpr_elim, cluster_with_columns, no_optimization, streaming, background, _eager, **_kwargs)\u001b[0m\n\u001b[1;32m   1964\u001b[0m \u001b[38;5;66;03m# Only for testing purposes atm.\u001b[39;00m\n\u001b[1;32m   1965\u001b[0m callback \u001b[38;5;241m=\u001b[39m _kwargs\u001b[38;5;241m.\u001b[39mget(\u001b[38;5;124m\"\u001b[39m\u001b[38;5;124mpost_opt_callback\u001b[39m\u001b[38;5;124m\"\u001b[39m)\n\u001b[0;32m-> 1967\u001b[0m \u001b[38;5;28;01mreturn\u001b[39;00m wrap_df(\u001b[43mldf\u001b[49m\u001b[38;5;241;43m.\u001b[39;49m\u001b[43mcollect\u001b[49m\u001b[43m(\u001b[49m\u001b[43mcallback\u001b[49m\u001b[43m)\u001b[49m)\n",
      "\u001b[0;31mFileNotFoundError\u001b[0m: No such file or directory (os error 2): data/marketing use case/marketing_campaigns.csv\n\nThis error occurred with the following context stack:\n\t[1] 'csv scan' failed\n\t[2] 'with_columns' input failed to resolve\n\t[3] 'filter' input failed to resolve\n"
     ]
    }
   ],
   "source": [
    "marketing_lf.filter(pl.col(\"Product Type\") == \"Books\").collect()"
   ]
  },
  {
   "cell_type": "code",
   "execution_count": 31,
   "id": "15c30f03",
   "metadata": {},
   "outputs": [
    {
     "ename": "FileNotFoundError",
     "evalue": "No such file or directory (os error 2): data/marketing use case/sales_data.csv\n\nThis error occurred with the following context stack:\n\t[1] 'csv scan' failed\n\t[2] 'with_columns' input failed to resolve\n\t[3] 'filter' input failed to resolve\n",
     "output_type": "error",
     "traceback": [
      "\u001b[0;31m---------------------------------------------------------------------------\u001b[0m",
      "\u001b[0;31mFileNotFoundError\u001b[0m                         Traceback (most recent call last)",
      "Cell \u001b[0;32mIn[24], line 10\u001b[0m\n\u001b[1;32m      1\u001b[0m (\n\u001b[1;32m      2\u001b[0m     \u001b[43msales_lf\u001b[49m\n\u001b[1;32m      3\u001b[0m \u001b[43m    \u001b[49m\u001b[38;5;241;43m.\u001b[39;49m\u001b[43mfilter\u001b[49m\u001b[43m(\u001b[49m\n\u001b[1;32m      4\u001b[0m \u001b[43m        \u001b[49m\u001b[43m(\u001b[49m\u001b[43mpl\u001b[49m\u001b[38;5;241;43m.\u001b[39;49m\u001b[43mcol\u001b[49m\u001b[43m(\u001b[49m\u001b[38;5;124;43m\"\u001b[39;49m\u001b[38;5;124;43mProduct Type\u001b[39;49m\u001b[38;5;124;43m\"\u001b[39;49m\u001b[43m)\u001b[49m\u001b[43m \u001b[49m\u001b[38;5;241;43m==\u001b[39;49m\u001b[43m \u001b[49m\u001b[38;5;124;43m\"\u001b[39;49m\u001b[38;5;124;43mBooks\u001b[39;49m\u001b[38;5;124;43m\"\u001b[39;49m\u001b[43m)\u001b[49m\u001b[43m \u001b[49m\u001b[38;5;241;43m&\u001b[39;49m\n\u001b[1;32m      5\u001b[0m \u001b[43m        \u001b[49m\u001b[43m(\u001b[49m\n\u001b[1;32m      6\u001b[0m \u001b[43m            \u001b[49m\u001b[43mpl\u001b[49m\u001b[38;5;241;43m.\u001b[39;49m\u001b[43mcol\u001b[49m\u001b[43m(\u001b[49m\u001b[38;5;124;43m\"\u001b[39;49m\u001b[38;5;124;43mSale Date\u001b[39;49m\u001b[38;5;124;43m\"\u001b[39;49m\u001b[43m)\u001b[49m\u001b[43m \u001b[49m\u001b[38;5;241;43m>\u001b[39;49m\n\u001b[1;32m      7\u001b[0m \u001b[43m            \u001b[49m\u001b[43mpl\u001b[49m\u001b[38;5;241;43m.\u001b[39;49m\u001b[43mlit\u001b[49m\u001b[43m(\u001b[49m\u001b[38;5;124;43m\"\u001b[39;49m\u001b[38;5;124;43m2023-12-31 21:00:00\u001b[39;49m\u001b[38;5;124;43m\"\u001b[39;49m\u001b[43m)\u001b[49m\u001b[38;5;241;43m.\u001b[39;49m\u001b[43mstr\u001b[49m\u001b[38;5;241;43m.\u001b[39;49m\u001b[43mto_datetime\u001b[49m\u001b[43m(\u001b[49m\u001b[43m)\u001b[49m\n\u001b[1;32m      8\u001b[0m \u001b[43m        \u001b[49m\u001b[43m)\u001b[49m\n\u001b[1;32m      9\u001b[0m \u001b[43m    \u001b[49m\u001b[43m)\u001b[49m\n\u001b[0;32m---> 10\u001b[0m \u001b[43m    \u001b[49m\u001b[38;5;241;43m.\u001b[39;49m\u001b[43mcollect\u001b[49m\u001b[43m(\u001b[49m\u001b[43m)\u001b[49m\n\u001b[1;32m     11\u001b[0m )\n",
      "File \u001b[0;32m~/Library/Caches/pypoetry/virtualenvs/python-polars-the-definitive-guide-b_q50VVY-py3.11/lib/python3.11/site-packages/polars/lazyframe/frame.py:1967\u001b[0m, in \u001b[0;36mLazyFrame.collect\u001b[0;34m(self, type_coercion, predicate_pushdown, projection_pushdown, simplify_expression, slice_pushdown, comm_subplan_elim, comm_subexpr_elim, cluster_with_columns, no_optimization, streaming, background, _eager, **_kwargs)\u001b[0m\n\u001b[1;32m   1964\u001b[0m \u001b[38;5;66;03m# Only for testing purposes atm.\u001b[39;00m\n\u001b[1;32m   1965\u001b[0m callback \u001b[38;5;241m=\u001b[39m _kwargs\u001b[38;5;241m.\u001b[39mget(\u001b[38;5;124m\"\u001b[39m\u001b[38;5;124mpost_opt_callback\u001b[39m\u001b[38;5;124m\"\u001b[39m)\n\u001b[0;32m-> 1967\u001b[0m \u001b[38;5;28;01mreturn\u001b[39;00m wrap_df(\u001b[43mldf\u001b[49m\u001b[38;5;241;43m.\u001b[39;49m\u001b[43mcollect\u001b[49m\u001b[43m(\u001b[49m\u001b[43mcallback\u001b[49m\u001b[43m)\u001b[49m)\n",
      "\u001b[0;31mFileNotFoundError\u001b[0m: No such file or directory (os error 2): data/marketing use case/sales_data.csv\n\nThis error occurred with the following context stack:\n\t[1] 'csv scan' failed\n\t[2] 'with_columns' input failed to resolve\n\t[3] 'filter' input failed to resolve\n"
     ]
    }
   ],
   "source": [
    "(\n",
    "    sales_lf\n",
    "    .filter(\n",
    "        (pl.col(\"Product Type\") == \"Books\") &\n",
    "        (\n",
    "            pl.col(\"Sale Date\") >\n",
    "            pl.lit(\"2023-12-31 21:00:00\").str.to_datetime()\n",
    "        )\n",
    "    )\n",
    "    .collect()\n",
    ")"
   ]
  },
  {
   "cell_type": "markdown",
   "id": "b5d40b24",
   "metadata": {},
   "source": [
    "## Vertical and Horizontal Concatenation"
   ]
  },
  {
   "cell_type": "code",
   "execution_count": 33,
   "id": "8525eb7b",
   "metadata": {},
   "outputs": [
    {
     "data": {
      "text/html": [
       "<div><style>\n",
       ".dataframe > thead > tr,\n",
       ".dataframe > tbody > tr {\n",
       "  text-align: right;\n",
       "  white-space: pre-wrap;\n",
       "}\n",
       "</style>\n",
       "<small>shape: (5, 2)</small><table border=\"1\" class=\"dataframe\"><thead><tr><th>id</th><th>value</th></tr><tr><td>i64</td><td>str</td></tr></thead><tbody><tr><td>1</td><td>&quot;a&quot;</td></tr><tr><td>2</td><td>&quot;b&quot;</td></tr><tr><td>3</td><td>&quot;c&quot;</td></tr><tr><td>4</td><td>&quot;d&quot;</td></tr><tr><td>5</td><td>&quot;e&quot;</td></tr></tbody></table></div>"
      ],
      "text/plain": [
       "shape: (5, 2)\n",
       "┌─────┬───────┐\n",
       "│ id  ┆ value │\n",
       "│ --- ┆ ---   │\n",
       "│ i64 ┆ str   │\n",
       "╞═════╪═══════╡\n",
       "│ 1   ┆ a     │\n",
       "│ 2   ┆ b     │\n",
       "│ 3   ┆ c     │\n",
       "│ 4   ┆ d     │\n",
       "│ 5   ┆ e     │\n",
       "└─────┴───────┘"
      ]
     },
     "execution_count": 25,
     "metadata": {},
     "output_type": "execute_result"
    }
   ],
   "source": [
    "df1 = pl.DataFrame({\n",
    "    \"id\": [1, 2, 3],\n",
    "    \"value\": [\"a\", \"b\", \"c\"],\n",
    "})\n",
    "df2 = pl.DataFrame({\n",
    "    \"id\": [4, 5],\n",
    "    \"value\": [\"d\", \"e\"],\n",
    "})\n",
    "pl.concat([df1,df2], how=\"vertical\")"
   ]
  },
  {
   "cell_type": "code",
   "execution_count": 34,
   "id": "5e41aaac",
   "metadata": {},
   "outputs": [
    {
     "data": {
      "text/html": [
       "<div><style>\n",
       ".dataframe > thead > tr,\n",
       ".dataframe > tbody > tr {\n",
       "  text-align: right;\n",
       "  white-space: pre-wrap;\n",
       "}\n",
       "</style>\n",
       "<small>shape: (3, 3)</small><table border=\"1\" class=\"dataframe\"><thead><tr><th>id</th><th>value</th><th>value2</th></tr><tr><td>i64</td><td>str</td><td>str</td></tr></thead><tbody><tr><td>1</td><td>&quot;a&quot;</td><td>&quot;x&quot;</td></tr><tr><td>2</td><td>&quot;b&quot;</td><td>&quot;y&quot;</td></tr><tr><td>3</td><td>&quot;c&quot;</td><td>null</td></tr></tbody></table></div>"
      ],
      "text/plain": [
       "shape: (3, 3)\n",
       "┌─────┬───────┬────────┐\n",
       "│ id  ┆ value ┆ value2 │\n",
       "│ --- ┆ ---   ┆ ---    │\n",
       "│ i64 ┆ str   ┆ str    │\n",
       "╞═════╪═══════╪════════╡\n",
       "│ 1   ┆ a     ┆ x      │\n",
       "│ 2   ┆ b     ┆ y      │\n",
       "│ 3   ┆ c     ┆ null   │\n",
       "└─────┴───────┴────────┘"
      ]
     },
     "execution_count": 26,
     "metadata": {},
     "output_type": "execute_result"
    }
   ],
   "source": [
    "df1 = pl.DataFrame({\n",
    "    \"id\": [1, 2, 3],\n",
    "    \"value\": [\"a\", \"b\", \"c\"],\n",
    "})\n",
    "df2 = pl.DataFrame({\n",
    "    \"value2\": [\"x\", \"y\"],\n",
    "})\n",
    "pl.concat([df1,df2], how=\"horizontal\")"
   ]
  },
  {
   "cell_type": "code",
   "execution_count": 35,
   "id": "25b24083",
   "metadata": {},
   "outputs": [
    {
     "data": {
      "text/html": [
       "<div><style>\n",
       ".dataframe > thead > tr,\n",
       ".dataframe > tbody > tr {\n",
       "  text-align: right;\n",
       "  white-space: pre-wrap;\n",
       "}\n",
       "</style>\n",
       "<small>shape: (5, 3)</small><table border=\"1\" class=\"dataframe\"><thead><tr><th>id</th><th>value</th><th>value2</th></tr><tr><td>i64</td><td>str</td><td>str</td></tr></thead><tbody><tr><td>1</td><td>&quot;a&quot;</td><td>null</td></tr><tr><td>2</td><td>&quot;b&quot;</td><td>null</td></tr><tr><td>3</td><td>&quot;c&quot;</td><td>null</td></tr><tr><td>null</td><td>&quot;d&quot;</td><td>&quot;x&quot;</td></tr><tr><td>null</td><td>&quot;e&quot;</td><td>&quot;y&quot;</td></tr></tbody></table></div>"
      ],
      "text/plain": [
       "shape: (5, 3)\n",
       "┌──────┬───────┬────────┐\n",
       "│ id   ┆ value ┆ value2 │\n",
       "│ ---  ┆ ---   ┆ ---    │\n",
       "│ i64  ┆ str   ┆ str    │\n",
       "╞══════╪═══════╪════════╡\n",
       "│ 1    ┆ a     ┆ null   │\n",
       "│ 2    ┆ b     ┆ null   │\n",
       "│ 3    ┆ c     ┆ null   │\n",
       "│ null ┆ d     ┆ x      │\n",
       "│ null ┆ e     ┆ y      │\n",
       "└──────┴───────┴────────┘"
      ]
     },
     "execution_count": 27,
     "metadata": {},
     "output_type": "execute_result"
    }
   ],
   "source": [
    "df1 = pl.DataFrame({\n",
    "    \"id\": [1, 2, 3],\n",
    "    \"value\": [\"a\", \"b\", \"c\"],\n",
    "})\n",
    "df2 = pl.DataFrame({\n",
    "    \"value\": [\"d\", \"e\"],\n",
    "    \"value2\": [\"x\", \"y\"],\n",
    "})\n",
    "pl.concat([df1,df2], how=\"diagonal\")"
   ]
  },
  {
   "cell_type": "code",
   "execution_count": 36,
   "id": "5d2c9524",
   "metadata": {},
   "outputs": [
    {
     "data": {
      "text/html": [
       "<div><style>\n",
       ".dataframe > thead > tr,\n",
       ".dataframe > tbody > tr {\n",
       "  text-align: right;\n",
       "  white-space: pre-wrap;\n",
       "}\n",
       "</style>\n",
       "<small>shape: (4, 3)</small><table border=\"1\" class=\"dataframe\"><thead><tr><th>id</th><th>value</th><th>value2</th></tr><tr><td>i64</td><td>str</td><td>str</td></tr></thead><tbody><tr><td>1</td><td>&quot;a&quot;</td><td>&quot;x&quot;</td></tr><tr><td>2</td><td>&quot;b&quot;</td><td>null</td></tr><tr><td>3</td><td>&quot;c&quot;</td><td>&quot;y&quot;</td></tr><tr><td>null</td><td>&quot;d&quot;</td><td>&quot;z&quot;</td></tr></tbody></table></div>"
      ],
      "text/plain": [
       "shape: (4, 3)\n",
       "┌──────┬───────┬────────┐\n",
       "│ id   ┆ value ┆ value2 │\n",
       "│ ---  ┆ ---   ┆ ---    │\n",
       "│ i64  ┆ str   ┆ str    │\n",
       "╞══════╪═══════╪════════╡\n",
       "│ 1    ┆ a     ┆ x      │\n",
       "│ 2    ┆ b     ┆ null   │\n",
       "│ 3    ┆ c     ┆ y      │\n",
       "│ null ┆ d     ┆ z      │\n",
       "└──────┴───────┴────────┘"
      ]
     },
     "execution_count": 28,
     "metadata": {},
     "output_type": "execute_result"
    }
   ],
   "source": [
    "df1 = pl.DataFrame({\n",
    "    \"id\": [1, 2, 3],\n",
    "    \"value\": [\"a\", \"b\", \"c\"],\n",
    "})\n",
    "df2 = pl.DataFrame({\n",
    "    \"value\": [\"a\", \"c\", \"d\"],\n",
    "    \"value2\": [\"x\", \"y\", \"z\"],\n",
    "})\n",
    "pl.concat([df1,df2], how=\"align\")"
   ]
  },
  {
   "cell_type": "code",
   "execution_count": 37,
   "id": "5892d68c",
   "metadata": {},
   "outputs": [
    {
     "ename": "SchemaError",
     "evalue": "type Float64 is incompatible with expected type Int64",
     "output_type": "error",
     "traceback": [
      "\u001b[0;31m---------------------------------------------------------------------------\u001b[0m",
      "\u001b[0;31mSchemaError\u001b[0m                               Traceback (most recent call last)",
      "Cell \u001b[0;32mIn[29], line 9\u001b[0m\n\u001b[1;32m      1\u001b[0m df1 \u001b[38;5;241m=\u001b[39m pl\u001b[38;5;241m.\u001b[39mDataFrame({\n\u001b[1;32m      2\u001b[0m     \u001b[38;5;124m\"\u001b[39m\u001b[38;5;124mid\u001b[39m\u001b[38;5;124m\"\u001b[39m: [\u001b[38;5;241m1\u001b[39m, \u001b[38;5;241m2\u001b[39m, \u001b[38;5;241m3\u001b[39m],\n\u001b[1;32m      3\u001b[0m     \u001b[38;5;124m\"\u001b[39m\u001b[38;5;124mvalue\u001b[39m\u001b[38;5;124m\"\u001b[39m: [\u001b[38;5;124m\"\u001b[39m\u001b[38;5;124ma\u001b[39m\u001b[38;5;124m\"\u001b[39m, \u001b[38;5;124m\"\u001b[39m\u001b[38;5;124mb\u001b[39m\u001b[38;5;124m\"\u001b[39m, \u001b[38;5;124m\"\u001b[39m\u001b[38;5;124mc\u001b[39m\u001b[38;5;124m\"\u001b[39m],\n\u001b[1;32m      4\u001b[0m })\n\u001b[1;32m      5\u001b[0m df2 \u001b[38;5;241m=\u001b[39m pl\u001b[38;5;241m.\u001b[39mDataFrame({\n\u001b[1;32m      6\u001b[0m     \u001b[38;5;124m\"\u001b[39m\u001b[38;5;124mid\u001b[39m\u001b[38;5;124m\"\u001b[39m: [\u001b[38;5;241m4.0\u001b[39m, \u001b[38;5;241m5.0\u001b[39m],\n\u001b[1;32m      7\u001b[0m     \u001b[38;5;124m\"\u001b[39m\u001b[38;5;124mvalue\u001b[39m\u001b[38;5;124m\"\u001b[39m: [\u001b[38;5;241m1\u001b[39m, \u001b[38;5;241m2\u001b[39m],\n\u001b[1;32m      8\u001b[0m })\n\u001b[0;32m----> 9\u001b[0m \u001b[43mpl\u001b[49m\u001b[38;5;241;43m.\u001b[39;49m\u001b[43mconcat\u001b[49m\u001b[43m(\u001b[49m\u001b[43m[\u001b[49m\u001b[43mdf1\u001b[49m\u001b[43m,\u001b[49m\u001b[43mdf2\u001b[49m\u001b[43m]\u001b[49m\u001b[43m,\u001b[49m\u001b[43m \u001b[49m\u001b[43mhow\u001b[49m\u001b[38;5;241;43m=\u001b[39;49m\u001b[38;5;124;43m\"\u001b[39;49m\u001b[38;5;124;43mvertical\u001b[39;49m\u001b[38;5;124;43m\"\u001b[39;49m\u001b[43m)\u001b[49m\n",
      "File \u001b[0;32m~/Library/Caches/pypoetry/virtualenvs/python-polars-the-definitive-guide-b_q50VVY-py3.11/lib/python3.11/site-packages/polars/functions/eager.py:184\u001b[0m, in \u001b[0;36mconcat\u001b[0;34m(items, how, rechunk, parallel)\u001b[0m\n\u001b[1;32m    182\u001b[0m \u001b[38;5;28;01mif\u001b[39;00m \u001b[38;5;28misinstance\u001b[39m(first, pl\u001b[38;5;241m.\u001b[39mDataFrame):\n\u001b[1;32m    183\u001b[0m     \u001b[38;5;28;01mif\u001b[39;00m how \u001b[38;5;241m==\u001b[39m \u001b[38;5;124m\"\u001b[39m\u001b[38;5;124mvertical\u001b[39m\u001b[38;5;124m\"\u001b[39m:\n\u001b[0;32m--> 184\u001b[0m         out \u001b[38;5;241m=\u001b[39m wrap_df(\u001b[43mplr\u001b[49m\u001b[38;5;241;43m.\u001b[39;49m\u001b[43mconcat_df\u001b[49m\u001b[43m(\u001b[49m\u001b[43melems\u001b[49m\u001b[43m)\u001b[49m)\n\u001b[1;32m    185\u001b[0m     \u001b[38;5;28;01melif\u001b[39;00m how \u001b[38;5;241m==\u001b[39m \u001b[38;5;124m\"\u001b[39m\u001b[38;5;124mvertical_relaxed\u001b[39m\u001b[38;5;124m\"\u001b[39m:\n\u001b[1;32m    186\u001b[0m         out \u001b[38;5;241m=\u001b[39m wrap_ldf(\n\u001b[1;32m    187\u001b[0m             plr\u001b[38;5;241m.\u001b[39mconcat_lf(\n\u001b[1;32m    188\u001b[0m                 [df\u001b[38;5;241m.\u001b[39mlazy() \u001b[38;5;28;01mfor\u001b[39;00m df \u001b[38;5;129;01min\u001b[39;00m elems],\n\u001b[0;32m   (...)\u001b[0m\n\u001b[1;32m    192\u001b[0m             )\n\u001b[1;32m    193\u001b[0m         )\u001b[38;5;241m.\u001b[39mcollect(no_optimization\u001b[38;5;241m=\u001b[39m\u001b[38;5;28;01mTrue\u001b[39;00m)\n",
      "\u001b[0;31mSchemaError\u001b[0m: type Float64 is incompatible with expected type Int64"
     ]
    }
   ],
   "source": [
    "df1 = pl.DataFrame({\n",
    "    \"id\": [1, 2, 3],\n",
    "    \"value\": [\"a\", \"b\", \"c\"],\n",
    "})\n",
    "df2 = pl.DataFrame({\n",
    "    \"id\": [4.0, 5.0],\n",
    "    \"value\": [1, 2],\n",
    "})\n",
    "pl.concat([df1,df2], how=\"vertical\")"
   ]
  },
  {
   "cell_type": "code",
   "execution_count": 38,
   "id": "3ac57db0",
   "metadata": {},
   "outputs": [
    {
     "data": {
      "text/html": [
       "<div><style>\n",
       ".dataframe > thead > tr,\n",
       ".dataframe > tbody > tr {\n",
       "  text-align: right;\n",
       "  white-space: pre-wrap;\n",
       "}\n",
       "</style>\n",
       "<small>shape: (5, 2)</small><table border=\"1\" class=\"dataframe\"><thead><tr><th>id</th><th>value</th></tr><tr><td>f64</td><td>str</td></tr></thead><tbody><tr><td>1.0</td><td>&quot;a&quot;</td></tr><tr><td>2.0</td><td>&quot;b&quot;</td></tr><tr><td>3.0</td><td>&quot;c&quot;</td></tr><tr><td>4.0</td><td>&quot;1&quot;</td></tr><tr><td>5.0</td><td>&quot;2&quot;</td></tr></tbody></table></div>"
      ],
      "text/plain": [
       "shape: (5, 2)\n",
       "┌─────┬───────┐\n",
       "│ id  ┆ value │\n",
       "│ --- ┆ ---   │\n",
       "│ f64 ┆ str   │\n",
       "╞═════╪═══════╡\n",
       "│ 1.0 ┆ a     │\n",
       "│ 2.0 ┆ b     │\n",
       "│ 3.0 ┆ c     │\n",
       "│ 4.0 ┆ 1     │\n",
       "│ 5.0 ┆ 2     │\n",
       "└─────┴───────┘"
      ]
     },
     "execution_count": 30,
     "metadata": {},
     "output_type": "execute_result"
    }
   ],
   "source": [
    "pl.concat([df1,df2], how=\"vertical_relaxed\")"
   ]
  },
  {
   "cell_type": "code",
   "execution_count": 39,
   "id": "db3b8a8a",
   "metadata": {},
   "outputs": [
    {
     "data": {
      "text/plain": [
       "[shape: (5, 2)\n",
       " ┌─────┬───────┐\n",
       " │ id  ┆ value │\n",
       " │ --- ┆ ---   │\n",
       " │ i64 ┆ str   │\n",
       " ╞═════╪═══════╡\n",
       " │ 1   ┆ a     │\n",
       " │ 2   ┆ c     │\n",
       " │ 2   ┆ c     │\n",
       " │ 2   ┆ b     │\n",
       " │ 2   ┆ b     │\n",
       " └─────┴───────┘,\n",
       " shape: (5, 2)\n",
       " ┌─────┬───────┐\n",
       " │ id  ┆ value │\n",
       " │ --- ┆ ---   │\n",
       " │ i64 ┆ str   │\n",
       " ╞═════╪═══════╡\n",
       " │ 1   ┆ null  │\n",
       " │ 2   ┆ x     │\n",
       " │ 2   ┆ y     │\n",
       " │ 2   ┆ x     │\n",
       " │ 2   ┆ y     │\n",
       " └─────┴───────┘]"
      ]
     },
     "execution_count": 31,
     "metadata": {},
     "output_type": "execute_result"
    }
   ],
   "source": [
    "df1 = pl.DataFrame({\n",
    "    \"id\": [1, 2, 2],\n",
    "    \"value\": [\"a\", \"c\", \"b\"],\n",
    "})\n",
    "df2 = pl.DataFrame({\n",
    "    \"id\": [2, 2],\n",
    "    \"value\": [\"x\", \"y\"],\n",
    "})\n",
    "pl.align_frames(df1,df2, on=\"id\")"
   ]
  },
  {
   "cell_type": "code",
   "execution_count": 40,
   "id": "85a9806e",
   "metadata": {},
   "outputs": [
    {
     "data": {
      "text/html": [
       "<div><style>\n",
       ".dataframe > thead > tr,\n",
       ".dataframe > tbody > tr {\n",
       "  text-align: right;\n",
       "  white-space: pre-wrap;\n",
       "}\n",
       "</style>\n",
       "<small>shape: (4, 2)</small><table border=\"1\" class=\"dataframe\"><thead><tr><th>id</th><th>value</th></tr><tr><td>i64</td><td>str</td></tr></thead><tbody><tr><td>1</td><td>&quot;a&quot;</td></tr><tr><td>2</td><td>&quot;b&quot;</td></tr><tr><td>3</td><td>&quot;c&quot;</td></tr><tr><td>4</td><td>&quot;d&quot;</td></tr></tbody></table></div>"
      ],
      "text/plain": [
       "shape: (4, 2)\n",
       "┌─────┬───────┐\n",
       "│ id  ┆ value │\n",
       "│ --- ┆ ---   │\n",
       "│ i64 ┆ str   │\n",
       "╞═════╪═══════╡\n",
       "│ 1   ┆ a     │\n",
       "│ 2   ┆ b     │\n",
       "│ 3   ┆ c     │\n",
       "│ 4   ┆ d     │\n",
       "└─────┴───────┘"
      ]
     },
     "execution_count": 32,
     "metadata": {},
     "output_type": "execute_result"
    }
   ],
   "source": [
    "df1 = pl.DataFrame({\n",
    "    \"id\": [1, 2],\n",
    "    \"value\": [\"a\", \"b\"],\n",
    "})\n",
    "df2 = pl.DataFrame({\n",
    "    \"id\": [3, 4],\n",
    "    \"value\": [\"c\", \"d\"],\n",
    "})\n",
    "df1.vstack(df2)"
   ]
  },
  {
   "cell_type": "code",
   "execution_count": 41,
   "id": "cf031401",
   "metadata": {},
   "outputs": [
    {
     "data": {
      "text/html": [
       "<div><style>\n",
       ".dataframe > thead > tr,\n",
       ".dataframe > tbody > tr {\n",
       "  text-align: right;\n",
       "  white-space: pre-wrap;\n",
       "}\n",
       "</style>\n",
       "<small>shape: (2, 3)</small><table border=\"1\" class=\"dataframe\"><thead><tr><th>id</th><th>value</th><th>value2</th></tr><tr><td>i64</td><td>str</td><td>str</td></tr></thead><tbody><tr><td>1</td><td>&quot;a&quot;</td><td>&quot;x&quot;</td></tr><tr><td>2</td><td>&quot;b&quot;</td><td>&quot;y&quot;</td></tr></tbody></table></div>"
      ],
      "text/plain": [
       "shape: (2, 3)\n",
       "┌─────┬───────┬────────┐\n",
       "│ id  ┆ value ┆ value2 │\n",
       "│ --- ┆ ---   ┆ ---    │\n",
       "│ i64 ┆ str   ┆ str    │\n",
       "╞═════╪═══════╪════════╡\n",
       "│ 1   ┆ a     ┆ x      │\n",
       "│ 2   ┆ b     ┆ y      │\n",
       "└─────┴───────┴────────┘"
      ]
     },
     "execution_count": 33,
     "metadata": {},
     "output_type": "execute_result"
    }
   ],
   "source": [
    "df1 = pl.DataFrame({\n",
    "    \"id\": [1, 2],\n",
    "    \"value\": [\"a\", \"b\"],\n",
    "})\n",
    "df2 = pl.DataFrame({\n",
    "    \"value2\": [\"x\", \"y\"],\n",
    "})\n",
    "df1.hstack(df2)"
   ]
  },
  {
   "cell_type": "code",
   "execution_count": 42,
   "id": "2e37c236",
   "metadata": {},
   "outputs": [
    {
     "data": {
      "text/html": [
       "<div><style>\n",
       ".dataframe > thead > tr,\n",
       ".dataframe > tbody > tr {\n",
       "  text-align: right;\n",
       "  white-space: pre-wrap;\n",
       "}\n",
       "</style>\n",
       "<small>shape: (4,)</small><table border=\"1\" class=\"dataframe\"><thead><tr><th>a</th></tr><tr><td>i64</td></tr></thead><tbody><tr><td>1</td></tr><tr><td>2</td></tr><tr><td>3</td></tr><tr><td>4</td></tr></tbody></table></div>"
      ],
      "text/plain": [
       "shape: (4,)\n",
       "Series: 'a' [i64]\n",
       "[\n",
       "\t1\n",
       "\t2\n",
       "\t3\n",
       "\t4\n",
       "]"
      ]
     },
     "execution_count": 34,
     "metadata": {},
     "output_type": "execute_result"
    }
   ],
   "source": [
    "s1 = pl.Series(\"a\", [1, 2])\n",
    "s2 = pl.Series(\"b\", [3, 4])\n",
    "s1.append(s2)"
   ]
  },
  {
   "cell_type": "code",
   "execution_count": 43,
   "id": "0f5f6662",
   "metadata": {},
   "outputs": [
    {
     "data": {
      "text/html": [
       "<div><style>\n",
       ".dataframe > thead > tr,\n",
       ".dataframe > tbody > tr {\n",
       "  text-align: right;\n",
       "  white-space: pre-wrap;\n",
       "}\n",
       "</style>\n",
       "<small>shape: (4, 2)</small><table border=\"1\" class=\"dataframe\"><thead><tr><th>id</th><th>value</th></tr><tr><td>i64</td><td>str</td></tr></thead><tbody><tr><td>1</td><td>&quot;a&quot;</td></tr><tr><td>2</td><td>&quot;b&quot;</td></tr><tr><td>3</td><td>&quot;c&quot;</td></tr><tr><td>4</td><td>&quot;d&quot;</td></tr></tbody></table></div>"
      ],
      "text/plain": [
       "shape: (4, 2)\n",
       "┌─────┬───────┐\n",
       "│ id  ┆ value │\n",
       "│ --- ┆ ---   │\n",
       "│ i64 ┆ str   │\n",
       "╞═════╪═══════╡\n",
       "│ 1   ┆ a     │\n",
       "│ 2   ┆ b     │\n",
       "│ 3   ┆ c     │\n",
       "│ 4   ┆ d     │\n",
       "└─────┴───────┘"
      ]
     },
     "execution_count": 35,
     "metadata": {},
     "output_type": "execute_result"
    }
   ],
   "source": [
    "df1 = pl.DataFrame({\n",
    "    \"id\": [1, 2],\n",
    "    \"value\": [\"a\", \"b\"],\n",
    "})\n",
    "df2 = pl.DataFrame({\n",
    "    \"id\": [3, 4],\n",
    "    \"value\": [\"c\", \"d\"],\n",
    "})\n",
    "df1.extend(df2)"
   ]
  },
  {
   "cell_type": "markdown",
   "id": "028dac01",
   "metadata": {},
   "source": [
    "## Conclusion"
   ]
  }
 ],
 "metadata": {
  "language_info": {
   "codemirror_mode": {
    "name": "ipython",
    "version": 3
   },
   "file_extension": ".py",
   "mimetype": "text/x-python",
   "name": "python",
   "nbconvert_exporter": "python",
   "pygments_lexer": "ipython3",
   "version": "3.11.9"
  }
 },
 "nbformat": 4,
 "nbformat_minor": 5
}
