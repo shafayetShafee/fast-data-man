{
 "cells": [
  {
   "cell_type": "markdown",
   "id": "a67617d5",
   "metadata": {},
   "source": [
    "# Chapter 2: First Steps"
   ]
  },
  {
   "cell_type": "code",
   "execution_count": 1,
   "id": "d6512314",
   "metadata": {},
   "outputs": [
    {
     "name": "stdout",
     "output_type": "stream",
     "text": [
      "--------Version info---------\n",
      "Polars:               0.20.31\n",
      "Index type:           UInt32\n",
      "Platform:             macOS-12.5-arm64-arm-64bit\n",
      "Python:               3.11.9 (main, Apr  2 2024, 16:11:47) [Clang 14.0.0 (clang-1400.0.29.202)]\n",
      "\n",
      "----Optional dependencies----\n",
      "adbc_driver_manager:  0.8.0\n",
      "cloudpickle:          3.0.0\n",
      "connectorx:           0.3.2\n",
      "deltalake:            0.15.0\n",
      "fastexcel:            0.9.1\n",
      "fsspec:               2023.12.2\n",
      "gevent:               23.9.1\n",
      "hvplot:               0.9.2\n",
      "matplotlib:           3.8.4\n",
      "nest_asyncio:         1.6.0\n",
      "numpy:                1.26.4\n",
      "openpyxl:             3.1.2\n",
      "pandas:               2.2.2\n",
      "pyarrow:              14.0.2\n",
      "pydantic:             2.5.3\n",
      "pyiceberg:            0.5.1\n",
      "pyxlsb:               <not installed>\n",
      "sqlalchemy:           2.0.25\n",
      "torch:                <not installed>\n",
      "xlsx2csv:             0.8.2\n",
      "xlsxwriter:           3.2.0\n"
     ]
    }
   ],
   "source": [
    "import polars as pl\n",
    "pl.show_versions()"
   ]
  },
  {
   "cell_type": "markdown",
   "id": "2441eb7d",
   "metadata": {},
   "source": [
    "## Overview"
   ]
  },
  {
   "cell_type": "markdown",
   "id": "fa05bbe3",
   "metadata": {},
   "source": [
    "## Using Polars in a Docker Container"
   ]
  },
  {
   "cell_type": "markdown",
   "id": "dd772227",
   "metadata": {},
   "source": [
    "## Crash Course JupyterLab"
   ]
  },
  {
   "cell_type": "markdown",
   "id": "70e7120b",
   "metadata": {},
   "source": [
    "### Keyboard Shortcuts"
   ]
  },
  {
   "cell_type": "markdown",
   "id": "7f340862",
   "metadata": {},
   "source": [
    "#### Any Mode"
   ]
  },
  {
   "cell_type": "markdown",
   "id": "c3e21789",
   "metadata": {},
   "source": [
    "#### Command Mode"
   ]
  },
  {
   "cell_type": "markdown",
   "id": "33a8a360",
   "metadata": {},
   "source": [
    "#### Edit Mode"
   ]
  },
  {
   "cell_type": "markdown",
   "id": "c25da530",
   "metadata": {},
   "source": [
    "## Installing Polars"
   ]
  },
  {
   "cell_type": "markdown",
   "id": "7f53fb43",
   "metadata": {},
   "source": [
    "## Compiling Polars from Scratch"
   ]
  },
  {
   "cell_type": "markdown",
   "id": "cf8a47f2",
   "metadata": {},
   "source": [
    "### Edge Case: Very Large Datasets"
   ]
  },
  {
   "cell_type": "markdown",
   "id": "c8d234be",
   "metadata": {},
   "source": [
    "### Edge Case: Processors Lacking AVX support"
   ]
  },
  {
   "cell_type": "markdown",
   "id": "4de02fcd",
   "metadata": {},
   "source": [
    "## Configuring Polars"
   ]
  },
  {
   "cell_type": "markdown",
   "id": "59e0964c",
   "metadata": {},
   "source": [
    "### Temporary Configuration Using a Context Manager"
   ]
  },
  {
   "cell_type": "code",
   "execution_count": 15,
   "id": "3656858b",
   "metadata": {},
   "outputs": [],
   "source": [
    "import random\n",
    "import string\n",
    "\n",
    "def generate_random_string(length: int) -> str:\n",
    "    return \"\".join(random.choice(string.ascii_letters) for i in range(length))\n",
    "\n",
    "data = {}\n",
    "for i in range(1, 11):\n",
    "    data[f\"column_{i}\"] = [generate_random_string(50) for _ in range(5)]\n",
    "\n",
    "df = pl.DataFrame(data)"
   ]
  },
  {
   "cell_type": "code",
   "execution_count": 16,
   "id": "1573e36c",
   "metadata": {},
   "outputs": [
    {
     "data": {
      "text/html": [
       "<div><style>\n",
       ".dataframe > thead > tr,\n",
       ".dataframe > tbody > tr {\n",
       "  text-align: right;\n",
       "  white-space: pre-wrap;\n",
       "}\n",
       "</style>\n",
       "<small>shape: (5, 10)</small><table border=\"1\" class=\"dataframe\"><thead><tr><th>column_1</th><th>column_2</th><th>column_3</th><th>column_4</th><th>column_5</th><th>column_6</th><th>column_7</th><th>column_8</th><th>column_9</th><th>column_10</th></tr><tr><td>str</td><td>str</td><td>str</td><td>str</td><td>str</td><td>str</td><td>str</td><td>str</td><td>str</td><td>str</td></tr></thead><tbody><tr><td>&quot;zYsWwAdoTyzsXUQvpzOSFkogUnvvtj…</td><td>&quot;HWsmoSzgbvlGHHvzjeBGCiBgaBDXuB…</td><td>&quot;MKeKtUVOkhAtUCwKonjseKvZYTnqRR…</td><td>&quot;ZGfQunMNhJtCIXwmipNuysXFkYEVGr…</td><td>&quot;BgsudZtyVXCctwUWdwFLsfduNYOofL…</td><td>&quot;WZocsSahLMpRJFDFVDLcNlPYEdKpym…</td><td>&quot;mCktpkbKCHTyHBuVCmzSVOIdxxLSRT…</td><td>&quot;NiuofOGFBUiJDnSQZmrgYogSRVqYej…</td><td>&quot;zNcdQZCqUsESDXysKapNxscouQutHZ…</td><td>&quot;wllhQXeUmfXFXIIhtkxYblHFPPPFLL…</td></tr><tr><td>&quot;NmFjblUAXKHoFYCjlREbgwlcVwCXGf…</td><td>&quot;AWEoONmJZqIIssvmONHMDKEwjsIrCb…</td><td>&quot;PxyzHSsdNJIfYRGJwmNHDzhqTjXadz…</td><td>&quot;lpNbLpCpirGutxZjmnLxrGOnROFVNQ…</td><td>&quot;GYOHcCVGIneIbevSlyXxwDgbvYRgAG…</td><td>&quot;EMXpglKfdcsrBQjoyJGaUzjyHGVYZR…</td><td>&quot;eUIHSwlcDTYiFAwIwkmKQSGByjSTQA…</td><td>&quot;iNhQqroeaixGVUwKopugcqripOIOOV…</td><td>&quot;NeqGMdfcYKfMWJjwwyxhNCIIPnvmlO…</td><td>&quot;dnuWzstdwRxHVqXOPHLnBazokbfNTD…</td></tr><tr><td>&quot;xdrhzyEWLAjoDDecelrVXWgekYjsYG…</td><td>&quot;xhaXTnuzwxPzhdeFKXVxCoLxZBbTQe…</td><td>&quot;qpmNIzHBXdeTztzeKXxvsIlTDzVGWI…</td><td>&quot;olllZWOLnEFODRAnaxcXrUPSrnfcbr…</td><td>&quot;JaxUIqlRraCtEKSBwglHgrpUGIkPnx…</td><td>&quot;XJVlEowqwuGJcwEZAcXFnCyWrlBQvK…</td><td>&quot;FcxwjWXALDyjNVlEgFkRyxatohSyfe…</td><td>&quot;WCSmraerFvOVgzNfnIpCUtnRgFcSAR…</td><td>&quot;RFpbKhldycuUlZWqNDoQWzfSWigJLv…</td><td>&quot;dTIoVhLTDEjOrdFaWRdjNlRKbfaRur…</td></tr><tr><td>&quot;tgVUkiIvBiuYZAQxlsaJYFbipRuafL…</td><td>&quot;ETlJJpTEeBAIzqweUAGKOlaVyKOnbX…</td><td>&quot;CvLmatEsTHnHydSZgRNpTfvnGrpPep…</td><td>&quot;YaOUZOberKLFRIccccgbXPgzizNXZL…</td><td>&quot;aBkfLTQCWylDKZnhhNECooSVwQzxWZ…</td><td>&quot;NLezjanPUsyLDjsNTJXYllHTtpkOyw…</td><td>&quot;yCAuboXYHkupxvNZCwAlDPGzZNgOeI…</td><td>&quot;cKXWuYaZrnFxxLhAPhgqFQlnoxztEZ…</td><td>&quot;uIKNefMRggdjlsWqBXIzKAJnNVKtLT…</td><td>&quot;pnhMrmcnHbIveKliFYDbvqSqESTZlQ…</td></tr><tr><td>&quot;nZwnPLioiKXNCtEQDdUQHcgIeOZdHw…</td><td>&quot;GfIQnbgfyFVswjYtiysMjYFVdEiMIY…</td><td>&quot;eDCTFlZBHKRHgjnJXkOhuwbVLTuLEA…</td><td>&quot;fKQyDSrTiiuXEIMlTSrmVMJVjkOUsk…</td><td>&quot;cyfukqasPlpbIVlQyoyJMsmRRsqMTj…</td><td>&quot;WMdQniWPCuKIhmBdFwLpYWlWYKQjwv…</td><td>&quot;IyHQXzFuVLjycwNZVywqtmVXmRRaAr…</td><td>&quot;TkpRUxKlXPYEhlXDZtDkJZtnLTxsZL…</td><td>&quot;PprqetcRhfOcfmlcXwsZUaKpsrZmLl…</td><td>&quot;YJZBXuxhlOCsBttroDITfkwTwoRoZL…</td></tr></tbody></table></div>"
      ],
      "text/plain": [
       "shape: (5, 10)\n",
       "┌───────────┬───────────┬───────────┬───────────┬───┬───────────┬───────────┬───────────┬──────────┐\n",
       "│ column_1  ┆ column_2  ┆ column_3  ┆ column_4  ┆ … ┆ column_7  ┆ column_8  ┆ column_9  ┆ column_1 │\n",
       "│ ---       ┆ ---       ┆ ---       ┆ ---       ┆   ┆ ---       ┆ ---       ┆ ---       ┆ 0        │\n",
       "│ str       ┆ str       ┆ str       ┆ str       ┆   ┆ str       ┆ str       ┆ str       ┆ ---      │\n",
       "│           ┆           ┆           ┆           ┆   ┆           ┆           ┆           ┆ str      │\n",
       "╞═══════════╪═══════════╪═══════════╪═══════════╪═══╪═══════════╪═══════════╪═══════════╪══════════╡\n",
       "│ zYsWwAdoT ┆ HWsmoSzgb ┆ MKeKtUVOk ┆ ZGfQunMNh ┆ … ┆ mCktpkbKC ┆ NiuofOGFB ┆ zNcdQZCqU ┆ wllhQXeU │\n",
       "│ yzsXUQvpz ┆ vlGHHvzje ┆ hAtUCwKon ┆ JtCIXwmip ┆   ┆ HTyHBuVCm ┆ UiJDnSQZm ┆ sESDXysKa ┆ mfXFXIIh │\n",
       "│ OSFkogUnv ┆ BGCiBgaBD ┆ jseKvZYTn ┆ NuysXFkYE ┆   ┆ zSVOIdxxL ┆ rgYogSRVq ┆ pNxscouQu ┆ tkxYblHF │\n",
       "│ vtj…      ┆ XuB…      ┆ qRR…      ┆ VGr…      ┆   ┆ SRT…      ┆ Yej…      ┆ tHZ…      ┆ PPPFLL…  │\n",
       "│ NmFjblUAX ┆ AWEoONmJZ ┆ PxyzHSsdN ┆ lpNbLpCpi ┆ … ┆ eUIHSwlcD ┆ iNhQqroea ┆ NeqGMdfcY ┆ dnuWzstd │\n",
       "│ KHoFYCjlR ┆ qIIssvmON ┆ JIfYRGJwm ┆ rGutxZjmn ┆   ┆ TYiFAwIwk ┆ ixGVUwKop ┆ KfMWJjwwy ┆ wRxHVqXO │\n",
       "│ EbgwlcVwC ┆ HMDKEwjsI ┆ NHDzhqTjX ┆ LxrGOnROF ┆   ┆ mKQSGByjS ┆ ugcqripOI ┆ xhNCIIPnv ┆ PHLnBazo │\n",
       "│ XGf…      ┆ rCb…      ┆ adz…      ┆ VNQ…      ┆   ┆ TQA…      ┆ OOV…      ┆ mlO…      ┆ kbfNTD…  │\n",
       "│ xdrhzyEWL ┆ xhaXTnuzw ┆ qpmNIzHBX ┆ olllZWOLn ┆ … ┆ FcxwjWXAL ┆ WCSmraerF ┆ RFpbKhldy ┆ dTIoVhLT │\n",
       "│ AjoDDecel ┆ xPzhdeFKX ┆ deTztzeKX ┆ EFODRAnax ┆   ┆ DyjNVlEgF ┆ vOVgzNfnI ┆ cuUlZWqND ┆ DEjOrdFa │\n",
       "│ rVXWgekYj ┆ VxCoLxZBb ┆ xvsIlTDzV ┆ cXrUPSrnf ┆   ┆ kRyxatohS ┆ pCUtnRgFc ┆ oQWzfSWig ┆ WRdjNlRK │\n",
       "│ sYG…      ┆ TQe…      ┆ GWI…      ┆ cbr…      ┆   ┆ yfe…      ┆ SAR…      ┆ JLv…      ┆ bfaRur…  │\n",
       "│ tgVUkiIvB ┆ ETlJJpTEe ┆ CvLmatEsT ┆ YaOUZOber ┆ … ┆ yCAuboXYH ┆ cKXWuYaZr ┆ uIKNefMRg ┆ pnhMrmcn │\n",
       "│ iuYZAQxls ┆ BAIzqweUA ┆ HnHydSZgR ┆ KLFRIcccc ┆   ┆ kupxvNZCw ┆ nFxxLhAPh ┆ gdjlsWqBX ┆ HbIveKli │\n",
       "│ aJYFbipRu ┆ GKOlaVyKO ┆ NpTfvnGrp ┆ gbXPgzizN ┆   ┆ AlDPGzZNg ┆ gqFQlnoxz ┆ IzKAJnNVK ┆ FYDbvqSq │\n",
       "│ afL…      ┆ nbX…      ┆ Pep…      ┆ XZL…      ┆   ┆ OeI…      ┆ tEZ…      ┆ tLT…      ┆ ESTZlQ…  │\n",
       "│ nZwnPLioi ┆ GfIQnbgfy ┆ eDCTFlZBH ┆ fKQyDSrTi ┆ … ┆ IyHQXzFuV ┆ TkpRUxKlX ┆ PprqetcRh ┆ YJZBXuxh │\n",
       "│ KXNCtEQDd ┆ FVswjYtiy ┆ KRHgjnJXk ┆ iuXEIMlTS ┆   ┆ LjycwNZVy ┆ PYEhlXDZt ┆ fOcfmlcXw ┆ lOCsBttr │\n",
       "│ UQHcgIeOZ ┆ sMjYFVdEi ┆ OhuwbVLTu ┆ rmVMJVjkO ┆   ┆ wqtmVXmRR ┆ DkJZtnLTx ┆ sZUaKpsrZ ┆ oDITfkwT │\n",
       "│ dHw…      ┆ MIY…      ┆ LEA…      ┆ Usk…      ┆   ┆ aAr…      ┆ sZL…      ┆ mLl…      ┆ woRoZL…  │\n",
       "└───────────┴───────────┴───────────┴───────────┴───┴───────────┴───────────┴───────────┴──────────┘"
      ]
     },
     "execution_count": 3,
     "metadata": {},
     "output_type": "execute_result"
    }
   ],
   "source": [
    "df"
   ]
  },
  {
   "cell_type": "code",
   "execution_count": 17,
   "id": "1e2f1883",
   "metadata": {},
   "outputs": [
    {
     "name": "stdout",
     "output_type": "stream",
     "text": [
      "shape: (5, 10)\n",
      "┌───────┬───────┬───────┬───────┬───────┬───────┬───────┬───────┬───────┬───────┐\n",
      "│ colu… ┆ colu… ┆ colu… ┆ colu… ┆ colu… ┆ colu… ┆ colu… ┆ colu… ┆ colu… ┆ colu… │\n",
      "│ ---   ┆ ---   ┆ ---   ┆ ---   ┆ ---   ┆ ---   ┆ ---   ┆ ---   ┆ ---   ┆ ---   │\n",
      "│ str   ┆ str   ┆ str   ┆ str   ┆ str   ┆ str   ┆ str   ┆ str   ┆ str   ┆ str   │\n",
      "╞═══════╪═══════╪═══════╪═══════╪═══════╪═══════╪═══════╪═══════╪═══════╪═══════╡\n",
      "│ zYsW… ┆ HWsm… ┆ MKeK… ┆ ZGfQ… ┆ Bgsu… ┆ WZoc… ┆ mCkt… ┆ Niuo… ┆ zNcd… ┆ wllh… │\n",
      "│ NmFj… ┆ AWEo… ┆ Pxyz… ┆ lpNb… ┆ GYOH… ┆ EMXp… ┆ eUIH… ┆ iNhQ… ┆ NeqG… ┆ dnuW… │\n",
      "│ xdrh… ┆ xhaX… ┆ qpmN… ┆ olll… ┆ JaxU… ┆ XJVl… ┆ Fcxw… ┆ WCSm… ┆ RFpb… ┆ dTIo… │\n",
      "│ tgVU… ┆ ETlJ… ┆ CvLm… ┆ YaOU… ┆ aBkf… ┆ NLez… ┆ yCAu… ┆ cKXW… ┆ uIKN… ┆ pnhM… │\n",
      "│ nZwn… ┆ GfIQ… ┆ eDCT… ┆ fKQy… ┆ cyfu… ┆ WMdQ… ┆ IyHQ… ┆ TkpR… ┆ Pprq… ┆ YJZB… │\n",
      "└───────┴───────┴───────┴───────┴───────┴───────┴───────┴───────┴───────┴───────┘\n"
     ]
    }
   ],
   "source": [
    "with pl.Config(tbl_cols=-1, fmt_str_lengths=4):\n",
    "    print(df)"
   ]
  },
  {
   "cell_type": "code",
   "execution_count": 18,
   "id": "80ddfe0b",
   "metadata": {},
   "outputs": [
    {
     "name": "stdout",
     "output_type": "stream",
     "text": [
      "Entering context\n",
      "Your code\n",
      "Exiting context\n"
     ]
    }
   ],
   "source": [
    "class YourContextManager:\n",
    "    def __enter__(self):\n",
    "        print(\"Entering context\")\n",
    "\n",
    "    def __exit__(self, type , value, traceback):\n",
    "        print(\"Exiting context\")\n",
    "\n",
    "with YourContextManager():\n",
    "    print(\"Your code\")"
   ]
  },
  {
   "cell_type": "markdown",
   "id": "ee7be970",
   "metadata": {},
   "source": [
    "### Local Configuration Using a Decorator"
   ]
  },
  {
   "cell_type": "code",
   "execution_count": 20,
   "id": "5dc6d59a",
   "metadata": {},
   "outputs": [],
   "source": [
    "@pl.Config(ascii_tables=True)\n",
    "def write_ascii_frame_to_stdout(df: pl.DataFrame) -> None:\n",
    "    print(str(df))\n",
    "\n",
    "@pl.Config(verbose=True)\n",
    "def function_that_im_debugging(df: pl.DataFrame) -> None:\n",
    "    # Polars operation you want to see the verbose logging of\n",
    "    pass"
   ]
  },
  {
   "cell_type": "markdown",
   "id": "46c30980",
   "metadata": {},
   "source": [
    "## Downloading Datasets and Code Examples"
   ]
  },
  {
   "cell_type": "markdown",
   "id": "8324fc6d",
   "metadata": {},
   "source": [
    "## Conclusion"
   ]
  }
 ],
 "metadata": {
  "language_info": {
   "codemirror_mode": {
    "name": "ipython",
    "version": 3
   },
   "file_extension": ".py",
   "mimetype": "text/x-python",
   "name": "python",
   "nbconvert_exporter": "python",
   "pygments_lexer": "ipython3",
   "version": "3.11.9"
  }
 },
 "nbformat": 4,
 "nbformat_minor": 5
}
